{
 "cells": [
  {
   "cell_type": "markdown",
   "metadata": {},
   "source": [
    "## Case Study \n",
    "# Covid-19 in Australia, and the Myths and Realities of Exponential Growth"
   ]
  },
  {
   "cell_type": "markdown",
   "metadata": {},
   "source": [
    "New concepts\n",
    "\n",
    "* Introducing time-series data\n",
    "* Using GroupBy to group data\n",
    "* Growth rates\n",
    "* Curve fitting\n",
    "\n",
    "Reinforced concepts\n",
    "\n",
    "* File IO\n",
    "* File formats\n",
    "* Data/object types\n",
    "* Data selection and manipulation with pandas (and friends)\n",
    "* Using apply and lambda functions\n",
    "* Using list comprehensions\n",
    "* Plotting data with pyplot (and pandas directly)\n",
    "* Using subplots"
   ]
  },
  {
   "cell_type": "markdown",
   "metadata": {},
   "source": [
    "## Finding a Reliable Covid-19 Data Source\n",
    "\n",
    "There are many possible sources of data (of varying quality and veracity). We always look for a trusted source of data, such as the World Health Organisation (WHO).\n",
    "\n",
    "Academics from John Hopkins University have done a great job of collecting data from reliable sources (including WHO) and making it publicly available as a \"[dashboard](https://www.arcgis.com/apps/opsdashboard/index.html#/bda7594740fd40299423467b48e9ecf6)\". Note that the data sources (as well as a short article in the Journal [_Lancet_](https://www.sciencedirect.com/science/article/pii/S1473309920301201?via%3Dihub) are provided at the bottom of the page.\n",
    "\n",
    "The authors also provide a link to the data sources on [Github](https://github.com/CSSEGISandData/COVID-19). The data is shared and downloadable.\n",
    "\n",
    "(This is an example of best practice in sharing and documenting data for the common good!)"
   ]
  },
  {
   "cell_type": "markdown",
   "metadata": {},
   "source": [
    "### A first look at the data"
   ]
  },
  {
   "cell_type": "markdown",
   "metadata": {},
   "source": [
    "The package downloaded from Github contains the following files:\n",
    "\n",
    "```\n",
    "datapackage.json\n",
    "process.py\n",
    "README.md\n",
    "time-series-19-covid-combined.csv\n",
    "```\n",
    "\n",
    "> _Q: What types are they and what do you anticipate they will contain?_\n",
    "\n",
    "Lets look at them in a terminal and see if we're right &rarr;\n",
    "\n",
    "Jupyter Lab can handle all of these file types, so lets take a closer look using Jupyter Lab &rarr;\n",
    "\n",
    "Lets use some of our skills learnt so far to read in the data, inspect it more closely, and extract the data we're interested in."
   ]
  },
  {
   "cell_type": "markdown",
   "metadata": {},
   "source": [
    "## Data Extraction"
   ]
  },
  {
   "cell_type": "code",
   "execution_count": 2,
   "metadata": {},
   "outputs": [],
   "source": [
    "import pandas as pd\n",
    "import numpy as np\n",
    "import matplotlib.pyplot as plt\n",
    "import json"
   ]
  },
  {
   "cell_type": "markdown",
   "metadata": {},
   "source": [
    "Since this case study was first written, new versions of the time series data have been made available, including a `json` version. \n",
    "\n",
    "In our second Covid-19 case study we will investigate using the json version. As we know json is a structured format - essentially a dictionary - and is able to include more metadata. We would expect it to be more effective and robust to changes in the data. Let's take a look.\n",
    "\n",
    "First, let's have a look at the json data file &rarr;\n",
    "\n",
    "---"
   ]
  },
  {
   "cell_type": "markdown",
   "metadata": {},
   "source": [
    "Can it be loaded directly into a dataframe?"
   ]
  },
  {
   "cell_type": "code",
   "execution_count": null,
   "metadata": {},
   "outputs": [],
   "source": [
    "\n",
    "COVID_TIMESERIES_JSON=\"Data/2020-03-23-time-series-19-covid-combined.json\"\n",
    "covid_json = pd.read_json(COVID_TIMESERIES_JSON)\n",
    "covid_json"
   ]
  },
  {
   "cell_type": "code",
   "execution_count": null,
   "metadata": {},
   "outputs": [],
   "source": [
    "for datum in covid_json.iloc[0]:\n",
    "    print(type(datum))"
   ]
  },
  {
   "cell_type": "code",
   "execution_count": null,
   "metadata": {},
   "outputs": [],
   "source": [
    "dtypes = {\n",
    "          \"Country/Region\": 'str',\n",
    "          \"Province/State\": 'str',\n",
    "          \"Lat\": np.float64,\n",
    "          \"Long\": np.float64,\n",
    "          \"Confirmed\": np.int64,\n",
    "          \"Recovered\": np.int64,\n",
    "          \"Deaths\": np.int64\n",
    "         }\n",
    "\n",
    "covid_json = pd.read_json(COVID_TIMESERIES_JSON, dtype=dtypes)\n",
    "for datum in covid_json.iloc[0]:\n",
    "    print(type(datum))"
   ]
  },
  {
   "cell_type": "code",
   "execution_count": null,
   "metadata": {},
   "outputs": [],
   "source": [
    "covid_json"
   ]
  },
  {
   "cell_type": "code",
   "execution_count": null,
   "metadata": {},
   "outputs": [],
   "source": [
    "recovered = covid_json[\"Recovered\"]\n",
    "recovered.head()"
   ]
  },
  {
   "cell_type": "code",
   "execution_count": null,
   "metadata": {},
   "outputs": [],
   "source": []
  },
  {
   "cell_type": "markdown",
   "metadata": {},
   "source": [
    "### CSV"
   ]
  },
  {
   "cell_type": "code",
   "execution_count": 117,
   "metadata": {},
   "outputs": [
    {
     "ename": "ValueError",
     "evalue": "Integer column has NA values in column 5",
     "output_type": "error",
     "traceback": [
      "\u001b[0;31m---------------------------------------------------------------------------\u001b[0m",
      "\u001b[0;31mValueError\u001b[0m                                Traceback (most recent call last)",
      "\u001b[0;32m<ipython-input-117-c23929501872>\u001b[0m in \u001b[0;36m<module>\u001b[0;34m\u001b[0m\n\u001b[1;32m     11\u001b[0m           \u001b[0;34m\"Deaths\"\u001b[0m\u001b[0;34m:\u001b[0m \u001b[0mnp\u001b[0m\u001b[0;34m.\u001b[0m\u001b[0mint64\u001b[0m\u001b[0;34m\u001b[0m\u001b[0;34m\u001b[0m\u001b[0m\n\u001b[1;32m     12\u001b[0m          }\n\u001b[0;32m---> 13\u001b[0;31m \u001b[0mcovid_csv\u001b[0m \u001b[0;34m=\u001b[0m \u001b[0mpd\u001b[0m\u001b[0;34m.\u001b[0m\u001b[0mread_csv\u001b[0m\u001b[0;34m(\u001b[0m\u001b[0mCOVID_TIMESERIES_CSV\u001b[0m\u001b[0;34m,\u001b[0m \u001b[0mparse_dates\u001b[0m\u001b[0;34m=\u001b[0m\u001b[0;34m[\u001b[0m\u001b[0;34m\"Date\"\u001b[0m\u001b[0;34m]\u001b[0m\u001b[0;34m,\u001b[0m \u001b[0mdtype\u001b[0m\u001b[0;34m=\u001b[0m\u001b[0mdtypes\u001b[0m\u001b[0;34m)\u001b[0m\u001b[0;34m\u001b[0m\u001b[0;34m\u001b[0m\u001b[0m\n\u001b[0m\u001b[1;32m     14\u001b[0m \u001b[0mcovid_csv\u001b[0m\u001b[0;34m\u001b[0m\u001b[0;34m\u001b[0m\u001b[0m\n",
      "\u001b[0;32m/opt/anaconda3/lib/python3.7/site-packages/pandas/io/parsers.py\u001b[0m in \u001b[0;36mparser_f\u001b[0;34m(filepath_or_buffer, sep, delimiter, header, names, index_col, usecols, squeeze, prefix, mangle_dupe_cols, dtype, engine, converters, true_values, false_values, skipinitialspace, skiprows, skipfooter, nrows, na_values, keep_default_na, na_filter, verbose, skip_blank_lines, parse_dates, infer_datetime_format, keep_date_col, date_parser, dayfirst, cache_dates, iterator, chunksize, compression, thousands, decimal, lineterminator, quotechar, quoting, doublequote, escapechar, comment, encoding, dialect, error_bad_lines, warn_bad_lines, delim_whitespace, low_memory, memory_map, float_precision)\u001b[0m\n\u001b[1;32m    683\u001b[0m         )\n\u001b[1;32m    684\u001b[0m \u001b[0;34m\u001b[0m\u001b[0m\n\u001b[0;32m--> 685\u001b[0;31m         \u001b[0;32mreturn\u001b[0m \u001b[0m_read\u001b[0m\u001b[0;34m(\u001b[0m\u001b[0mfilepath_or_buffer\u001b[0m\u001b[0;34m,\u001b[0m \u001b[0mkwds\u001b[0m\u001b[0;34m)\u001b[0m\u001b[0;34m\u001b[0m\u001b[0;34m\u001b[0m\u001b[0m\n\u001b[0m\u001b[1;32m    686\u001b[0m \u001b[0;34m\u001b[0m\u001b[0m\n\u001b[1;32m    687\u001b[0m     \u001b[0mparser_f\u001b[0m\u001b[0;34m.\u001b[0m\u001b[0m__name__\u001b[0m \u001b[0;34m=\u001b[0m \u001b[0mname\u001b[0m\u001b[0;34m\u001b[0m\u001b[0;34m\u001b[0m\u001b[0m\n",
      "\u001b[0;32m/opt/anaconda3/lib/python3.7/site-packages/pandas/io/parsers.py\u001b[0m in \u001b[0;36m_read\u001b[0;34m(filepath_or_buffer, kwds)\u001b[0m\n\u001b[1;32m    461\u001b[0m \u001b[0;34m\u001b[0m\u001b[0m\n\u001b[1;32m    462\u001b[0m     \u001b[0;32mtry\u001b[0m\u001b[0;34m:\u001b[0m\u001b[0;34m\u001b[0m\u001b[0;34m\u001b[0m\u001b[0m\n\u001b[0;32m--> 463\u001b[0;31m         \u001b[0mdata\u001b[0m \u001b[0;34m=\u001b[0m \u001b[0mparser\u001b[0m\u001b[0;34m.\u001b[0m\u001b[0mread\u001b[0m\u001b[0;34m(\u001b[0m\u001b[0mnrows\u001b[0m\u001b[0;34m)\u001b[0m\u001b[0;34m\u001b[0m\u001b[0;34m\u001b[0m\u001b[0m\n\u001b[0m\u001b[1;32m    464\u001b[0m     \u001b[0;32mfinally\u001b[0m\u001b[0;34m:\u001b[0m\u001b[0;34m\u001b[0m\u001b[0;34m\u001b[0m\u001b[0m\n\u001b[1;32m    465\u001b[0m         \u001b[0mparser\u001b[0m\u001b[0;34m.\u001b[0m\u001b[0mclose\u001b[0m\u001b[0;34m(\u001b[0m\u001b[0;34m)\u001b[0m\u001b[0;34m\u001b[0m\u001b[0;34m\u001b[0m\u001b[0m\n",
      "\u001b[0;32m/opt/anaconda3/lib/python3.7/site-packages/pandas/io/parsers.py\u001b[0m in \u001b[0;36mread\u001b[0;34m(self, nrows)\u001b[0m\n\u001b[1;32m   1152\u001b[0m     \u001b[0;32mdef\u001b[0m \u001b[0mread\u001b[0m\u001b[0;34m(\u001b[0m\u001b[0mself\u001b[0m\u001b[0;34m,\u001b[0m \u001b[0mnrows\u001b[0m\u001b[0;34m=\u001b[0m\u001b[0;32mNone\u001b[0m\u001b[0;34m)\u001b[0m\u001b[0;34m:\u001b[0m\u001b[0;34m\u001b[0m\u001b[0;34m\u001b[0m\u001b[0m\n\u001b[1;32m   1153\u001b[0m         \u001b[0mnrows\u001b[0m \u001b[0;34m=\u001b[0m \u001b[0m_validate_integer\u001b[0m\u001b[0;34m(\u001b[0m\u001b[0;34m\"nrows\"\u001b[0m\u001b[0;34m,\u001b[0m \u001b[0mnrows\u001b[0m\u001b[0;34m)\u001b[0m\u001b[0;34m\u001b[0m\u001b[0;34m\u001b[0m\u001b[0m\n\u001b[0;32m-> 1154\u001b[0;31m         \u001b[0mret\u001b[0m \u001b[0;34m=\u001b[0m \u001b[0mself\u001b[0m\u001b[0;34m.\u001b[0m\u001b[0m_engine\u001b[0m\u001b[0;34m.\u001b[0m\u001b[0mread\u001b[0m\u001b[0;34m(\u001b[0m\u001b[0mnrows\u001b[0m\u001b[0;34m)\u001b[0m\u001b[0;34m\u001b[0m\u001b[0;34m\u001b[0m\u001b[0m\n\u001b[0m\u001b[1;32m   1155\u001b[0m \u001b[0;34m\u001b[0m\u001b[0m\n\u001b[1;32m   1156\u001b[0m         \u001b[0;31m# May alter columns / col_dict\u001b[0m\u001b[0;34m\u001b[0m\u001b[0;34m\u001b[0m\u001b[0;34m\u001b[0m\u001b[0m\n",
      "\u001b[0;32m/opt/anaconda3/lib/python3.7/site-packages/pandas/io/parsers.py\u001b[0m in \u001b[0;36mread\u001b[0;34m(self, nrows)\u001b[0m\n\u001b[1;32m   2057\u001b[0m     \u001b[0;32mdef\u001b[0m \u001b[0mread\u001b[0m\u001b[0;34m(\u001b[0m\u001b[0mself\u001b[0m\u001b[0;34m,\u001b[0m \u001b[0mnrows\u001b[0m\u001b[0;34m=\u001b[0m\u001b[0;32mNone\u001b[0m\u001b[0;34m)\u001b[0m\u001b[0;34m:\u001b[0m\u001b[0;34m\u001b[0m\u001b[0;34m\u001b[0m\u001b[0m\n\u001b[1;32m   2058\u001b[0m         \u001b[0;32mtry\u001b[0m\u001b[0;34m:\u001b[0m\u001b[0;34m\u001b[0m\u001b[0;34m\u001b[0m\u001b[0m\n\u001b[0;32m-> 2059\u001b[0;31m             \u001b[0mdata\u001b[0m \u001b[0;34m=\u001b[0m \u001b[0mself\u001b[0m\u001b[0;34m.\u001b[0m\u001b[0m_reader\u001b[0m\u001b[0;34m.\u001b[0m\u001b[0mread\u001b[0m\u001b[0;34m(\u001b[0m\u001b[0mnrows\u001b[0m\u001b[0;34m)\u001b[0m\u001b[0;34m\u001b[0m\u001b[0;34m\u001b[0m\u001b[0m\n\u001b[0m\u001b[1;32m   2060\u001b[0m         \u001b[0;32mexcept\u001b[0m \u001b[0mStopIteration\u001b[0m\u001b[0;34m:\u001b[0m\u001b[0;34m\u001b[0m\u001b[0;34m\u001b[0m\u001b[0m\n\u001b[1;32m   2061\u001b[0m             \u001b[0;32mif\u001b[0m \u001b[0mself\u001b[0m\u001b[0;34m.\u001b[0m\u001b[0m_first_chunk\u001b[0m\u001b[0;34m:\u001b[0m\u001b[0;34m\u001b[0m\u001b[0;34m\u001b[0m\u001b[0m\n",
      "\u001b[0;32mpandas/_libs/parsers.pyx\u001b[0m in \u001b[0;36mpandas._libs.parsers.TextReader.read\u001b[0;34m()\u001b[0m\n",
      "\u001b[0;32mpandas/_libs/parsers.pyx\u001b[0m in \u001b[0;36mpandas._libs.parsers.TextReader._read_low_memory\u001b[0;34m()\u001b[0m\n",
      "\u001b[0;32mpandas/_libs/parsers.pyx\u001b[0m in \u001b[0;36mpandas._libs.parsers.TextReader._read_rows\u001b[0;34m()\u001b[0m\n",
      "\u001b[0;32mpandas/_libs/parsers.pyx\u001b[0m in \u001b[0;36mpandas._libs.parsers.TextReader._convert_column_data\u001b[0;34m()\u001b[0m\n",
      "\u001b[0;32mpandas/_libs/parsers.pyx\u001b[0m in \u001b[0;36mpandas._libs.parsers.TextReader._convert_tokens\u001b[0;34m()\u001b[0m\n",
      "\u001b[0;32mpandas/_libs/parsers.pyx\u001b[0m in \u001b[0;36mpandas._libs.parsers.TextReader._convert_with_dtype\u001b[0;34m()\u001b[0m\n",
      "\u001b[0;31mValueError\u001b[0m: Integer column has NA values in column 5"
     ]
    }
   ],
   "source": [
    "COVID_TIMESERIES_CSV=\"Data/2020-03-23-time-series-19-covid-combined.csv\"\n",
    "# Due to changing data results may differ for data other than 2020-03-23\n",
    "\n",
    "dtypes = {\n",
    "          \"Country/Region\": 'str',\n",
    "          \"Province/State\": 'str',\n",
    "          \"Lat\": np.float64,\n",
    "          \"Long\": np.float64,\n",
    "          \"Confirmed\": np.int64,\n",
    "          \"Recovered\": np.int64,\n",
    "          \"Deaths\": np.int64\n",
    "         }\n",
    "covid_csv = pd.read_csv(COVID_TIMESERIES_CSV, parse_dates=[\"Date\"], dtype=dtypes)\n",
    "covid_csv"
   ]
  },
  {
   "cell_type": "markdown",
   "metadata": {},
   "source": [
    "Computer says \"no\"..."
   ]
  },
  {
   "cell_type": "code",
   "execution_count": 118,
   "metadata": {},
   "outputs": [
    {
     "ename": "ValueError",
     "evalue": "cannot convert float NaN to integer",
     "output_type": "error",
     "traceback": [
      "\u001b[0;31m---------------------------------------------------------------------------\u001b[0m",
      "\u001b[0;31mValueError\u001b[0m                                Traceback (most recent call last)",
      "\u001b[0;32m<ipython-input-118-589188f6c191>\u001b[0m in \u001b[0;36m<module>\u001b[0;34m\u001b[0m\n\u001b[0;32m----> 1\u001b[0;31m \u001b[0mnp\u001b[0m\u001b[0;34m.\u001b[0m\u001b[0mint64\u001b[0m\u001b[0;34m(\u001b[0m\u001b[0mnp\u001b[0m\u001b[0;34m.\u001b[0m\u001b[0mNaN\u001b[0m\u001b[0;34m)\u001b[0m\u001b[0;34m\u001b[0m\u001b[0;34m\u001b[0m\u001b[0m\n\u001b[0m",
      "\u001b[0;31mValueError\u001b[0m: cannot convert float NaN to integer"
     ]
    }
   ],
   "source": [
    "np.int64(np.NaN)"
   ]
  },
  {
   "cell_type": "markdown",
   "metadata": {},
   "source": [
    "More data cleaning needed 🙄\n",
    "\n",
    "Start with default types..."
   ]
  },
  {
   "cell_type": "code",
   "execution_count": 119,
   "metadata": {},
   "outputs": [
    {
     "data": {
      "text/html": [
       "<div>\n",
       "<style scoped>\n",
       "    .dataframe tbody tr th:only-of-type {\n",
       "        vertical-align: middle;\n",
       "    }\n",
       "\n",
       "    .dataframe tbody tr th {\n",
       "        vertical-align: top;\n",
       "    }\n",
       "\n",
       "    .dataframe thead th {\n",
       "        text-align: right;\n",
       "    }\n",
       "</style>\n",
       "<table border=\"1\" class=\"dataframe\">\n",
       "  <thead>\n",
       "    <tr style=\"text-align: right;\">\n",
       "      <th></th>\n",
       "      <th>Date</th>\n",
       "      <th>Country</th>\n",
       "      <th>State</th>\n",
       "      <th>Lat</th>\n",
       "      <th>Long</th>\n",
       "      <th>Confirmed</th>\n",
       "      <th>Recovered</th>\n",
       "      <th>Deaths</th>\n",
       "    </tr>\n",
       "  </thead>\n",
       "  <tbody>\n",
       "    <tr>\n",
       "      <td>0</td>\n",
       "      <td>2020-01-22</td>\n",
       "      <td>Thailand</td>\n",
       "      <td>NaN</td>\n",
       "      <td>15.0000</td>\n",
       "      <td>101.0</td>\n",
       "      <td>2.0</td>\n",
       "      <td>0.0</td>\n",
       "      <td>0.0</td>\n",
       "    </tr>\n",
       "    <tr>\n",
       "      <td>1</td>\n",
       "      <td>2020-01-23</td>\n",
       "      <td>Thailand</td>\n",
       "      <td>NaN</td>\n",
       "      <td>15.0000</td>\n",
       "      <td>101.0</td>\n",
       "      <td>3.0</td>\n",
       "      <td>0.0</td>\n",
       "      <td>0.0</td>\n",
       "    </tr>\n",
       "    <tr>\n",
       "      <td>2</td>\n",
       "      <td>2020-01-24</td>\n",
       "      <td>Thailand</td>\n",
       "      <td>NaN</td>\n",
       "      <td>15.0000</td>\n",
       "      <td>101.0</td>\n",
       "      <td>5.0</td>\n",
       "      <td>0.0</td>\n",
       "      <td>0.0</td>\n",
       "    </tr>\n",
       "    <tr>\n",
       "      <td>3</td>\n",
       "      <td>2020-01-25</td>\n",
       "      <td>Thailand</td>\n",
       "      <td>NaN</td>\n",
       "      <td>15.0000</td>\n",
       "      <td>101.0</td>\n",
       "      <td>7.0</td>\n",
       "      <td>0.0</td>\n",
       "      <td>0.0</td>\n",
       "    </tr>\n",
       "    <tr>\n",
       "      <td>4</td>\n",
       "      <td>2020-01-26</td>\n",
       "      <td>Thailand</td>\n",
       "      <td>NaN</td>\n",
       "      <td>15.0000</td>\n",
       "      <td>101.0</td>\n",
       "      <td>8.0</td>\n",
       "      <td>2.0</td>\n",
       "      <td>0.0</td>\n",
       "    </tr>\n",
       "    <tr>\n",
       "      <td>...</td>\n",
       "      <td>...</td>\n",
       "      <td>...</td>\n",
       "      <td>...</td>\n",
       "      <td>...</td>\n",
       "      <td>...</td>\n",
       "      <td>...</td>\n",
       "      <td>...</td>\n",
       "      <td>...</td>\n",
       "    </tr>\n",
       "    <tr>\n",
       "      <td>31057</td>\n",
       "      <td>2020-03-19</td>\n",
       "      <td>The Gambia</td>\n",
       "      <td>NaN</td>\n",
       "      <td>13.4667</td>\n",
       "      <td>-16.6</td>\n",
       "      <td>0.0</td>\n",
       "      <td>0.0</td>\n",
       "      <td>0.0</td>\n",
       "    </tr>\n",
       "    <tr>\n",
       "      <td>31058</td>\n",
       "      <td>2020-03-20</td>\n",
       "      <td>The Gambia</td>\n",
       "      <td>NaN</td>\n",
       "      <td>13.4667</td>\n",
       "      <td>-16.6</td>\n",
       "      <td>0.0</td>\n",
       "      <td>0.0</td>\n",
       "      <td>0.0</td>\n",
       "    </tr>\n",
       "    <tr>\n",
       "      <td>31059</td>\n",
       "      <td>2020-03-21</td>\n",
       "      <td>The Gambia</td>\n",
       "      <td>NaN</td>\n",
       "      <td>13.4667</td>\n",
       "      <td>-16.6</td>\n",
       "      <td>0.0</td>\n",
       "      <td>0.0</td>\n",
       "      <td>0.0</td>\n",
       "    </tr>\n",
       "    <tr>\n",
       "      <td>31060</td>\n",
       "      <td>2020-03-22</td>\n",
       "      <td>The Gambia</td>\n",
       "      <td>NaN</td>\n",
       "      <td>13.4667</td>\n",
       "      <td>-16.6</td>\n",
       "      <td>0.0</td>\n",
       "      <td>0.0</td>\n",
       "      <td>0.0</td>\n",
       "    </tr>\n",
       "    <tr>\n",
       "      <td>31061</td>\n",
       "      <td>2020-03-23</td>\n",
       "      <td>The Gambia</td>\n",
       "      <td>NaN</td>\n",
       "      <td>13.4667</td>\n",
       "      <td>-16.6</td>\n",
       "      <td>0.0</td>\n",
       "      <td>0.0</td>\n",
       "      <td>0.0</td>\n",
       "    </tr>\n",
       "  </tbody>\n",
       "</table>\n",
       "<p>31062 rows × 8 columns</p>\n",
       "</div>"
      ],
      "text/plain": [
       "            Date     Country State      Lat   Long  Confirmed  Recovered  \\\n",
       "0     2020-01-22    Thailand   NaN  15.0000  101.0        2.0        0.0   \n",
       "1     2020-01-23    Thailand   NaN  15.0000  101.0        3.0        0.0   \n",
       "2     2020-01-24    Thailand   NaN  15.0000  101.0        5.0        0.0   \n",
       "3     2020-01-25    Thailand   NaN  15.0000  101.0        7.0        0.0   \n",
       "4     2020-01-26    Thailand   NaN  15.0000  101.0        8.0        2.0   \n",
       "...          ...         ...   ...      ...    ...        ...        ...   \n",
       "31057 2020-03-19  The Gambia   NaN  13.4667  -16.6        0.0        0.0   \n",
       "31058 2020-03-20  The Gambia   NaN  13.4667  -16.6        0.0        0.0   \n",
       "31059 2020-03-21  The Gambia   NaN  13.4667  -16.6        0.0        0.0   \n",
       "31060 2020-03-22  The Gambia   NaN  13.4667  -16.6        0.0        0.0   \n",
       "31061 2020-03-23  The Gambia   NaN  13.4667  -16.6        0.0        0.0   \n",
       "\n",
       "       Deaths  \n",
       "0         0.0  \n",
       "1         0.0  \n",
       "2         0.0  \n",
       "3         0.0  \n",
       "4         0.0  \n",
       "...       ...  \n",
       "31057     0.0  \n",
       "31058     0.0  \n",
       "31059     0.0  \n",
       "31060     0.0  \n",
       "31061     0.0  \n",
       "\n",
       "[31062 rows x 8 columns]"
      ]
     },
     "execution_count": 119,
     "metadata": {},
     "output_type": "execute_result"
    }
   ],
   "source": [
    "covid_csv = pd.read_csv(COVID_TIMESERIES_CSV, parse_dates=[\"Date\"])\n",
    "covid_csv.rename(columns={\"Province/State\": \"State\", \"Country/Region\": \"Country\"}, \n",
    "                 inplace=True)\n",
    "covid_csv"
   ]
  },
  {
   "cell_type": "code",
   "execution_count": 120,
   "metadata": {},
   "outputs": [
    {
     "data": {
      "text/plain": [
       "Date         datetime64[ns]\n",
       "Country              object\n",
       "State                object\n",
       "Lat                 float64\n",
       "Long                float64\n",
       "Confirmed           float64\n",
       "Recovered           float64\n",
       "Deaths              float64\n",
       "dtype: object"
      ]
     },
     "execution_count": 120,
     "metadata": {},
     "output_type": "execute_result"
    }
   ],
   "source": [
    "covid_csv.dtypes"
   ]
  },
  {
   "cell_type": "code",
   "execution_count": 121,
   "metadata": {},
   "outputs": [
    {
     "data": {
      "text/plain": [
       "[pandas._libs.tslibs.timestamps.Timestamp,\n",
       " str,\n",
       " float,\n",
       " numpy.float64,\n",
       " numpy.float64,\n",
       " numpy.float64,\n",
       " numpy.float64,\n",
       " numpy.float64]"
      ]
     },
     "execution_count": 121,
     "metadata": {},
     "output_type": "execute_result"
    }
   ],
   "source": [
    "[type(datum) for datum in covid_csv.iloc[0]]"
   ]
  },
  {
   "cell_type": "code",
   "execution_count": 122,
   "metadata": {},
   "outputs": [
    {
     "data": {
      "text/html": [
       "<div>\n",
       "<style scoped>\n",
       "    .dataframe tbody tr th:only-of-type {\n",
       "        vertical-align: middle;\n",
       "    }\n",
       "\n",
       "    .dataframe tbody tr th {\n",
       "        vertical-align: top;\n",
       "    }\n",
       "\n",
       "    .dataframe thead th {\n",
       "        text-align: right;\n",
       "    }\n",
       "</style>\n",
       "<table border=\"1\" class=\"dataframe\">\n",
       "  <thead>\n",
       "    <tr style=\"text-align: right;\">\n",
       "      <th></th>\n",
       "      <th>Date</th>\n",
       "      <th>Country</th>\n",
       "      <th>State</th>\n",
       "      <th>Lat</th>\n",
       "      <th>Long</th>\n",
       "      <th>Confirmed</th>\n",
       "      <th>Recovered</th>\n",
       "      <th>Deaths</th>\n",
       "    </tr>\n",
       "  </thead>\n",
       "  <tbody>\n",
       "    <tr>\n",
       "      <td>0</td>\n",
       "      <td>False</td>\n",
       "      <td>False</td>\n",
       "      <td>True</td>\n",
       "      <td>False</td>\n",
       "      <td>False</td>\n",
       "      <td>False</td>\n",
       "      <td>False</td>\n",
       "      <td>False</td>\n",
       "    </tr>\n",
       "    <tr>\n",
       "      <td>1</td>\n",
       "      <td>False</td>\n",
       "      <td>False</td>\n",
       "      <td>True</td>\n",
       "      <td>False</td>\n",
       "      <td>False</td>\n",
       "      <td>False</td>\n",
       "      <td>False</td>\n",
       "      <td>False</td>\n",
       "    </tr>\n",
       "    <tr>\n",
       "      <td>2</td>\n",
       "      <td>False</td>\n",
       "      <td>False</td>\n",
       "      <td>True</td>\n",
       "      <td>False</td>\n",
       "      <td>False</td>\n",
       "      <td>False</td>\n",
       "      <td>False</td>\n",
       "      <td>False</td>\n",
       "    </tr>\n",
       "    <tr>\n",
       "      <td>3</td>\n",
       "      <td>False</td>\n",
       "      <td>False</td>\n",
       "      <td>True</td>\n",
       "      <td>False</td>\n",
       "      <td>False</td>\n",
       "      <td>False</td>\n",
       "      <td>False</td>\n",
       "      <td>False</td>\n",
       "    </tr>\n",
       "    <tr>\n",
       "      <td>4</td>\n",
       "      <td>False</td>\n",
       "      <td>False</td>\n",
       "      <td>True</td>\n",
       "      <td>False</td>\n",
       "      <td>False</td>\n",
       "      <td>False</td>\n",
       "      <td>False</td>\n",
       "      <td>False</td>\n",
       "    </tr>\n",
       "    <tr>\n",
       "      <td>...</td>\n",
       "      <td>...</td>\n",
       "      <td>...</td>\n",
       "      <td>...</td>\n",
       "      <td>...</td>\n",
       "      <td>...</td>\n",
       "      <td>...</td>\n",
       "      <td>...</td>\n",
       "      <td>...</td>\n",
       "    </tr>\n",
       "    <tr>\n",
       "      <td>31057</td>\n",
       "      <td>False</td>\n",
       "      <td>False</td>\n",
       "      <td>True</td>\n",
       "      <td>False</td>\n",
       "      <td>False</td>\n",
       "      <td>False</td>\n",
       "      <td>False</td>\n",
       "      <td>False</td>\n",
       "    </tr>\n",
       "    <tr>\n",
       "      <td>31058</td>\n",
       "      <td>False</td>\n",
       "      <td>False</td>\n",
       "      <td>True</td>\n",
       "      <td>False</td>\n",
       "      <td>False</td>\n",
       "      <td>False</td>\n",
       "      <td>False</td>\n",
       "      <td>False</td>\n",
       "    </tr>\n",
       "    <tr>\n",
       "      <td>31059</td>\n",
       "      <td>False</td>\n",
       "      <td>False</td>\n",
       "      <td>True</td>\n",
       "      <td>False</td>\n",
       "      <td>False</td>\n",
       "      <td>False</td>\n",
       "      <td>False</td>\n",
       "      <td>False</td>\n",
       "    </tr>\n",
       "    <tr>\n",
       "      <td>31060</td>\n",
       "      <td>False</td>\n",
       "      <td>False</td>\n",
       "      <td>True</td>\n",
       "      <td>False</td>\n",
       "      <td>False</td>\n",
       "      <td>False</td>\n",
       "      <td>False</td>\n",
       "      <td>False</td>\n",
       "    </tr>\n",
       "    <tr>\n",
       "      <td>31061</td>\n",
       "      <td>False</td>\n",
       "      <td>False</td>\n",
       "      <td>True</td>\n",
       "      <td>False</td>\n",
       "      <td>False</td>\n",
       "      <td>False</td>\n",
       "      <td>False</td>\n",
       "      <td>False</td>\n",
       "    </tr>\n",
       "  </tbody>\n",
       "</table>\n",
       "<p>31062 rows × 8 columns</p>\n",
       "</div>"
      ],
      "text/plain": [
       "        Date  Country  State    Lat   Long  Confirmed  Recovered  Deaths\n",
       "0      False    False   True  False  False      False      False   False\n",
       "1      False    False   True  False  False      False      False   False\n",
       "2      False    False   True  False  False      False      False   False\n",
       "3      False    False   True  False  False      False      False   False\n",
       "4      False    False   True  False  False      False      False   False\n",
       "...      ...      ...    ...    ...    ...        ...        ...     ...\n",
       "31057  False    False   True  False  False      False      False   False\n",
       "31058  False    False   True  False  False      False      False   False\n",
       "31059  False    False   True  False  False      False      False   False\n",
       "31060  False    False   True  False  False      False      False   False\n",
       "31061  False    False   True  False  False      False      False   False\n",
       "\n",
       "[31062 rows x 8 columns]"
      ]
     },
     "execution_count": 122,
     "metadata": {},
     "output_type": "execute_result"
    }
   ],
   "source": [
    "covid_csv.isna()"
   ]
  },
  {
   "cell_type": "code",
   "execution_count": 123,
   "metadata": {},
   "outputs": [
    {
     "data": {
      "text/html": [
       "<div>\n",
       "<style scoped>\n",
       "    .dataframe tbody tr th:only-of-type {\n",
       "        vertical-align: middle;\n",
       "    }\n",
       "\n",
       "    .dataframe tbody tr th {\n",
       "        vertical-align: top;\n",
       "    }\n",
       "\n",
       "    .dataframe thead th {\n",
       "        text-align: right;\n",
       "    }\n",
       "</style>\n",
       "<table border=\"1\" class=\"dataframe\">\n",
       "  <thead>\n",
       "    <tr style=\"text-align: right;\">\n",
       "      <th></th>\n",
       "      <th>Confirmed</th>\n",
       "      <th>Recovered</th>\n",
       "      <th>Deaths</th>\n",
       "    </tr>\n",
       "  </thead>\n",
       "  <tbody>\n",
       "    <tr>\n",
       "      <td>0</td>\n",
       "      <td>False</td>\n",
       "      <td>False</td>\n",
       "      <td>False</td>\n",
       "    </tr>\n",
       "    <tr>\n",
       "      <td>1</td>\n",
       "      <td>False</td>\n",
       "      <td>False</td>\n",
       "      <td>False</td>\n",
       "    </tr>\n",
       "    <tr>\n",
       "      <td>2</td>\n",
       "      <td>False</td>\n",
       "      <td>False</td>\n",
       "      <td>False</td>\n",
       "    </tr>\n",
       "    <tr>\n",
       "      <td>3</td>\n",
       "      <td>False</td>\n",
       "      <td>False</td>\n",
       "      <td>False</td>\n",
       "    </tr>\n",
       "    <tr>\n",
       "      <td>4</td>\n",
       "      <td>False</td>\n",
       "      <td>False</td>\n",
       "      <td>False</td>\n",
       "    </tr>\n",
       "    <tr>\n",
       "      <td>...</td>\n",
       "      <td>...</td>\n",
       "      <td>...</td>\n",
       "      <td>...</td>\n",
       "    </tr>\n",
       "    <tr>\n",
       "      <td>31057</td>\n",
       "      <td>False</td>\n",
       "      <td>False</td>\n",
       "      <td>False</td>\n",
       "    </tr>\n",
       "    <tr>\n",
       "      <td>31058</td>\n",
       "      <td>False</td>\n",
       "      <td>False</td>\n",
       "      <td>False</td>\n",
       "    </tr>\n",
       "    <tr>\n",
       "      <td>31059</td>\n",
       "      <td>False</td>\n",
       "      <td>False</td>\n",
       "      <td>False</td>\n",
       "    </tr>\n",
       "    <tr>\n",
       "      <td>31060</td>\n",
       "      <td>False</td>\n",
       "      <td>False</td>\n",
       "      <td>False</td>\n",
       "    </tr>\n",
       "    <tr>\n",
       "      <td>31061</td>\n",
       "      <td>False</td>\n",
       "      <td>False</td>\n",
       "      <td>False</td>\n",
       "    </tr>\n",
       "  </tbody>\n",
       "</table>\n",
       "<p>31062 rows × 3 columns</p>\n",
       "</div>"
      ],
      "text/plain": [
       "       Confirmed  Recovered  Deaths\n",
       "0          False      False   False\n",
       "1          False      False   False\n",
       "2          False      False   False\n",
       "3          False      False   False\n",
       "4          False      False   False\n",
       "...          ...        ...     ...\n",
       "31057      False      False   False\n",
       "31058      False      False   False\n",
       "31059      False      False   False\n",
       "31060      False      False   False\n",
       "31061      False      False   False\n",
       "\n",
       "[31062 rows x 3 columns]"
      ]
     },
     "execution_count": 123,
     "metadata": {},
     "output_type": "execute_result"
    }
   ],
   "source": [
    "nas = covid_csv.filter([\"Confirmed\",\"Recovered\",\"Deaths\"]).isna()\n",
    "nas"
   ]
  },
  {
   "cell_type": "code",
   "execution_count": 124,
   "metadata": {},
   "outputs": [
    {
     "data": {
      "text/plain": [
       "Confirmed    True\n",
       "Recovered    True\n",
       "Deaths       True\n",
       "dtype: bool"
      ]
     },
     "execution_count": 124,
     "metadata": {},
     "output_type": "execute_result"
    }
   ],
   "source": [
    "nas.any()"
   ]
  },
  {
   "cell_type": "code",
   "execution_count": 125,
   "metadata": {},
   "outputs": [
    {
     "data": {
      "text/html": [
       "<div>\n",
       "<style scoped>\n",
       "    .dataframe tbody tr th:only-of-type {\n",
       "        vertical-align: middle;\n",
       "    }\n",
       "\n",
       "    .dataframe tbody tr th {\n",
       "        vertical-align: top;\n",
       "    }\n",
       "\n",
       "    .dataframe thead th {\n",
       "        text-align: right;\n",
       "    }\n",
       "</style>\n",
       "<table border=\"1\" class=\"dataframe\">\n",
       "  <thead>\n",
       "    <tr style=\"text-align: right;\">\n",
       "      <th></th>\n",
       "      <th>Date</th>\n",
       "      <th>Country</th>\n",
       "      <th>State</th>\n",
       "      <th>Lat</th>\n",
       "      <th>Long</th>\n",
       "      <th>Confirmed</th>\n",
       "      <th>Recovered</th>\n",
       "      <th>Deaths</th>\n",
       "    </tr>\n",
       "  </thead>\n",
       "  <tbody>\n",
       "    <tr>\n",
       "      <td>13019</td>\n",
       "      <td>2020-03-23</td>\n",
       "      <td>US</td>\n",
       "      <td>Kitsap, WA</td>\n",
       "      <td>47.6477</td>\n",
       "      <td>-122.6413</td>\n",
       "      <td>NaN</td>\n",
       "      <td>NaN</td>\n",
       "      <td>NaN</td>\n",
       "    </tr>\n",
       "    <tr>\n",
       "      <td>13081</td>\n",
       "      <td>2020-03-23</td>\n",
       "      <td>US</td>\n",
       "      <td>Solano, CA</td>\n",
       "      <td>38.3105</td>\n",
       "      <td>-121.9018</td>\n",
       "      <td>NaN</td>\n",
       "      <td>NaN</td>\n",
       "      <td>NaN</td>\n",
       "    </tr>\n",
       "    <tr>\n",
       "      <td>13143</td>\n",
       "      <td>2020-03-23</td>\n",
       "      <td>US</td>\n",
       "      <td>Santa Cruz, CA</td>\n",
       "      <td>37.0454</td>\n",
       "      <td>-121.9580</td>\n",
       "      <td>NaN</td>\n",
       "      <td>NaN</td>\n",
       "      <td>NaN</td>\n",
       "    </tr>\n",
       "    <tr>\n",
       "      <td>13205</td>\n",
       "      <td>2020-03-23</td>\n",
       "      <td>US</td>\n",
       "      <td>Napa, CA</td>\n",
       "      <td>38.5025</td>\n",
       "      <td>-122.2654</td>\n",
       "      <td>NaN</td>\n",
       "      <td>NaN</td>\n",
       "      <td>NaN</td>\n",
       "    </tr>\n",
       "    <tr>\n",
       "      <td>13267</td>\n",
       "      <td>2020-03-23</td>\n",
       "      <td>US</td>\n",
       "      <td>Ventura, CA</td>\n",
       "      <td>34.3705</td>\n",
       "      <td>-119.1391</td>\n",
       "      <td>NaN</td>\n",
       "      <td>NaN</td>\n",
       "      <td>NaN</td>\n",
       "    </tr>\n",
       "    <tr>\n",
       "      <td>...</td>\n",
       "      <td>...</td>\n",
       "      <td>...</td>\n",
       "      <td>...</td>\n",
       "      <td>...</td>\n",
       "      <td>...</td>\n",
       "      <td>...</td>\n",
       "      <td>...</td>\n",
       "      <td>...</td>\n",
       "    </tr>\n",
       "    <tr>\n",
       "      <td>24613</td>\n",
       "      <td>2020-03-23</td>\n",
       "      <td>US</td>\n",
       "      <td>Bernalillo, NM</td>\n",
       "      <td>35.0178</td>\n",
       "      <td>-106.6291</td>\n",
       "      <td>NaN</td>\n",
       "      <td>NaN</td>\n",
       "      <td>NaN</td>\n",
       "    </tr>\n",
       "    <tr>\n",
       "      <td>24675</td>\n",
       "      <td>2020-03-23</td>\n",
       "      <td>US</td>\n",
       "      <td>Oakland, MI</td>\n",
       "      <td>42.5922</td>\n",
       "      <td>-83.3362</td>\n",
       "      <td>NaN</td>\n",
       "      <td>NaN</td>\n",
       "      <td>NaN</td>\n",
       "    </tr>\n",
       "    <tr>\n",
       "      <td>24737</td>\n",
       "      <td>2020-03-23</td>\n",
       "      <td>US</td>\n",
       "      <td>Wayne, MI</td>\n",
       "      <td>42.2791</td>\n",
       "      <td>-83.3362</td>\n",
       "      <td>NaN</td>\n",
       "      <td>NaN</td>\n",
       "      <td>NaN</td>\n",
       "    </tr>\n",
       "    <tr>\n",
       "      <td>24799</td>\n",
       "      <td>2020-03-23</td>\n",
       "      <td>US</td>\n",
       "      <td>New Castle, DE</td>\n",
       "      <td>39.5393</td>\n",
       "      <td>-75.6674</td>\n",
       "      <td>NaN</td>\n",
       "      <td>NaN</td>\n",
       "      <td>NaN</td>\n",
       "    </tr>\n",
       "    <tr>\n",
       "      <td>27837</td>\n",
       "      <td>2020-03-23</td>\n",
       "      <td>US</td>\n",
       "      <td>Virgin Islands</td>\n",
       "      <td>18.3358</td>\n",
       "      <td>-64.8963</td>\n",
       "      <td>NaN</td>\n",
       "      <td>NaN</td>\n",
       "      <td>NaN</td>\n",
       "    </tr>\n",
       "  </tbody>\n",
       "</table>\n",
       "<p>192 rows × 8 columns</p>\n",
       "</div>"
      ],
      "text/plain": [
       "            Date Country           State      Lat      Long  Confirmed  \\\n",
       "13019 2020-03-23      US      Kitsap, WA  47.6477 -122.6413        NaN   \n",
       "13081 2020-03-23      US      Solano, CA  38.3105 -121.9018        NaN   \n",
       "13143 2020-03-23      US  Santa Cruz, CA  37.0454 -121.9580        NaN   \n",
       "13205 2020-03-23      US        Napa, CA  38.5025 -122.2654        NaN   \n",
       "13267 2020-03-23      US     Ventura, CA  34.3705 -119.1391        NaN   \n",
       "...          ...     ...             ...      ...       ...        ...   \n",
       "24613 2020-03-23      US  Bernalillo, NM  35.0178 -106.6291        NaN   \n",
       "24675 2020-03-23      US     Oakland, MI  42.5922  -83.3362        NaN   \n",
       "24737 2020-03-23      US       Wayne, MI  42.2791  -83.3362        NaN   \n",
       "24799 2020-03-23      US  New Castle, DE  39.5393  -75.6674        NaN   \n",
       "27837 2020-03-23      US  Virgin Islands  18.3358  -64.8963        NaN   \n",
       "\n",
       "       Recovered  Deaths  \n",
       "13019        NaN     NaN  \n",
       "13081        NaN     NaN  \n",
       "13143        NaN     NaN  \n",
       "13205        NaN     NaN  \n",
       "13267        NaN     NaN  \n",
       "...          ...     ...  \n",
       "24613        NaN     NaN  \n",
       "24675        NaN     NaN  \n",
       "24737        NaN     NaN  \n",
       "24799        NaN     NaN  \n",
       "27837        NaN     NaN  \n",
       "\n",
       "[192 rows x 8 columns]"
      ]
     },
     "execution_count": 125,
     "metadata": {},
     "output_type": "execute_result"
    }
   ],
   "source": [
    "covid_csv.loc[nas[\"Recovered\"]]"
   ]
  },
  {
   "cell_type": "markdown",
   "metadata": {},
   "source": [
    "Our policy for missing data will be to:\n",
    "* accept missing States, set these to the empty string\n",
    "* accept entries where Recovered or Deaths are empty, and set these to zero\n",
    "* reject entries where Confirmed cases is empty"
   ]
  },
  {
   "cell_type": "code",
   "execution_count": 126,
   "metadata": {},
   "outputs": [],
   "source": [
    "covid_csv.fillna(value={\"Recovered\": 0, \"Deaths\": 0, \"State\": ''}, \n",
    "                 inplace=True, downcast=\"infer\")"
   ]
  },
  {
   "cell_type": "markdown",
   "metadata": {},
   "source": [
    "Check Recovered and Deaths..."
   ]
  },
  {
   "cell_type": "code",
   "execution_count": 127,
   "metadata": {},
   "outputs": [
    {
     "data": {
      "text/html": [
       "<div>\n",
       "<style scoped>\n",
       "    .dataframe tbody tr th:only-of-type {\n",
       "        vertical-align: middle;\n",
       "    }\n",
       "\n",
       "    .dataframe tbody tr th {\n",
       "        vertical-align: top;\n",
       "    }\n",
       "\n",
       "    .dataframe thead th {\n",
       "        text-align: right;\n",
       "    }\n",
       "</style>\n",
       "<table border=\"1\" class=\"dataframe\">\n",
       "  <thead>\n",
       "    <tr style=\"text-align: right;\">\n",
       "      <th></th>\n",
       "      <th>Date</th>\n",
       "      <th>Country</th>\n",
       "      <th>State</th>\n",
       "      <th>Lat</th>\n",
       "      <th>Long</th>\n",
       "      <th>Confirmed</th>\n",
       "      <th>Recovered</th>\n",
       "      <th>Deaths</th>\n",
       "    </tr>\n",
       "  </thead>\n",
       "  <tbody>\n",
       "    <tr>\n",
       "      <td>13019</td>\n",
       "      <td>2020-03-23</td>\n",
       "      <td>US</td>\n",
       "      <td>Kitsap, WA</td>\n",
       "      <td>47.6477</td>\n",
       "      <td>-122.6413</td>\n",
       "      <td>NaN</td>\n",
       "      <td>0</td>\n",
       "      <td>0</td>\n",
       "    </tr>\n",
       "    <tr>\n",
       "      <td>13081</td>\n",
       "      <td>2020-03-23</td>\n",
       "      <td>US</td>\n",
       "      <td>Solano, CA</td>\n",
       "      <td>38.3105</td>\n",
       "      <td>-121.9018</td>\n",
       "      <td>NaN</td>\n",
       "      <td>0</td>\n",
       "      <td>0</td>\n",
       "    </tr>\n",
       "    <tr>\n",
       "      <td>13143</td>\n",
       "      <td>2020-03-23</td>\n",
       "      <td>US</td>\n",
       "      <td>Santa Cruz, CA</td>\n",
       "      <td>37.0454</td>\n",
       "      <td>-121.9580</td>\n",
       "      <td>NaN</td>\n",
       "      <td>0</td>\n",
       "      <td>0</td>\n",
       "    </tr>\n",
       "    <tr>\n",
       "      <td>13205</td>\n",
       "      <td>2020-03-23</td>\n",
       "      <td>US</td>\n",
       "      <td>Napa, CA</td>\n",
       "      <td>38.5025</td>\n",
       "      <td>-122.2654</td>\n",
       "      <td>NaN</td>\n",
       "      <td>0</td>\n",
       "      <td>0</td>\n",
       "    </tr>\n",
       "    <tr>\n",
       "      <td>13267</td>\n",
       "      <td>2020-03-23</td>\n",
       "      <td>US</td>\n",
       "      <td>Ventura, CA</td>\n",
       "      <td>34.3705</td>\n",
       "      <td>-119.1391</td>\n",
       "      <td>NaN</td>\n",
       "      <td>0</td>\n",
       "      <td>0</td>\n",
       "    </tr>\n",
       "    <tr>\n",
       "      <td>...</td>\n",
       "      <td>...</td>\n",
       "      <td>...</td>\n",
       "      <td>...</td>\n",
       "      <td>...</td>\n",
       "      <td>...</td>\n",
       "      <td>...</td>\n",
       "      <td>...</td>\n",
       "      <td>...</td>\n",
       "    </tr>\n",
       "    <tr>\n",
       "      <td>24613</td>\n",
       "      <td>2020-03-23</td>\n",
       "      <td>US</td>\n",
       "      <td>Bernalillo, NM</td>\n",
       "      <td>35.0178</td>\n",
       "      <td>-106.6291</td>\n",
       "      <td>NaN</td>\n",
       "      <td>0</td>\n",
       "      <td>0</td>\n",
       "    </tr>\n",
       "    <tr>\n",
       "      <td>24675</td>\n",
       "      <td>2020-03-23</td>\n",
       "      <td>US</td>\n",
       "      <td>Oakland, MI</td>\n",
       "      <td>42.5922</td>\n",
       "      <td>-83.3362</td>\n",
       "      <td>NaN</td>\n",
       "      <td>0</td>\n",
       "      <td>0</td>\n",
       "    </tr>\n",
       "    <tr>\n",
       "      <td>24737</td>\n",
       "      <td>2020-03-23</td>\n",
       "      <td>US</td>\n",
       "      <td>Wayne, MI</td>\n",
       "      <td>42.2791</td>\n",
       "      <td>-83.3362</td>\n",
       "      <td>NaN</td>\n",
       "      <td>0</td>\n",
       "      <td>0</td>\n",
       "    </tr>\n",
       "    <tr>\n",
       "      <td>24799</td>\n",
       "      <td>2020-03-23</td>\n",
       "      <td>US</td>\n",
       "      <td>New Castle, DE</td>\n",
       "      <td>39.5393</td>\n",
       "      <td>-75.6674</td>\n",
       "      <td>NaN</td>\n",
       "      <td>0</td>\n",
       "      <td>0</td>\n",
       "    </tr>\n",
       "    <tr>\n",
       "      <td>27837</td>\n",
       "      <td>2020-03-23</td>\n",
       "      <td>US</td>\n",
       "      <td>Virgin Islands</td>\n",
       "      <td>18.3358</td>\n",
       "      <td>-64.8963</td>\n",
       "      <td>NaN</td>\n",
       "      <td>0</td>\n",
       "      <td>0</td>\n",
       "    </tr>\n",
       "  </tbody>\n",
       "</table>\n",
       "<p>192 rows × 8 columns</p>\n",
       "</div>"
      ],
      "text/plain": [
       "            Date Country           State      Lat      Long  Confirmed  \\\n",
       "13019 2020-03-23      US      Kitsap, WA  47.6477 -122.6413        NaN   \n",
       "13081 2020-03-23      US      Solano, CA  38.3105 -121.9018        NaN   \n",
       "13143 2020-03-23      US  Santa Cruz, CA  37.0454 -121.9580        NaN   \n",
       "13205 2020-03-23      US        Napa, CA  38.5025 -122.2654        NaN   \n",
       "13267 2020-03-23      US     Ventura, CA  34.3705 -119.1391        NaN   \n",
       "...          ...     ...             ...      ...       ...        ...   \n",
       "24613 2020-03-23      US  Bernalillo, NM  35.0178 -106.6291        NaN   \n",
       "24675 2020-03-23      US     Oakland, MI  42.5922  -83.3362        NaN   \n",
       "24737 2020-03-23      US       Wayne, MI  42.2791  -83.3362        NaN   \n",
       "24799 2020-03-23      US  New Castle, DE  39.5393  -75.6674        NaN   \n",
       "27837 2020-03-23      US  Virgin Islands  18.3358  -64.8963        NaN   \n",
       "\n",
       "       Recovered  Deaths  \n",
       "13019          0       0  \n",
       "13081          0       0  \n",
       "13143          0       0  \n",
       "13205          0       0  \n",
       "13267          0       0  \n",
       "...          ...     ...  \n",
       "24613          0       0  \n",
       "24675          0       0  \n",
       "24737          0       0  \n",
       "24799          0       0  \n",
       "27837          0       0  \n",
       "\n",
       "[192 rows x 8 columns]"
      ]
     },
     "execution_count": 127,
     "metadata": {},
     "output_type": "execute_result"
    }
   ],
   "source": [
    "covid_csv.loc[nas[\"Recovered\"]]"
   ]
  },
  {
   "cell_type": "markdown",
   "metadata": {},
   "source": [
    "Check State..."
   ]
  },
  {
   "cell_type": "code",
   "execution_count": 128,
   "metadata": {},
   "outputs": [
    {
     "data": {
      "text/html": [
       "<div>\n",
       "<style scoped>\n",
       "    .dataframe tbody tr th:only-of-type {\n",
       "        vertical-align: middle;\n",
       "    }\n",
       "\n",
       "    .dataframe tbody tr th {\n",
       "        vertical-align: top;\n",
       "    }\n",
       "\n",
       "    .dataframe thead th {\n",
       "        text-align: right;\n",
       "    }\n",
       "</style>\n",
       "<table border=\"1\" class=\"dataframe\">\n",
       "  <thead>\n",
       "    <tr style=\"text-align: right;\">\n",
       "      <th></th>\n",
       "      <th>Date</th>\n",
       "      <th>Country</th>\n",
       "      <th>State</th>\n",
       "      <th>Lat</th>\n",
       "      <th>Long</th>\n",
       "      <th>Confirmed</th>\n",
       "      <th>Recovered</th>\n",
       "      <th>Deaths</th>\n",
       "    </tr>\n",
       "  </thead>\n",
       "  <tbody>\n",
       "    <tr>\n",
       "      <td>0</td>\n",
       "      <td>2020-01-22</td>\n",
       "      <td>Thailand</td>\n",
       "      <td></td>\n",
       "      <td>15.0000</td>\n",
       "      <td>101.0</td>\n",
       "      <td>2.0</td>\n",
       "      <td>0</td>\n",
       "      <td>0</td>\n",
       "    </tr>\n",
       "    <tr>\n",
       "      <td>1</td>\n",
       "      <td>2020-01-23</td>\n",
       "      <td>Thailand</td>\n",
       "      <td></td>\n",
       "      <td>15.0000</td>\n",
       "      <td>101.0</td>\n",
       "      <td>3.0</td>\n",
       "      <td>0</td>\n",
       "      <td>0</td>\n",
       "    </tr>\n",
       "    <tr>\n",
       "      <td>2</td>\n",
       "      <td>2020-01-24</td>\n",
       "      <td>Thailand</td>\n",
       "      <td></td>\n",
       "      <td>15.0000</td>\n",
       "      <td>101.0</td>\n",
       "      <td>5.0</td>\n",
       "      <td>0</td>\n",
       "      <td>0</td>\n",
       "    </tr>\n",
       "    <tr>\n",
       "      <td>3</td>\n",
       "      <td>2020-01-25</td>\n",
       "      <td>Thailand</td>\n",
       "      <td></td>\n",
       "      <td>15.0000</td>\n",
       "      <td>101.0</td>\n",
       "      <td>7.0</td>\n",
       "      <td>0</td>\n",
       "      <td>0</td>\n",
       "    </tr>\n",
       "    <tr>\n",
       "      <td>4</td>\n",
       "      <td>2020-01-26</td>\n",
       "      <td>Thailand</td>\n",
       "      <td></td>\n",
       "      <td>15.0000</td>\n",
       "      <td>101.0</td>\n",
       "      <td>8.0</td>\n",
       "      <td>2</td>\n",
       "      <td>0</td>\n",
       "    </tr>\n",
       "    <tr>\n",
       "      <td>...</td>\n",
       "      <td>...</td>\n",
       "      <td>...</td>\n",
       "      <td>...</td>\n",
       "      <td>...</td>\n",
       "      <td>...</td>\n",
       "      <td>...</td>\n",
       "      <td>...</td>\n",
       "      <td>...</td>\n",
       "    </tr>\n",
       "    <tr>\n",
       "      <td>31057</td>\n",
       "      <td>2020-03-19</td>\n",
       "      <td>The Gambia</td>\n",
       "      <td></td>\n",
       "      <td>13.4667</td>\n",
       "      <td>-16.6</td>\n",
       "      <td>0.0</td>\n",
       "      <td>0</td>\n",
       "      <td>0</td>\n",
       "    </tr>\n",
       "    <tr>\n",
       "      <td>31058</td>\n",
       "      <td>2020-03-20</td>\n",
       "      <td>The Gambia</td>\n",
       "      <td></td>\n",
       "      <td>13.4667</td>\n",
       "      <td>-16.6</td>\n",
       "      <td>0.0</td>\n",
       "      <td>0</td>\n",
       "      <td>0</td>\n",
       "    </tr>\n",
       "    <tr>\n",
       "      <td>31059</td>\n",
       "      <td>2020-03-21</td>\n",
       "      <td>The Gambia</td>\n",
       "      <td></td>\n",
       "      <td>13.4667</td>\n",
       "      <td>-16.6</td>\n",
       "      <td>0.0</td>\n",
       "      <td>0</td>\n",
       "      <td>0</td>\n",
       "    </tr>\n",
       "    <tr>\n",
       "      <td>31060</td>\n",
       "      <td>2020-03-22</td>\n",
       "      <td>The Gambia</td>\n",
       "      <td></td>\n",
       "      <td>13.4667</td>\n",
       "      <td>-16.6</td>\n",
       "      <td>0.0</td>\n",
       "      <td>0</td>\n",
       "      <td>0</td>\n",
       "    </tr>\n",
       "    <tr>\n",
       "      <td>31061</td>\n",
       "      <td>2020-03-23</td>\n",
       "      <td>The Gambia</td>\n",
       "      <td></td>\n",
       "      <td>13.4667</td>\n",
       "      <td>-16.6</td>\n",
       "      <td>0.0</td>\n",
       "      <td>0</td>\n",
       "      <td>0</td>\n",
       "    </tr>\n",
       "  </tbody>\n",
       "</table>\n",
       "<p>31062 rows × 8 columns</p>\n",
       "</div>"
      ],
      "text/plain": [
       "            Date     Country State      Lat   Long  Confirmed  Recovered  \\\n",
       "0     2020-01-22    Thailand        15.0000  101.0        2.0          0   \n",
       "1     2020-01-23    Thailand        15.0000  101.0        3.0          0   \n",
       "2     2020-01-24    Thailand        15.0000  101.0        5.0          0   \n",
       "3     2020-01-25    Thailand        15.0000  101.0        7.0          0   \n",
       "4     2020-01-26    Thailand        15.0000  101.0        8.0          2   \n",
       "...          ...         ...   ...      ...    ...        ...        ...   \n",
       "31057 2020-03-19  The Gambia        13.4667  -16.6        0.0          0   \n",
       "31058 2020-03-20  The Gambia        13.4667  -16.6        0.0          0   \n",
       "31059 2020-03-21  The Gambia        13.4667  -16.6        0.0          0   \n",
       "31060 2020-03-22  The Gambia        13.4667  -16.6        0.0          0   \n",
       "31061 2020-03-23  The Gambia        13.4667  -16.6        0.0          0   \n",
       "\n",
       "       Deaths  \n",
       "0           0  \n",
       "1           0  \n",
       "2           0  \n",
       "3           0  \n",
       "4           0  \n",
       "...       ...  \n",
       "31057       0  \n",
       "31058       0  \n",
       "31059       0  \n",
       "31060       0  \n",
       "31061       0  \n",
       "\n",
       "[31062 rows x 8 columns]"
      ]
     },
     "execution_count": 128,
     "metadata": {},
     "output_type": "execute_result"
    }
   ],
   "source": [
    "covid_csv"
   ]
  },
  {
   "cell_type": "markdown",
   "metadata": {},
   "source": [
    "What effect has `downcast` had? How well did pandas infer?"
   ]
  },
  {
   "cell_type": "code",
   "execution_count": 129,
   "metadata": {},
   "outputs": [
    {
     "data": {
      "text/plain": [
       "[pandas._libs.tslibs.timestamps.Timestamp,\n",
       " str,\n",
       " str,\n",
       " numpy.float64,\n",
       " numpy.float64,\n",
       " numpy.float64,\n",
       " numpy.int64,\n",
       " numpy.int64]"
      ]
     },
     "execution_count": 129,
     "metadata": {},
     "output_type": "execute_result"
    }
   ],
   "source": [
    "[type(datum) for datum in covid_csv.iloc[0]]"
   ]
  },
  {
   "cell_type": "code",
   "execution_count": 130,
   "metadata": {},
   "outputs": [
    {
     "data": {
      "text/plain": [
       "Date         False\n",
       "Country      False\n",
       "State        False\n",
       "Lat          False\n",
       "Long         False\n",
       "Confirmed     True\n",
       "Recovered    False\n",
       "Deaths       False\n",
       "dtype: bool"
      ]
     },
     "execution_count": 130,
     "metadata": {},
     "output_type": "execute_result"
    }
   ],
   "source": [
    "covid_csv.isna().any()"
   ]
  },
  {
   "cell_type": "markdown",
   "metadata": {},
   "source": [
    "The only column with missing data is now Confirmed. So according to our policy we can now drop all rows with missing data."
   ]
  },
  {
   "cell_type": "code",
   "execution_count": 131,
   "metadata": {},
   "outputs": [],
   "source": [
    "covid_csv.dropna(inplace=True)"
   ]
  },
  {
   "cell_type": "code",
   "execution_count": 137,
   "metadata": {},
   "outputs": [
    {
     "data": {
      "text/plain": [
       "Date         False\n",
       "Country      False\n",
       "State        False\n",
       "Lat          False\n",
       "Long         False\n",
       "Confirmed    False\n",
       "Recovered    False\n",
       "Deaths       False\n",
       "dtype: bool"
      ]
     },
     "execution_count": 137,
     "metadata": {},
     "output_type": "execute_result"
    }
   ],
   "source": [
    "covid_csv.isna().any()"
   ]
  },
  {
   "cell_type": "code",
   "execution_count": 138,
   "metadata": {},
   "outputs": [
    {
     "data": {
      "text/plain": [
       "30870"
      ]
     },
     "execution_count": 138,
     "metadata": {},
     "output_type": "execute_result"
    }
   ],
   "source": [
    "len(covid_csv)"
   ]
  },
  {
   "cell_type": "code",
   "execution_count": 143,
   "metadata": {},
   "outputs": [
    {
     "data": {
      "text/plain": [
       "Date         datetime64[ns]\n",
       "Country              object\n",
       "State                object\n",
       "Lat                 float64\n",
       "Long                float64\n",
       "Confirmed             int64\n",
       "Recovered             int64\n",
       "Deaths                int64\n",
       "dtype: object"
      ]
     },
     "execution_count": 143,
     "metadata": {},
     "output_type": "execute_result"
    }
   ],
   "source": [
    "covid_csv.dtypes"
   ]
  },
  {
   "cell_type": "code",
   "execution_count": 144,
   "metadata": {},
   "outputs": [
    {
     "data": {
      "text/plain": [
       "Date         datetime64[ns]\n",
       "Country              object\n",
       "State                object\n",
       "Lat                 float64\n",
       "Long                float64\n",
       "Confirmed             int64\n",
       "Recovered             int64\n",
       "Deaths                int64\n",
       "dtype: object"
      ]
     },
     "execution_count": 144,
     "metadata": {},
     "output_type": "execute_result"
    }
   ],
   "source": [
    "covid_csv = covid_csv.astype(dtype = {\"Confirmed\": np.int64}, copy=False)\n",
    "covid_csv.dtypes"
   ]
  },
  {
   "cell_type": "code",
   "execution_count": 136,
   "metadata": {},
   "outputs": [
    {
     "data": {
      "text/plain": [
       "[pandas._libs.tslibs.timestamps.Timestamp,\n",
       " str,\n",
       " str,\n",
       " numpy.float64,\n",
       " numpy.float64,\n",
       " numpy.int64,\n",
       " numpy.int64,\n",
       " numpy.int64]"
      ]
     },
     "execution_count": 136,
     "metadata": {},
     "output_type": "execute_result"
    }
   ],
   "source": [
    "[type(datum) for datum in covid.iloc[0]]"
   ]
  },
  {
   "cell_type": "code",
   "execution_count": null,
   "metadata": {},
   "outputs": [],
   "source": []
  },
  {
   "cell_type": "code",
   "execution_count": 146,
   "metadata": {},
   "outputs": [
    {
     "name": "stdout",
     "output_type": "stream",
     "text": [
      "Reading 15183 rows.\n",
      "\n",
      "Missing data before replacement:\n",
      "Date         False\n",
      "Country      False\n",
      "State         True\n",
      "Lat          False\n",
      "Long         False\n",
      "Confirmed    False\n",
      "Recovered     True\n",
      "Deaths       False\n",
      "dtype: bool\n",
      "\n",
      "Missing data after replacement:\n",
      "Date         False\n",
      "Country      False\n",
      "State        False\n",
      "Lat          False\n",
      "Long         False\n",
      "Confirmed    False\n",
      "Recovered    False\n",
      "Deaths       False\n",
      "dtype: bool\n",
      "\n",
      "\n",
      "15183 rows remaining.\n",
      "Date         datetime64[ns]\n",
      "Country              object\n",
      "State                object\n",
      "Lat                 float64\n",
      "Long                float64\n",
      "Confirmed             int64\n",
      "Recovered             int64\n",
      "Deaths                int64\n",
      "dtype: object\n",
      "Classes: [<class 'pandas._libs.tslibs.timestamps.Timestamp'>, <class 'str'>, <class 'str'>, <class 'numpy.float64'>, <class 'numpy.float64'>, <class 'numpy.int64'>, <class 'numpy.int64'>, <class 'numpy.int64'>]\n"
     ]
    }
   ],
   "source": [
    "COVID_TIMESERIES_CSV=\"Data/2020-03-24-time-series-19-covid-combined.csv\"\n",
    "# Due to changing data results may differ for data other than 2020-03-23\n",
    "\n",
    "covid_csv = pd.read_csv(COVID_TIMESERIES_CSV, parse_dates=[\"Date\"])\n",
    "print(\"Reading\", len(covid_csv), \"rows.\")\n",
    "covid_csv.rename(columns={\"Province/State\": \"State\", \"Country/Region\": \"Country\"}, \n",
    "                 inplace=True)\n",
    "print(\"\\nMissing data before replacement:\")\n",
    "print(covid_csv.isna().any())\n",
    "covid_csv.fillna(value={\"Recovered\": 0, \"Deaths\": 0, \"State\": ''}, \n",
    "                 inplace=True, downcast=\"infer\")\n",
    "print(\"\\nMissing data after replacement:\")\n",
    "print(covid_csv.isna().any())\n",
    "covid_csv.dropna(inplace=True)\n",
    "print(\"\\n\")\n",
    "print(len(covid_csv), \"rows remaining.\")\n",
    "\n",
    "covid_csv = covid_csv.astype(dtype = {\"Confirmed\": np.int64})\n",
    "print(covid_csv.dtypes)\n",
    "\n",
    "print(\"Classes:\", [type(datum) for datum in covid.iloc[0]])\n"
   ]
  },
  {
   "cell_type": "code",
   "execution_count": null,
   "metadata": {},
   "outputs": [],
   "source": []
  },
  {
   "cell_type": "code",
   "execution_count": null,
   "metadata": {},
   "outputs": [],
   "source": []
  },
  {
   "cell_type": "code",
   "execution_count": null,
   "metadata": {},
   "outputs": [],
   "source": []
  },
  {
   "cell_type": "code",
   "execution_count": null,
   "metadata": {},
   "outputs": [],
   "source": []
  },
  {
   "cell_type": "code",
   "execution_count": null,
   "metadata": {},
   "outputs": [],
   "source": [
    "covid_csv.loc[covid_csv[\"Country/Region\"] == \"Belize\"]"
   ]
  },
  {
   "cell_type": "code",
   "execution_count": null,
   "metadata": {},
   "outputs": [],
   "source": [
    "dtypes = {\n",
    "          \"Country/Region\": 'str',\n",
    "          \"Province/State\": 'str',\n",
    "          \"Lat\": np.float64,\n",
    "          \"Long\": np.float64,\n",
    "          \"Confirmed\": np.int64,\n",
    "          \"Recovered\": np.int64,\n",
    "          \"Deaths\": np.int64\n",
    "         }\n",
    "\n",
    "covid_csv = pd.read_csv(COVID_TIMESERIES_CSV, na_filter=False, dtype = dtypes)\n",
    "covid_csv"
   ]
  },
  {
   "cell_type": "code",
   "execution_count": null,
   "metadata": {},
   "outputs": [],
   "source": [
    "jsort = covid_json.sort_values([\"Date\",\"Country/Region\"])\n",
    "csort = covid_csv.sort_values([\"Date\",\"Country/Region\"])\n",
    "print(jsort.head())\n",
    "print(csort.head())"
   ]
  },
  {
   "cell_type": "code",
   "execution_count": null,
   "metadata": {},
   "outputs": [],
   "source": [
    "print(type(csort[\"Date\"][0]))\n",
    "print(type(jsort[\"Date\"][0]))\n",
    "\n",
    "\n",
    "    \n"
   ]
  },
  {
   "cell_type": "code",
   "execution_count": null,
   "metadata": {},
   "outputs": [],
   "source": [
    "diff_df = pd.merge(jsort, csort, how='outer', indicator='Exist')\n"
   ]
  },
  {
   "cell_type": "code",
   "execution_count": null,
   "metadata": {},
   "outputs": [],
   "source": [
    "\n",
    "diff_df = diff_df.loc[diff_df['Exist'] != 'both']\n",
    "\n"
   ]
  },
  {
   "cell_type": "code",
   "execution_count": null,
   "metadata": {},
   "outputs": [],
   "source": [
    "import json\n",
    "with open(COVID_TIMESERIES_JSON,'r') as f:\n",
    "    data = json.load(f)\n",
    "data"
   ]
  },
  {
   "cell_type": "code",
   "execution_count": null,
   "metadata": {},
   "outputs": [],
   "source": []
  },
  {
   "cell_type": "code",
   "execution_count": null,
   "metadata": {},
   "outputs": [],
   "source": [
    "# Using data from 16th March, 2020\n",
    "COVID_DATA=\"Data/2020-03-22-time-series-19-covid-combined.csv\"\n",
    "data = pd.read_csv(COVID_DATA)\n",
    "data"
   ]
  },
  {
   "cell_type": "code",
   "execution_count": null,
   "metadata": {},
   "outputs": [],
   "source": [
    "data.dtypes"
   ]
  },
  {
   "cell_type": "markdown",
   "metadata": {},
   "source": [
    "The actual data type can vary within the same column:"
   ]
  },
  {
   "cell_type": "code",
   "execution_count": null,
   "metadata": {},
   "outputs": [],
   "source": [
    "for datum in data.iloc[0]:\n",
    "    print(type(datum))"
   ]
  },
  {
   "cell_type": "code",
   "execution_count": null,
   "metadata": {},
   "outputs": [],
   "source": [
    "data.loc[data[\"Country/Region\"] == \"United Kingdom\"].tail(2)"
   ]
  },
  {
   "cell_type": "code",
   "execution_count": null,
   "metadata": {},
   "outputs": [],
   "source": [
    "for datum in data.loc[data[\"Country/Region\"] == \"United Kingdom\"].iloc[0]:\n",
    "    print(type(datum))"
   ]
  },
  {
   "cell_type": "markdown",
   "metadata": {},
   "source": [
    "> _Q: How successful has pandas been at inferring data types?_\n",
    "\n",
    "> _What types would you choose?_\n",
    "\n",
    "Lets try again. Starting with the province:"
   ]
  },
  {
   "cell_type": "code",
   "execution_count": null,
   "metadata": {},
   "outputs": [],
   "source": [
    "data = pd.read_csv(COVID_DATA, na_filter=False)\n",
    "data"
   ]
  },
  {
   "cell_type": "code",
   "execution_count": null,
   "metadata": {},
   "outputs": [],
   "source": [
    "for datum in data.iloc[0]:\n",
    "    print(type(datum))"
   ]
  },
  {
   "cell_type": "markdown",
   "metadata": {},
   "source": [
    "What about the Date column?\n",
    "\n",
    "> _Q: Why is storing date and time information as strings not particularly useful?_\n",
    "\n"
   ]
  },
  {
   "cell_type": "markdown",
   "metadata": {},
   "source": [
    "### Extracting the Australian data"
   ]
  },
  {
   "cell_type": "code",
   "execution_count": 147,
   "metadata": {},
   "outputs": [
    {
     "data": {
      "text/html": [
       "<div>\n",
       "<style scoped>\n",
       "    .dataframe tbody tr th:only-of-type {\n",
       "        vertical-align: middle;\n",
       "    }\n",
       "\n",
       "    .dataframe tbody tr th {\n",
       "        vertical-align: top;\n",
       "    }\n",
       "\n",
       "    .dataframe thead th {\n",
       "        text-align: right;\n",
       "    }\n",
       "</style>\n",
       "<table border=\"1\" class=\"dataframe\">\n",
       "  <thead>\n",
       "    <tr style=\"text-align: right;\">\n",
       "      <th></th>\n",
       "      <th>Date</th>\n",
       "      <th>Country</th>\n",
       "      <th>State</th>\n",
       "      <th>Lat</th>\n",
       "      <th>Long</th>\n",
       "      <th>Confirmed</th>\n",
       "      <th>Recovered</th>\n",
       "      <th>Deaths</th>\n",
       "    </tr>\n",
       "  </thead>\n",
       "  <tbody>\n",
       "    <tr>\n",
       "      <td>504</td>\n",
       "      <td>2020-01-22</td>\n",
       "      <td>Australia</td>\n",
       "      <td>Australian Capital Territory</td>\n",
       "      <td>-35.4735</td>\n",
       "      <td>149.0124</td>\n",
       "      <td>0</td>\n",
       "      <td>0</td>\n",
       "      <td>0</td>\n",
       "    </tr>\n",
       "    <tr>\n",
       "      <td>505</td>\n",
       "      <td>2020-01-23</td>\n",
       "      <td>Australia</td>\n",
       "      <td>Australian Capital Territory</td>\n",
       "      <td>-35.4735</td>\n",
       "      <td>149.0124</td>\n",
       "      <td>0</td>\n",
       "      <td>0</td>\n",
       "      <td>0</td>\n",
       "    </tr>\n",
       "    <tr>\n",
       "      <td>506</td>\n",
       "      <td>2020-01-24</td>\n",
       "      <td>Australia</td>\n",
       "      <td>Australian Capital Territory</td>\n",
       "      <td>-35.4735</td>\n",
       "      <td>149.0124</td>\n",
       "      <td>0</td>\n",
       "      <td>0</td>\n",
       "      <td>0</td>\n",
       "    </tr>\n",
       "    <tr>\n",
       "      <td>507</td>\n",
       "      <td>2020-01-25</td>\n",
       "      <td>Australia</td>\n",
       "      <td>Australian Capital Territory</td>\n",
       "      <td>-35.4735</td>\n",
       "      <td>149.0124</td>\n",
       "      <td>0</td>\n",
       "      <td>0</td>\n",
       "      <td>0</td>\n",
       "    </tr>\n",
       "    <tr>\n",
       "      <td>508</td>\n",
       "      <td>2020-01-26</td>\n",
       "      <td>Australia</td>\n",
       "      <td>Australian Capital Territory</td>\n",
       "      <td>-35.4735</td>\n",
       "      <td>149.0124</td>\n",
       "      <td>0</td>\n",
       "      <td>0</td>\n",
       "      <td>0</td>\n",
       "    </tr>\n",
       "    <tr>\n",
       "      <td>...</td>\n",
       "      <td>...</td>\n",
       "      <td>...</td>\n",
       "      <td>...</td>\n",
       "      <td>...</td>\n",
       "      <td>...</td>\n",
       "      <td>...</td>\n",
       "      <td>...</td>\n",
       "      <td>...</td>\n",
       "    </tr>\n",
       "    <tr>\n",
       "      <td>1003</td>\n",
       "      <td>2020-03-20</td>\n",
       "      <td>Australia</td>\n",
       "      <td>Western Australia</td>\n",
       "      <td>-31.9505</td>\n",
       "      <td>115.8605</td>\n",
       "      <td>64</td>\n",
       "      <td>0</td>\n",
       "      <td>1</td>\n",
       "    </tr>\n",
       "    <tr>\n",
       "      <td>1004</td>\n",
       "      <td>2020-03-21</td>\n",
       "      <td>Australia</td>\n",
       "      <td>Western Australia</td>\n",
       "      <td>-31.9505</td>\n",
       "      <td>115.8605</td>\n",
       "      <td>90</td>\n",
       "      <td>0</td>\n",
       "      <td>1</td>\n",
       "    </tr>\n",
       "    <tr>\n",
       "      <td>1005</td>\n",
       "      <td>2020-03-22</td>\n",
       "      <td>Australia</td>\n",
       "      <td>Western Australia</td>\n",
       "      <td>-31.9505</td>\n",
       "      <td>115.8605</td>\n",
       "      <td>120</td>\n",
       "      <td>0</td>\n",
       "      <td>1</td>\n",
       "    </tr>\n",
       "    <tr>\n",
       "      <td>1006</td>\n",
       "      <td>2020-03-23</td>\n",
       "      <td>Australia</td>\n",
       "      <td>Western Australia</td>\n",
       "      <td>-31.9505</td>\n",
       "      <td>115.8605</td>\n",
       "      <td>140</td>\n",
       "      <td>0</td>\n",
       "      <td>1</td>\n",
       "    </tr>\n",
       "    <tr>\n",
       "      <td>1007</td>\n",
       "      <td>2020-03-24</td>\n",
       "      <td>Australia</td>\n",
       "      <td>Western Australia</td>\n",
       "      <td>-31.9505</td>\n",
       "      <td>115.8605</td>\n",
       "      <td>175</td>\n",
       "      <td>0</td>\n",
       "      <td>1</td>\n",
       "    </tr>\n",
       "  </tbody>\n",
       "</table>\n",
       "<p>504 rows × 8 columns</p>\n",
       "</div>"
      ],
      "text/plain": [
       "           Date    Country                         State      Lat      Long  \\\n",
       "504  2020-01-22  Australia  Australian Capital Territory -35.4735  149.0124   \n",
       "505  2020-01-23  Australia  Australian Capital Territory -35.4735  149.0124   \n",
       "506  2020-01-24  Australia  Australian Capital Territory -35.4735  149.0124   \n",
       "507  2020-01-25  Australia  Australian Capital Territory -35.4735  149.0124   \n",
       "508  2020-01-26  Australia  Australian Capital Territory -35.4735  149.0124   \n",
       "...         ...        ...                           ...      ...       ...   \n",
       "1003 2020-03-20  Australia             Western Australia -31.9505  115.8605   \n",
       "1004 2020-03-21  Australia             Western Australia -31.9505  115.8605   \n",
       "1005 2020-03-22  Australia             Western Australia -31.9505  115.8605   \n",
       "1006 2020-03-23  Australia             Western Australia -31.9505  115.8605   \n",
       "1007 2020-03-24  Australia             Western Australia -31.9505  115.8605   \n",
       "\n",
       "      Confirmed  Recovered  Deaths  \n",
       "504           0          0       0  \n",
       "505           0          0       0  \n",
       "506           0          0       0  \n",
       "507           0          0       0  \n",
       "508           0          0       0  \n",
       "...         ...        ...     ...  \n",
       "1003         64          0       1  \n",
       "1004         90          0       1  \n",
       "1005        120          0       1  \n",
       "1006        140          0       1  \n",
       "1007        175          0       1  \n",
       "\n",
       "[504 rows x 8 columns]"
      ]
     },
     "execution_count": 147,
     "metadata": {},
     "output_type": "execute_result"
    }
   ],
   "source": [
    "covid = covid_csv\n",
    "aus_covid = covid[covid[\"Country\"] == \"Australia\"]\n",
    "aus_covid"
   ]
  },
  {
   "cell_type": "markdown",
   "metadata": {},
   "source": [
    "## Data Exploration using Bar Plots"
   ]
  },
  {
   "cell_type": "code",
   "execution_count": null,
   "metadata": {},
   "outputs": [],
   "source": [
    "auscovid.loc[auscovid[\"State\"] == \"Western Australia\"].plot.bar(\"Date\",\"Confirmed\")"
   ]
  },
  {
   "cell_type": "code",
   "execution_count": null,
   "metadata": {},
   "outputs": [],
   "source": [
    "WA = auscovid.loc[(auscovid[\"State\"] == \"Western Australia\") & (auscovid[\"Confirmed\"]>0)]\n",
    "WA.head()"
   ]
  },
  {
   "cell_type": "code",
   "execution_count": null,
   "metadata": {},
   "outputs": [],
   "source": [
    "WA.plot.bar(\"Date\",\"Confirmed\")\n",
    "plt.show()"
   ]
  },
  {
   "cell_type": "markdown",
   "metadata": {},
   "source": [
    "The date labels are not very readable. Rather than create our own strings 'manually', we can use `strftime` (STRing Format TIME\"?)\n",
    "\n",
    "Some python documentation is not very useful! https://pandas.pydata.org/docs/reference/api/pandas.Timestamp.strftime.html#pandas.Timestamp.strftime\n",
    "\n",
    "Although we haven't used the `datetime` module, pandas Timestamp is designed to be compatible with datetime, and we can [find some documentation there](https://docs.python.org/3/library/datetime.html#strftime-strptime-behavior)."
   ]
  },
  {
   "cell_type": "markdown",
   "metadata": {},
   "source": [
    "We can use pandas `apply` with a lambda function to format each date element:"
   ]
  },
  {
   "cell_type": "code",
   "execution_count": null,
   "metadata": {},
   "outputs": [],
   "source": [
    "WA[\"Date\"].apply(lambda x: x.strftime(\"%B %d\")).head()"
   ]
  },
  {
   "cell_type": "code",
   "execution_count": null,
   "metadata": {},
   "outputs": [],
   "source": [
    "ax = WA.plot.bar(\"Date\",\"Confirmed\")\n",
    "xlabels = WA[\"Date\"].apply(lambda x: x.strftime(\"%B %d\"))\n",
    "ax.set_xticklabels(xlabels)\n",
    "plt.ylabel(\"Number of cases\")\n",
    "plt.title(\"Western Australian Covid-19 Confirmed Cases\")\n",
    "plt.show()"
   ]
  },
  {
   "cell_type": "markdown",
   "metadata": {},
   "source": [
    "We are also interested in the number of recoveries. We could plot those separately, but by plotting them together, we can get an idea of the _proportion_ of recoveries so far.\n",
    "\n",
    "Without arguments, Dataframe's plot function will try to plot all columns on the same graph:"
   ]
  },
  {
   "cell_type": "code",
   "execution_count": null,
   "metadata": {},
   "outputs": [],
   "source": [
    "ax = WA.plot.bar()\n",
    "plt.show()"
   ]
  },
  {
   "cell_type": "markdown",
   "metadata": {},
   "source": [
    "To overcome this problem, we'll create a temporary dataframe by filtering out just those (numerical) columns that we want:"
   ]
  },
  {
   "cell_type": "code",
   "execution_count": null,
   "metadata": {},
   "outputs": [],
   "source": [
    "WA_totals = WA.filter([\"Confirmed\", \"Recovered\", \"Deaths\"])\n",
    "ax = WA_totals.plot.bar()\n",
    "plt.show()"
   ]
  },
  {
   "cell_type": "markdown",
   "metadata": {},
   "source": [
    "Let's try a different state with more data."
   ]
  },
  {
   "cell_type": "code",
   "execution_count": null,
   "metadata": {},
   "outputs": [],
   "source": [
    "NSW = auscovid.loc[(auscovid[\"State\"] == \"New South Wales\") & (auscovid[\"Confirmed\"]>0)]\n",
    "NSW.tail(3)"
   ]
  },
  {
   "cell_type": "code",
   "execution_count": null,
   "metadata": {},
   "outputs": [],
   "source": [
    "NSW_totals = NSW.filter([\"Confirmed\", \"Recovered\", \"Deaths\"])\n",
    "ax = NSW_totals.plot.bar()\n",
    "xlabels = NSW[\"Date\"].apply(lambda x: x.strftime(\"%B %d\"))\n",
    "ax.set_xticklabels(xlabels)\n",
    "plt.ylabel(\"Number of cases\")\n",
    "plt.title(\"NSW Covid-19 Cases\")\n",
    "plt.show()"
   ]
  },
  {
   "cell_type": "code",
   "execution_count": null,
   "metadata": {},
   "outputs": [],
   "source": [
    "ax = NSW_totals.plot.bar(figsize=(10,2))\n",
    "ax.set_xticklabels(xlabels)\n",
    "plt.ylabel(\"Number of cases\")\n",
    "plt.title(\"NSW Covid-19 Cases\")\n",
    "plt.show()"
   ]
  },
  {
   "cell_type": "markdown",
   "metadata": {},
   "source": [
    "It's getting too crowded to show by day. We could try showing by week.\n",
    "\n",
    "Let's use a list comprehension to get the day names and pick out the sundays:"
   ]
  },
  {
   "cell_type": "code",
   "execution_count": null,
   "metadata": {},
   "outputs": [],
   "source": [
    "[x.day_name() for x in NSW[\"Date\"]][0:10]"
   ]
  },
  {
   "cell_type": "code",
   "execution_count": null,
   "metadata": {},
   "outputs": [],
   "source": [
    "[x.day_name() == 'Sunday' for x in NSW[\"Date\"]][0:10]"
   ]
  },
  {
   "cell_type": "code",
   "execution_count": null,
   "metadata": {},
   "outputs": [],
   "source": [
    "NSW_sundays = NSW.loc[[x.day_name() == 'Sunday' for x in NSW[\"Date\"]]]\n",
    "NSW_totals = NSW_sundays.filter([\"Confirmed\", \"Recovered\", \"Deaths\"])\n",
    "ax = NSW_totals.plot.bar(figsize=(6,4))\n",
    "ax.set_xticklabels(NSW_sundays[\"Date\"].apply(lambda x: x.strftime(\"%B %d\")))\n",
    "plt.ylabel(\"Number of cases\")\n",
    "plt.title(\"NSW Covid-19 Cases by Week\")\n",
    "plt.show()"
   ]
  },
  {
   "cell_type": "markdown",
   "metadata": {},
   "source": [
    "We'd like to have a look at every state. Rather than \"manually\" coding for each state individually, we would like an efficient way to look at them all. \n",
    "\n",
    "Pandas provides a very useful class for just this kind of problem. It's called `GroupBy`."
   ]
  },
  {
   "cell_type": "markdown",
   "metadata": {},
   "source": [
    "## Using GroupBy"
   ]
  },
  {
   "cell_type": "code",
   "execution_count": null,
   "metadata": {},
   "outputs": [],
   "source": [
    "states = auscovid.groupby(\"State\")\n",
    "states.tail(2)"
   ]
  },
  {
   "cell_type": "markdown",
   "metadata": {},
   "source": [
    "A little more data cleaning..."
   ]
  },
  {
   "cell_type": "code",
   "execution_count": null,
   "metadata": {},
   "outputs": [],
   "source": [
    "auscovid = covid.loc[(covid[\"Country\"] == \"Australia\") & \n",
    "                     (covid[\"State\"] != \"From Diamond Princess\")]\n",
    "states = auscovid.groupby(\"State\")\n",
    "states.head(2)"
   ]
  },
  {
   "cell_type": "code",
   "execution_count": null,
   "metadata": {},
   "outputs": [],
   "source": [
    "states.max()"
   ]
  },
  {
   "cell_type": "markdown",
   "metadata": {},
   "source": [
    "We can now very efficiently answer our earlier question!"
   ]
  },
  {
   "cell_type": "code",
   "execution_count": null,
   "metadata": {},
   "outputs": [],
   "source": [
    "states.max()[\"Confirmed\"].idxmin()"
   ]
  },
  {
   "cell_type": "code",
   "execution_count": null,
   "metadata": {},
   "outputs": [],
   "source": [
    "states.max().loc[states.max()[\"Confirmed\"].idxmin()]"
   ]
  },
  {
   "cell_type": "markdown",
   "metadata": {},
   "source": [
    "But hang on. Is the State still a field (column) or not?\n",
    "\n",
    "This makes it look like it is:"
   ]
  },
  {
   "cell_type": "code",
   "execution_count": null,
   "metadata": {},
   "outputs": [],
   "source": [
    "states.head(2)"
   ]
  },
  {
   "cell_type": "markdown",
   "metadata": {},
   "source": [
    "But this suggests it's not - rather that it's an index:"
   ]
  },
  {
   "cell_type": "code",
   "execution_count": null,
   "metadata": {},
   "outputs": [],
   "source": [
    "states.max()"
   ]
  },
  {
   "cell_type": "markdown",
   "metadata": {},
   "source": [
    "Actually neither is quite right. Let's step back and have another look at GroupBy.\n",
    "\n",
    "GroupBy can be a little confusing. The `head` example looks like it might consist of a new Dataframe with the rows grouped. But lets have a look..."
   ]
  },
  {
   "cell_type": "code",
   "execution_count": null,
   "metadata": {},
   "outputs": [],
   "source": [
    "type(states)"
   ]
  },
  {
   "cell_type": "code",
   "execution_count": null,
   "metadata": {},
   "outputs": [],
   "source": [
    "print(states)"
   ]
  },
  {
   "cell_type": "code",
   "execution_count": null,
   "metadata": {},
   "outputs": [],
   "source": [
    "print(WA)"
   ]
  },
  {
   "cell_type": "markdown",
   "metadata": {},
   "source": [
    "They are quite different. \n",
    "\n",
    "Methods like `head` and `max` create a _view_ on the GroupBy object. In many cases (including head and max) that view is returned as a dataframe."
   ]
  },
  {
   "cell_type": "code",
   "execution_count": null,
   "metadata": {},
   "outputs": [],
   "source": [
    "type(states.max())"
   ]
  },
  {
   "cell_type": "markdown",
   "metadata": {},
   "source": [
    "So what's inside a GroupBy object? Perhaps the most revealing view is provided by the `groups` method which gives us a _dictionary_ view of the object:"
   ]
  },
  {
   "cell_type": "code",
   "execution_count": null,
   "metadata": {},
   "outputs": [],
   "source": [
    "states.groups"
   ]
  },
  {
   "cell_type": "markdown",
   "metadata": {},
   "source": [
    "It maps keys to an [`Index` object](https://pandas.pydata.org/pandas-docs/version/0.25.3/reference/api/pandas.Int64Index.html#pandas.Int64Index) (specifically an `Int64Index`, but no need to remember that name).\n",
    "\n",
    "The states are the keys:"
   ]
  },
  {
   "cell_type": "code",
   "execution_count": null,
   "metadata": {},
   "outputs": [],
   "source": [
    "states.groups.keys()"
   ]
  },
  {
   "cell_type": "markdown",
   "metadata": {},
   "source": [
    "The Index in turn indexes the rows of the original dataframe."
   ]
  },
  {
   "cell_type": "code",
   "execution_count": null,
   "metadata": {},
   "outputs": [],
   "source": [
    "auscovid.loc[states.groups[\"Tasmania\"][0]]"
   ]
  },
  {
   "cell_type": "markdown",
   "metadata": {},
   "source": [
    "But we rarely need to dig into that level of detail! Methods are provided to access the data in the most commonly used ways - typically as dataframes."
   ]
  },
  {
   "cell_type": "code",
   "execution_count": null,
   "metadata": {},
   "outputs": [],
   "source": [
    "states.get_group(\"Tasmania\").head(1)"
   ]
  },
  {
   "cell_type": "markdown",
   "metadata": {},
   "source": [
    "So back to our question about the State as a column. We know it's stored in the GroupBy object as an key. Whenter it _appears_ as a column depends on whether the _method_ that creates the view includes it.\n",
    "\n",
    "In the case of `get_group`, it doesn't (by default)."
   ]
  },
  {
   "cell_type": "code",
   "execution_count": null,
   "metadata": {},
   "outputs": [],
   "source": [
    "states.get_group(\"Tasmania\")"
   ]
  },
  {
   "cell_type": "markdown",
   "metadata": {},
   "source": [
    "This can be changed using the `as_index` attribute."
   ]
  },
  {
   "cell_type": "code",
   "execution_count": null,
   "metadata": {},
   "outputs": [],
   "source": [
    "states2 = auscovid.groupby(\"State\", as_index=False)\n",
    "states2.get_group(\"Tasmania\").head(1)"
   ]
  },
  {
   "cell_type": "markdown",
   "metadata": {},
   "source": [
    "(Note that there appears to be a bug in the way GroupBy sets as_index and group_keys in the current version.)"
   ]
  },
  {
   "cell_type": "markdown",
   "metadata": {},
   "source": [
    "### Plotting all states"
   ]
  },
  {
   "cell_type": "markdown",
   "metadata": {},
   "source": [
    "Now that we're familiar with GroupBy, let's use it to plot the data for all the states. \n",
    "\n",
    "As usual there are a number of ways we could do this. And as is often the case, one of the simplest and best is to use an iterator. "
   ]
  },
  {
   "cell_type": "code",
   "execution_count": null,
   "metadata": {},
   "outputs": [],
   "source": [
    "for name, group in states:\n",
    "    print(name)\n",
    "    print(group.head(2),\"\\n\")   "
   ]
  },
  {
   "cell_type": "code",
   "execution_count": null,
   "metadata": {},
   "outputs": [],
   "source": [
    "for name, group in states:\n",
    "    print(type(name))\n",
    "    print(type(group))"
   ]
  },
  {
   "cell_type": "code",
   "execution_count": null,
   "metadata": {},
   "outputs": [],
   "source": [
    "def weekly_barplot (statename, statedata):\n",
    "    state_sundays = statedata.loc[[x.day_name() == 'Sunday' for x in statedata[\"Date\"]]]\n",
    "    state_totals = state_sundays.filter([\"Confirmed\", \"Recovered\", \"Deaths\"])\n",
    "    ax = state_totals.plot.bar(figsize=(3,2))\n",
    "    ax.set_xticklabels(state_sundays[\"Date\"].apply(lambda x: x.strftime(\"%B %d\")))\n",
    "    plt.ylabel(\"Number of cases\")\n",
    "    plt.title(statename + \" Covid-19 Cases by Week\")\n",
    "    plt.show()"
   ]
  },
  {
   "cell_type": "code",
   "execution_count": null,
   "metadata": {},
   "outputs": [],
   "source": [
    "for name, group in states:\n",
    "    weekly_barplot(name, group)"
   ]
  },
  {
   "cell_type": "markdown",
   "metadata": {},
   "source": [
    "The ease of doing this shows the power of these data structures! \n",
    "\n",
    "However, it's a bit messy - we could make it cleaner using subplots.\n",
    "\n",
    "Also, its a bit visually misleading because the scales are different. ACT and NSW look kind of the same though they are vastly different in scale.\n",
    "\n",
    "We ought to make the y-axis consistent."
   ]
  },
  {
   "cell_type": "markdown",
   "metadata": {},
   "source": [
    "### Using subplots"
   ]
  },
  {
   "cell_type": "markdown",
   "metadata": {},
   "source": [
    "> _Q: If we're going to use an iterator (loop) to generate the plots in a subplot, where must the figure reside?_\n",
    "\n",
    ">_How will the loop know which subplot to use?_\n",
    "\n",
    ">_If we use a function for the 'repeated bits', what must be passed to the function?_"
   ]
  },
  {
   "cell_type": "markdown",
   "metadata": {},
   "source": [
    "Let's do it in parts then we'll put it all together.\n",
    "\n",
    "We'll plot all states starting at the first confirmed Austrlian case."
   ]
  },
  {
   "cell_type": "code",
   "execution_count": null,
   "metadata": {},
   "outputs": [],
   "source": [
    "aus_first = auscovid[auscovid[\"Confirmed\"] > 0][\"Date\"].min()\n",
    "aus_first"
   ]
  },
  {
   "cell_type": "code",
   "execution_count": null,
   "metadata": {},
   "outputs": [],
   "source": [
    "aus_nz = auscovid[auscovid[\"Date\"] >= aus_first]\n",
    "aus_nz.head(3)\n"
   ]
  },
  {
   "cell_type": "code",
   "execution_count": null,
   "metadata": {},
   "outputs": [],
   "source": [
    "states = aus_nz.groupby(\"State\")"
   ]
  },
  {
   "cell_type": "code",
   "execution_count": null,
   "metadata": {},
   "outputs": [],
   "source": [
    "# Work out the size of the subplot, assuming two side by side in each row\n",
    "numstates = len(states.groups)\n",
    "numrows = int(round(np.ceil(numstates/2.0))) "
   ]
  },
  {
   "cell_type": "markdown",
   "metadata": {},
   "source": [
    "Why do we use ceil?"
   ]
  },
  {
   "cell_type": "code",
   "execution_count": null,
   "metadata": {},
   "outputs": [],
   "source": [
    "# Set up reasonable sized subplots\n",
    "fig, axs = plt.subplots(numrows, 2, figsize=(8,4*numrows)) # length of figure depends on number of rows"
   ]
  },
  {
   "cell_type": "code",
   "execution_count": null,
   "metadata": {},
   "outputs": [],
   "source": [
    "# Iterate through the states, and pick out the right subplot\n",
    "position = 0\n",
    "for name, group in states:\n",
    "    print(np.divmod(position,2))\n",
    "    position = position + 1"
   ]
  },
  {
   "cell_type": "code",
   "execution_count": null,
   "metadata": {},
   "outputs": [],
   "source": [
    "# Iterate through the states, and pick out the right subplot\n",
    "fig, axs = plt.subplots(numrows, 2, figsize=(8,4*numrows)) # length of figure depends on number of rowsposition = 0\n",
    "position = 0\n",
    "for name, group in states:\n",
    "    (row, col) = np.divmod(position,2)\n",
    "    axs[row, col].set_title(name)\n",
    "    position = position + 1\n",
    "plt.show()"
   ]
  },
  {
   "cell_type": "markdown",
   "metadata": {},
   "source": [
    "👍\n",
    "\n",
    "Let's add some data..."
   ]
  },
  {
   "cell_type": "code",
   "execution_count": null,
   "metadata": {},
   "outputs": [],
   "source": [
    "# Iterate through the states, and pick out the right subplot\n",
    "fig, axs = plt.subplots(numrows, 2, figsize=(8,4*numrows)) # length of figure depends on number of rowsposition = 0\n",
    "position = 0\n",
    "for statename, statedata in states:\n",
    "    (row, col) = np.divmod(position,2)\n",
    "    \n",
    "    state_sundays = statedata.loc[[x.day_name() == 'Sunday' for x in statedata[\"Date\"]]]\n",
    "\n",
    "    # Add each column to the plot \n",
    "    xs = np.arange(len(state_sundays))\n",
    "    width = 0.3\n",
    "    axs[row, col].bar(xs-width, state_sundays[\"Confirmed\"], width)\n",
    "    axs[row, col].bar(xs, state_sundays[\"Recovered\"], width)\n",
    "    axs[row, col].bar(xs+width, state_sundays[\"Deaths\"],width)\n",
    "    \n",
    "    axs[row, col].set_title(statename)\n",
    "    position = position + 1\n",
    "plt.show()"
   ]
  },
  {
   "cell_type": "markdown",
   "metadata": {},
   "source": [
    "We can deal with scale issue by sharing plotting on shared axes:"
   ]
  },
  {
   "cell_type": "code",
   "execution_count": null,
   "metadata": {},
   "outputs": [],
   "source": [
    "# Iterate through the states, and pick out the right subplot\n",
    "# Share axes to give common scale\n",
    "fig, axs = plt.subplots(numrows, 2, figsize=(8,4*numrows), sharex='all', sharey='all') # length of figure depends on number of rowsposition = 0\n",
    "position = 0\n",
    "for statename, statedata in states:\n",
    "    (row, col) = np.divmod(position,2)\n",
    "    \n",
    "    state_sundays = statedata.loc[[x.day_name() == 'Sunday' for x in statedata[\"Date\"]]]\n",
    "\n",
    "    # Add each column to the plot \n",
    "    xs = np.arange(len(state_sundays))\n",
    "    width = 0.3\n",
    "    axs[row, col].bar(xs-width, state_sundays[\"Confirmed\"], width)\n",
    "    axs[row, col].bar(xs, state_sundays[\"Recovered\"], width)\n",
    "    axs[row, col].bar(xs+width, state_sundays[\"Deaths\"],width)\n",
    "    \n",
    "    axs[row, col].set_title(statename)\n",
    "    position = position + 1\n",
    "plt.show()"
   ]
  },
  {
   "cell_type": "code",
   "execution_count": null,
   "metadata": {},
   "outputs": [],
   "source": [
    "# Full code, with all the bells and whistles\n",
    "\n",
    "# Get data by state since first Australian occurrence\n",
    "aus_first = auscovid[auscovid[\"Confirmed\"] > 0][\"Date\"].min()\n",
    "aus_nz = auscovid[auscovid[\"Date\"] >= aus_first]\n",
    "states = aus_nz.groupby(\"State\")\n",
    "numstates = len(states.groups)\n",
    "numrows = int(round(np.ceil(numstates/2.0))) \n",
    "\n",
    "# Set up subplots and position 'pointer'\n",
    "fig, axs = plt.subplots(numrows, 2, figsize=(8,4*numrows), sharex='all', sharey='all') # length of figure depends on number of rowsposition = 0\n",
    "position = 0\n",
    "\n",
    "# Iterate through each state/plot\n",
    "for statename, statedata in states:\n",
    "    (row, col) = np.divmod(position,2)\n",
    "    position = position + 1\n",
    "    \n",
    "    # Extract sunday numbers\n",
    "    state_sundays = statedata.loc[[x.day_name() == 'Sunday' for x in statedata[\"Date\"]]]\n",
    "\n",
    "    # Add each column to the plot \n",
    "    xs = np.arange(len(state_sundays))\n",
    "    width = 0.3\n",
    "    axs[row, col].bar(xs-width, state_sundays[\"Confirmed\"], width, label=\"Confirmed\")\n",
    "    axs[row, col].bar(xs, state_sundays[\"Recovered\"], width, label=\"Recovered\")\n",
    "    axs[row, col].bar(xs+width, state_sundays[\"Deaths\"],width, label=\"Deaths\")\n",
    "    \n",
    "    # Label individual plot\n",
    "    axs[row, col].set_title(statename)\n",
    "    axs[row, col].legend(loc='upper left')\n",
    "    if row == numrows-1:\n",
    "        axs[row, col].set_xlabel(\"Days since first Australian case\")\n",
    "    if col == 0:\n",
    "        axs[row, col].set_ylabel(\"Number of cases\")\n",
    "\n",
    "# Set overall figure title and show figure\n",
    "fig.suptitle(\"Total Weekly Australian Covid-19 Cases by State\")\n",
    "fig.subplots_adjust(top=0.94) # cludge to get suptitle at the right height\n",
    "plt.show()"
   ]
  },
  {
   "cell_type": "markdown",
   "metadata": {},
   "source": [
    "We've answered the first two questions. Let's use a function to make it cleaner.\n",
    "\n",
    "More importantly, notice that most of what is in the loop is independent of the specific country. _Can we make a function that will work for any country without writing it all again?_"
   ]
  },
  {
   "cell_type": "code",
   "execution_count": null,
   "metadata": {},
   "outputs": [],
   "source": []
  },
  {
   "cell_type": "code",
   "execution_count": null,
   "metadata": {},
   "outputs": [],
   "source": [
    "def weekly_barsubplot (statename, statedata, axis):\n",
    "    sundays = statedata.loc[[x.day_name() == 'Sunday' for x in statedata[\"Date\"]]]\n",
    "    numbers = sundays.filter([\"Confirmed\", \"Recovered\", \"Deaths\"])\n",
    "    axis.bar(np.arange(len(sundays)), numbers)\n",
    "    axis.set_xticklabels(sundays[\"Date\"].apply(lambda x: x.strftime(\"%B %d\")))\n",
    "    plt.ylabel(\"Number of cases\")\n",
    "    plt.title(statename + \" Covid-19 Cases by Week\")\n",
    "    plt.show()"
   ]
  },
  {
   "cell_type": "code",
   "execution_count": null,
   "metadata": {},
   "outputs": [],
   "source": []
  },
  {
   "cell_type": "code",
   "execution_count": null,
   "metadata": {},
   "outputs": [],
   "source": []
  },
  {
   "cell_type": "code",
   "execution_count": null,
   "metadata": {},
   "outputs": [],
   "source": []
  },
  {
   "cell_type": "code",
   "execution_count": null,
   "metadata": {},
   "outputs": [],
   "source": []
  },
  {
   "cell_type": "markdown",
   "metadata": {},
   "source": [
    "Alternatively we can use `apply` to apply a function to the whole GroupBy object, one dataframe at a time.\n",
    "\n",
    "Unfortunately its a little messy:\n",
    "* We need the function to access the state name, but GroupBy by default strips this out and uses it as an index to the rest of the data.\n",
    "* Apply only applies to the remaining data.\n",
    "* You could be mistaken for thinking this is not the case, since some methods, like `head`, `max` above, print the index value as if it were the \"State\" field.\n",
    "* Note that `get_group`, however, does not!\n",
    "\n",
    "Yuck.\n",
    "\n",
    "However there is a fix. Setting `as_index` to false maintains the column (in an 'SQL-style' output). Counterintuitively it _does_ still use the column as the index ("
   ]
  },
  {
   "cell_type": "code",
   "execution_count": null,
   "metadata": {},
   "outputs": [],
   "source": [
    "def weekly_barplot2 (statedata):\n",
    "    print(statedata.index)\n",
    "#    state = statedata[\"State\"].iat[0]\n",
    "    sundays = statedata.loc[[x.day_name() == 'Sunday' for x in statedata[\"Date\"]]]\n",
    "    numbers = sundays.filter([\"Confirmed\", \"Recovered\", \"Deaths\"])\n",
    "    ax = numbers.plot.bar(figsize=(3,2))\n",
    "    ax.set_xticklabels(sundays[\"Date\"].apply(lambda x: x.strftime(\"%B %d\")))\n",
    "    plt.ylabel(\"Number of cases\")\n",
    "    plt.title(state + \" Covid-19 Cases by Week\")\n",
    "    plt.show()"
   ]
  },
  {
   "cell_type": "code",
   "execution_count": null,
   "metadata": {},
   "outputs": [],
   "source": [
    "states.apply(weekly_barplot2)"
   ]
  },
  {
   "cell_type": "code",
   "execution_count": null,
   "metadata": {},
   "outputs": [],
   "source": [
    "states.head(2)"
   ]
  },
  {
   "cell_type": "markdown",
   "metadata": {},
   "source": [
    "## New Data Format\n",
    "\n",
    "In this part we'll make use of yet another data format provided by CSSE at [John Hopkins Univeristy](https://github.com/CSSEGISandData/COVID-19). CSSE warned of [upcoming changes](https://github.com/CSSEGISandData/COVID-19/issues/1250) to their data structures on 22/3/2020. Using this format gives quickest access to the data.\n",
    "\n",
    "Let's jump straight in."
   ]
  },
  {
   "cell_type": "code",
   "execution_count": 205,
   "metadata": {},
   "outputs": [
    {
     "data": {
      "text/html": [
       "<div>\n",
       "<style scoped>\n",
       "    .dataframe tbody tr th:only-of-type {\n",
       "        vertical-align: middle;\n",
       "    }\n",
       "\n",
       "    .dataframe tbody tr th {\n",
       "        vertical-align: top;\n",
       "    }\n",
       "\n",
       "    .dataframe thead th {\n",
       "        text-align: right;\n",
       "    }\n",
       "</style>\n",
       "<table border=\"1\" class=\"dataframe\">\n",
       "  <thead>\n",
       "    <tr style=\"text-align: right;\">\n",
       "      <th></th>\n",
       "      <th>State</th>\n",
       "      <th>Country</th>\n",
       "      <th>Lat</th>\n",
       "      <th>Long</th>\n",
       "      <th>1/22/20</th>\n",
       "      <th>1/23/20</th>\n",
       "      <th>1/24/20</th>\n",
       "      <th>1/25/20</th>\n",
       "      <th>1/26/20</th>\n",
       "      <th>1/27/20</th>\n",
       "      <th>...</th>\n",
       "      <th>3/19/20</th>\n",
       "      <th>3/20/20</th>\n",
       "      <th>3/21/20</th>\n",
       "      <th>3/22/20</th>\n",
       "      <th>3/23/20</th>\n",
       "      <th>3/24/20</th>\n",
       "      <th>3/25/20</th>\n",
       "      <th>3/26/20</th>\n",
       "      <th>3/27/20</th>\n",
       "      <th>3/28/20</th>\n",
       "    </tr>\n",
       "  </thead>\n",
       "  <tbody>\n",
       "    <tr>\n",
       "      <td>0</td>\n",
       "      <td>NaN</td>\n",
       "      <td>Afghanistan</td>\n",
       "      <td>33.0000</td>\n",
       "      <td>65.0000</td>\n",
       "      <td>0</td>\n",
       "      <td>0</td>\n",
       "      <td>0</td>\n",
       "      <td>0</td>\n",
       "      <td>0</td>\n",
       "      <td>0</td>\n",
       "      <td>...</td>\n",
       "      <td>22</td>\n",
       "      <td>24</td>\n",
       "      <td>24</td>\n",
       "      <td>40</td>\n",
       "      <td>40</td>\n",
       "      <td>74</td>\n",
       "      <td>84</td>\n",
       "      <td>94</td>\n",
       "      <td>110</td>\n",
       "      <td>110</td>\n",
       "    </tr>\n",
       "    <tr>\n",
       "      <td>1</td>\n",
       "      <td>NaN</td>\n",
       "      <td>Albania</td>\n",
       "      <td>41.1533</td>\n",
       "      <td>20.1683</td>\n",
       "      <td>0</td>\n",
       "      <td>0</td>\n",
       "      <td>0</td>\n",
       "      <td>0</td>\n",
       "      <td>0</td>\n",
       "      <td>0</td>\n",
       "      <td>...</td>\n",
       "      <td>64</td>\n",
       "      <td>70</td>\n",
       "      <td>76</td>\n",
       "      <td>89</td>\n",
       "      <td>104</td>\n",
       "      <td>123</td>\n",
       "      <td>146</td>\n",
       "      <td>174</td>\n",
       "      <td>186</td>\n",
       "      <td>197</td>\n",
       "    </tr>\n",
       "    <tr>\n",
       "      <td>2</td>\n",
       "      <td>NaN</td>\n",
       "      <td>Algeria</td>\n",
       "      <td>28.0339</td>\n",
       "      <td>1.6596</td>\n",
       "      <td>0</td>\n",
       "      <td>0</td>\n",
       "      <td>0</td>\n",
       "      <td>0</td>\n",
       "      <td>0</td>\n",
       "      <td>0</td>\n",
       "      <td>...</td>\n",
       "      <td>87</td>\n",
       "      <td>90</td>\n",
       "      <td>139</td>\n",
       "      <td>201</td>\n",
       "      <td>230</td>\n",
       "      <td>264</td>\n",
       "      <td>302</td>\n",
       "      <td>367</td>\n",
       "      <td>409</td>\n",
       "      <td>454</td>\n",
       "    </tr>\n",
       "    <tr>\n",
       "      <td>3</td>\n",
       "      <td>NaN</td>\n",
       "      <td>Andorra</td>\n",
       "      <td>42.5063</td>\n",
       "      <td>1.5218</td>\n",
       "      <td>0</td>\n",
       "      <td>0</td>\n",
       "      <td>0</td>\n",
       "      <td>0</td>\n",
       "      <td>0</td>\n",
       "      <td>0</td>\n",
       "      <td>...</td>\n",
       "      <td>53</td>\n",
       "      <td>75</td>\n",
       "      <td>88</td>\n",
       "      <td>113</td>\n",
       "      <td>133</td>\n",
       "      <td>164</td>\n",
       "      <td>188</td>\n",
       "      <td>224</td>\n",
       "      <td>267</td>\n",
       "      <td>308</td>\n",
       "    </tr>\n",
       "    <tr>\n",
       "      <td>4</td>\n",
       "      <td>NaN</td>\n",
       "      <td>Angola</td>\n",
       "      <td>-11.2027</td>\n",
       "      <td>17.8739</td>\n",
       "      <td>0</td>\n",
       "      <td>0</td>\n",
       "      <td>0</td>\n",
       "      <td>0</td>\n",
       "      <td>0</td>\n",
       "      <td>0</td>\n",
       "      <td>...</td>\n",
       "      <td>0</td>\n",
       "      <td>1</td>\n",
       "      <td>2</td>\n",
       "      <td>2</td>\n",
       "      <td>3</td>\n",
       "      <td>3</td>\n",
       "      <td>3</td>\n",
       "      <td>4</td>\n",
       "      <td>4</td>\n",
       "      <td>5</td>\n",
       "    </tr>\n",
       "  </tbody>\n",
       "</table>\n",
       "<p>5 rows × 71 columns</p>\n",
       "</div>"
      ],
      "text/plain": [
       "  State      Country      Lat     Long  1/22/20  1/23/20  1/24/20  1/25/20  \\\n",
       "0   NaN  Afghanistan  33.0000  65.0000        0        0        0        0   \n",
       "1   NaN      Albania  41.1533  20.1683        0        0        0        0   \n",
       "2   NaN      Algeria  28.0339   1.6596        0        0        0        0   \n",
       "3   NaN      Andorra  42.5063   1.5218        0        0        0        0   \n",
       "4   NaN       Angola -11.2027  17.8739        0        0        0        0   \n",
       "\n",
       "   1/26/20  1/27/20  ...  3/19/20  3/20/20  3/21/20  3/22/20  3/23/20  \\\n",
       "0        0        0  ...       22       24       24       40       40   \n",
       "1        0        0  ...       64       70       76       89      104   \n",
       "2        0        0  ...       87       90      139      201      230   \n",
       "3        0        0  ...       53       75       88      113      133   \n",
       "4        0        0  ...        0        1        2        2        3   \n",
       "\n",
       "   3/24/20  3/25/20  3/26/20  3/27/20  3/28/20  \n",
       "0       74       84       94      110      110  \n",
       "1      123      146      174      186      197  \n",
       "2      264      302      367      409      454  \n",
       "3      164      188      224      267      308  \n",
       "4        3        3        4        4        5  \n",
       "\n",
       "[5 rows x 71 columns]"
      ]
     },
     "execution_count": 205,
     "metadata": {},
     "output_type": "execute_result"
    }
   ],
   "source": [
    "DATE = \"2020-03-28\"\n",
    "RAW_DATA = \"Data/\"\n",
    "CLEAN_DATA = \"Cleaned Data/\"\n",
    "JHU = \"csse_covid_19_time_series/\"\n",
    "CONFIRMED = \"time_series_covid19_confirmed_global\"\n",
    "DEATHS = \"time_series_covid19_deaths_global\"\n",
    "CSV = \".csv\"\n",
    "JSON = \".json\"\n",
    "# Due to changing data results may differ for data other than 2020-03-25\n",
    "\n",
    "def update_data (date=DATE):\n",
    "    confirmed = pd.read_csv(RAW_DATA+date+'/'+JHU+CONFIRMED+CSV)\n",
    "    deaths = pd.read_csv(RAW_DATA+date+'/'+JHU+DEATHS+CSV)\n",
    "    confirmed.rename(columns={\"Province/State\": \"State\", \"Country/Region\": \"Country\"}, \n",
    "                     inplace=True)\n",
    "    deaths.rename(columns={\"Province/State\": \"State\", \"Country/Region\": \"Country\"}, \n",
    "                     inplace=True)\n",
    "    return (confirmed, deaths)\n",
    "\n",
    "(confirmed, deaths) = update_data(\"2020-03-28\")\n",
    "confirmed.head()"
   ]
  },
  {
   "cell_type": "code",
   "execution_count": 155,
   "metadata": {},
   "outputs": [
    {
     "data": {
      "text/plain": [
       "State       object\n",
       "Country     object\n",
       "Lat        float64\n",
       "Long       float64\n",
       "1/22/20      int64\n",
       "            ...   \n",
       "3/24/20      int64\n",
       "3/25/20      int64\n",
       "3/26/20      int64\n",
       "3/27/20      int64\n",
       "3/28/20      int64\n",
       "Length: 71, dtype: object"
      ]
     },
     "execution_count": 155,
     "metadata": {},
     "output_type": "execute_result"
    }
   ],
   "source": [
    "confirmed.dtypes"
   ]
  },
  {
   "cell_type": "code",
   "execution_count": 156,
   "metadata": {},
   "outputs": [
    {
     "data": {
      "text/plain": [
       "[float,\n",
       " str,\n",
       " numpy.float64,\n",
       " numpy.float64,\n",
       " numpy.int64,\n",
       " numpy.int64,\n",
       " numpy.int64,\n",
       " numpy.int64,\n",
       " numpy.int64,\n",
       " numpy.int64]"
      ]
     },
     "execution_count": 156,
     "metadata": {},
     "output_type": "execute_result"
    }
   ],
   "source": [
    "[type(datum) for datum in confirmed.loc[0]][:10]"
   ]
  },
  {
   "cell_type": "code",
   "execution_count": 157,
   "metadata": {},
   "outputs": [
    {
     "data": {
      "text/plain": [
       "Index(['State', 'Country', 'Lat', 'Long', '1/22/20', '1/23/20', '1/24/20',\n",
       "       '1/25/20', '1/26/20', '1/27/20', '1/28/20', '1/29/20', '1/30/20',\n",
       "       '1/31/20', '2/1/20', '2/2/20', '2/3/20', '2/4/20', '2/5/20', '2/6/20',\n",
       "       '2/7/20', '2/8/20', '2/9/20', '2/10/20', '2/11/20', '2/12/20',\n",
       "       '2/13/20', '2/14/20', '2/15/20', '2/16/20', '2/17/20', '2/18/20',\n",
       "       '2/19/20', '2/20/20', '2/21/20', '2/22/20', '2/23/20', '2/24/20',\n",
       "       '2/25/20', '2/26/20', '2/27/20', '2/28/20', '2/29/20', '3/1/20',\n",
       "       '3/2/20', '3/3/20', '3/4/20', '3/5/20', '3/6/20', '3/7/20', '3/8/20',\n",
       "       '3/9/20', '3/10/20', '3/11/20', '3/12/20', '3/13/20', '3/14/20',\n",
       "       '3/15/20', '3/16/20', '3/17/20', '3/18/20', '3/19/20', '3/20/20',\n",
       "       '3/21/20', '3/22/20', '3/23/20', '3/24/20', '3/25/20', '3/26/20',\n",
       "       '3/27/20', '3/28/20'],\n",
       "      dtype='object')"
      ]
     },
     "execution_count": 157,
     "metadata": {},
     "output_type": "execute_result"
    }
   ],
   "source": [
    "confirmed.columns"
   ]
  },
  {
   "cell_type": "code",
   "execution_count": 158,
   "metadata": {},
   "outputs": [
    {
     "data": {
      "text/plain": [
       "Index(['1/22/20', '1/23/20', '1/24/20', '1/25/20', '1/26/20', '1/27/20',\n",
       "       '1/28/20', '1/29/20', '1/30/20', '1/31/20', '2/1/20', '2/2/20',\n",
       "       '2/3/20', '2/4/20', '2/5/20', '2/6/20', '2/7/20', '2/8/20', '2/9/20',\n",
       "       '2/10/20', '2/11/20', '2/12/20', '2/13/20', '2/14/20', '2/15/20',\n",
       "       '2/16/20', '2/17/20', '2/18/20', '2/19/20', '2/20/20', '2/21/20',\n",
       "       '2/22/20', '2/23/20', '2/24/20', '2/25/20', '2/26/20', '2/27/20',\n",
       "       '2/28/20', '2/29/20', '3/1/20', '3/2/20', '3/3/20', '3/4/20', '3/5/20',\n",
       "       '3/6/20', '3/7/20', '3/8/20', '3/9/20', '3/10/20', '3/11/20', '3/12/20',\n",
       "       '3/13/20', '3/14/20', '3/15/20', '3/16/20', '3/17/20', '3/18/20',\n",
       "       '3/19/20', '3/20/20', '3/21/20', '3/22/20', '3/23/20', '3/24/20',\n",
       "       '3/25/20', '3/26/20', '3/27/20', '3/28/20'],\n",
       "      dtype='object')"
      ]
     },
     "execution_count": 158,
     "metadata": {},
     "output_type": "execute_result"
    }
   ],
   "source": [
    "dates = confirmed.columns.drop([\"State\",\"Country\",\"Lat\",\"Long\"])\n",
    "dates"
   ]
  },
  {
   "cell_type": "code",
   "execution_count": 159,
   "metadata": {},
   "outputs": [
    {
     "data": {
      "text/html": [
       "<div>\n",
       "<style scoped>\n",
       "    .dataframe tbody tr th:only-of-type {\n",
       "        vertical-align: middle;\n",
       "    }\n",
       "\n",
       "    .dataframe tbody tr th {\n",
       "        vertical-align: top;\n",
       "    }\n",
       "\n",
       "    .dataframe thead th {\n",
       "        text-align: right;\n",
       "    }\n",
       "</style>\n",
       "<table border=\"1\" class=\"dataframe\">\n",
       "  <thead>\n",
       "    <tr style=\"text-align: right;\">\n",
       "      <th></th>\n",
       "      <th>1/22/20</th>\n",
       "      <th>1/23/20</th>\n",
       "      <th>1/24/20</th>\n",
       "      <th>1/25/20</th>\n",
       "      <th>1/26/20</th>\n",
       "      <th>1/27/20</th>\n",
       "      <th>1/28/20</th>\n",
       "      <th>1/29/20</th>\n",
       "      <th>1/30/20</th>\n",
       "      <th>1/31/20</th>\n",
       "      <th>...</th>\n",
       "      <th>3/19/20</th>\n",
       "      <th>3/20/20</th>\n",
       "      <th>3/21/20</th>\n",
       "      <th>3/22/20</th>\n",
       "      <th>3/23/20</th>\n",
       "      <th>3/24/20</th>\n",
       "      <th>3/25/20</th>\n",
       "      <th>3/26/20</th>\n",
       "      <th>3/27/20</th>\n",
       "      <th>3/28/20</th>\n",
       "    </tr>\n",
       "  </thead>\n",
       "  <tbody>\n",
       "    <tr>\n",
       "      <td>0</td>\n",
       "      <td>0</td>\n",
       "      <td>0</td>\n",
       "      <td>0</td>\n",
       "      <td>0</td>\n",
       "      <td>0</td>\n",
       "      <td>0</td>\n",
       "      <td>0</td>\n",
       "      <td>0</td>\n",
       "      <td>0</td>\n",
       "      <td>0</td>\n",
       "      <td>...</td>\n",
       "      <td>22</td>\n",
       "      <td>24</td>\n",
       "      <td>24</td>\n",
       "      <td>40</td>\n",
       "      <td>40</td>\n",
       "      <td>74</td>\n",
       "      <td>84</td>\n",
       "      <td>94</td>\n",
       "      <td>110</td>\n",
       "      <td>110</td>\n",
       "    </tr>\n",
       "    <tr>\n",
       "      <td>1</td>\n",
       "      <td>0</td>\n",
       "      <td>0</td>\n",
       "      <td>0</td>\n",
       "      <td>0</td>\n",
       "      <td>0</td>\n",
       "      <td>0</td>\n",
       "      <td>0</td>\n",
       "      <td>0</td>\n",
       "      <td>0</td>\n",
       "      <td>0</td>\n",
       "      <td>...</td>\n",
       "      <td>64</td>\n",
       "      <td>70</td>\n",
       "      <td>76</td>\n",
       "      <td>89</td>\n",
       "      <td>104</td>\n",
       "      <td>123</td>\n",
       "      <td>146</td>\n",
       "      <td>174</td>\n",
       "      <td>186</td>\n",
       "      <td>197</td>\n",
       "    </tr>\n",
       "    <tr>\n",
       "      <td>2</td>\n",
       "      <td>0</td>\n",
       "      <td>0</td>\n",
       "      <td>0</td>\n",
       "      <td>0</td>\n",
       "      <td>0</td>\n",
       "      <td>0</td>\n",
       "      <td>0</td>\n",
       "      <td>0</td>\n",
       "      <td>0</td>\n",
       "      <td>0</td>\n",
       "      <td>...</td>\n",
       "      <td>87</td>\n",
       "      <td>90</td>\n",
       "      <td>139</td>\n",
       "      <td>201</td>\n",
       "      <td>230</td>\n",
       "      <td>264</td>\n",
       "      <td>302</td>\n",
       "      <td>367</td>\n",
       "      <td>409</td>\n",
       "      <td>454</td>\n",
       "    </tr>\n",
       "    <tr>\n",
       "      <td>3</td>\n",
       "      <td>0</td>\n",
       "      <td>0</td>\n",
       "      <td>0</td>\n",
       "      <td>0</td>\n",
       "      <td>0</td>\n",
       "      <td>0</td>\n",
       "      <td>0</td>\n",
       "      <td>0</td>\n",
       "      <td>0</td>\n",
       "      <td>0</td>\n",
       "      <td>...</td>\n",
       "      <td>53</td>\n",
       "      <td>75</td>\n",
       "      <td>88</td>\n",
       "      <td>113</td>\n",
       "      <td>133</td>\n",
       "      <td>164</td>\n",
       "      <td>188</td>\n",
       "      <td>224</td>\n",
       "      <td>267</td>\n",
       "      <td>308</td>\n",
       "    </tr>\n",
       "    <tr>\n",
       "      <td>4</td>\n",
       "      <td>0</td>\n",
       "      <td>0</td>\n",
       "      <td>0</td>\n",
       "      <td>0</td>\n",
       "      <td>0</td>\n",
       "      <td>0</td>\n",
       "      <td>0</td>\n",
       "      <td>0</td>\n",
       "      <td>0</td>\n",
       "      <td>0</td>\n",
       "      <td>...</td>\n",
       "      <td>0</td>\n",
       "      <td>1</td>\n",
       "      <td>2</td>\n",
       "      <td>2</td>\n",
       "      <td>3</td>\n",
       "      <td>3</td>\n",
       "      <td>3</td>\n",
       "      <td>4</td>\n",
       "      <td>4</td>\n",
       "      <td>5</td>\n",
       "    </tr>\n",
       "  </tbody>\n",
       "</table>\n",
       "<p>5 rows × 67 columns</p>\n",
       "</div>"
      ],
      "text/plain": [
       "   1/22/20  1/23/20  1/24/20  1/25/20  1/26/20  1/27/20  1/28/20  1/29/20  \\\n",
       "0        0        0        0        0        0        0        0        0   \n",
       "1        0        0        0        0        0        0        0        0   \n",
       "2        0        0        0        0        0        0        0        0   \n",
       "3        0        0        0        0        0        0        0        0   \n",
       "4        0        0        0        0        0        0        0        0   \n",
       "\n",
       "   1/30/20  1/31/20  ...  3/19/20  3/20/20  3/21/20  3/22/20  3/23/20  \\\n",
       "0        0        0  ...       22       24       24       40       40   \n",
       "1        0        0  ...       64       70       76       89      104   \n",
       "2        0        0  ...       87       90      139      201      230   \n",
       "3        0        0  ...       53       75       88      113      133   \n",
       "4        0        0  ...        0        1        2        2        3   \n",
       "\n",
       "   3/24/20  3/25/20  3/26/20  3/27/20  3/28/20  \n",
       "0       74       84       94      110      110  \n",
       "1      123      146      174      186      197  \n",
       "2      264      302      367      409      454  \n",
       "3      164      188      224      267      308  \n",
       "4        3        3        4        4        5  \n",
       "\n",
       "[5 rows x 67 columns]"
      ]
     },
     "execution_count": 159,
     "metadata": {},
     "output_type": "execute_result"
    }
   ],
   "source": [
    "confirmed[dates].head()"
   ]
  },
  {
   "cell_type": "code",
   "execution_count": 160,
   "metadata": {},
   "outputs": [
    {
     "data": {
      "text/plain": [
       "DatetimeIndex(['2020-01-22', '2020-01-23', '2020-01-24', '2020-01-25',\n",
       "               '2020-01-26', '2020-01-27', '2020-01-28', '2020-01-29',\n",
       "               '2020-01-30', '2020-01-31', '2020-02-01', '2020-02-02',\n",
       "               '2020-02-03', '2020-02-04', '2020-02-05', '2020-02-06',\n",
       "               '2020-02-07', '2020-02-08', '2020-02-09', '2020-02-10',\n",
       "               '2020-02-11', '2020-02-12', '2020-02-13', '2020-02-14',\n",
       "               '2020-02-15', '2020-02-16', '2020-02-17', '2020-02-18',\n",
       "               '2020-02-19', '2020-02-20', '2020-02-21', '2020-02-22',\n",
       "               '2020-02-23', '2020-02-24', '2020-02-25', '2020-02-26',\n",
       "               '2020-02-27', '2020-02-28', '2020-02-29', '2020-03-01',\n",
       "               '2020-03-02', '2020-03-03', '2020-03-04', '2020-03-05',\n",
       "               '2020-03-06', '2020-03-07', '2020-03-08', '2020-03-09',\n",
       "               '2020-03-10', '2020-03-11', '2020-03-12', '2020-03-13',\n",
       "               '2020-03-14', '2020-03-15', '2020-03-16', '2020-03-17',\n",
       "               '2020-03-18', '2020-03-19', '2020-03-20', '2020-03-21',\n",
       "               '2020-03-22', '2020-03-23', '2020-03-24', '2020-03-25',\n",
       "               '2020-03-26', '2020-03-27', '2020-03-28'],\n",
       "              dtype='datetime64[ns]', freq=None)"
      ]
     },
     "execution_count": 160,
     "metadata": {},
     "output_type": "execute_result"
    }
   ],
   "source": [
    "datetimes = pd.DatetimeIndex(dates)\n",
    "datetimes"
   ]
  },
  {
   "cell_type": "markdown",
   "metadata": {},
   "source": [
    "### Australian data"
   ]
  },
  {
   "cell_type": "code",
   "execution_count": 161,
   "metadata": {},
   "outputs": [
    {
     "data": {
      "text/html": [
       "<div>\n",
       "<style scoped>\n",
       "    .dataframe tbody tr th:only-of-type {\n",
       "        vertical-align: middle;\n",
       "    }\n",
       "\n",
       "    .dataframe tbody tr th {\n",
       "        vertical-align: top;\n",
       "    }\n",
       "\n",
       "    .dataframe thead th {\n",
       "        text-align: right;\n",
       "    }\n",
       "</style>\n",
       "<table border=\"1\" class=\"dataframe\">\n",
       "  <thead>\n",
       "    <tr style=\"text-align: right;\">\n",
       "      <th></th>\n",
       "      <th>State</th>\n",
       "      <th>Country</th>\n",
       "      <th>Lat</th>\n",
       "      <th>Long</th>\n",
       "      <th>1/22/20</th>\n",
       "      <th>1/23/20</th>\n",
       "      <th>1/24/20</th>\n",
       "      <th>1/25/20</th>\n",
       "      <th>1/26/20</th>\n",
       "      <th>1/27/20</th>\n",
       "      <th>...</th>\n",
       "      <th>3/19/20</th>\n",
       "      <th>3/20/20</th>\n",
       "      <th>3/21/20</th>\n",
       "      <th>3/22/20</th>\n",
       "      <th>3/23/20</th>\n",
       "      <th>3/24/20</th>\n",
       "      <th>3/25/20</th>\n",
       "      <th>3/26/20</th>\n",
       "      <th>3/27/20</th>\n",
       "      <th>3/28/20</th>\n",
       "    </tr>\n",
       "  </thead>\n",
       "  <tbody>\n",
       "    <tr>\n",
       "      <td>8</td>\n",
       "      <td>Australian Capital Territory</td>\n",
       "      <td>Australia</td>\n",
       "      <td>-35.4735</td>\n",
       "      <td>149.0124</td>\n",
       "      <td>0</td>\n",
       "      <td>0</td>\n",
       "      <td>0</td>\n",
       "      <td>0</td>\n",
       "      <td>0</td>\n",
       "      <td>0</td>\n",
       "      <td>...</td>\n",
       "      <td>4</td>\n",
       "      <td>6</td>\n",
       "      <td>9</td>\n",
       "      <td>19</td>\n",
       "      <td>32</td>\n",
       "      <td>39</td>\n",
       "      <td>39</td>\n",
       "      <td>53</td>\n",
       "      <td>62</td>\n",
       "      <td>71</td>\n",
       "    </tr>\n",
       "    <tr>\n",
       "      <td>9</td>\n",
       "      <td>New South Wales</td>\n",
       "      <td>Australia</td>\n",
       "      <td>-33.8688</td>\n",
       "      <td>151.2093</td>\n",
       "      <td>0</td>\n",
       "      <td>0</td>\n",
       "      <td>0</td>\n",
       "      <td>0</td>\n",
       "      <td>3</td>\n",
       "      <td>4</td>\n",
       "      <td>...</td>\n",
       "      <td>307</td>\n",
       "      <td>353</td>\n",
       "      <td>436</td>\n",
       "      <td>669</td>\n",
       "      <td>669</td>\n",
       "      <td>818</td>\n",
       "      <td>1029</td>\n",
       "      <td>1219</td>\n",
       "      <td>1405</td>\n",
       "      <td>1617</td>\n",
       "    </tr>\n",
       "    <tr>\n",
       "      <td>10</td>\n",
       "      <td>Northern Territory</td>\n",
       "      <td>Australia</td>\n",
       "      <td>-12.4634</td>\n",
       "      <td>130.8456</td>\n",
       "      <td>0</td>\n",
       "      <td>0</td>\n",
       "      <td>0</td>\n",
       "      <td>0</td>\n",
       "      <td>0</td>\n",
       "      <td>0</td>\n",
       "      <td>...</td>\n",
       "      <td>1</td>\n",
       "      <td>3</td>\n",
       "      <td>3</td>\n",
       "      <td>5</td>\n",
       "      <td>5</td>\n",
       "      <td>6</td>\n",
       "      <td>6</td>\n",
       "      <td>12</td>\n",
       "      <td>12</td>\n",
       "      <td>15</td>\n",
       "    </tr>\n",
       "    <tr>\n",
       "      <td>11</td>\n",
       "      <td>Queensland</td>\n",
       "      <td>Australia</td>\n",
       "      <td>-28.0167</td>\n",
       "      <td>153.4000</td>\n",
       "      <td>0</td>\n",
       "      <td>0</td>\n",
       "      <td>0</td>\n",
       "      <td>0</td>\n",
       "      <td>0</td>\n",
       "      <td>0</td>\n",
       "      <td>...</td>\n",
       "      <td>144</td>\n",
       "      <td>184</td>\n",
       "      <td>221</td>\n",
       "      <td>259</td>\n",
       "      <td>319</td>\n",
       "      <td>397</td>\n",
       "      <td>443</td>\n",
       "      <td>493</td>\n",
       "      <td>555</td>\n",
       "      <td>625</td>\n",
       "    </tr>\n",
       "    <tr>\n",
       "      <td>12</td>\n",
       "      <td>South Australia</td>\n",
       "      <td>Australia</td>\n",
       "      <td>-34.9285</td>\n",
       "      <td>138.6007</td>\n",
       "      <td>0</td>\n",
       "      <td>0</td>\n",
       "      <td>0</td>\n",
       "      <td>0</td>\n",
       "      <td>0</td>\n",
       "      <td>0</td>\n",
       "      <td>...</td>\n",
       "      <td>42</td>\n",
       "      <td>50</td>\n",
       "      <td>67</td>\n",
       "      <td>100</td>\n",
       "      <td>134</td>\n",
       "      <td>170</td>\n",
       "      <td>170</td>\n",
       "      <td>235</td>\n",
       "      <td>257</td>\n",
       "      <td>287</td>\n",
       "    </tr>\n",
       "    <tr>\n",
       "      <td>13</td>\n",
       "      <td>Tasmania</td>\n",
       "      <td>Australia</td>\n",
       "      <td>-41.4545</td>\n",
       "      <td>145.9707</td>\n",
       "      <td>0</td>\n",
       "      <td>0</td>\n",
       "      <td>0</td>\n",
       "      <td>0</td>\n",
       "      <td>0</td>\n",
       "      <td>0</td>\n",
       "      <td>...</td>\n",
       "      <td>10</td>\n",
       "      <td>10</td>\n",
       "      <td>16</td>\n",
       "      <td>22</td>\n",
       "      <td>28</td>\n",
       "      <td>28</td>\n",
       "      <td>36</td>\n",
       "      <td>47</td>\n",
       "      <td>47</td>\n",
       "      <td>62</td>\n",
       "    </tr>\n",
       "    <tr>\n",
       "      <td>14</td>\n",
       "      <td>Victoria</td>\n",
       "      <td>Australia</td>\n",
       "      <td>-37.8136</td>\n",
       "      <td>144.9631</td>\n",
       "      <td>0</td>\n",
       "      <td>0</td>\n",
       "      <td>0</td>\n",
       "      <td>0</td>\n",
       "      <td>1</td>\n",
       "      <td>1</td>\n",
       "      <td>...</td>\n",
       "      <td>121</td>\n",
       "      <td>121</td>\n",
       "      <td>229</td>\n",
       "      <td>355</td>\n",
       "      <td>355</td>\n",
       "      <td>411</td>\n",
       "      <td>466</td>\n",
       "      <td>520</td>\n",
       "      <td>574</td>\n",
       "      <td>685</td>\n",
       "    </tr>\n",
       "    <tr>\n",
       "      <td>15</td>\n",
       "      <td>Western Australia</td>\n",
       "      <td>Australia</td>\n",
       "      <td>-31.9505</td>\n",
       "      <td>115.8605</td>\n",
       "      <td>0</td>\n",
       "      <td>0</td>\n",
       "      <td>0</td>\n",
       "      <td>0</td>\n",
       "      <td>0</td>\n",
       "      <td>0</td>\n",
       "      <td>...</td>\n",
       "      <td>52</td>\n",
       "      <td>64</td>\n",
       "      <td>90</td>\n",
       "      <td>120</td>\n",
       "      <td>140</td>\n",
       "      <td>175</td>\n",
       "      <td>175</td>\n",
       "      <td>231</td>\n",
       "      <td>231</td>\n",
       "      <td>278</td>\n",
       "    </tr>\n",
       "  </tbody>\n",
       "</table>\n",
       "<p>8 rows × 71 columns</p>\n",
       "</div>"
      ],
      "text/plain": [
       "                           State    Country      Lat      Long  1/22/20  \\\n",
       "8   Australian Capital Territory  Australia -35.4735  149.0124        0   \n",
       "9                New South Wales  Australia -33.8688  151.2093        0   \n",
       "10            Northern Territory  Australia -12.4634  130.8456        0   \n",
       "11                    Queensland  Australia -28.0167  153.4000        0   \n",
       "12               South Australia  Australia -34.9285  138.6007        0   \n",
       "13                      Tasmania  Australia -41.4545  145.9707        0   \n",
       "14                      Victoria  Australia -37.8136  144.9631        0   \n",
       "15             Western Australia  Australia -31.9505  115.8605        0   \n",
       "\n",
       "    1/23/20  1/24/20  1/25/20  1/26/20  1/27/20  ...  3/19/20  3/20/20  \\\n",
       "8         0        0        0        0        0  ...        4        6   \n",
       "9         0        0        0        3        4  ...      307      353   \n",
       "10        0        0        0        0        0  ...        1        3   \n",
       "11        0        0        0        0        0  ...      144      184   \n",
       "12        0        0        0        0        0  ...       42       50   \n",
       "13        0        0        0        0        0  ...       10       10   \n",
       "14        0        0        0        1        1  ...      121      121   \n",
       "15        0        0        0        0        0  ...       52       64   \n",
       "\n",
       "    3/21/20  3/22/20  3/23/20  3/24/20  3/25/20  3/26/20  3/27/20  3/28/20  \n",
       "8         9       19       32       39       39       53       62       71  \n",
       "9       436      669      669      818     1029     1219     1405     1617  \n",
       "10        3        5        5        6        6       12       12       15  \n",
       "11      221      259      319      397      443      493      555      625  \n",
       "12       67      100      134      170      170      235      257      287  \n",
       "13       16       22       28       28       36       47       47       62  \n",
       "14      229      355      355      411      466      520      574      685  \n",
       "15       90      120      140      175      175      231      231      278  \n",
       "\n",
       "[8 rows x 71 columns]"
      ]
     },
     "execution_count": 161,
     "metadata": {},
     "output_type": "execute_result"
    }
   ],
   "source": [
    "aus_confirmed = confirmed.loc[(confirmed[\"Country\"] == \"Australia\") & \n",
    "                     (confirmed[\"State\"] != \"From Diamond Princess\")]\n",
    "aus_confirmed"
   ]
  },
  {
   "cell_type": "code",
   "execution_count": 162,
   "metadata": {},
   "outputs": [
    {
     "data": {
      "text/plain": [
       "1/22/20       0\n",
       "1/23/20       0\n",
       "1/24/20       0\n",
       "1/25/20       0\n",
       "1/26/20       4\n",
       "           ... \n",
       "3/24/20    2044\n",
       "3/25/20    2364\n",
       "3/26/20    2810\n",
       "3/27/20    3143\n",
       "3/28/20    3640\n",
       "Length: 67, dtype: int64"
      ]
     },
     "execution_count": 162,
     "metadata": {},
     "output_type": "execute_result"
    }
   ],
   "source": [
    "aus_total = aus_confirmed[dates].sum()\n",
    "aus_total"
   ]
  },
  {
   "cell_type": "code",
   "execution_count": 163,
   "metadata": {},
   "outputs": [
    {
     "data": {
      "text/html": [
       "<div>\n",
       "<style scoped>\n",
       "    .dataframe tbody tr th:only-of-type {\n",
       "        vertical-align: middle;\n",
       "    }\n",
       "\n",
       "    .dataframe tbody tr th {\n",
       "        vertical-align: top;\n",
       "    }\n",
       "\n",
       "    .dataframe thead th {\n",
       "        text-align: right;\n",
       "    }\n",
       "</style>\n",
       "<table border=\"1\" class=\"dataframe\">\n",
       "  <thead>\n",
       "    <tr style=\"text-align: right;\">\n",
       "      <th></th>\n",
       "      <th>State</th>\n",
       "      <th>Country</th>\n",
       "      <th>Lat</th>\n",
       "      <th>Long</th>\n",
       "      <th>1/22/20</th>\n",
       "      <th>1/23/20</th>\n",
       "      <th>1/24/20</th>\n",
       "      <th>1/25/20</th>\n",
       "      <th>1/26/20</th>\n",
       "      <th>1/27/20</th>\n",
       "      <th>...</th>\n",
       "      <th>3/19/20</th>\n",
       "      <th>3/20/20</th>\n",
       "      <th>3/21/20</th>\n",
       "      <th>3/22/20</th>\n",
       "      <th>3/23/20</th>\n",
       "      <th>3/24/20</th>\n",
       "      <th>3/25/20</th>\n",
       "      <th>3/26/20</th>\n",
       "      <th>3/27/20</th>\n",
       "      <th>3/28/20</th>\n",
       "    </tr>\n",
       "  </thead>\n",
       "  <tbody>\n",
       "    <tr>\n",
       "      <td>8</td>\n",
       "      <td>Australian Capital Territory</td>\n",
       "      <td>Australia</td>\n",
       "      <td>-35.4735</td>\n",
       "      <td>149.0124</td>\n",
       "      <td>0</td>\n",
       "      <td>0</td>\n",
       "      <td>0</td>\n",
       "      <td>0</td>\n",
       "      <td>0</td>\n",
       "      <td>0</td>\n",
       "      <td>...</td>\n",
       "      <td>0</td>\n",
       "      <td>0</td>\n",
       "      <td>0</td>\n",
       "      <td>0</td>\n",
       "      <td>0</td>\n",
       "      <td>0</td>\n",
       "      <td>0</td>\n",
       "      <td>0</td>\n",
       "      <td>0</td>\n",
       "      <td>0</td>\n",
       "    </tr>\n",
       "    <tr>\n",
       "      <td>9</td>\n",
       "      <td>New South Wales</td>\n",
       "      <td>Australia</td>\n",
       "      <td>-33.8688</td>\n",
       "      <td>151.2093</td>\n",
       "      <td>0</td>\n",
       "      <td>0</td>\n",
       "      <td>0</td>\n",
       "      <td>0</td>\n",
       "      <td>0</td>\n",
       "      <td>0</td>\n",
       "      <td>...</td>\n",
       "      <td>5</td>\n",
       "      <td>6</td>\n",
       "      <td>6</td>\n",
       "      <td>6</td>\n",
       "      <td>6</td>\n",
       "      <td>7</td>\n",
       "      <td>7</td>\n",
       "      <td>7</td>\n",
       "      <td>7</td>\n",
       "      <td>8</td>\n",
       "    </tr>\n",
       "    <tr>\n",
       "      <td>10</td>\n",
       "      <td>Northern Territory</td>\n",
       "      <td>Australia</td>\n",
       "      <td>-12.4634</td>\n",
       "      <td>130.8456</td>\n",
       "      <td>0</td>\n",
       "      <td>0</td>\n",
       "      <td>0</td>\n",
       "      <td>0</td>\n",
       "      <td>0</td>\n",
       "      <td>0</td>\n",
       "      <td>...</td>\n",
       "      <td>0</td>\n",
       "      <td>0</td>\n",
       "      <td>0</td>\n",
       "      <td>0</td>\n",
       "      <td>0</td>\n",
       "      <td>0</td>\n",
       "      <td>0</td>\n",
       "      <td>0</td>\n",
       "      <td>0</td>\n",
       "      <td>0</td>\n",
       "    </tr>\n",
       "    <tr>\n",
       "      <td>11</td>\n",
       "      <td>Queensland</td>\n",
       "      <td>Australia</td>\n",
       "      <td>-28.0167</td>\n",
       "      <td>153.4000</td>\n",
       "      <td>0</td>\n",
       "      <td>0</td>\n",
       "      <td>0</td>\n",
       "      <td>0</td>\n",
       "      <td>0</td>\n",
       "      <td>0</td>\n",
       "      <td>...</td>\n",
       "      <td>0</td>\n",
       "      <td>0</td>\n",
       "      <td>0</td>\n",
       "      <td>0</td>\n",
       "      <td>0</td>\n",
       "      <td>0</td>\n",
       "      <td>0</td>\n",
       "      <td>1</td>\n",
       "      <td>1</td>\n",
       "      <td>1</td>\n",
       "    </tr>\n",
       "    <tr>\n",
       "      <td>12</td>\n",
       "      <td>South Australia</td>\n",
       "      <td>Australia</td>\n",
       "      <td>-34.9285</td>\n",
       "      <td>138.6007</td>\n",
       "      <td>0</td>\n",
       "      <td>0</td>\n",
       "      <td>0</td>\n",
       "      <td>0</td>\n",
       "      <td>0</td>\n",
       "      <td>0</td>\n",
       "      <td>...</td>\n",
       "      <td>0</td>\n",
       "      <td>0</td>\n",
       "      <td>0</td>\n",
       "      <td>0</td>\n",
       "      <td>0</td>\n",
       "      <td>0</td>\n",
       "      <td>0</td>\n",
       "      <td>0</td>\n",
       "      <td>0</td>\n",
       "      <td>0</td>\n",
       "    </tr>\n",
       "    <tr>\n",
       "      <td>13</td>\n",
       "      <td>Tasmania</td>\n",
       "      <td>Australia</td>\n",
       "      <td>-41.4545</td>\n",
       "      <td>145.9707</td>\n",
       "      <td>0</td>\n",
       "      <td>0</td>\n",
       "      <td>0</td>\n",
       "      <td>0</td>\n",
       "      <td>0</td>\n",
       "      <td>0</td>\n",
       "      <td>...</td>\n",
       "      <td>0</td>\n",
       "      <td>0</td>\n",
       "      <td>0</td>\n",
       "      <td>0</td>\n",
       "      <td>0</td>\n",
       "      <td>0</td>\n",
       "      <td>0</td>\n",
       "      <td>0</td>\n",
       "      <td>0</td>\n",
       "      <td>0</td>\n",
       "    </tr>\n",
       "    <tr>\n",
       "      <td>14</td>\n",
       "      <td>Victoria</td>\n",
       "      <td>Australia</td>\n",
       "      <td>-37.8136</td>\n",
       "      <td>144.9631</td>\n",
       "      <td>0</td>\n",
       "      <td>0</td>\n",
       "      <td>0</td>\n",
       "      <td>0</td>\n",
       "      <td>0</td>\n",
       "      <td>0</td>\n",
       "      <td>...</td>\n",
       "      <td>0</td>\n",
       "      <td>0</td>\n",
       "      <td>0</td>\n",
       "      <td>0</td>\n",
       "      <td>0</td>\n",
       "      <td>0</td>\n",
       "      <td>0</td>\n",
       "      <td>3</td>\n",
       "      <td>3</td>\n",
       "      <td>3</td>\n",
       "    </tr>\n",
       "    <tr>\n",
       "      <td>15</td>\n",
       "      <td>Western Australia</td>\n",
       "      <td>Australia</td>\n",
       "      <td>-31.9505</td>\n",
       "      <td>115.8605</td>\n",
       "      <td>0</td>\n",
       "      <td>0</td>\n",
       "      <td>0</td>\n",
       "      <td>0</td>\n",
       "      <td>0</td>\n",
       "      <td>0</td>\n",
       "      <td>...</td>\n",
       "      <td>1</td>\n",
       "      <td>1</td>\n",
       "      <td>1</td>\n",
       "      <td>1</td>\n",
       "      <td>1</td>\n",
       "      <td>1</td>\n",
       "      <td>1</td>\n",
       "      <td>2</td>\n",
       "      <td>2</td>\n",
       "      <td>2</td>\n",
       "    </tr>\n",
       "  </tbody>\n",
       "</table>\n",
       "<p>8 rows × 71 columns</p>\n",
       "</div>"
      ],
      "text/plain": [
       "                           State    Country      Lat      Long  1/22/20  \\\n",
       "8   Australian Capital Territory  Australia -35.4735  149.0124        0   \n",
       "9                New South Wales  Australia -33.8688  151.2093        0   \n",
       "10            Northern Territory  Australia -12.4634  130.8456        0   \n",
       "11                    Queensland  Australia -28.0167  153.4000        0   \n",
       "12               South Australia  Australia -34.9285  138.6007        0   \n",
       "13                      Tasmania  Australia -41.4545  145.9707        0   \n",
       "14                      Victoria  Australia -37.8136  144.9631        0   \n",
       "15             Western Australia  Australia -31.9505  115.8605        0   \n",
       "\n",
       "    1/23/20  1/24/20  1/25/20  1/26/20  1/27/20  ...  3/19/20  3/20/20  \\\n",
       "8         0        0        0        0        0  ...        0        0   \n",
       "9         0        0        0        0        0  ...        5        6   \n",
       "10        0        0        0        0        0  ...        0        0   \n",
       "11        0        0        0        0        0  ...        0        0   \n",
       "12        0        0        0        0        0  ...        0        0   \n",
       "13        0        0        0        0        0  ...        0        0   \n",
       "14        0        0        0        0        0  ...        0        0   \n",
       "15        0        0        0        0        0  ...        1        1   \n",
       "\n",
       "    3/21/20  3/22/20  3/23/20  3/24/20  3/25/20  3/26/20  3/27/20  3/28/20  \n",
       "8         0        0        0        0        0        0        0        0  \n",
       "9         6        6        6        7        7        7        7        8  \n",
       "10        0        0        0        0        0        0        0        0  \n",
       "11        0        0        0        0        0        1        1        1  \n",
       "12        0        0        0        0        0        0        0        0  \n",
       "13        0        0        0        0        0        0        0        0  \n",
       "14        0        0        0        0        0        3        3        3  \n",
       "15        1        1        1        1        1        2        2        2  \n",
       "\n",
       "[8 rows x 71 columns]"
      ]
     },
     "execution_count": 163,
     "metadata": {},
     "output_type": "execute_result"
    }
   ],
   "source": [
    "aus_deaths = deaths.loc[(deaths[\"Country\"] == \"Australia\") & \n",
    "                     (deaths[\"State\"] != \"From Diamond Princess\")]\n",
    "aus_deaths"
   ]
  },
  {
   "cell_type": "markdown",
   "metadata": {},
   "source": [
    "Start from the first recorded case..."
   ]
  },
  {
   "cell_type": "code",
   "execution_count": 164,
   "metadata": {},
   "outputs": [
    {
     "data": {
      "text/plain": [
       "1/22/20    False\n",
       "1/23/20    False\n",
       "1/24/20    False\n",
       "1/25/20    False\n",
       "1/26/20     True\n",
       "           ...  \n",
       "3/24/20     True\n",
       "3/25/20     True\n",
       "3/26/20     True\n",
       "3/27/20     True\n",
       "3/28/20     True\n",
       "Length: 67, dtype: bool"
      ]
     },
     "execution_count": 164,
     "metadata": {},
     "output_type": "execute_result"
    }
   ],
   "source": [
    "aus_confirmed[dates].any()"
   ]
  },
  {
   "cell_type": "code",
   "execution_count": 165,
   "metadata": {},
   "outputs": [
    {
     "data": {
      "text/plain": [
       "1/26/20    1/26/20\n",
       "1/27/20    1/27/20\n",
       "1/28/20    1/28/20\n",
       "1/29/20    1/29/20\n",
       "1/30/20    1/30/20\n",
       "dtype: object"
      ]
     },
     "execution_count": 165,
     "metadata": {},
     "output_type": "execute_result"
    }
   ],
   "source": [
    "aus_dates = dates.to_series()[aus_confirmed[dates].any()]\n",
    "aus_dates.head()"
   ]
  },
  {
   "cell_type": "code",
   "execution_count": 166,
   "metadata": {},
   "outputs": [
    {
     "data": {
      "text/plain": [
       "63"
      ]
     },
     "execution_count": 166,
     "metadata": {},
     "output_type": "execute_result"
    }
   ],
   "source": [
    "len(aus_dates)"
   ]
  },
  {
   "cell_type": "code",
   "execution_count": 167,
   "metadata": {},
   "outputs": [
    {
     "data": {
      "text/plain": [
       "State      Western Australia\n",
       "Country            Australia\n",
       "Lat                 -31.9505\n",
       "Long                 115.861\n",
       "1/22/20                    0\n",
       "1/23/20                    0\n",
       "1/24/20                    0\n",
       "Name: 15, dtype: object"
      ]
     },
     "execution_count": 167,
     "metadata": {},
     "output_type": "execute_result"
    }
   ],
   "source": [
    "WA_confirmed = aus_confirmed[(aus_confirmed[\"State\"] == \"Western Australia\")].squeeze()\n",
    "WA_deaths = aus_deaths[(aus_deaths[\"State\"] == \"Western Australia\")].squeeze()\n",
    "WA_confirmed.head(7)"
   ]
  },
  {
   "cell_type": "code",
   "execution_count": 168,
   "metadata": {},
   "outputs": [
    {
     "name": "stdout",
     "output_type": "stream",
     "text": [
      "<class 'pandas.core.series.Series'>\n",
      "<class 'pandas.core.series.Series'>\n"
     ]
    }
   ],
   "source": [
    "print(type(WA_confirmed))\n",
    "print(type(WA_confirmed[aus_dates]))"
   ]
  },
  {
   "cell_type": "code",
   "execution_count": 169,
   "metadata": {},
   "outputs": [
    {
     "data": {
      "image/png": "[encoded data removed]",
      "text/plain": [
       "<Figure size 432x288 with 1 Axes>"
      ]
     },
     "metadata": {
      "needs_background": "light"
     },
     "output_type": "display_data"
    }
   ],
   "source": [
    "plt.plot(np.arange(len(aus_dates)),WA_confirmed[aus_dates])\n",
    "plt.show()"
   ]
  },
  {
   "cell_type": "code",
   "execution_count": 170,
   "metadata": {},
   "outputs": [
    {
     "data": {
      "image/png": "[encoded data removed]",
      "text/plain": [
       "<Figure size 432x288 with 1 Axes>"
      ]
     },
     "metadata": {
      "needs_background": "light"
     },
     "output_type": "display_data"
    }
   ],
   "source": [
    "plt.plot(np.arange(len(aus_dates)),aus_total[aus_dates])\n",
    "plt.show()"
   ]
  },
  {
   "cell_type": "code",
   "execution_count": 171,
   "metadata": {},
   "outputs": [
    {
     "data": {
      "image/png": "[encoded data removed]",
      "text/plain": [
       "<Figure size 576x1152 with 8 Axes>"
      ]
     },
     "metadata": {
      "needs_background": "light"
     },
     "output_type": "display_data"
    }
   ],
   "source": [
    "numstates = len(aus_confirmed)\n",
    "numrows = int(round(np.ceil(numstates/2.0))) \n",
    "days = np.arange(len(aus_dates))\n",
    "\n",
    "# Set up subplots and position 'pointer'\n",
    "fig, axs = plt.subplots(numrows, 2, figsize=(8,4*numrows), sharex='all', sharey='all') # length of figure depends on number of rowsposition = 0\n",
    "position = 0\n",
    "\n",
    "# Iterate through each state/plot\n",
    "for rowdata in aus_confirmed.iterrows():\n",
    "    state = rowdata[1]\n",
    "    (row, col) = np.divmod(position,2)\n",
    "    position = position + 1\n",
    "    \n",
    "    # Add lines to the plot \n",
    "    axs[row, col].plot(days, state[aus_dates])\n",
    "    \n",
    "    # Label individual plot\n",
    "    axs[row, col].set_title(state[\"State\"])\n",
    "#    axs[row, col].legend(loc='upper left')\n",
    "    if row == numrows-1:\n",
    "        axs[row, col].set_xlabel(\"Days since first Australian case\")\n",
    "    if col == 0:\n",
    "        axs[row, col].set_ylabel(\"Number of cases\")\n",
    "\n",
    "# Set overall figure title and show figure\n",
    "fig.suptitle(\"Total Australian Covid-19 Cases by State\")\n",
    "fig.subplots_adjust(top=0.94) # cludge to get suptitle at the right height\n",
    "plt.show()"
   ]
  },
  {
   "cell_type": "code",
   "execution_count": 172,
   "metadata": {},
   "outputs": [],
   "source": [
    "aus_population = {\n",
    "    \"New South Wales\": 8118000,\n",
    "    \"Victoria\": 6629900,\n",
    "    \"Queensland\": 5115500,\n",
    "    \"South Australia\": 1756500,\n",
    "    \"Western Australia\": 2630600,\n",
    "    \"Tasmania\": 535500,\n",
    "    \"Northern Territory\": 245600,\n",
    "    \"Australian Capital Territory\": 428100\n",
    "}"
   ]
  },
  {
   "cell_type": "code",
   "execution_count": 173,
   "metadata": {},
   "outputs": [
    {
     "data": {
      "image/png": "[encoded data removed]",
      "text/plain": [
       "<Figure size 576x1152 with 8 Axes>"
      ]
     },
     "metadata": {
      "needs_background": "light"
     },
     "output_type": "display_data"
    }
   ],
   "source": [
    "numstates = len(aus_confirmed)\n",
    "numrows = int(round(np.ceil(numstates/2.0))) \n",
    "days = np.arange(len(aus_dates))\n",
    "\n",
    "# Set up subplots and position 'pointer'\n",
    "fig, axs = plt.subplots(numrows, 2, figsize=(8,4*numrows), sharex='all', sharey='all') # length of figure depends on number of rowsposition = 0\n",
    "position = 0\n",
    "\n",
    "# Iterate through each state/plot\n",
    "for rowdata in aus_confirmed.iterrows():\n",
    "    state = rowdata[1]\n",
    "    (row, col) = np.divmod(position,2)\n",
    "    position = position + 1\n",
    "    \n",
    "    # Add lines to the plot \n",
    "    axs[row, col].plot(days, state[aus_dates]/aus_population[state[\"State\"]])\n",
    "    \n",
    "    # Label individual plot\n",
    "    axs[row, col].set_title(state[\"State\"])\n",
    "#    axs[row, col].legend(loc='upper left')\n",
    "    if row == numrows-1:\n",
    "        axs[row, col].set_xlabel(\"Days since first Australian case\")\n",
    "    if col == 0:\n",
    "        axs[row, col].set_ylabel(\"Number of cases\")\n",
    "\n",
    "# Set overall figure title and show figure\n",
    "fig.suptitle(\"Per Capita Australian Covid-19 Cases by State\")\n",
    "fig.subplots_adjust(top=0.94) # cludge to get suptitle at the right height\n",
    "plt.show()"
   ]
  },
  {
   "cell_type": "code",
   "execution_count": 178,
   "metadata": {},
   "outputs": [],
   "source": [
    "def my_exp2 (x, a, b):\n",
    "    return (np.exp2(a*x + b))"
   ]
  },
  {
   "cell_type": "code",
   "execution_count": null,
   "metadata": {},
   "outputs": [],
   "source": []
  },
  {
   "cell_type": "code",
   "execution_count": 174,
   "metadata": {},
   "outputs": [],
   "source": [
    "def my_expon2 (x, loc, scale):\n",
    "    return (np.exp2((x - loc)/scale)/scale)"
   ]
  },
  {
   "cell_type": "code",
   "execution_count": 175,
   "metadata": {},
   "outputs": [
    {
     "data": {
      "image/png": "[encoded data removed]",
      "text/plain": [
       "<Figure size 432x288 with 1 Axes>"
      ]
     },
     "metadata": {
      "needs_background": "light"
     },
     "output_type": "display_data"
    }
   ],
   "source": [
    "xs = np.linspace(0, 60)\n",
    "yz = my_expon2(xs, 0, 5)\n",
    "yz4 = my_expon2(xs, 0, 4)\n",
    "ys = my_expon2(xs, 10, 5)\n",
    "yn = my_expon2(xs, -13, 5)\n",
    "plt.ylim(0,2000)\n",
    "plt.plot(xs, yz, label=\"yz 0,5\")\n",
    "plt.plot(xs, yz4, label=\"yz 0,4\")\n",
    "plt.plot(xs, ys, label=\"ys 10.1,5\")\n",
    "plt.plot(xs, yn, label=\"yn -10,5\")\n",
    "plt.legend()\n",
    "plt.show()\n"
   ]
  },
  {
   "cell_type": "markdown",
   "metadata": {},
   "source": [
    "### States"
   ]
  },
  {
   "cell_type": "code",
   "execution_count": 189,
   "metadata": {},
   "outputs": [
    {
     "name": "stdout",
     "output_type": "stream",
     "text": [
      "Parameters: 21.910693858762357 3.9362863746073984\n",
      "Parameters: 25.91077170354644 3.936279314354295\n",
      "Lambda: 0.25\n",
      "Lambda: 0.25\n"
     ]
    },
    {
     "data": {
      "text/plain": [
       "<function matplotlib.pyplot.show(*args, **kw)>"
      ]
     },
     "execution_count": 189,
     "metadata": {},
     "output_type": "execute_result"
    },
    {
     "data": {
      "image/png": "[encoded data removed]",
      "text/plain": [
       "<Figure size 432x288 with 1 Axes>"
      ]
     },
     "metadata": {
      "needs_background": "light"
     },
     "output_type": "display_data"
    }
   ],
   "source": [
    "from scipy.optimize import curve_fit\n",
    "numdays = len(aus_dates)\n",
    "days = np.arange(numdays)\n",
    "\n",
    "plt.plot(days, WA_confirmed[aus_dates])\n",
    "\n",
    "((loc, scale), covariance) = curve_fit(my_expon2, days, WA_confirmed[aus_dates])\n",
    "((loc2, scale2), covariance2) = curve_fit(my_expon2, np.arange(len(dates)), WA_confirmed[dates])\n",
    "\n",
    "optimised_guesses = my_expon2(days, loc, scale)\n",
    "optimised_guesses2 = my_expon2(np.arange(len(dates)), loc2, scale2)\n",
    "\n",
    "print(\"Parameters:\", loc, scale)\n",
    "print(\"Parameters:\", loc2, scale2)\n",
    "\n",
    "print(\"Lambda:\", round(1/scale,2))\n",
    "print(\"Lambda:\", round(1/scale2,2))\n",
    "\n",
    "\n",
    "plt.plot(days, optimised_guesses, alpha=0.7, color='red')\n",
    "plt.plot(dates, optimised_guesses2, alpha=0.7, color='black')\n",
    "\n",
    "\n",
    "plt.show\n"
   ]
  },
  {
   "cell_type": "code",
   "execution_count": 190,
   "metadata": {},
   "outputs": [
    {
     "name": "stdout",
     "output_type": "stream",
     "text": [
      "Parameters: 13.788920712833036 3.812153425373028\n",
      "Lambda: 0.26\n"
     ]
    },
    {
     "data": {
      "text/plain": [
       "<function matplotlib.pyplot.show(*args, **kw)>"
      ]
     },
     "execution_count": 190,
     "metadata": {},
     "output_type": "execute_result"
    },
    {
     "data": {
      "image/png": "[encoded data removed]",
      "text/plain": [
       "<Figure size 432x288 with 1 Axes>"
      ]
     },
     "metadata": {
      "needs_background": "light"
     },
     "output_type": "display_data"
    }
   ],
   "source": [
    "NSW = aus_confirmed[(aus_confirmed[\"State\"] == \"New South Wales\")].squeeze()\n",
    "plt.plot(days,NSW[aus_dates])\n",
    "\n",
    "((loc, scale), covariance) = curve_fit(my_expon2, days, NSW[aus_dates])\n",
    "optimised_guesses = my_expon2(days, loc, scale)\n",
    "print(\"Parameters:\", loc, scale)\n",
    "print(\"Lambda:\", round(1/scale,2))\n",
    "plt.plot(days, optimised_guesses, alpha=0.7, color='red')\n",
    "plt.show"
   ]
  },
  {
   "cell_type": "code",
   "execution_count": 191,
   "metadata": {},
   "outputs": [
    {
     "name": "stdout",
     "output_type": "stream",
     "text": [
      "Parameters: 14.860725658325746 4.090874843463578\n",
      "Lambda: 0.24\n"
     ]
    },
    {
     "data": {
      "text/plain": [
       "<function matplotlib.pyplot.show(*args, **kw)>"
      ]
     },
     "execution_count": 191,
     "metadata": {},
     "output_type": "execute_result"
    },
    {
     "data": {
      "image/png": "[encoded data removed]",
      "text/plain": [
       "<Figure size 432x288 with 1 Axes>"
      ]
     },
     "metadata": {
      "needs_background": "light"
     },
     "output_type": "display_data"
    }
   ],
   "source": [
    "VIC = aus_confirmed[(aus_confirmed[\"State\"] == \"Victoria\")].squeeze()\n",
    "plt.plot(days,VIC[aus_dates])\n",
    "\n",
    "((loc, scale), covariance) = curve_fit(my_expon2, days, VIC[aus_dates])\n",
    "optimised_guesses = my_expon2(days, loc, scale)\n",
    "print(\"Parameters:\", loc, scale)\n",
    "print(\"Lambda:\", round(1/scale,2))\n",
    "plt.plot(days, optimised_guesses, alpha=0.7, color='red')\n",
    "plt.show"
   ]
  },
  {
   "cell_type": "markdown",
   "metadata": {},
   "source": [
    "### Countries"
   ]
  },
  {
   "cell_type": "code",
   "execution_count": 193,
   "metadata": {},
   "outputs": [
    {
     "name": "stdout",
     "output_type": "stream",
     "text": [
      "Parameters: -57.799404251868054 6.2169668712133115\n",
      "Lambda: 0.16\n"
     ]
    },
    {
     "data": {
      "text/plain": [
       "<function matplotlib.pyplot.show(*args, **kw)>"
      ]
     },
     "execution_count": 193,
     "metadata": {},
     "output_type": "execute_result"
    },
    {
     "data": {
      "image/png": "[encoded data removed]",
      "text/plain": [
       "<Figure size 432x288 with 1 Axes>"
      ]
     },
     "metadata": {
      "needs_background": "light"
     },
     "output_type": "display_data"
    }
   ],
   "source": [
    "italy_covid = confirmed[confirmed[\"Country\"] == \"Italy\"].squeeze()\n",
    "plt.plot(days,italy_covid[aus_dates])\n",
    "\n",
    "((loc, scale), covariance) = curve_fit(my_expon2, days, italy_covid[aus_dates])\n",
    "optimised_guesses = my_expon2(days, loc, scale)\n",
    "print(\"Parameters:\", loc, scale)\n",
    "print(\"Lambda:\", round(1/scale,2))\n",
    "plt.plot(days, optimised_guesses, alpha=0.7, color='red')\n",
    "plt.show"
   ]
  },
  {
   "cell_type": "code",
   "execution_count": 194,
   "metadata": {},
   "outputs": [
    {
     "name": "stdout",
     "output_type": "stream",
     "text": [
      "Parameters: -13.205181072760709 4.11347587959737\n",
      "Lambda: 0.24\n"
     ]
    },
    {
     "data": {
      "text/plain": [
       "<function matplotlib.pyplot.show(*args, **kw)>"
      ]
     },
     "execution_count": 194,
     "metadata": {},
     "output_type": "execute_result"
    },
    {
     "data": {
      "image/png": "[encoded data removed]",
      "text/plain": [
       "<Figure size 432x288 with 1 Axes>"
      ]
     },
     "metadata": {
      "needs_background": "light"
     },
     "output_type": "display_data"
    }
   ],
   "source": [
    "spain_covid = confirmed[confirmed[\"Country\"] == \"Spain\"].squeeze()\n",
    "plt.plot(days,spain_covid[aus_dates])\n",
    "\n",
    "((loc, scale), covariance) = curve_fit(my_expon2, days, spain_covid[aus_dates])\n",
    "optimised_guesses = my_expon2(days, loc, scale)\n",
    "print(\"Parameters:\", loc, scale)\n",
    "print(\"Lambda:\", round(1/scale,2))\n",
    "plt.plot(days, optimised_guesses, alpha=0.7, color='red')\n",
    "plt.show"
   ]
  },
  {
   "cell_type": "code",
   "execution_count": 195,
   "metadata": {},
   "outputs": [
    {
     "name": "stdout",
     "output_type": "stream",
     "text": [
      "Parameters: 7.939168503891025 3.8990473352644854\n",
      "Lambda: 0.26\n"
     ]
    },
    {
     "data": {
      "text/plain": [
       "<function matplotlib.pyplot.show(*args, **kw)>"
      ]
     },
     "execution_count": 195,
     "metadata": {},
     "output_type": "execute_result"
    },
    {
     "data": {
      "image/png": "[encoded data removed]",
      "text/plain": [
       "<Figure size 432x288 with 1 Axes>"
      ]
     },
     "metadata": {
      "needs_background": "light"
     },
     "output_type": "display_data"
    }
   ],
   "source": [
    "plt.plot(days,aus_total[aus_dates])\n",
    "\n",
    "((loc, scale), covariance) = curve_fit(my_expon2, days, aus_total[aus_dates])\n",
    "optimised_guesses = my_expon2(days, loc, scale)\n",
    "print(\"Parameters:\", loc, scale)\n",
    "print(\"Lambda:\", round(1/scale,2))\n",
    "plt.plot(days, optimised_guesses, alpha=0.7, color='red')\n",
    "plt.show"
   ]
  },
  {
   "cell_type": "code",
   "execution_count": 200,
   "metadata": {},
   "outputs": [
    {
     "name": "stdout",
     "output_type": "stream",
     "text": [
      "Parameters: 5.905871072348824 3.0245630698741643\n",
      "Lambda: 0.33\n"
     ]
    },
    {
     "data": {
      "text/plain": [
       "<function matplotlib.pyplot.show(*args, **kw)>"
      ]
     },
     "execution_count": 200,
     "metadata": {},
     "output_type": "execute_result"
    },
    {
     "data": {
      "image/png": "[encoded data removed]",
      "text/plain": [
       "<Figure size 432x288 with 1 Axes>"
      ]
     },
     "metadata": {
      "needs_background": "light"
     },
     "output_type": "display_data"
    }
   ],
   "source": [
    "us_covid = confirmed[confirmed[\"Country\"] == \"US\"].squeeze()\n",
    "plt.plot(days,us_covid[aus_dates])\n",
    "\n",
    "((loc, scale), covariance) = curve_fit(my_expon2, days, us_covid[aus_dates])\n",
    "optimised_guesses = my_expon2(days, loc, scale)\n",
    "print(\"Parameters:\", loc, scale)\n",
    "print(\"Lambda:\", round(1/scale,2))\n",
    "plt.plot(days, optimised_guesses, alpha=0.7, color='red')\n",
    "plt.show"
   ]
  },
  {
   "cell_type": "code",
   "execution_count": 202,
   "metadata": {},
   "outputs": [
    {
     "name": "stdout",
     "output_type": "stream",
     "text": [
      "Parameters: -190.4818877548974 14.49369970702778\n",
      "Lambda: 0.07\n"
     ]
    },
    {
     "data": {
      "text/plain": [
       "<function matplotlib.pyplot.show(*args, **kw)>"
      ]
     },
     "execution_count": 202,
     "metadata": {},
     "output_type": "execute_result"
    },
    {
     "data": {
      "image/png": "[encoded data removed]",
      "text/plain": [
       "<Figure size 432x288 with 1 Axes>"
      ]
     },
     "metadata": {
      "needs_background": "light"
     },
     "output_type": "display_data"
    }
   ],
   "source": [
    "korea_covid = confirmed[confirmed[\"Country\"] == \"Korea, South\"].squeeze()\n",
    "plt.plot(days,korea_covid[aus_dates])\n",
    "\n",
    "((loc, scale), covariance) = curve_fit(my_expon2, days, korea_covid[aus_dates])\n",
    "optimised_guesses = my_expon2(days, loc, scale)\n",
    "print(\"Parameters:\", loc, scale)\n",
    "print(\"Lambda:\", round(1/scale,2))\n",
    "plt.plot(days, optimised_guesses, alpha=0.7, color='red')\n",
    "plt.show"
   ]
  },
  {
   "cell_type": "code",
   "execution_count": 203,
   "metadata": {},
   "outputs": [
    {
     "name": "stdout",
     "output_type": "stream",
     "text": [
      "Parameters: -857.9175228185691 41.800468446665114\n",
      "Lambda: 0.02\n"
     ]
    },
    {
     "data": {
      "text/plain": [
       "<function matplotlib.pyplot.show(*args, **kw)>"
      ]
     },
     "execution_count": 203,
     "metadata": {},
     "output_type": "execute_result"
    },
    {
     "data": {
      "image/png": "[encoded data removed]",
      "text/plain": [
       "<Figure size 432x288 with 1 Axes>"
      ]
     },
     "metadata": {
      "needs_background": "light"
     },
     "output_type": "display_data"
    }
   ],
   "source": [
    "china_confirmed = confirmed[confirmed[\"Country\"] == \"China\"]\n",
    "china_covid = china_confirmed[dates].sum()\n",
    "plt.plot(days,china_covid[aus_dates])\n",
    "\n",
    "((loc, scale), covariance) = curve_fit(my_expon2, days, china_covid[aus_dates])\n",
    "optimised_guesses = my_expon2(days, loc, scale)\n",
    "print(\"Parameters:\", loc, scale)\n",
    "print(\"Lambda:\", round(1/scale,2))\n",
    "plt.plot(days, optimised_guesses, alpha=0.7, color='red')\n",
    "plt.show"
   ]
  },
  {
   "cell_type": "code",
   "execution_count": null,
   "metadata": {},
   "outputs": [],
   "source": []
  },
  {
   "cell_type": "markdown",
   "metadata": {},
   "source": [
    "## Fact-checking the Prime Minister"
   ]
  },
  {
   "cell_type": "markdown",
   "metadata": {},
   "source": [
    "At his [press conference](https://www.pm.gov.au/media/press-conference-australian-parliament-house-act-13) on Sunday evening on the 29th of March the Prime Minister said the following:\n",
    "\n",
    ">Earlier today, I reminded you in our earlier media conference that the rate of increase has been falling. Towards this time last week, the rate of daily increase was up around 25 to 30 per cent. Today's rate of increase it actually has fallen to 9 per cent. But there are no guarantees about how that goes forward. We need to continue to do the things that we've committed ourselves to do to save lives and save livelihoods and I want to thank Australians for their strong support and growing support for the measures that are necessary to do just that. "
   ]
  },
  {
   "cell_type": "code",
   "execution_count": 207,
   "metadata": {},
   "outputs": [
    {
     "data": {
      "text/plain": [
       "1/22/20    0\n",
       "1/23/20    0\n",
       "1/24/20    0\n",
       "1/25/20    0\n",
       "1/26/20    4\n",
       "dtype: int64"
      ]
     },
     "execution_count": 207,
     "metadata": {},
     "output_type": "execute_result"
    }
   ],
   "source": [
    "(confirmed, deaths) = update_data(\"2020-03-28\")\n",
    "aus_confirmed = confirmed.loc[(confirmed[\"Country\"] == \"Australia\") & \n",
    "                     (confirmed[\"State\"] != \"From Diamond Princess\")]\n",
    "aus_total = aus_confirmed[dates].sum()\n",
    "aus_total.head()"
   ]
  },
  {
   "cell_type": "code",
   "execution_count": null,
   "metadata": {},
   "outputs": [],
   "source": []
  },
  {
   "cell_type": "code",
   "execution_count": null,
   "metadata": {},
   "outputs": [],
   "source": []
  },
  {
   "cell_type": "code",
   "execution_count": null,
   "metadata": {},
   "outputs": [],
   "source": []
  },
  {
   "cell_type": "code",
   "execution_count": null,
   "metadata": {},
   "outputs": [],
   "source": []
  },
  {
   "cell_type": "markdown",
   "metadata": {},
   "source": [
    "## Curve Fitting and Optimisation\n",
    "\n",
    "Are WA's infections really increasing exponentially? \n",
    "\n",
    "Don't believe the press! Let's find out for ourselves."
   ]
  },
  {
   "cell_type": "code",
   "execution_count": 149,
   "metadata": {},
   "outputs": [
    {
     "data": {
      "text/html": [
       "<div>\n",
       "<style scoped>\n",
       "    .dataframe tbody tr th:only-of-type {\n",
       "        vertical-align: middle;\n",
       "    }\n",
       "\n",
       "    .dataframe tbody tr th {\n",
       "        vertical-align: top;\n",
       "    }\n",
       "\n",
       "    .dataframe thead th {\n",
       "        text-align: right;\n",
       "    }\n",
       "</style>\n",
       "<table border=\"1\" class=\"dataframe\">\n",
       "  <thead>\n",
       "    <tr style=\"text-align: right;\">\n",
       "      <th></th>\n",
       "      <th>Date</th>\n",
       "      <th>Country</th>\n",
       "      <th>State</th>\n",
       "      <th>Lat</th>\n",
       "      <th>Long</th>\n",
       "      <th>Confirmed</th>\n",
       "      <th>Recovered</th>\n",
       "      <th>Deaths</th>\n",
       "    </tr>\n",
       "  </thead>\n",
       "  <tbody>\n",
       "    <tr>\n",
       "      <td>564</td>\n",
       "      <td>2020-03-22</td>\n",
       "      <td>Australia</td>\n",
       "      <td>Australian Capital Territory</td>\n",
       "      <td>-35.4735</td>\n",
       "      <td>149.0124</td>\n",
       "      <td>19</td>\n",
       "      <td>0</td>\n",
       "      <td>0</td>\n",
       "    </tr>\n",
       "    <tr>\n",
       "      <td>565</td>\n",
       "      <td>2020-03-23</td>\n",
       "      <td>Australia</td>\n",
       "      <td>Australian Capital Territory</td>\n",
       "      <td>-35.4735</td>\n",
       "      <td>149.0124</td>\n",
       "      <td>32</td>\n",
       "      <td>0</td>\n",
       "      <td>0</td>\n",
       "    </tr>\n",
       "    <tr>\n",
       "      <td>566</td>\n",
       "      <td>2020-03-24</td>\n",
       "      <td>Australia</td>\n",
       "      <td>Australian Capital Territory</td>\n",
       "      <td>-35.4735</td>\n",
       "      <td>149.0124</td>\n",
       "      <td>39</td>\n",
       "      <td>0</td>\n",
       "      <td>0</td>\n",
       "    </tr>\n",
       "    <tr>\n",
       "      <td>627</td>\n",
       "      <td>2020-03-22</td>\n",
       "      <td>Australia</td>\n",
       "      <td>New South Wales</td>\n",
       "      <td>-33.8688</td>\n",
       "      <td>151.2093</td>\n",
       "      <td>669</td>\n",
       "      <td>4</td>\n",
       "      <td>6</td>\n",
       "    </tr>\n",
       "    <tr>\n",
       "      <td>628</td>\n",
       "      <td>2020-03-23</td>\n",
       "      <td>Australia</td>\n",
       "      <td>New South Wales</td>\n",
       "      <td>-33.8688</td>\n",
       "      <td>151.2093</td>\n",
       "      <td>669</td>\n",
       "      <td>4</td>\n",
       "      <td>6</td>\n",
       "    </tr>\n",
       "    <tr>\n",
       "      <td>629</td>\n",
       "      <td>2020-03-24</td>\n",
       "      <td>Australia</td>\n",
       "      <td>New South Wales</td>\n",
       "      <td>-33.8688</td>\n",
       "      <td>151.2093</td>\n",
       "      <td>818</td>\n",
       "      <td>0</td>\n",
       "      <td>7</td>\n",
       "    </tr>\n",
       "    <tr>\n",
       "      <td>690</td>\n",
       "      <td>2020-03-22</td>\n",
       "      <td>Australia</td>\n",
       "      <td>Northern Territory</td>\n",
       "      <td>-12.4634</td>\n",
       "      <td>130.8456</td>\n",
       "      <td>5</td>\n",
       "      <td>0</td>\n",
       "      <td>0</td>\n",
       "    </tr>\n",
       "    <tr>\n",
       "      <td>691</td>\n",
       "      <td>2020-03-23</td>\n",
       "      <td>Australia</td>\n",
       "      <td>Northern Territory</td>\n",
       "      <td>-12.4634</td>\n",
       "      <td>130.8456</td>\n",
       "      <td>5</td>\n",
       "      <td>0</td>\n",
       "      <td>0</td>\n",
       "    </tr>\n",
       "    <tr>\n",
       "      <td>692</td>\n",
       "      <td>2020-03-24</td>\n",
       "      <td>Australia</td>\n",
       "      <td>Northern Territory</td>\n",
       "      <td>-12.4634</td>\n",
       "      <td>130.8456</td>\n",
       "      <td>6</td>\n",
       "      <td>0</td>\n",
       "      <td>0</td>\n",
       "    </tr>\n",
       "    <tr>\n",
       "      <td>753</td>\n",
       "      <td>2020-03-22</td>\n",
       "      <td>Australia</td>\n",
       "      <td>Queensland</td>\n",
       "      <td>-28.0167</td>\n",
       "      <td>153.4000</td>\n",
       "      <td>259</td>\n",
       "      <td>8</td>\n",
       "      <td>0</td>\n",
       "    </tr>\n",
       "    <tr>\n",
       "      <td>754</td>\n",
       "      <td>2020-03-23</td>\n",
       "      <td>Australia</td>\n",
       "      <td>Queensland</td>\n",
       "      <td>-28.0167</td>\n",
       "      <td>153.4000</td>\n",
       "      <td>319</td>\n",
       "      <td>8</td>\n",
       "      <td>0</td>\n",
       "    </tr>\n",
       "    <tr>\n",
       "      <td>755</td>\n",
       "      <td>2020-03-24</td>\n",
       "      <td>Australia</td>\n",
       "      <td>Queensland</td>\n",
       "      <td>-28.0167</td>\n",
       "      <td>153.4000</td>\n",
       "      <td>397</td>\n",
       "      <td>0</td>\n",
       "      <td>0</td>\n",
       "    </tr>\n",
       "    <tr>\n",
       "      <td>816</td>\n",
       "      <td>2020-03-22</td>\n",
       "      <td>Australia</td>\n",
       "      <td>South Australia</td>\n",
       "      <td>-34.9285</td>\n",
       "      <td>138.6007</td>\n",
       "      <td>100</td>\n",
       "      <td>3</td>\n",
       "      <td>0</td>\n",
       "    </tr>\n",
       "    <tr>\n",
       "      <td>817</td>\n",
       "      <td>2020-03-23</td>\n",
       "      <td>Australia</td>\n",
       "      <td>South Australia</td>\n",
       "      <td>-34.9285</td>\n",
       "      <td>138.6007</td>\n",
       "      <td>134</td>\n",
       "      <td>3</td>\n",
       "      <td>0</td>\n",
       "    </tr>\n",
       "    <tr>\n",
       "      <td>818</td>\n",
       "      <td>2020-03-24</td>\n",
       "      <td>Australia</td>\n",
       "      <td>South Australia</td>\n",
       "      <td>-34.9285</td>\n",
       "      <td>138.6007</td>\n",
       "      <td>170</td>\n",
       "      <td>0</td>\n",
       "      <td>0</td>\n",
       "    </tr>\n",
       "    <tr>\n",
       "      <td>879</td>\n",
       "      <td>2020-03-22</td>\n",
       "      <td>Australia</td>\n",
       "      <td>Tasmania</td>\n",
       "      <td>-41.4545</td>\n",
       "      <td>145.9707</td>\n",
       "      <td>22</td>\n",
       "      <td>3</td>\n",
       "      <td>0</td>\n",
       "    </tr>\n",
       "    <tr>\n",
       "      <td>880</td>\n",
       "      <td>2020-03-23</td>\n",
       "      <td>Australia</td>\n",
       "      <td>Tasmania</td>\n",
       "      <td>-41.4545</td>\n",
       "      <td>145.9707</td>\n",
       "      <td>28</td>\n",
       "      <td>3</td>\n",
       "      <td>0</td>\n",
       "    </tr>\n",
       "    <tr>\n",
       "      <td>881</td>\n",
       "      <td>2020-03-24</td>\n",
       "      <td>Australia</td>\n",
       "      <td>Tasmania</td>\n",
       "      <td>-41.4545</td>\n",
       "      <td>145.9707</td>\n",
       "      <td>28</td>\n",
       "      <td>0</td>\n",
       "      <td>0</td>\n",
       "    </tr>\n",
       "    <tr>\n",
       "      <td>942</td>\n",
       "      <td>2020-03-22</td>\n",
       "      <td>Australia</td>\n",
       "      <td>Victoria</td>\n",
       "      <td>-37.8136</td>\n",
       "      <td>144.9631</td>\n",
       "      <td>355</td>\n",
       "      <td>70</td>\n",
       "      <td>0</td>\n",
       "    </tr>\n",
       "    <tr>\n",
       "      <td>943</td>\n",
       "      <td>2020-03-23</td>\n",
       "      <td>Australia</td>\n",
       "      <td>Victoria</td>\n",
       "      <td>-37.8136</td>\n",
       "      <td>144.9631</td>\n",
       "      <td>355</td>\n",
       "      <td>70</td>\n",
       "      <td>0</td>\n",
       "    </tr>\n",
       "    <tr>\n",
       "      <td>944</td>\n",
       "      <td>2020-03-24</td>\n",
       "      <td>Australia</td>\n",
       "      <td>Victoria</td>\n",
       "      <td>-37.8136</td>\n",
       "      <td>144.9631</td>\n",
       "      <td>411</td>\n",
       "      <td>0</td>\n",
       "      <td>0</td>\n",
       "    </tr>\n",
       "    <tr>\n",
       "      <td>1005</td>\n",
       "      <td>2020-03-22</td>\n",
       "      <td>Australia</td>\n",
       "      <td>Western Australia</td>\n",
       "      <td>-31.9505</td>\n",
       "      <td>115.8605</td>\n",
       "      <td>120</td>\n",
       "      <td>0</td>\n",
       "      <td>1</td>\n",
       "    </tr>\n",
       "    <tr>\n",
       "      <td>1006</td>\n",
       "      <td>2020-03-23</td>\n",
       "      <td>Australia</td>\n",
       "      <td>Western Australia</td>\n",
       "      <td>-31.9505</td>\n",
       "      <td>115.8605</td>\n",
       "      <td>140</td>\n",
       "      <td>0</td>\n",
       "      <td>1</td>\n",
       "    </tr>\n",
       "    <tr>\n",
       "      <td>1007</td>\n",
       "      <td>2020-03-24</td>\n",
       "      <td>Australia</td>\n",
       "      <td>Western Australia</td>\n",
       "      <td>-31.9505</td>\n",
       "      <td>115.8605</td>\n",
       "      <td>175</td>\n",
       "      <td>0</td>\n",
       "      <td>1</td>\n",
       "    </tr>\n",
       "  </tbody>\n",
       "</table>\n",
       "</div>"
      ],
      "text/plain": [
       "           Date    Country                         State      Lat      Long  \\\n",
       "564  2020-03-22  Australia  Australian Capital Territory -35.4735  149.0124   \n",
       "565  2020-03-23  Australia  Australian Capital Territory -35.4735  149.0124   \n",
       "566  2020-03-24  Australia  Australian Capital Territory -35.4735  149.0124   \n",
       "627  2020-03-22  Australia               New South Wales -33.8688  151.2093   \n",
       "628  2020-03-23  Australia               New South Wales -33.8688  151.2093   \n",
       "629  2020-03-24  Australia               New South Wales -33.8688  151.2093   \n",
       "690  2020-03-22  Australia            Northern Territory -12.4634  130.8456   \n",
       "691  2020-03-23  Australia            Northern Territory -12.4634  130.8456   \n",
       "692  2020-03-24  Australia            Northern Territory -12.4634  130.8456   \n",
       "753  2020-03-22  Australia                    Queensland -28.0167  153.4000   \n",
       "754  2020-03-23  Australia                    Queensland -28.0167  153.4000   \n",
       "755  2020-03-24  Australia                    Queensland -28.0167  153.4000   \n",
       "816  2020-03-22  Australia               South Australia -34.9285  138.6007   \n",
       "817  2020-03-23  Australia               South Australia -34.9285  138.6007   \n",
       "818  2020-03-24  Australia               South Australia -34.9285  138.6007   \n",
       "879  2020-03-22  Australia                      Tasmania -41.4545  145.9707   \n",
       "880  2020-03-23  Australia                      Tasmania -41.4545  145.9707   \n",
       "881  2020-03-24  Australia                      Tasmania -41.4545  145.9707   \n",
       "942  2020-03-22  Australia                      Victoria -37.8136  144.9631   \n",
       "943  2020-03-23  Australia                      Victoria -37.8136  144.9631   \n",
       "944  2020-03-24  Australia                      Victoria -37.8136  144.9631   \n",
       "1005 2020-03-22  Australia             Western Australia -31.9505  115.8605   \n",
       "1006 2020-03-23  Australia             Western Australia -31.9505  115.8605   \n",
       "1007 2020-03-24  Australia             Western Australia -31.9505  115.8605   \n",
       "\n",
       "      Confirmed  Recovered  Deaths  \n",
       "564          19          0       0  \n",
       "565          32          0       0  \n",
       "566          39          0       0  \n",
       "627         669          4       6  \n",
       "628         669          4       6  \n",
       "629         818          0       7  \n",
       "690           5          0       0  \n",
       "691           5          0       0  \n",
       "692           6          0       0  \n",
       "753         259          8       0  \n",
       "754         319          8       0  \n",
       "755         397          0       0  \n",
       "816         100          3       0  \n",
       "817         134          3       0  \n",
       "818         170          0       0  \n",
       "879          22          3       0  \n",
       "880          28          3       0  \n",
       "881          28          0       0  \n",
       "942         355         70       0  \n",
       "943         355         70       0  \n",
       "944         411          0       0  \n",
       "1005        120          0       1  \n",
       "1006        140          0       1  \n",
       "1007        175          0       1  "
      ]
     },
     "execution_count": 149,
     "metadata": {},
     "output_type": "execute_result"
    }
   ],
   "source": [
    "aus_covid = covid.loc[(covid[\"Country\"] == \"Australia\") & \n",
    "                     (covid[\"State\"] != \"From Diamond Princess\")]\n",
    "states = aus_covid.groupby(\"State\")\n",
    "states.tail(3)"
   ]
  },
  {
   "cell_type": "code",
   "execution_count": 153,
   "metadata": {},
   "outputs": [
    {
     "data": {
      "text/html": [
       "<div>\n",
       "<style scoped>\n",
       "    .dataframe tbody tr th:only-of-type {\n",
       "        vertical-align: middle;\n",
       "    }\n",
       "\n",
       "    .dataframe tbody tr th {\n",
       "        vertical-align: top;\n",
       "    }\n",
       "\n",
       "    .dataframe thead th {\n",
       "        text-align: right;\n",
       "    }\n",
       "</style>\n",
       "<table border=\"1\" class=\"dataframe\">\n",
       "  <thead>\n",
       "    <tr style=\"text-align: right;\">\n",
       "      <th></th>\n",
       "      <th>Date</th>\n",
       "      <th>Country</th>\n",
       "      <th>State</th>\n",
       "      <th>Lat</th>\n",
       "      <th>Long</th>\n",
       "      <th>Confirmed</th>\n",
       "      <th>Recovered</th>\n",
       "      <th>Deaths</th>\n",
       "    </tr>\n",
       "  </thead>\n",
       "  <tbody>\n",
       "    <tr>\n",
       "      <td>1003</td>\n",
       "      <td>2020-03-20</td>\n",
       "      <td>Australia</td>\n",
       "      <td>Western Australia</td>\n",
       "      <td>-31.9505</td>\n",
       "      <td>115.8605</td>\n",
       "      <td>64</td>\n",
       "      <td>0</td>\n",
       "      <td>1</td>\n",
       "    </tr>\n",
       "    <tr>\n",
       "      <td>1004</td>\n",
       "      <td>2020-03-21</td>\n",
       "      <td>Australia</td>\n",
       "      <td>Western Australia</td>\n",
       "      <td>-31.9505</td>\n",
       "      <td>115.8605</td>\n",
       "      <td>90</td>\n",
       "      <td>0</td>\n",
       "      <td>1</td>\n",
       "    </tr>\n",
       "    <tr>\n",
       "      <td>1005</td>\n",
       "      <td>2020-03-22</td>\n",
       "      <td>Australia</td>\n",
       "      <td>Western Australia</td>\n",
       "      <td>-31.9505</td>\n",
       "      <td>115.8605</td>\n",
       "      <td>120</td>\n",
       "      <td>0</td>\n",
       "      <td>1</td>\n",
       "    </tr>\n",
       "    <tr>\n",
       "      <td>1006</td>\n",
       "      <td>2020-03-23</td>\n",
       "      <td>Australia</td>\n",
       "      <td>Western Australia</td>\n",
       "      <td>-31.9505</td>\n",
       "      <td>115.8605</td>\n",
       "      <td>140</td>\n",
       "      <td>0</td>\n",
       "      <td>1</td>\n",
       "    </tr>\n",
       "    <tr>\n",
       "      <td>1007</td>\n",
       "      <td>2020-03-24</td>\n",
       "      <td>Australia</td>\n",
       "      <td>Western Australia</td>\n",
       "      <td>-31.9505</td>\n",
       "      <td>115.8605</td>\n",
       "      <td>175</td>\n",
       "      <td>0</td>\n",
       "      <td>1</td>\n",
       "    </tr>\n",
       "  </tbody>\n",
       "</table>\n",
       "</div>"
      ],
      "text/plain": [
       "           Date    Country              State      Lat      Long  Confirmed  \\\n",
       "1003 2020-03-20  Australia  Western Australia -31.9505  115.8605         64   \n",
       "1004 2020-03-21  Australia  Western Australia -31.9505  115.8605         90   \n",
       "1005 2020-03-22  Australia  Western Australia -31.9505  115.8605        120   \n",
       "1006 2020-03-23  Australia  Western Australia -31.9505  115.8605        140   \n",
       "1007 2020-03-24  Australia  Western Australia -31.9505  115.8605        175   \n",
       "\n",
       "      Recovered  Deaths  \n",
       "1003          0       1  \n",
       "1004          0       1  \n",
       "1005          0       1  \n",
       "1006          0       1  \n",
       "1007          0       1  "
      ]
     },
     "execution_count": 153,
     "metadata": {},
     "output_type": "execute_result"
    }
   ],
   "source": [
    "WA = aus_covid.loc[(aus_covid[\"State\"] == \"Western Australia\") & (aus_covid[\"Confirmed\"]>0)]\n",
    "WA.tail()"
   ]
  },
  {
   "cell_type": "code",
   "execution_count": 154,
   "metadata": {},
   "outputs": [
    {
     "data": {
      "text/plain": [
       "25"
      ]
     },
     "execution_count": 154,
     "metadata": {},
     "output_type": "execute_result"
    }
   ],
   "source": [
    "len(WA)"
   ]
  },
  {
   "cell_type": "code",
   "execution_count": 155,
   "metadata": {},
   "outputs": [
    {
     "data": {
      "image/png": "[encoded data removed]",
      "text/plain": [
       "<Figure size 432x288 with 1 Axes>"
      ]
     },
     "metadata": {
      "needs_background": "light"
     },
     "output_type": "display_data"
    }
   ],
   "source": [
    "plt.plot(np.arange(len(WA)),WA[\"Confirmed\"])\n",
    "plt.show()"
   ]
  },
  {
   "cell_type": "code",
   "execution_count": 156,
   "metadata": {},
   "outputs": [
    {
     "data": {
      "image/png": "[encoded data removed]",
      "text/plain": [
       "<Figure size 432x288 with 1 Axes>"
      ]
     },
     "metadata": {
      "needs_background": "light"
     },
     "output_type": "display_data"
    }
   ],
   "source": [
    "xs = np.arange(len(WA))\n",
    "plt.plot(xs,WA[\"Confirmed\"])\n",
    "guesses = np.exp2(xs)\n",
    "plt.plot(xs, guesses)\n",
    "plt.show()"
   ]
  },
  {
   "cell_type": "code",
   "execution_count": 157,
   "metadata": {},
   "outputs": [
    {
     "data": {
      "image/png": "[encoded data removed]",
      "text/plain": [
       "<Figure size 432x288 with 1 Axes>"
      ]
     },
     "metadata": {
      "needs_background": "light"
     },
     "output_type": "display_data"
    }
   ],
   "source": [
    "plt.plot(xs,WA[\"Confirmed\"])\n",
    "guesses = np.exp2(xs)/2000\n",
    "plt.plot(xs, guesses)\n",
    "plt.show()"
   ]
  },
  {
   "cell_type": "code",
   "execution_count": 158,
   "metadata": {},
   "outputs": [
    {
     "data": {
      "image/png": "[encoded data removed]",
      "text/plain": [
       "<Figure size 432x288 with 1 Axes>"
      ]
     },
     "metadata": {
      "needs_background": "light"
     },
     "output_type": "display_data"
    }
   ],
   "source": [
    "plt.plot(xs,WA[\"Confirmed\"])\n",
    "guesses = np.exp2(xs/2)/10\n",
    "plt.plot(xs, guesses)\n",
    "plt.show()"
   ]
  },
  {
   "cell_type": "code",
   "execution_count": 159,
   "metadata": {},
   "outputs": [
    {
     "data": {
      "image/png": "[encoded data removed]",
      "text/plain": [
       "<Figure size 432x288 with 1 Axes>"
      ]
     },
     "metadata": {
      "needs_background": "light"
     },
     "output_type": "display_data"
    }
   ],
   "source": [
    "plt.plot(xs,WA[\"Confirmed\"])\n",
    "guesses = 2 + np.exp2(xs/2)/10\n",
    "plt.plot(xs, guesses)\n",
    "plt.show()"
   ]
  },
  {
   "cell_type": "markdown",
   "metadata": {},
   "source": [
    "Pretty close!!\n",
    "\n",
    "But lets get the computer to do the work of finding the best match.\n",
    "\n",
    "First, we need to decide what form the function we want try and match to the data will take, and what _parameters_ we will vary.\n",
    "\n",
    "We'll define a function of the form `a + b * 2^(cx)`.\n",
    "As demonstrated above:\n",
    "* `a` \"shifts\" the function in the y direction\n",
    "* `b` \"scales\" (stretches or shrinks) the function\n",
    "* `c` determines the \"steepness\" of the function\n"
   ]
  },
  {
   "cell_type": "code",
   "execution_count": 160,
   "metadata": {},
   "outputs": [],
   "source": [
    "def my_exp (x, a, b, c):\n",
    "    return (a + b * np.exp2(x/c))"
   ]
  },
  {
   "cell_type": "code",
   "execution_count": 161,
   "metadata": {},
   "outputs": [],
   "source": [
    "from scipy.optimize import curve_fit"
   ]
  },
  {
   "cell_type": "code",
   "execution_count": 162,
   "metadata": {},
   "outputs": [
    {
     "data": {
      "text/plain": [
       "(array([0.43867386, 0.50453269, 2.83392576]),\n",
       " array([[ 1.09790799, -0.06494755, -0.06089088],\n",
       "        [-0.06494755,  0.00764054,  0.0074622 ],\n",
       "        [-0.06089088,  0.0074622 ,  0.00733182]]))"
      ]
     },
     "execution_count": 162,
     "metadata": {},
     "output_type": "execute_result"
    }
   ],
   "source": [
    "curve_fit(my_exp, xs, WA[\"Confirmed\"])"
   ]
  },
  {
   "cell_type": "markdown",
   "metadata": {},
   "source": [
    "Lets capture the parameters. \n",
    "\n",
    "Remember our guesses were 2, 0.1, and 0.5. How did we compare?"
   ]
  },
  {
   "cell_type": "code",
   "execution_count": 163,
   "metadata": {},
   "outputs": [
    {
     "data": {
      "text/plain": [
       "(0.43867386375047196, 0.5045326871695046, 2.83392576463398)"
      ]
     },
     "execution_count": 163,
     "metadata": {},
     "output_type": "execute_result"
    }
   ],
   "source": [
    "((a, b, c), covariance) = curve_fit(my_exp, xs, WA[\"Confirmed\"])\n",
    "(a, b, c)"
   ]
  },
  {
   "cell_type": "code",
   "execution_count": 164,
   "metadata": {},
   "outputs": [
    {
     "data": {
      "image/png": "[encoded data removed]",
      "text/plain": [
       "<Figure size 432x288 with 1 Axes>"
      ]
     },
     "metadata": {
      "needs_background": "light"
     },
     "output_type": "display_data"
    }
   ],
   "source": [
    "((a, b, c), covariance) = curve_fit(my_exp, xs, WA[\"Confirmed\"])\n",
    "\n",
    "plt.plot(xs,WA[\"Confirmed\"])\n",
    "optimised_guesses = my_exp(xs, a, b, c)\n",
    "plt.plot(xs, optimised_guesses)\n",
    "plt.show()"
   ]
  },
  {
   "cell_type": "code",
   "execution_count": 165,
   "metadata": {},
   "outputs": [
    {
     "name": "stdout",
     "output_type": "stream",
     "text": [
      "Parameters: 0.43867386375047196 0.5045326871695046 2.83392576463398\n"
     ]
    },
    {
     "data": {
      "image/png": "[encoded data removed]",
      "text/plain": [
       "<Figure size 432x288 with 1 Axes>"
      ]
     },
     "metadata": {
      "needs_background": "light"
     },
     "output_type": "display_data"
    }
   ],
   "source": [
    "fig, ax = plt.subplots()\n",
    "ax.plot(xs,WA[\"Confirmed\"])\n",
    "optimised_guesses = my_exp(xs, a, b, c)\n",
    "print(\"Parameters:\", a, b, c)\n",
    "ax.plot(xs, optimised_guesses)\n",
    "daynums = np.arange(0, len(xs), 2)\n",
    "ax.set_xticks(daynums)\n",
    "ax.set_xlabel(\"Days since first recorded infection in WA\")\n",
    "ax.set_ylabel(\"Number of confirmed infections\")\n",
    "ax.set_title(\"Are WA's Infections Really Increasing Exponentially?\")\n",
    "plt.show()"
   ]
  },
  {
   "cell_type": "markdown",
   "metadata": {},
   "source": [
    "For interest, lets include all the data (the exponential function tends to zero as x tends to minus infinity, so we don't expect the fit to change much)."
   ]
  },
  {
   "cell_type": "code",
   "execution_count": 167,
   "metadata": {},
   "outputs": [
    {
     "data": {
      "text/html": [
       "<div>\n",
       "<style scoped>\n",
       "    .dataframe tbody tr th:only-of-type {\n",
       "        vertical-align: middle;\n",
       "    }\n",
       "\n",
       "    .dataframe tbody tr th {\n",
       "        vertical-align: top;\n",
       "    }\n",
       "\n",
       "    .dataframe thead th {\n",
       "        text-align: right;\n",
       "    }\n",
       "</style>\n",
       "<table border=\"1\" class=\"dataframe\">\n",
       "  <thead>\n",
       "    <tr style=\"text-align: right;\">\n",
       "      <th></th>\n",
       "      <th>Date</th>\n",
       "      <th>Country</th>\n",
       "      <th>State</th>\n",
       "      <th>Lat</th>\n",
       "      <th>Long</th>\n",
       "      <th>Confirmed</th>\n",
       "      <th>Recovered</th>\n",
       "      <th>Deaths</th>\n",
       "    </tr>\n",
       "  </thead>\n",
       "  <tbody>\n",
       "    <tr>\n",
       "      <td>945</td>\n",
       "      <td>2020-01-22</td>\n",
       "      <td>Australia</td>\n",
       "      <td>Western Australia</td>\n",
       "      <td>-31.9505</td>\n",
       "      <td>115.8605</td>\n",
       "      <td>0</td>\n",
       "      <td>0</td>\n",
       "      <td>0</td>\n",
       "    </tr>\n",
       "    <tr>\n",
       "      <td>946</td>\n",
       "      <td>2020-01-23</td>\n",
       "      <td>Australia</td>\n",
       "      <td>Western Australia</td>\n",
       "      <td>-31.9505</td>\n",
       "      <td>115.8605</td>\n",
       "      <td>0</td>\n",
       "      <td>0</td>\n",
       "      <td>0</td>\n",
       "    </tr>\n",
       "    <tr>\n",
       "      <td>947</td>\n",
       "      <td>2020-01-24</td>\n",
       "      <td>Australia</td>\n",
       "      <td>Western Australia</td>\n",
       "      <td>-31.9505</td>\n",
       "      <td>115.8605</td>\n",
       "      <td>0</td>\n",
       "      <td>0</td>\n",
       "      <td>0</td>\n",
       "    </tr>\n",
       "    <tr>\n",
       "      <td>948</td>\n",
       "      <td>2020-01-25</td>\n",
       "      <td>Australia</td>\n",
       "      <td>Western Australia</td>\n",
       "      <td>-31.9505</td>\n",
       "      <td>115.8605</td>\n",
       "      <td>0</td>\n",
       "      <td>0</td>\n",
       "      <td>0</td>\n",
       "    </tr>\n",
       "    <tr>\n",
       "      <td>949</td>\n",
       "      <td>2020-01-26</td>\n",
       "      <td>Australia</td>\n",
       "      <td>Western Australia</td>\n",
       "      <td>-31.9505</td>\n",
       "      <td>115.8605</td>\n",
       "      <td>0</td>\n",
       "      <td>0</td>\n",
       "      <td>0</td>\n",
       "    </tr>\n",
       "  </tbody>\n",
       "</table>\n",
       "</div>"
      ],
      "text/plain": [
       "          Date    Country              State      Lat      Long  Confirmed  \\\n",
       "945 2020-01-22  Australia  Western Australia -31.9505  115.8605          0   \n",
       "946 2020-01-23  Australia  Western Australia -31.9505  115.8605          0   \n",
       "947 2020-01-24  Australia  Western Australia -31.9505  115.8605          0   \n",
       "948 2020-01-25  Australia  Western Australia -31.9505  115.8605          0   \n",
       "949 2020-01-26  Australia  Western Australia -31.9505  115.8605          0   \n",
       "\n",
       "     Recovered  Deaths  \n",
       "945          0       0  \n",
       "946          0       0  \n",
       "947          0       0  \n",
       "948          0       0  \n",
       "949          0       0  "
      ]
     },
     "execution_count": 167,
     "metadata": {},
     "output_type": "execute_result"
    }
   ],
   "source": [
    "WA_all = aus_covid.loc[(aus_covid[\"State\"] == \"Western Australia\")]\n",
    "WA_all.head()"
   ]
  },
  {
   "cell_type": "code",
   "execution_count": 168,
   "metadata": {},
   "outputs": [
    {
     "name": "stdout",
     "output_type": "stream",
     "text": [
      "Parameters: 0.8782496063098404 -3.635337737927504e-14 0.9999999992810996\n"
     ]
    },
    {
     "data": {
      "image/png": "[encoded data removed]",
      "text/plain": [
       "<Figure size 432x288 with 1 Axes>"
      ]
     },
     "metadata": {
      "needs_background": "light"
     },
     "output_type": "display_data"
    }
   ],
   "source": [
    "xs = np.arange(len(WA_all))\n",
    "((a, b, c), covariance) = curve_fit(my_exp, xs, WA_all[\"Confirmed\"])\n",
    "plt.plot(xs,WA_all[\"Confirmed\"])\n",
    "optimised_guesses = my_exp(xs, a, b, c)\n",
    "print(\"Parameters:\", a, b, c)\n",
    "plt.plot(xs, optimised_guesses)\n",
    "plt.xlabel(\"Days since records began\")\n",
    "plt.ylabel(\"Number of confirmed infections\")\n",
    "plt.title(\"Are WA's Infections Really Increasing Exponentially?\")\n",
    "plt.show()"
   ]
  },
  {
   "cell_type": "code",
   "execution_count": null,
   "metadata": {},
   "outputs": [],
   "source": []
  },
  {
   "cell_type": "code",
   "execution_count": 169,
   "metadata": {},
   "outputs": [
    {
     "name": "stdout",
     "output_type": "stream",
     "text": [
      "[1 1 1 1 1 1 1 1 1 1 1 1 1 1 1 1 1 1 1 1 1 1 1 1 1 1 1 1 1 1 1 1 1 1 1 1 1\n",
      " 1 0 0 0 0 0 0 0 0 0 0 0 0 0 0 0 0 0 0 0 0 0 0 0 0 0]\n",
      "Parameters: 1.2040919145987863 -4.734219978711705e-15 1.0000000033686993\n"
     ]
    },
    {
     "data": {
      "image/png": "[encoded data removed]",
      "text/plain": [
       "<Figure size 432x288 with 1 Axes>"
      ]
     },
     "metadata": {
      "needs_background": "light"
     },
     "output_type": "display_data"
    }
   ],
   "source": [
    "xs = np.arange(len(WA_all))\n",
    "cases = WA_all[\"Confirmed\"] < 1\n",
    "print(np.int8(cases))\n",
    "std = 10 * np.int8(cases) + 1\n",
    "init = [0, ]\n",
    "\n",
    "((a, b, c), covariance) = curve_fit(my_exp, xs, WA_all[\"Confirmed\"], sigma=std)\n",
    "plt.plot(xs,WA_all[\"Confirmed\"])\n",
    "optimised_guesses = my_exp(xs, a, b, c)\n",
    "print(\"Parameters:\", a, b, c)\n",
    "plt.plot(xs, optimised_guesses)\n",
    "plt.xlabel(\"Days since records began\")\n",
    "plt.ylabel(\"Number of confirmed infections\")\n",
    "plt.title(\"Are WA's Infections Really Increasing Exponentially?\")\n",
    "plt.show()"
   ]
  },
  {
   "cell_type": "code",
   "execution_count": null,
   "metadata": {},
   "outputs": [],
   "source": []
  },
  {
   "cell_type": "markdown",
   "metadata": {},
   "source": [
    "Which one are the press likely to use??"
   ]
  },
  {
   "cell_type": "markdown",
   "metadata": {},
   "source": [
    "Notice that by starting at zero, the \"vertical shift\" of the first parameter is not really needed. \n",
    "\n",
    "Lets see if we can remove the first parameter and still get a good fit."
   ]
  },
  {
   "cell_type": "code",
   "execution_count": 170,
   "metadata": {},
   "outputs": [],
   "source": [
    "def my_zexp (x, b, c):\n",
    "    return (b * np.exp2(x/c))"
   ]
  },
  {
   "cell_type": "code",
   "execution_count": 171,
   "metadata": {},
   "outputs": [
    {
     "name": "stdout",
     "output_type": "stream",
     "text": [
      "Parameters: 4.478066055802924e-14 1.0000000100405888\n"
     ]
    },
    {
     "data": {
      "image/png": "[encoded data removed]",
      "text/plain": [
       "<Figure size 432x288 with 1 Axes>"
      ]
     },
     "metadata": {
      "needs_background": "light"
     },
     "output_type": "display_data"
    }
   ],
   "source": [
    "((b, c), covariance) = curve_fit(my_zexp, xs, WA_all[\"Confirmed\"])\n",
    "plt.plot(xs,WA_all[\"Confirmed\"])\n",
    "optimised_guesses = my_zexp(xs, b, c)\n",
    "print(\"Parameters:\", b, c)\n",
    "plt.plot(xs, optimised_guesses)\n",
    "plt.xlabel(\"Days since records began\")\n",
    "plt.ylabel(\"Number of confirmed infections\")\n",
    "plt.title(\"Are WA's Infections Really Increasing Exponentially?\")\n",
    "plt.show()"
   ]
  },
  {
   "cell_type": "markdown",
   "metadata": {},
   "source": [
    "We also call these parameters _independent variables_ (we can set them independently of each other) and we call the number of independent variables the _degrees of freedom_.\n",
    "\n",
    "`my_exp` has 3 degrees of freedom, while `my_zexp` has only 2 degrees of freedom.\n",
    "\n",
    "Generally we like to use as _few degrees of freedom as we can_ to fit the data, so that we can understand the general trend of the data.\n",
    "\n",
    "Fitting a function with too many degrees of freedom often results in _over-fitting_, and describes the (random) variability in the data rather than the general trend.\n",
    "\n",
    "You will meet these concepts again in the __Statistical Learning__ unit!"
   ]
  },
  {
   "cell_type": "markdown",
   "metadata": {},
   "source": [
    "## GroupBy"
   ]
  },
  {
   "cell_type": "code",
   "execution_count": 173,
   "metadata": {},
   "outputs": [],
   "source": [
    "combined = aus_covid.groupby(\"Date\", as_index=False)\n",
    "aus_nz = aus_covid[aus_covid[\"Confirmed\"]>0]\n",
    "aus_combined_nz = aus_nz.groupby(\"Date\", as_index=False)"
   ]
  },
  {
   "cell_type": "code",
   "execution_count": 174,
   "metadata": {},
   "outputs": [
    {
     "data": {
      "text/html": [
       "<div>\n",
       "<style scoped>\n",
       "    .dataframe tbody tr th:only-of-type {\n",
       "        vertical-align: middle;\n",
       "    }\n",
       "\n",
       "    .dataframe tbody tr th {\n",
       "        vertical-align: top;\n",
       "    }\n",
       "\n",
       "    .dataframe thead th {\n",
       "        text-align: right;\n",
       "    }\n",
       "</style>\n",
       "<table border=\"1\" class=\"dataframe\">\n",
       "  <thead>\n",
       "    <tr style=\"text-align: right;\">\n",
       "      <th></th>\n",
       "      <th>Date</th>\n",
       "      <th>Lat</th>\n",
       "      <th>Long</th>\n",
       "      <th>Confirmed</th>\n",
       "      <th>Recovered</th>\n",
       "      <th>Deaths</th>\n",
       "    </tr>\n",
       "  </thead>\n",
       "  <tbody>\n",
       "    <tr>\n",
       "      <td>58</td>\n",
       "      <td>2020-03-20</td>\n",
       "      <td>-255.9695</td>\n",
       "      <td>1129.8623</td>\n",
       "      <td>791</td>\n",
       "      <td>26</td>\n",
       "      <td>7</td>\n",
       "    </tr>\n",
       "    <tr>\n",
       "      <td>59</td>\n",
       "      <td>2020-03-21</td>\n",
       "      <td>-255.9695</td>\n",
       "      <td>1129.8623</td>\n",
       "      <td>1071</td>\n",
       "      <td>26</td>\n",
       "      <td>7</td>\n",
       "    </tr>\n",
       "    <tr>\n",
       "      <td>60</td>\n",
       "      <td>2020-03-22</td>\n",
       "      <td>-255.9695</td>\n",
       "      <td>1129.8623</td>\n",
       "      <td>1549</td>\n",
       "      <td>88</td>\n",
       "      <td>7</td>\n",
       "    </tr>\n",
       "    <tr>\n",
       "      <td>61</td>\n",
       "      <td>2020-03-23</td>\n",
       "      <td>-255.9695</td>\n",
       "      <td>1129.8623</td>\n",
       "      <td>1682</td>\n",
       "      <td>88</td>\n",
       "      <td>7</td>\n",
       "    </tr>\n",
       "    <tr>\n",
       "      <td>62</td>\n",
       "      <td>2020-03-24</td>\n",
       "      <td>-255.9695</td>\n",
       "      <td>1129.8623</td>\n",
       "      <td>2044</td>\n",
       "      <td>0</td>\n",
       "      <td>8</td>\n",
       "    </tr>\n",
       "  </tbody>\n",
       "</table>\n",
       "</div>"
      ],
      "text/plain": [
       "         Date       Lat       Long  Confirmed  Recovered  Deaths\n",
       "58 2020-03-20 -255.9695  1129.8623        791         26       7\n",
       "59 2020-03-21 -255.9695  1129.8623       1071         26       7\n",
       "60 2020-03-22 -255.9695  1129.8623       1549         88       7\n",
       "61 2020-03-23 -255.9695  1129.8623       1682         88       7\n",
       "62 2020-03-24 -255.9695  1129.8623       2044          0       8"
      ]
     },
     "execution_count": 174,
     "metadata": {},
     "output_type": "execute_result"
    }
   ],
   "source": [
    "combined.sum().tail()"
   ]
  },
  {
   "cell_type": "code",
   "execution_count": 175,
   "metadata": {},
   "outputs": [
    {
     "data": {
      "text/plain": [
       "<matplotlib.axes._subplots.AxesSubplot at 0x11e5a8410>"
      ]
     },
     "execution_count": 175,
     "metadata": {},
     "output_type": "execute_result"
    },
    {
     "data": {
      "image/png": "[encoded data removed]",
      "text/plain": [
       "<Figure size 432x288 with 1 Axes>"
      ]
     },
     "metadata": {
      "needs_background": "light"
     },
     "output_type": "display_data"
    }
   ],
   "source": [
    "combined.sum().plot.bar(\"Date\",\"Confirmed\")"
   ]
  },
  {
   "cell_type": "code",
   "execution_count": 176,
   "metadata": {},
   "outputs": [
    {
     "name": "stdout",
     "output_type": "stream",
     "text": [
      "Parameters: 0.0032712199139007174 3.2143270331362688\n"
     ]
    },
    {
     "data": {
      "image/png": "[encoded data removed]",
      "text/plain": [
       "<Figure size 432x288 with 1 Axes>"
      ]
     },
     "metadata": {
      "needs_background": "light"
     },
     "output_type": "display_data"
    }
   ],
   "source": [
    "xs = np.arange(len(combined))\n",
    "((b, c), covariance) = curve_fit(my_zexp, xs, combined.sum()[\"Confirmed\"])\n",
    "plt.plot(xs,combined.sum()[\"Confirmed\"], color='blue')\n",
    "optimised_guesses = my_zexp(xs, b, c)\n",
    "print(\"Parameters:\", b, c)\n",
    "plt.plot(xs, optimised_guesses, alpha=0.7, color='red')\n",
    "plt.xlabel(\"Days since records began\")\n",
    "plt.ylabel(\"Number of confirmed infections\")\n",
    "plt.title(\"Are Australia's Infections Really Increasing Exponentially?\")\n",
    "plt.show()"
   ]
  },
  {
   "cell_type": "code",
   "execution_count": 177,
   "metadata": {},
   "outputs": [
    {
     "name": "stdout",
     "output_type": "stream",
     "text": [
      "Parameters: 0.007750327888312212 3.214327060495454\n"
     ]
    },
    {
     "data": {
      "image/png": "[encoded data removed]",
      "text/plain": [
       "<Figure size 432x288 with 1 Axes>"
      ]
     },
     "metadata": {
      "needs_background": "light"
     },
     "output_type": "display_data"
    }
   ],
   "source": [
    "xs = np.arange(len(aus_combined_nz))\n",
    "((b, c), covariance) = curve_fit(my_zexp, xs, aus_combined_nz.sum()[\"Confirmed\"])\n",
    "plt.plot(xs,aus_combined_nz.sum()[\"Confirmed\"], color='blue')\n",
    "optimised_guesses = my_zexp(xs, b, c)\n",
    "print(\"Parameters:\", b, c)\n",
    "plt.plot(xs, optimised_guesses, alpha=0.7, color='red')\n",
    "plt.xlabel(\"Days since first recorded case\")\n",
    "plt.ylabel(\"Number of confirmed infections\")\n",
    "plt.title(\"Are Australia's Infections Really Increasing Exponentially?\")\n",
    "plt.show()"
   ]
  },
  {
   "cell_type": "code",
   "execution_count": null,
   "metadata": {},
   "outputs": [],
   "source": []
  },
  {
   "cell_type": "markdown",
   "metadata": {},
   "source": [
    "## Country Comparisons"
   ]
  },
  {
   "cell_type": "code",
   "execution_count": 178,
   "metadata": {},
   "outputs": [],
   "source": [
    "def my_exp2 (x, a, b):\n",
    "    return (np.exp2(a*x + b))"
   ]
  },
  {
   "cell_type": "code",
   "execution_count": 179,
   "metadata": {},
   "outputs": [],
   "source": [
    "def country_plot (country, status=\"Confirmed\", fit_exp=False, limit = np.inf):\n",
    "    country_data = covid[covid[\"Country\"] == country]\n",
    "    if not country_data[\"State\"].isin([\"\"]).all():\n",
    "        print(\"Warning: country data could be divided over regions\")\n",
    "    country_nonzero = country_data[(country_data[status] > 0) & (country_data[status] < limit)]\n",
    "#    print(country_nonzero.max())\n",
    "    xs = np.arange(len(country_nonzero))\n",
    "    plt.plot(xs,country_nonzero[status], color='blue')\n",
    "\n",
    "    if fit_exp:\n",
    "        ((b, c), covariance) = curve_fit(my_exp2, xs, country_nonzero[status])\n",
    "        optimised_guesses = my_exp2(xs, b, c)\n",
    "        print(\"Parameters:\", b, c)\n",
    "        plt.plot(xs, optimised_guesses, alpha=0.7, color='red')\n",
    "\n",
    "    plt.xlabel(\"Days since first recorded case\")\n",
    "    plt.ylabel(\"Number \"+status)\n",
    "    plt.title(country)\n",
    "    plt.show()\n",
    "    "
   ]
  },
  {
   "cell_type": "code",
   "execution_count": 180,
   "metadata": {},
   "outputs": [],
   "source": [
    "def country_plot2 (country, statuses=[\"Confirmed\",\"Deaths\"], fit_exp=False, limit = np.inf):\n",
    "    country_data = covid[covid[\"Country\"] == country]\n",
    "    country_combined = country_data.groupby(\"Date\").sum()\n",
    "    country_nonzero = country_combined[(country_combined[\"Confirmed\"] > 0) & \n",
    "                                       (country_combined[\"Confirmed\"] < limit)]\n",
    "\n",
    "    xs = np.arange(len(country_nonzero))\n",
    "    for status in statuses:\n",
    "        plt.plot(xs,country_nonzero[status])\n",
    "\n",
    "        if fit_exp:\n",
    "            ((b, c), covariance) = curve_fit(my_exp2, xs, country_nonzero[status])\n",
    "            optimised_guesses = my_exp2(xs, b, c)\n",
    "            print(\"Parameters:\", b, c)\n",
    "            plt.plot(xs, optimised_guesses, alpha=0.7, color='gray')\n",
    "\n",
    "    plt.xlabel(\"Days since first recorded case\")\n",
    "    plt.ylabel(\"Number \"+status)\n",
    "    plt.title(country)\n",
    "    plt.show()\n",
    "    "
   ]
  },
  {
   "cell_type": "markdown",
   "metadata": {},
   "source": [
    "### Italy"
   ]
  },
  {
   "cell_type": "code",
   "execution_count": 181,
   "metadata": {},
   "outputs": [
    {
     "data": {
      "text/html": [
       "<div>\n",
       "<style scoped>\n",
       "    .dataframe tbody tr th:only-of-type {\n",
       "        vertical-align: middle;\n",
       "    }\n",
       "\n",
       "    .dataframe tbody tr th {\n",
       "        vertical-align: top;\n",
       "    }\n",
       "\n",
       "    .dataframe thead th {\n",
       "        text-align: right;\n",
       "    }\n",
       "</style>\n",
       "<table border=\"1\" class=\"dataframe\">\n",
       "  <thead>\n",
       "    <tr style=\"text-align: right;\">\n",
       "      <th></th>\n",
       "      <th>Date</th>\n",
       "      <th>Country</th>\n",
       "      <th>State</th>\n",
       "      <th>Lat</th>\n",
       "      <th>Long</th>\n",
       "      <th>Confirmed</th>\n",
       "      <th>Recovered</th>\n",
       "      <th>Deaths</th>\n",
       "    </tr>\n",
       "  </thead>\n",
       "  <tbody>\n",
       "    <tr>\n",
       "      <td>8689</td>\n",
       "      <td>2020-03-20</td>\n",
       "      <td>Italy</td>\n",
       "      <td></td>\n",
       "      <td>43.0</td>\n",
       "      <td>12.0</td>\n",
       "      <td>47021</td>\n",
       "      <td>4440</td>\n",
       "      <td>4032</td>\n",
       "    </tr>\n",
       "    <tr>\n",
       "      <td>8690</td>\n",
       "      <td>2020-03-21</td>\n",
       "      <td>Italy</td>\n",
       "      <td></td>\n",
       "      <td>43.0</td>\n",
       "      <td>12.0</td>\n",
       "      <td>53578</td>\n",
       "      <td>6072</td>\n",
       "      <td>4825</td>\n",
       "    </tr>\n",
       "    <tr>\n",
       "      <td>8691</td>\n",
       "      <td>2020-03-22</td>\n",
       "      <td>Italy</td>\n",
       "      <td></td>\n",
       "      <td>43.0</td>\n",
       "      <td>12.0</td>\n",
       "      <td>59138</td>\n",
       "      <td>7024</td>\n",
       "      <td>5476</td>\n",
       "    </tr>\n",
       "    <tr>\n",
       "      <td>8692</td>\n",
       "      <td>2020-03-23</td>\n",
       "      <td>Italy</td>\n",
       "      <td></td>\n",
       "      <td>43.0</td>\n",
       "      <td>12.0</td>\n",
       "      <td>63927</td>\n",
       "      <td>7024</td>\n",
       "      <td>6077</td>\n",
       "    </tr>\n",
       "    <tr>\n",
       "      <td>8693</td>\n",
       "      <td>2020-03-24</td>\n",
       "      <td>Italy</td>\n",
       "      <td></td>\n",
       "      <td>43.0</td>\n",
       "      <td>12.0</td>\n",
       "      <td>69176</td>\n",
       "      <td>0</td>\n",
       "      <td>6820</td>\n",
       "    </tr>\n",
       "  </tbody>\n",
       "</table>\n",
       "</div>"
      ],
      "text/plain": [
       "           Date Country State   Lat  Long  Confirmed  Recovered  Deaths\n",
       "8689 2020-03-20   Italy        43.0  12.0      47021       4440    4032\n",
       "8690 2020-03-21   Italy        43.0  12.0      53578       6072    4825\n",
       "8691 2020-03-22   Italy        43.0  12.0      59138       7024    5476\n",
       "8692 2020-03-23   Italy        43.0  12.0      63927       7024    6077\n",
       "8693 2020-03-24   Italy        43.0  12.0      69176          0    6820"
      ]
     },
     "execution_count": 181,
     "metadata": {},
     "output_type": "execute_result"
    }
   ],
   "source": [
    "italy_covid = covid[covid[\"Country\"] == \"Italy\"]\n",
    "italy_covid.tail()"
   ]
  },
  {
   "cell_type": "code",
   "execution_count": 182,
   "metadata": {},
   "outputs": [
    {
     "name": "stdout",
     "output_type": "stream",
     "text": [
      "Parameters: 0.1921429292017046 6.011048675092953\n",
      "Parameters: 0.23030930764165777 0.6183404515968682\n"
     ]
    },
    {
     "data": {
      "image/png": "[encoded data removed]",
      "text/plain": [
       "<Figure size 432x288 with 1 Axes>"
      ]
     },
     "metadata": {
      "needs_background": "light"
     },
     "output_type": "display_data"
    }
   ],
   "source": [
    "country_plot2(\"Italy\", statuses=[\"Confirmed\",\"Deaths\"], fit_exp=True)"
   ]
  },
  {
   "cell_type": "code",
   "execution_count": 196,
   "metadata": {},
   "outputs": [
    {
     "name": "stdout",
     "output_type": "stream",
     "text": [
      "Parameters: 0.27203847036324713 1.2080053345227069\n",
      "Parameters: 0.36768052107398047 -7.621915463492144\n"
     ]
    },
    {
     "data": {
      "image/png": "[encoded data removed]",
      "text/plain": [
       "<Figure size 432x288 with 1 Axes>"
      ]
     },
     "metadata": {
      "needs_background": "light"
     },
     "output_type": "display_data"
    }
   ],
   "source": [
    "country_plot2(\"Spain\", statuses=[\"Confirmed\",\"Deaths\"], fit_exp=True)"
   ]
  },
  {
   "cell_type": "code",
   "execution_count": 197,
   "metadata": {},
   "outputs": [
    {
     "name": "stdout",
     "output_type": "stream",
     "text": [
      "Parameters: 0.29478022583379104 -2.5861956456093385\n",
      "Parameters: 0.370608037031422 -10.856106053101572\n"
     ]
    },
    {
     "data": {
      "image/png": "[encoded data removed]",
      "text/plain": [
       "<Figure size 432x288 with 1 Axes>"
      ]
     },
     "metadata": {
      "needs_background": "light"
     },
     "output_type": "display_data"
    }
   ],
   "source": [
    "country_plot2(\"United Kingdom\", statuses=[\"Confirmed\",\"Deaths\"], fit_exp=True)"
   ]
  },
  {
   "cell_type": "code",
   "execution_count": 201,
   "metadata": {},
   "outputs": [
    {
     "name": "stdout",
     "output_type": "stream",
     "text": [
      "Parameters: 0.10207669644218892 2.7507005761488457\n",
      "Parameters: 0.46342598971128174 -26.949466228137993\n"
     ]
    },
    {
     "data": {
      "image/png": "[encoded data removed]",
      "text/plain": [
       "<Figure size 432x288 with 1 Axes>"
      ]
     },
     "metadata": {
      "needs_background": "light"
     },
     "output_type": "display_data"
    }
   ],
   "source": [
    "country_plot2(\"Singapore\", statuses=[\"Confirmed\",\"Deaths\"], fit_exp=True)"
   ]
  },
  {
   "cell_type": "code",
   "execution_count": 199,
   "metadata": {},
   "outputs": [
    {
     "name": "stdout",
     "output_type": "stream",
     "text": [
      "Parameters: 0.40800460307269026 -9.524150194823159\n",
      "Parameters: 0.3823539039980562 -14.236463461831018\n"
     ]
    },
    {
     "data": {
      "image/png": "[encoded data removed]",
      "text/plain": [
       "<Figure size 432x288 with 1 Axes>"
      ]
     },
     "metadata": {
      "needs_background": "light"
     },
     "output_type": "display_data"
    }
   ],
   "source": [
    "country_plot2(\"US\", statuses=[\"Confirmed\",\"Deaths\"], fit_exp=True)"
   ]
  },
  {
   "cell_type": "code",
   "execution_count": 206,
   "metadata": {},
   "outputs": [
    {
     "name": "stdout",
     "output_type": "stream",
     "text": [
      "Parameters: 0.3111071102381673 -7.011526992876877\n",
      "Parameters: 0.13429693668670628 -4.673386008989395\n",
      "Parameters: 0.08018908272261067 0.8460248579446311\n"
     ]
    },
    {
     "data": {
      "image/png": "[encoded data removed]",
      "text/plain": [
       "<Figure size 432x288 with 1 Axes>"
      ]
     },
     "metadata": {
      "needs_background": "light"
     },
     "output_type": "display_data"
    }
   ],
   "source": [
    "country_plot2(\"Australia\", statuses=[\"Confirmed\",\"Deaths\",\"Recovered\"],fit_exp=True)"
   ]
  },
  {
   "cell_type": "code",
   "execution_count": 184,
   "metadata": {},
   "outputs": [
    {
     "name": "stdout",
     "output_type": "stream",
     "text": [
      "Parameters: 0.2435555569934818 -0.0936586590486064\n",
      "Parameters: 0.3815214790078666 -12.757815065817967\n"
     ]
    },
    {
     "data": {
      "image/png": "[encoded data removed]",
      "text/plain": [
       "<Figure size 432x288 with 1 Axes>"
      ]
     },
     "metadata": {
      "needs_background": "light"
     },
     "output_type": "display_data"
    }
   ],
   "source": [
    "country_plot2(\"France\", fit_exp=True)"
   ]
  },
  {
   "cell_type": "code",
   "execution_count": 185,
   "metadata": {},
   "outputs": [
    {
     "data": {
      "image/png": "[encoded data removed]",
      "text/plain": [
       "<Figure size 432x288 with 1 Axes>"
      ]
     },
     "metadata": {
      "needs_background": "light"
     },
     "output_type": "display_data"
    }
   ],
   "source": [
    "country_plot2(\"China\", fit_exp=False)"
   ]
  },
  {
   "cell_type": "code",
   "execution_count": 186,
   "metadata": {},
   "outputs": [
    {
     "name": "stdout",
     "output_type": "stream",
     "text": [
      "Parameters: 0.08044246399656302 8.522277285670823\n",
      "Parameters: 0.10780753604693423 0.3485259895081262\n"
     ]
    },
    {
     "data": {
      "image/png": "[encoded data removed]",
      "text/plain": [
       "<Figure size 432x288 with 1 Axes>"
      ]
     },
     "metadata": {
      "needs_background": "light"
     },
     "output_type": "display_data"
    }
   ],
   "source": [
    "covid[covid[\"Country\"].between(\"Ko\", \"Kp\")]\n",
    "country_plot2(\"Korea, South\", fit_exp=True)"
   ]
  },
  {
   "cell_type": "code",
   "execution_count": 204,
   "metadata": {},
   "outputs": [
    {
     "data": {
      "text/html": [
       "<div>\n",
       "<style scoped>\n",
       "    .dataframe tbody tr th:only-of-type {\n",
       "        vertical-align: middle;\n",
       "    }\n",
       "\n",
       "    .dataframe tbody tr th {\n",
       "        vertical-align: top;\n",
       "    }\n",
       "\n",
       "    .dataframe thead th {\n",
       "        text-align: right;\n",
       "    }\n",
       "</style>\n",
       "<table border=\"1\" class=\"dataframe\">\n",
       "  <thead>\n",
       "    <tr style=\"text-align: right;\">\n",
       "      <th></th>\n",
       "      <th>Date</th>\n",
       "      <th>Country</th>\n",
       "      <th>State</th>\n",
       "      <th>Lat</th>\n",
       "      <th>Long</th>\n",
       "      <th>Confirmed</th>\n",
       "      <th>Recovered</th>\n",
       "      <th>Deaths</th>\n",
       "    </tr>\n",
       "  </thead>\n",
       "  <tbody>\n",
       "    <tr>\n",
       "      <td>10768</td>\n",
       "      <td>2020-03-20</td>\n",
       "      <td>New Zealand</td>\n",
       "      <td></td>\n",
       "      <td>-40.9006</td>\n",
       "      <td>174.886</td>\n",
       "      <td>39</td>\n",
       "      <td>0</td>\n",
       "      <td>0</td>\n",
       "    </tr>\n",
       "    <tr>\n",
       "      <td>10769</td>\n",
       "      <td>2020-03-21</td>\n",
       "      <td>New Zealand</td>\n",
       "      <td></td>\n",
       "      <td>-40.9006</td>\n",
       "      <td>174.886</td>\n",
       "      <td>52</td>\n",
       "      <td>0</td>\n",
       "      <td>0</td>\n",
       "    </tr>\n",
       "    <tr>\n",
       "      <td>10770</td>\n",
       "      <td>2020-03-22</td>\n",
       "      <td>New Zealand</td>\n",
       "      <td></td>\n",
       "      <td>-40.9006</td>\n",
       "      <td>174.886</td>\n",
       "      <td>102</td>\n",
       "      <td>0</td>\n",
       "      <td>0</td>\n",
       "    </tr>\n",
       "    <tr>\n",
       "      <td>10771</td>\n",
       "      <td>2020-03-23</td>\n",
       "      <td>New Zealand</td>\n",
       "      <td></td>\n",
       "      <td>-40.9006</td>\n",
       "      <td>174.886</td>\n",
       "      <td>102</td>\n",
       "      <td>0</td>\n",
       "      <td>0</td>\n",
       "    </tr>\n",
       "    <tr>\n",
       "      <td>10772</td>\n",
       "      <td>2020-03-24</td>\n",
       "      <td>New Zealand</td>\n",
       "      <td></td>\n",
       "      <td>-40.9006</td>\n",
       "      <td>174.886</td>\n",
       "      <td>155</td>\n",
       "      <td>0</td>\n",
       "      <td>0</td>\n",
       "    </tr>\n",
       "  </tbody>\n",
       "</table>\n",
       "</div>"
      ],
      "text/plain": [
       "            Date      Country State      Lat     Long  Confirmed  Recovered  \\\n",
       "10768 2020-03-20  New Zealand       -40.9006  174.886         39          0   \n",
       "10769 2020-03-21  New Zealand       -40.9006  174.886         52          0   \n",
       "10770 2020-03-22  New Zealand       -40.9006  174.886        102          0   \n",
       "10771 2020-03-23  New Zealand       -40.9006  174.886        102          0   \n",
       "10772 2020-03-24  New Zealand       -40.9006  174.886        155          0   \n",
       "\n",
       "       Deaths  \n",
       "10768       0  \n",
       "10769       0  \n",
       "10770       0  \n",
       "10771       0  \n",
       "10772       0  "
      ]
     },
     "execution_count": 204,
     "metadata": {},
     "output_type": "execute_result"
    }
   ],
   "source": [
    "newzealand_covid = covid[covid[\"Country\"] == \"New Zealand\"]\n",
    "newzealand_covid.tail()"
   ]
  },
  {
   "cell_type": "code",
   "execution_count": 205,
   "metadata": {},
   "outputs": [
    {
     "data": {
      "image/png": "[encoded data removed]",
      "text/plain": [
       "<Figure size 432x288 with 1 Axes>"
      ]
     },
     "metadata": {
      "needs_background": "light"
     },
     "output_type": "display_data"
    }
   ],
   "source": [
    "country_plot2(\"New Zealand\", statuses=[\"Confirmed\",\"Deaths\"], fit_exp=False)"
   ]
  },
  {
   "cell_type": "code",
   "execution_count": null,
   "metadata": {},
   "outputs": [],
   "source": []
  },
  {
   "cell_type": "code",
   "execution_count": null,
   "metadata": {},
   "outputs": [],
   "source": []
  },
  {
   "cell_type": "code",
   "execution_count": null,
   "metadata": {},
   "outputs": [],
   "source": []
  },
  {
   "cell_type": "code",
   "execution_count": null,
   "metadata": {},
   "outputs": [],
   "source": []
  },
  {
   "cell_type": "code",
   "execution_count": null,
   "metadata": {},
   "outputs": [],
   "source": []
  },
  {
   "cell_type": "code",
   "execution_count": 187,
   "metadata": {},
   "outputs": [
    {
     "ename": "NameError",
     "evalue": "name 'italycovid' is not defined",
     "output_type": "error",
     "traceback": [
      "\u001b[0;31m---------------------------------------------------------------------------\u001b[0m",
      "\u001b[0;31mNameError\u001b[0m                                 Traceback (most recent call last)",
      "\u001b[0;32m<ipython-input-187-06b56da3d3e5>\u001b[0m in \u001b[0;36m<module>\u001b[0;34m\u001b[0m\n\u001b[0;32m----> 1\u001b[0;31m \u001b[0mitaly_comparative\u001b[0m \u001b[0;34m=\u001b[0m \u001b[0mitalycovid\u001b[0m\u001b[0;34m[\u001b[0m\u001b[0;34m(\u001b[0m\u001b[0mitalycovid\u001b[0m\u001b[0;34m[\u001b[0m\u001b[0;34m\"Confirmed\"\u001b[0m\u001b[0;34m]\u001b[0m\u001b[0;34m<\u001b[0m\u001b[0;36m1500\u001b[0m\u001b[0;34m)\u001b[0m \u001b[0;34m&\u001b[0m \u001b[0;34m(\u001b[0m\u001b[0mitalycovid\u001b[0m\u001b[0;34m[\u001b[0m\u001b[0;34m\"Confirmed\"\u001b[0m\u001b[0;34m]\u001b[0m\u001b[0;34m>\u001b[0m\u001b[0;36m0\u001b[0m\u001b[0;34m)\u001b[0m\u001b[0;34m]\u001b[0m\u001b[0;34m\u001b[0m\u001b[0;34m\u001b[0m\u001b[0m\n\u001b[0m\u001b[1;32m      2\u001b[0m \u001b[0mitaly_comparative\u001b[0m\u001b[0;34m.\u001b[0m\u001b[0mtail\u001b[0m\u001b[0;34m(\u001b[0m\u001b[0;34m)\u001b[0m\u001b[0;34m\u001b[0m\u001b[0;34m\u001b[0m\u001b[0m\n",
      "\u001b[0;31mNameError\u001b[0m: name 'italycovid' is not defined"
     ]
    }
   ],
   "source": [
    "italy_comparative = italycovid[(italycovid[\"Confirmed\"]<1500) & (italycovid[\"Confirmed\"]>0)]\n",
    "italy_comparative.tail()"
   ]
  },
  {
   "cell_type": "code",
   "execution_count": 188,
   "metadata": {},
   "outputs": [
    {
     "ename": "NameError",
     "evalue": "name 'italy_comparative' is not defined",
     "output_type": "error",
     "traceback": [
      "\u001b[0;31m---------------------------------------------------------------------------\u001b[0m",
      "\u001b[0;31mNameError\u001b[0m                                 Traceback (most recent call last)",
      "\u001b[0;32m<ipython-input-188-8bffece01ef7>\u001b[0m in \u001b[0;36m<module>\u001b[0;34m\u001b[0m\n\u001b[0;32m----> 1\u001b[0;31m \u001b[0mplt\u001b[0m\u001b[0;34m.\u001b[0m\u001b[0mplot\u001b[0m\u001b[0;34m(\u001b[0m\u001b[0mnp\u001b[0m\u001b[0;34m.\u001b[0m\u001b[0marange\u001b[0m\u001b[0;34m(\u001b[0m\u001b[0mlen\u001b[0m\u001b[0;34m(\u001b[0m\u001b[0mitaly_comparative\u001b[0m\u001b[0;34m)\u001b[0m\u001b[0;34m)\u001b[0m\u001b[0;34m,\u001b[0m\u001b[0mitaly_comparative\u001b[0m\u001b[0;34m[\u001b[0m\u001b[0;34m\"Confirmed\"\u001b[0m\u001b[0;34m]\u001b[0m\u001b[0;34m)\u001b[0m\u001b[0;34m\u001b[0m\u001b[0;34m\u001b[0m\u001b[0m\n\u001b[0m\u001b[1;32m      2\u001b[0m \u001b[0mplt\u001b[0m\u001b[0;34m.\u001b[0m\u001b[0mshow\u001b[0m\u001b[0;34m(\u001b[0m\u001b[0;34m)\u001b[0m\u001b[0;34m\u001b[0m\u001b[0;34m\u001b[0m\u001b[0m\n",
      "\u001b[0;31mNameError\u001b[0m: name 'italy_comparative' is not defined"
     ]
    }
   ],
   "source": [
    "plt.plot(np.arange(len(italy_comparative)),italy_comparative[\"Confirmed\"])\n",
    "plt.show()"
   ]
  },
  {
   "cell_type": "code",
   "execution_count": 189,
   "metadata": {},
   "outputs": [
    {
     "ename": "NameError",
     "evalue": "name 'italy_comparative' is not defined",
     "output_type": "error",
     "traceback": [
      "\u001b[0;31m---------------------------------------------------------------------------\u001b[0m",
      "\u001b[0;31mNameError\u001b[0m                                 Traceback (most recent call last)",
      "\u001b[0;32m<ipython-input-189-71f57671ed17>\u001b[0m in \u001b[0;36m<module>\u001b[0;34m\u001b[0m\n\u001b[0;32m----> 1\u001b[0;31m \u001b[0mxs\u001b[0m \u001b[0;34m=\u001b[0m \u001b[0mnp\u001b[0m\u001b[0;34m.\u001b[0m\u001b[0marange\u001b[0m\u001b[0;34m(\u001b[0m\u001b[0mlen\u001b[0m\u001b[0;34m(\u001b[0m\u001b[0mitaly_comparative\u001b[0m\u001b[0;34m)\u001b[0m\u001b[0;34m)\u001b[0m\u001b[0;34m\u001b[0m\u001b[0;34m\u001b[0m\u001b[0m\n\u001b[0m\u001b[1;32m      2\u001b[0m \u001b[0;34m(\u001b[0m\u001b[0;34m(\u001b[0m\u001b[0mb\u001b[0m\u001b[0;34m,\u001b[0m \u001b[0mc\u001b[0m\u001b[0;34m)\u001b[0m\u001b[0;34m,\u001b[0m \u001b[0mcovariance\u001b[0m\u001b[0;34m)\u001b[0m \u001b[0;34m=\u001b[0m \u001b[0mcurve_fit\u001b[0m\u001b[0;34m(\u001b[0m\u001b[0mmy_zexp\u001b[0m\u001b[0;34m,\u001b[0m \u001b[0mxs\u001b[0m\u001b[0;34m,\u001b[0m \u001b[0mitaly_nz\u001b[0m\u001b[0;34m[\u001b[0m\u001b[0;34m\"Confirmed\"\u001b[0m\u001b[0;34m]\u001b[0m\u001b[0;34m)\u001b[0m\u001b[0;34m\u001b[0m\u001b[0;34m\u001b[0m\u001b[0m\n\u001b[1;32m      3\u001b[0m \u001b[0mplt\u001b[0m\u001b[0;34m.\u001b[0m\u001b[0mplot\u001b[0m\u001b[0;34m(\u001b[0m\u001b[0mxs\u001b[0m\u001b[0;34m,\u001b[0m\u001b[0mitaly_nz\u001b[0m\u001b[0;34m[\u001b[0m\u001b[0;34m\"Confirmed\"\u001b[0m\u001b[0;34m]\u001b[0m\u001b[0;34m,\u001b[0m \u001b[0mcolor\u001b[0m\u001b[0;34m=\u001b[0m\u001b[0;34m'blue'\u001b[0m\u001b[0;34m)\u001b[0m\u001b[0;34m\u001b[0m\u001b[0;34m\u001b[0m\u001b[0m\n\u001b[1;32m      4\u001b[0m \u001b[0moptimised_guesses\u001b[0m \u001b[0;34m=\u001b[0m \u001b[0mmy_zexp\u001b[0m\u001b[0;34m(\u001b[0m\u001b[0mxs\u001b[0m\u001b[0;34m,\u001b[0m \u001b[0mb\u001b[0m\u001b[0;34m,\u001b[0m \u001b[0mc\u001b[0m\u001b[0;34m)\u001b[0m\u001b[0;34m\u001b[0m\u001b[0;34m\u001b[0m\u001b[0m\n\u001b[1;32m      5\u001b[0m \u001b[0mprint\u001b[0m\u001b[0;34m(\u001b[0m\u001b[0;34m\"Parameters:\"\u001b[0m\u001b[0;34m,\u001b[0m \u001b[0mb\u001b[0m\u001b[0;34m,\u001b[0m \u001b[0mc\u001b[0m\u001b[0;34m)\u001b[0m\u001b[0;34m\u001b[0m\u001b[0;34m\u001b[0m\u001b[0m\n",
      "\u001b[0;31mNameError\u001b[0m: name 'italy_comparative' is not defined"
     ]
    }
   ],
   "source": [
    "xs = np.arange(len(italy_comparative))\n",
    "((b, c), covariance) = curve_fit(my_zexp, xs, italy_nz[\"Confirmed\"])\n",
    "plt.plot(xs,italy_nz[\"Confirmed\"], color='blue')\n",
    "optimised_guesses = my_zexp(xs, b, c)\n",
    "print(\"Parameters:\", b, c)\n",
    "plt.plot(xs, optimised_guesses, alpha=0.7, color='red')\n",
    "plt.xlabel(\"Days since first recorded case\")\n",
    "plt.ylabel(\"Number of confirmed infections\")\n",
    "plt.title(\"Italy\")\n",
    "plt.show()"
   ]
  },
  {
   "cell_type": "code",
   "execution_count": 190,
   "metadata": {},
   "outputs": [
    {
     "ename": "NameError",
     "evalue": "name 'italycovid' is not defined",
     "output_type": "error",
     "traceback": [
      "\u001b[0;31m---------------------------------------------------------------------------\u001b[0m",
      "\u001b[0;31mNameError\u001b[0m                                 Traceback (most recent call last)",
      "\u001b[0;32m<ipython-input-190-0279609344a2>\u001b[0m in \u001b[0;36m<module>\u001b[0;34m\u001b[0m\n\u001b[0;32m----> 1\u001b[0;31m \u001b[0mxs\u001b[0m \u001b[0;34m=\u001b[0m \u001b[0mnp\u001b[0m\u001b[0;34m.\u001b[0m\u001b[0marange\u001b[0m\u001b[0;34m(\u001b[0m\u001b[0mlen\u001b[0m\u001b[0;34m(\u001b[0m\u001b[0mitalycovid\u001b[0m\u001b[0;34m)\u001b[0m\u001b[0;34m)\u001b[0m\u001b[0;34m\u001b[0m\u001b[0;34m\u001b[0m\u001b[0m\n\u001b[0m\u001b[1;32m      2\u001b[0m \u001b[0mplt\u001b[0m\u001b[0;34m.\u001b[0m\u001b[0mplot\u001b[0m\u001b[0;34m(\u001b[0m\u001b[0mxs\u001b[0m\u001b[0;34m,\u001b[0m\u001b[0mitalycovid\u001b[0m\u001b[0;34m[\u001b[0m\u001b[0;34m\"Confirmed\"\u001b[0m\u001b[0;34m]\u001b[0m\u001b[0;34m,\u001b[0m \u001b[0mcolor\u001b[0m\u001b[0;34m=\u001b[0m\u001b[0;34m'blue'\u001b[0m\u001b[0;34m)\u001b[0m\u001b[0;34m\u001b[0m\u001b[0;34m\u001b[0m\u001b[0m\n\u001b[1;32m      3\u001b[0m \u001b[0;31m#((b, c), covariance) = curve_fit(my_zexp, xs, italy_nz[\"Confirmed\"])\u001b[0m\u001b[0;34m\u001b[0m\u001b[0;34m\u001b[0m\u001b[0;34m\u001b[0m\u001b[0m\n\u001b[1;32m      4\u001b[0m \u001b[0;31m#optimised_guesses = my_zexp(xs, b, c)\u001b[0m\u001b[0;34m\u001b[0m\u001b[0;34m\u001b[0m\u001b[0;34m\u001b[0m\u001b[0m\n\u001b[1;32m      5\u001b[0m \u001b[0;31m#print(\"Parameters:\", b, c)\u001b[0m\u001b[0;34m\u001b[0m\u001b[0;34m\u001b[0m\u001b[0;34m\u001b[0m\u001b[0m\n",
      "\u001b[0;31mNameError\u001b[0m: name 'italycovid' is not defined"
     ]
    }
   ],
   "source": [
    "xs = np.arange(len(italycovid))\n",
    "plt.plot(xs,italycovid[\"Confirmed\"], color='blue')\n",
    "#((b, c), covariance) = curve_fit(my_zexp, xs, italy_nz[\"Confirmed\"])\n",
    "#optimised_guesses = my_zexp(xs, b, c)\n",
    "#print(\"Parameters:\", b, c)\n",
    "#plt.plot(xs, optimised_guesses, alpha=0.7, color='red')\n",
    "plt.xlabel(\"Days since first recorded case\")\n",
    "plt.ylabel(\"Number of confirmed infections\")\n",
    "plt.title(\"Italy\")\n",
    "plt.show()"
   ]
  },
  {
   "cell_type": "code",
   "execution_count": null,
   "metadata": {},
   "outputs": [],
   "source": []
  },
  {
   "cell_type": "markdown",
   "metadata": {},
   "source": [
    "## Spain"
   ]
  },
  {
   "cell_type": "code",
   "execution_count": 191,
   "metadata": {},
   "outputs": [
    {
     "ename": "NameError",
     "evalue": "name 'overall_plot' is not defined",
     "output_type": "error",
     "traceback": [
      "\u001b[0;31m---------------------------------------------------------------------------\u001b[0m",
      "\u001b[0;31mNameError\u001b[0m                                 Traceback (most recent call last)",
      "\u001b[0;32m<ipython-input-191-9a5eff9e5926>\u001b[0m in \u001b[0;36m<module>\u001b[0;34m\u001b[0m\n\u001b[0;32m----> 1\u001b[0;31m \u001b[0moverall_plot\u001b[0m\u001b[0;34m(\u001b[0m\u001b[0;34m\"Spain\"\u001b[0m\u001b[0;34m,\u001b[0m \u001b[0mfitexp\u001b[0m\u001b[0;34m=\u001b[0m\u001b[0;32mTrue\u001b[0m\u001b[0;34m,\u001b[0m \u001b[0mlimit\u001b[0m\u001b[0;34m=\u001b[0m\u001b[0;36m1600\u001b[0m\u001b[0;34m)\u001b[0m\u001b[0;34m\u001b[0m\u001b[0;34m\u001b[0m\u001b[0m\n\u001b[0m\u001b[1;32m      2\u001b[0m \u001b[0moverall_plot\u001b[0m\u001b[0;34m(\u001b[0m\u001b[0;34m\"Italy\"\u001b[0m\u001b[0;34m,\u001b[0m \u001b[0mfitexp\u001b[0m\u001b[0;34m=\u001b[0m\u001b[0;32mTrue\u001b[0m\u001b[0;34m,\u001b[0m \u001b[0mlimit\u001b[0m\u001b[0;34m=\u001b[0m\u001b[0;36m1400\u001b[0m\u001b[0;34m)\u001b[0m\u001b[0;34m\u001b[0m\u001b[0;34m\u001b[0m\u001b[0m\n\u001b[1;32m      3\u001b[0m \u001b[0moverall_plot\u001b[0m\u001b[0;34m(\u001b[0m\u001b[0;34m\"Singapore\"\u001b[0m\u001b[0;34m)\u001b[0m\u001b[0;34m\u001b[0m\u001b[0;34m\u001b[0m\u001b[0m\n\u001b[1;32m      4\u001b[0m \u001b[0moverall_plot\u001b[0m\u001b[0;34m(\u001b[0m\u001b[0;34m\"South Korea\"\u001b[0m\u001b[0;34m)\u001b[0m\u001b[0;34m\u001b[0m\u001b[0;34m\u001b[0m\u001b[0m\n\u001b[1;32m      5\u001b[0m \u001b[0moverall_plot\u001b[0m\u001b[0;34m(\u001b[0m\u001b[0;34m\"China\"\u001b[0m\u001b[0;34m)\u001b[0m\u001b[0;34m\u001b[0m\u001b[0;34m\u001b[0m\u001b[0m\n",
      "\u001b[0;31mNameError\u001b[0m: name 'overall_plot' is not defined"
     ]
    }
   ],
   "source": [
    "overall_plot(\"Spain\", fitexp=True, limit=1600)\n",
    "overall_plot(\"Italy\", fitexp=True, limit=1400)\n",
    "overall_plot(\"Singapore\")\n",
    "overall_plot(\"South Korea\")\n",
    "overall_plot(\"China\")"
   ]
  },
  {
   "cell_type": "code",
   "execution_count": 192,
   "metadata": {},
   "outputs": [
    {
     "data": {
      "text/html": [
       "<div>\n",
       "<style scoped>\n",
       "    .dataframe tbody tr th:only-of-type {\n",
       "        vertical-align: middle;\n",
       "    }\n",
       "\n",
       "    .dataframe tbody tr th {\n",
       "        vertical-align: top;\n",
       "    }\n",
       "\n",
       "    .dataframe thead th {\n",
       "        text-align: right;\n",
       "    }\n",
       "</style>\n",
       "<table border=\"1\" class=\"dataframe\">\n",
       "  <thead>\n",
       "    <tr style=\"text-align: right;\">\n",
       "      <th></th>\n",
       "      <th>Date</th>\n",
       "      <th>Country</th>\n",
       "      <th>State</th>\n",
       "      <th>Lat</th>\n",
       "      <th>Long</th>\n",
       "      <th>Confirmed</th>\n",
       "      <th>Recovered</th>\n",
       "      <th>Deaths</th>\n",
       "    </tr>\n",
       "  </thead>\n",
       "  <tbody>\n",
       "    <tr>\n",
       "      <td>12706</td>\n",
       "      <td>2020-03-05</td>\n",
       "      <td>Spain</td>\n",
       "      <td></td>\n",
       "      <td>40.0</td>\n",
       "      <td>-4.0</td>\n",
       "      <td>259</td>\n",
       "      <td>2</td>\n",
       "      <td>3</td>\n",
       "    </tr>\n",
       "    <tr>\n",
       "      <td>12707</td>\n",
       "      <td>2020-03-06</td>\n",
       "      <td>Spain</td>\n",
       "      <td></td>\n",
       "      <td>40.0</td>\n",
       "      <td>-4.0</td>\n",
       "      <td>400</td>\n",
       "      <td>2</td>\n",
       "      <td>5</td>\n",
       "    </tr>\n",
       "    <tr>\n",
       "      <td>12708</td>\n",
       "      <td>2020-03-07</td>\n",
       "      <td>Spain</td>\n",
       "      <td></td>\n",
       "      <td>40.0</td>\n",
       "      <td>-4.0</td>\n",
       "      <td>500</td>\n",
       "      <td>30</td>\n",
       "      <td>10</td>\n",
       "    </tr>\n",
       "    <tr>\n",
       "      <td>12709</td>\n",
       "      <td>2020-03-08</td>\n",
       "      <td>Spain</td>\n",
       "      <td></td>\n",
       "      <td>40.0</td>\n",
       "      <td>-4.0</td>\n",
       "      <td>673</td>\n",
       "      <td>30</td>\n",
       "      <td>17</td>\n",
       "    </tr>\n",
       "    <tr>\n",
       "      <td>12710</td>\n",
       "      <td>2020-03-09</td>\n",
       "      <td>Spain</td>\n",
       "      <td></td>\n",
       "      <td>40.0</td>\n",
       "      <td>-4.0</td>\n",
       "      <td>1073</td>\n",
       "      <td>32</td>\n",
       "      <td>28</td>\n",
       "    </tr>\n",
       "    <tr>\n",
       "      <td>12711</td>\n",
       "      <td>2020-03-10</td>\n",
       "      <td>Spain</td>\n",
       "      <td></td>\n",
       "      <td>40.0</td>\n",
       "      <td>-4.0</td>\n",
       "      <td>1695</td>\n",
       "      <td>32</td>\n",
       "      <td>35</td>\n",
       "    </tr>\n",
       "    <tr>\n",
       "      <td>12712</td>\n",
       "      <td>2020-03-11</td>\n",
       "      <td>Spain</td>\n",
       "      <td></td>\n",
       "      <td>40.0</td>\n",
       "      <td>-4.0</td>\n",
       "      <td>2277</td>\n",
       "      <td>183</td>\n",
       "      <td>54</td>\n",
       "    </tr>\n",
       "    <tr>\n",
       "      <td>12713</td>\n",
       "      <td>2020-03-12</td>\n",
       "      <td>Spain</td>\n",
       "      <td></td>\n",
       "      <td>40.0</td>\n",
       "      <td>-4.0</td>\n",
       "      <td>2277</td>\n",
       "      <td>183</td>\n",
       "      <td>55</td>\n",
       "    </tr>\n",
       "    <tr>\n",
       "      <td>12714</td>\n",
       "      <td>2020-03-13</td>\n",
       "      <td>Spain</td>\n",
       "      <td></td>\n",
       "      <td>40.0</td>\n",
       "      <td>-4.0</td>\n",
       "      <td>5232</td>\n",
       "      <td>193</td>\n",
       "      <td>133</td>\n",
       "    </tr>\n",
       "    <tr>\n",
       "      <td>12715</td>\n",
       "      <td>2020-03-14</td>\n",
       "      <td>Spain</td>\n",
       "      <td></td>\n",
       "      <td>40.0</td>\n",
       "      <td>-4.0</td>\n",
       "      <td>6391</td>\n",
       "      <td>517</td>\n",
       "      <td>195</td>\n",
       "    </tr>\n",
       "    <tr>\n",
       "      <td>12716</td>\n",
       "      <td>2020-03-15</td>\n",
       "      <td>Spain</td>\n",
       "      <td></td>\n",
       "      <td>40.0</td>\n",
       "      <td>-4.0</td>\n",
       "      <td>7798</td>\n",
       "      <td>517</td>\n",
       "      <td>289</td>\n",
       "    </tr>\n",
       "    <tr>\n",
       "      <td>12717</td>\n",
       "      <td>2020-03-16</td>\n",
       "      <td>Spain</td>\n",
       "      <td></td>\n",
       "      <td>40.0</td>\n",
       "      <td>-4.0</td>\n",
       "      <td>9942</td>\n",
       "      <td>530</td>\n",
       "      <td>342</td>\n",
       "    </tr>\n",
       "    <tr>\n",
       "      <td>12718</td>\n",
       "      <td>2020-03-17</td>\n",
       "      <td>Spain</td>\n",
       "      <td></td>\n",
       "      <td>40.0</td>\n",
       "      <td>-4.0</td>\n",
       "      <td>11748</td>\n",
       "      <td>1028</td>\n",
       "      <td>533</td>\n",
       "    </tr>\n",
       "    <tr>\n",
       "      <td>12719</td>\n",
       "      <td>2020-03-18</td>\n",
       "      <td>Spain</td>\n",
       "      <td></td>\n",
       "      <td>40.0</td>\n",
       "      <td>-4.0</td>\n",
       "      <td>13910</td>\n",
       "      <td>1081</td>\n",
       "      <td>623</td>\n",
       "    </tr>\n",
       "    <tr>\n",
       "      <td>12720</td>\n",
       "      <td>2020-03-19</td>\n",
       "      <td>Spain</td>\n",
       "      <td></td>\n",
       "      <td>40.0</td>\n",
       "      <td>-4.0</td>\n",
       "      <td>17963</td>\n",
       "      <td>1107</td>\n",
       "      <td>830</td>\n",
       "    </tr>\n",
       "    <tr>\n",
       "      <td>12721</td>\n",
       "      <td>2020-03-20</td>\n",
       "      <td>Spain</td>\n",
       "      <td></td>\n",
       "      <td>40.0</td>\n",
       "      <td>-4.0</td>\n",
       "      <td>20410</td>\n",
       "      <td>1588</td>\n",
       "      <td>1043</td>\n",
       "    </tr>\n",
       "    <tr>\n",
       "      <td>12722</td>\n",
       "      <td>2020-03-21</td>\n",
       "      <td>Spain</td>\n",
       "      <td></td>\n",
       "      <td>40.0</td>\n",
       "      <td>-4.0</td>\n",
       "      <td>25374</td>\n",
       "      <td>2125</td>\n",
       "      <td>1375</td>\n",
       "    </tr>\n",
       "    <tr>\n",
       "      <td>12723</td>\n",
       "      <td>2020-03-22</td>\n",
       "      <td>Spain</td>\n",
       "      <td></td>\n",
       "      <td>40.0</td>\n",
       "      <td>-4.0</td>\n",
       "      <td>28768</td>\n",
       "      <td>2575</td>\n",
       "      <td>1772</td>\n",
       "    </tr>\n",
       "    <tr>\n",
       "      <td>12724</td>\n",
       "      <td>2020-03-23</td>\n",
       "      <td>Spain</td>\n",
       "      <td></td>\n",
       "      <td>40.0</td>\n",
       "      <td>-4.0</td>\n",
       "      <td>35136</td>\n",
       "      <td>2575</td>\n",
       "      <td>2311</td>\n",
       "    </tr>\n",
       "    <tr>\n",
       "      <td>12725</td>\n",
       "      <td>2020-03-24</td>\n",
       "      <td>Spain</td>\n",
       "      <td></td>\n",
       "      <td>40.0</td>\n",
       "      <td>-4.0</td>\n",
       "      <td>39885</td>\n",
       "      <td>0</td>\n",
       "      <td>2808</td>\n",
       "    </tr>\n",
       "  </tbody>\n",
       "</table>\n",
       "</div>"
      ],
      "text/plain": [
       "            Date Country State   Lat  Long  Confirmed  Recovered  Deaths\n",
       "12706 2020-03-05   Spain        40.0  -4.0        259          2       3\n",
       "12707 2020-03-06   Spain        40.0  -4.0        400          2       5\n",
       "12708 2020-03-07   Spain        40.0  -4.0        500         30      10\n",
       "12709 2020-03-08   Spain        40.0  -4.0        673         30      17\n",
       "12710 2020-03-09   Spain        40.0  -4.0       1073         32      28\n",
       "12711 2020-03-10   Spain        40.0  -4.0       1695         32      35\n",
       "12712 2020-03-11   Spain        40.0  -4.0       2277        183      54\n",
       "12713 2020-03-12   Spain        40.0  -4.0       2277        183      55\n",
       "12714 2020-03-13   Spain        40.0  -4.0       5232        193     133\n",
       "12715 2020-03-14   Spain        40.0  -4.0       6391        517     195\n",
       "12716 2020-03-15   Spain        40.0  -4.0       7798        517     289\n",
       "12717 2020-03-16   Spain        40.0  -4.0       9942        530     342\n",
       "12718 2020-03-17   Spain        40.0  -4.0      11748       1028     533\n",
       "12719 2020-03-18   Spain        40.0  -4.0      13910       1081     623\n",
       "12720 2020-03-19   Spain        40.0  -4.0      17963       1107     830\n",
       "12721 2020-03-20   Spain        40.0  -4.0      20410       1588    1043\n",
       "12722 2020-03-21   Spain        40.0  -4.0      25374       2125    1375\n",
       "12723 2020-03-22   Spain        40.0  -4.0      28768       2575    1772\n",
       "12724 2020-03-23   Spain        40.0  -4.0      35136       2575    2311\n",
       "12725 2020-03-24   Spain        40.0  -4.0      39885          0    2808"
      ]
     },
     "execution_count": 192,
     "metadata": {},
     "output_type": "execute_result"
    }
   ],
   "source": [
    "spain_covid = covid[covid[\"Country\"] == \"Spain\"]\n",
    "spain_covid.tail(20)\n",
    "\n"
   ]
  },
  {
   "cell_type": "code",
   "execution_count": 193,
   "metadata": {},
   "outputs": [
    {
     "data": {
      "text/html": [
       "<div>\n",
       "<style scoped>\n",
       "    .dataframe tbody tr th:only-of-type {\n",
       "        vertical-align: middle;\n",
       "    }\n",
       "\n",
       "    .dataframe tbody tr th {\n",
       "        vertical-align: top;\n",
       "    }\n",
       "\n",
       "    .dataframe thead th {\n",
       "        text-align: right;\n",
       "    }\n",
       "</style>\n",
       "<table border=\"1\" class=\"dataframe\">\n",
       "  <thead>\n",
       "    <tr style=\"text-align: right;\">\n",
       "      <th></th>\n",
       "      <th>Date</th>\n",
       "      <th>Country</th>\n",
       "      <th>State</th>\n",
       "      <th>Lat</th>\n",
       "      <th>Long</th>\n",
       "      <th>Confirmed</th>\n",
       "      <th>Recovered</th>\n",
       "      <th>Deaths</th>\n",
       "    </tr>\n",
       "  </thead>\n",
       "  <tbody>\n",
       "    <tr>\n",
       "      <td>6741</td>\n",
       "      <td>2020-01-22</td>\n",
       "      <td>France</td>\n",
       "      <td>French Guiana</td>\n",
       "      <td>3.9339</td>\n",
       "      <td>-53.1258</td>\n",
       "      <td>0</td>\n",
       "      <td>0</td>\n",
       "      <td>0</td>\n",
       "    </tr>\n",
       "    <tr>\n",
       "      <td>6742</td>\n",
       "      <td>2020-01-23</td>\n",
       "      <td>France</td>\n",
       "      <td>French Guiana</td>\n",
       "      <td>3.9339</td>\n",
       "      <td>-53.1258</td>\n",
       "      <td>0</td>\n",
       "      <td>0</td>\n",
       "      <td>0</td>\n",
       "    </tr>\n",
       "    <tr>\n",
       "      <td>6743</td>\n",
       "      <td>2020-01-24</td>\n",
       "      <td>France</td>\n",
       "      <td>French Guiana</td>\n",
       "      <td>3.9339</td>\n",
       "      <td>-53.1258</td>\n",
       "      <td>0</td>\n",
       "      <td>0</td>\n",
       "      <td>0</td>\n",
       "    </tr>\n",
       "    <tr>\n",
       "      <td>6744</td>\n",
       "      <td>2020-01-25</td>\n",
       "      <td>France</td>\n",
       "      <td>French Guiana</td>\n",
       "      <td>3.9339</td>\n",
       "      <td>-53.1258</td>\n",
       "      <td>0</td>\n",
       "      <td>0</td>\n",
       "      <td>0</td>\n",
       "    </tr>\n",
       "    <tr>\n",
       "      <td>6745</td>\n",
       "      <td>2020-01-26</td>\n",
       "      <td>France</td>\n",
       "      <td>French Guiana</td>\n",
       "      <td>3.9339</td>\n",
       "      <td>-53.1258</td>\n",
       "      <td>0</td>\n",
       "      <td>0</td>\n",
       "      <td>0</td>\n",
       "    </tr>\n",
       "  </tbody>\n",
       "</table>\n",
       "</div>"
      ],
      "text/plain": [
       "           Date Country          State     Lat     Long  Confirmed  Recovered  \\\n",
       "6741 2020-01-22  France  French Guiana  3.9339 -53.1258          0          0   \n",
       "6742 2020-01-23  France  French Guiana  3.9339 -53.1258          0          0   \n",
       "6743 2020-01-24  France  French Guiana  3.9339 -53.1258          0          0   \n",
       "6744 2020-01-25  France  French Guiana  3.9339 -53.1258          0          0   \n",
       "6745 2020-01-26  France  French Guiana  3.9339 -53.1258          0          0   \n",
       "\n",
       "      Deaths  \n",
       "6741       0  \n",
       "6742       0  \n",
       "6743       0  \n",
       "6744       0  \n",
       "6745       0  "
      ]
     },
     "execution_count": 193,
     "metadata": {},
     "output_type": "execute_result"
    }
   ],
   "source": [
    "france_covid = covid.loc[covid[\"Country\"] == \"France\"]\n",
    "france_covid.head()"
   ]
  },
  {
   "cell_type": "code",
   "execution_count": 194,
   "metadata": {},
   "outputs": [
    {
     "data": {
      "text/plain": [
       "6741    False\n",
       "6742    False\n",
       "6743    False\n",
       "6744    False\n",
       "6745    False\n",
       "        ...  \n",
       "7366     True\n",
       "7367     True\n",
       "7368     True\n",
       "7369     True\n",
       "7370     True\n",
       "Name: State, Length: 630, dtype: bool"
      ]
     },
     "execution_count": 194,
     "metadata": {},
     "output_type": "execute_result"
    }
   ],
   "source": [
    "france_covid[\"State\"].isin([\"\"])"
   ]
  },
  {
   "cell_type": "code",
   "execution_count": 195,
   "metadata": {},
   "outputs": [
    {
     "data": {
      "text/html": [
       "<div>\n",
       "<style scoped>\n",
       "    .dataframe tbody tr th:only-of-type {\n",
       "        vertical-align: middle;\n",
       "    }\n",
       "\n",
       "    .dataframe tbody tr th {\n",
       "        vertical-align: top;\n",
       "    }\n",
       "\n",
       "    .dataframe thead th {\n",
       "        text-align: right;\n",
       "    }\n",
       "</style>\n",
       "<table border=\"1\" class=\"dataframe\">\n",
       "  <thead>\n",
       "    <tr style=\"text-align: right;\">\n",
       "      <th></th>\n",
       "      <th>Date</th>\n",
       "      <th>Country</th>\n",
       "      <th>State</th>\n",
       "      <th>Lat</th>\n",
       "      <th>Long</th>\n",
       "      <th>Confirmed</th>\n",
       "      <th>Recovered</th>\n",
       "      <th>Deaths</th>\n",
       "    </tr>\n",
       "  </thead>\n",
       "  <tbody>\n",
       "    <tr>\n",
       "      <td>12721</td>\n",
       "      <td>2020-03-20</td>\n",
       "      <td>Spain</td>\n",
       "      <td></td>\n",
       "      <td>40.0</td>\n",
       "      <td>-4.0</td>\n",
       "      <td>20410</td>\n",
       "      <td>1588</td>\n",
       "      <td>1043</td>\n",
       "    </tr>\n",
       "    <tr>\n",
       "      <td>12722</td>\n",
       "      <td>2020-03-21</td>\n",
       "      <td>Spain</td>\n",
       "      <td></td>\n",
       "      <td>40.0</td>\n",
       "      <td>-4.0</td>\n",
       "      <td>25374</td>\n",
       "      <td>2125</td>\n",
       "      <td>1375</td>\n",
       "    </tr>\n",
       "    <tr>\n",
       "      <td>12723</td>\n",
       "      <td>2020-03-22</td>\n",
       "      <td>Spain</td>\n",
       "      <td></td>\n",
       "      <td>40.0</td>\n",
       "      <td>-4.0</td>\n",
       "      <td>28768</td>\n",
       "      <td>2575</td>\n",
       "      <td>1772</td>\n",
       "    </tr>\n",
       "    <tr>\n",
       "      <td>12724</td>\n",
       "      <td>2020-03-23</td>\n",
       "      <td>Spain</td>\n",
       "      <td></td>\n",
       "      <td>40.0</td>\n",
       "      <td>-4.0</td>\n",
       "      <td>35136</td>\n",
       "      <td>2575</td>\n",
       "      <td>2311</td>\n",
       "    </tr>\n",
       "    <tr>\n",
       "      <td>12725</td>\n",
       "      <td>2020-03-24</td>\n",
       "      <td>Spain</td>\n",
       "      <td></td>\n",
       "      <td>40.0</td>\n",
       "      <td>-4.0</td>\n",
       "      <td>39885</td>\n",
       "      <td>0</td>\n",
       "      <td>2808</td>\n",
       "    </tr>\n",
       "  </tbody>\n",
       "</table>\n",
       "</div>"
      ],
      "text/plain": [
       "            Date Country State   Lat  Long  Confirmed  Recovered  Deaths\n",
       "12721 2020-03-20   Spain        40.0  -4.0      20410       1588    1043\n",
       "12722 2020-03-21   Spain        40.0  -4.0      25374       2125    1375\n",
       "12723 2020-03-22   Spain        40.0  -4.0      28768       2575    1772\n",
       "12724 2020-03-23   Spain        40.0  -4.0      35136       2575    2311\n",
       "12725 2020-03-24   Spain        40.0  -4.0      39885          0    2808"
      ]
     },
     "execution_count": 195,
     "metadata": {},
     "output_type": "execute_result"
    }
   ],
   "source": [
    "spain_covid = covid.loc[covid[\"Country\"] == \"Spain\"]\n",
    "spain_covid.tail()"
   ]
  },
  {
   "cell_type": "code",
   "execution_count": null,
   "metadata": {},
   "outputs": [],
   "source": []
  },
  {
   "cell_type": "code",
   "execution_count": null,
   "metadata": {},
   "outputs": [],
   "source": []
  },
  {
   "cell_type": "code",
   "execution_count": null,
   "metadata": {},
   "outputs": [],
   "source": [
    "xs = np.arange(len(spain_covid))\n",
    "plt.plot(xs,italycovid[\"Confirmed\"], color='blue')\n",
    "#((b, c), covariance) = curve_fit(my_zexp, xs, italy_nz[\"Confirmed\"])\n",
    "#optimised_guesses = my_zexp(xs, b, c)\n",
    "#print(\"Parameters:\", b, c)\n",
    "#plt.plot(xs, optimised_guesses, alpha=0.7, color='red')\n",
    "plt.xlabel(\"Days since first recorded case\")\n",
    "plt.ylabel(\"Number of confirmed infections\")\n",
    "plt.title(\"Italy\")\n",
    "plt.show()"
   ]
  },
  {
   "cell_type": "code",
   "execution_count": null,
   "metadata": {},
   "outputs": [],
   "source": []
  },
  {
   "cell_type": "code",
   "execution_count": null,
   "metadata": {},
   "outputs": [],
   "source": []
  },
  {
   "cell_type": "code",
   "execution_count": null,
   "metadata": {},
   "outputs": [],
   "source": []
  },
  {
   "cell_type": "code",
   "execution_count": null,
   "metadata": {},
   "outputs": [],
   "source": []
  },
  {
   "cell_type": "code",
   "execution_count": null,
   "metadata": {},
   "outputs": [],
   "source": []
  },
  {
   "cell_type": "code",
   "execution_count": null,
   "metadata": {},
   "outputs": [],
   "source": []
  },
  {
   "cell_type": "code",
   "execution_count": null,
   "metadata": {},
   "outputs": [],
   "source": []
  },
  {
   "cell_type": "code",
   "execution_count": null,
   "metadata": {},
   "outputs": [],
   "source": [
    "italy_nz.plot.bar([\"Confirmed\"])"
   ]
  },
  {
   "cell_type": "code",
   "execution_count": null,
   "metadata": {},
   "outputs": [],
   "source": []
  },
  {
   "cell_type": "code",
   "execution_count": null,
   "metadata": {},
   "outputs": [],
   "source": []
  },
  {
   "cell_type": "code",
   "execution_count": null,
   "metadata": {},
   "outputs": [],
   "source": []
  },
  {
   "cell_type": "code",
   "execution_count": null,
   "metadata": {},
   "outputs": [],
   "source": []
  },
  {
   "cell_type": "code",
   "execution_count": null,
   "metadata": {},
   "outputs": [],
   "source": []
  },
  {
   "cell_type": "code",
   "execution_count": null,
   "metadata": {},
   "outputs": [],
   "source": []
  },
  {
   "cell_type": "code",
   "execution_count": null,
   "metadata": {},
   "outputs": [],
   "source": [
    "import json\n",
    "with open(\"datapackage.json\",'r') as file:\n",
    "    di = json.load(file)\n",
    "di"
   ]
  },
  {
   "cell_type": "code",
   "execution_count": null,
   "metadata": {},
   "outputs": [],
   "source": [
    "data = pd.read_csv(\"time-series-19-covid-combined.csv\", converters=di)\n",
    "data\n"
   ]
  },
  {
   "cell_type": "code",
   "execution_count": null,
   "metadata": {},
   "outputs": [],
   "source": [
    "for datum in data.iloc[1]:\n",
    "    print(type(datum))"
   ]
  },
  {
   "cell_type": "code",
   "execution_count": null,
   "metadata": {},
   "outputs": [],
   "source": [
    "import datapackage\n"
   ]
  },
  {
   "cell_type": "code",
   "execution_count": null,
   "metadata": {},
   "outputs": [],
   "source": [
    "j = pd.read_json(\"datapackage.json\")\n",
    "j.head()"
   ]
  },
  {
   "cell_type": "code",
   "execution_count": null,
   "metadata": {},
   "outputs": [],
   "source": []
  },
  {
   "cell_type": "code",
   "execution_count": null,
   "metadata": {},
   "outputs": [],
   "source": []
  },
  {
   "cell_type": "code",
   "execution_count": null,
   "metadata": {},
   "outputs": [],
   "source": [
    "mytypes = {\"Province/State\": str, \"Country/Region\": str,\n",
    "           \"Lat\": np.float64, \"Long\": np.float64,\n",
    "           \"Date\": str, \n",
    "           \"Confirmed\": np.int64, \"Recovered\": np.int64, \"Deaths\": np.int64}\n",
    "data = pd.read_csv(\"time-series-19-covid-combined.csv\", dtype=mytypes, na_filter=False)\n",
    "data"
   ]
  },
  {
   "cell_type": "code",
   "execution_count": null,
   "metadata": {},
   "outputs": [],
   "source": [
    "for datum in data.iloc[1]:\n",
    "    print(type(datum))"
   ]
  },
  {
   "cell_type": "code",
   "execution_count": null,
   "metadata": {},
   "outputs": [],
   "source": [
    "type(data[\"Date\"])"
   ]
  },
  {
   "cell_type": "code",
   "execution_count": null,
   "metadata": {},
   "outputs": [],
   "source": [
    "data[\"Date\"].dtypes\n"
   ]
  },
  {
   "cell_type": "code",
   "execution_count": null,
   "metadata": {},
   "outputs": [],
   "source": [
    "data.infer_objects()"
   ]
  },
  {
   "cell_type": "code",
   "execution_count": null,
   "metadata": {},
   "outputs": [],
   "source": []
  }
 ],
 "metadata": {
  "kernelspec": {
   "display_name": "Python 3",
   "language": "python",
   "name": "python3"
  },
  "language_info": {
   "codemirror_mode": {
    "name": "ipython",
    "version": 3
   },
   "file_extension": ".py",
   "mimetype": "text/x-python",
   "name": "python",
   "nbconvert_exporter": "python",
   "pygments_lexer": "ipython3",
   "version": "3.7.4"
  }
 },
 "nbformat": 4,
 "nbformat_minor": 4
}
