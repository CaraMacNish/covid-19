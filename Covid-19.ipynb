{
 "cells": [
  {
   "cell_type": "markdown",
   "metadata": {},
   "source": [
    "# Case Study: Covid-19 in Australia, and the Myths and Realities of Exponential Growth"
   ]
  },
  {
   "cell_type": "markdown",
   "metadata": {},
   "source": [
    "New concepts\n",
    "\n",
    "* Introducing time-series data\n",
    "* Using GroupBy to group data\n",
    "* Growth rates\n",
    "* Curve fitting\n",
    "\n",
    "Reinforced concepts\n",
    "\n",
    "* File IO\n",
    "* File formats\n",
    "* Data selection and manipulation with pandas (and friends)\n",
    "* Plotting data with pyplot"
   ]
  },
  {
   "cell_type": "markdown",
   "metadata": {},
   "source": [
    "## Finding a Reliable Covid-19 Data Source\n",
    "\n",
    "There are many possible sources of data (of varying quality and veracity). We always look for a trusted source of data, such as the World Health Organisation (WHO).\n",
    "\n",
    "Academics from John Hopkins University have done a great job of collecting data from reliable sources (including WHO) and making it publicly available as a \"[dashboard](https://www.arcgis.com/apps/opsdashboard/index.html#/bda7594740fd40299423467b48e9ecf6)\". Note that the data sources (as well as a short article in the Journal [_Lancet_](https://www.sciencedirect.com/science/article/pii/S1473309920301201?via%3Dihub) are provided at the bottom of the page.\n",
    "\n",
    "The authors also provide a link to the data sources on [Github](https://github.com/CSSEGISandData/COVID-19). The data is shared and downloadable.\n",
    "\n",
    "(This is an example of best practice in sharing and documenting data for the common good!)"
   ]
  },
  {
   "cell_type": "markdown",
   "metadata": {},
   "source": [
    "### A first look at the data"
   ]
  },
  {
   "cell_type": "markdown",
   "metadata": {},
   "source": [
    "The package downloaded from Github contains the following files:\n",
    "\n",
    "```\n",
    "datapackage.json\n",
    "process.py\n",
    "README.md\n",
    "time-series-19-covid-combined.csv\n",
    "```\n",
    "\n",
    "> _Q: What types are they and what do you anticipate they will contain?_\n",
    "\n",
    "Lets look at them in a terminal and see if we're right &rarr;\n",
    "\n",
    "Jupyter Lab can handle all of these file types, so lets take a closer look using Jupyter Lab &rarr;\n",
    "\n",
    "Lets use some of our skills learnt so far to read in the data, inspect it more closely, and extract the data we're interested in."
   ]
  },
  {
   "cell_type": "markdown",
   "metadata": {},
   "source": [
    "## Data Extraction"
   ]
  },
  {
   "cell_type": "code",
   "execution_count": 83,
   "metadata": {},
   "outputs": [],
   "source": [
    "import pandas as pd\n",
    "import numpy as np\n",
    "import matplotlib.pyplot as plt\n",
    "%matplotlib inline"
   ]
  },
  {
   "cell_type": "code",
   "execution_count": 227,
   "metadata": {},
   "outputs": [
    {
     "data": {
      "text/html": [
       "<div>\n",
       "<style scoped>\n",
       "    .dataframe tbody tr th:only-of-type {\n",
       "        vertical-align: middle;\n",
       "    }\n",
       "\n",
       "    .dataframe tbody tr th {\n",
       "        vertical-align: top;\n",
       "    }\n",
       "\n",
       "    .dataframe thead th {\n",
       "        text-align: right;\n",
       "    }\n",
       "</style>\n",
       "<table border=\"1\" class=\"dataframe\">\n",
       "  <thead>\n",
       "    <tr style=\"text-align: right;\">\n",
       "      <th></th>\n",
       "      <th>Province/State</th>\n",
       "      <th>Country/Region</th>\n",
       "      <th>Lat</th>\n",
       "      <th>Long</th>\n",
       "      <th>Date</th>\n",
       "      <th>Confirmed</th>\n",
       "      <th>Recovered</th>\n",
       "      <th>Deaths</th>\n",
       "    </tr>\n",
       "  </thead>\n",
       "  <tbody>\n",
       "    <tr>\n",
       "      <td>0</td>\n",
       "      <td>NaN</td>\n",
       "      <td>Thailand</td>\n",
       "      <td>15.0000</td>\n",
       "      <td>101.0</td>\n",
       "      <td>2020-01-22</td>\n",
       "      <td>2</td>\n",
       "      <td>0</td>\n",
       "      <td>0</td>\n",
       "    </tr>\n",
       "    <tr>\n",
       "      <td>1</td>\n",
       "      <td>NaN</td>\n",
       "      <td>Thailand</td>\n",
       "      <td>15.0000</td>\n",
       "      <td>101.0</td>\n",
       "      <td>2020-01-23</td>\n",
       "      <td>3</td>\n",
       "      <td>0</td>\n",
       "      <td>0</td>\n",
       "    </tr>\n",
       "    <tr>\n",
       "      <td>2</td>\n",
       "      <td>NaN</td>\n",
       "      <td>Thailand</td>\n",
       "      <td>15.0000</td>\n",
       "      <td>101.0</td>\n",
       "      <td>2020-01-24</td>\n",
       "      <td>5</td>\n",
       "      <td>0</td>\n",
       "      <td>0</td>\n",
       "    </tr>\n",
       "    <tr>\n",
       "      <td>3</td>\n",
       "      <td>NaN</td>\n",
       "      <td>Thailand</td>\n",
       "      <td>15.0000</td>\n",
       "      <td>101.0</td>\n",
       "      <td>2020-01-25</td>\n",
       "      <td>7</td>\n",
       "      <td>0</td>\n",
       "      <td>0</td>\n",
       "    </tr>\n",
       "    <tr>\n",
       "      <td>4</td>\n",
       "      <td>NaN</td>\n",
       "      <td>Thailand</td>\n",
       "      <td>15.0000</td>\n",
       "      <td>101.0</td>\n",
       "      <td>2020-01-26</td>\n",
       "      <td>8</td>\n",
       "      <td>2</td>\n",
       "      <td>0</td>\n",
       "    </tr>\n",
       "    <tr>\n",
       "      <td>...</td>\n",
       "      <td>...</td>\n",
       "      <td>...</td>\n",
       "      <td>...</td>\n",
       "      <td>...</td>\n",
       "      <td>...</td>\n",
       "      <td>...</td>\n",
       "      <td>...</td>\n",
       "      <td>...</td>\n",
       "    </tr>\n",
       "    <tr>\n",
       "      <td>25755</td>\n",
       "      <td>NaN</td>\n",
       "      <td>The Gambia</td>\n",
       "      <td>13.4667</td>\n",
       "      <td>-16.6</td>\n",
       "      <td>2020-03-13</td>\n",
       "      <td>0</td>\n",
       "      <td>0</td>\n",
       "      <td>0</td>\n",
       "    </tr>\n",
       "    <tr>\n",
       "      <td>25756</td>\n",
       "      <td>NaN</td>\n",
       "      <td>The Gambia</td>\n",
       "      <td>13.4667</td>\n",
       "      <td>-16.6</td>\n",
       "      <td>2020-03-14</td>\n",
       "      <td>0</td>\n",
       "      <td>0</td>\n",
       "      <td>0</td>\n",
       "    </tr>\n",
       "    <tr>\n",
       "      <td>25757</td>\n",
       "      <td>NaN</td>\n",
       "      <td>The Gambia</td>\n",
       "      <td>13.4667</td>\n",
       "      <td>-16.6</td>\n",
       "      <td>2020-03-15</td>\n",
       "      <td>0</td>\n",
       "      <td>0</td>\n",
       "      <td>0</td>\n",
       "    </tr>\n",
       "    <tr>\n",
       "      <td>25758</td>\n",
       "      <td>NaN</td>\n",
       "      <td>The Gambia</td>\n",
       "      <td>13.4667</td>\n",
       "      <td>-16.6</td>\n",
       "      <td>2020-03-16</td>\n",
       "      <td>0</td>\n",
       "      <td>0</td>\n",
       "      <td>0</td>\n",
       "    </tr>\n",
       "    <tr>\n",
       "      <td>25759</td>\n",
       "      <td>NaN</td>\n",
       "      <td>The Gambia</td>\n",
       "      <td>13.4667</td>\n",
       "      <td>-16.6</td>\n",
       "      <td>2020-03-17</td>\n",
       "      <td>1</td>\n",
       "      <td>0</td>\n",
       "      <td>0</td>\n",
       "    </tr>\n",
       "  </tbody>\n",
       "</table>\n",
       "<p>25760 rows × 8 columns</p>\n",
       "</div>"
      ],
      "text/plain": [
       "      Province/State Country/Region      Lat   Long        Date  Confirmed  \\\n",
       "0                NaN       Thailand  15.0000  101.0  2020-01-22          2   \n",
       "1                NaN       Thailand  15.0000  101.0  2020-01-23          3   \n",
       "2                NaN       Thailand  15.0000  101.0  2020-01-24          5   \n",
       "3                NaN       Thailand  15.0000  101.0  2020-01-25          7   \n",
       "4                NaN       Thailand  15.0000  101.0  2020-01-26          8   \n",
       "...              ...            ...      ...    ...         ...        ...   \n",
       "25755            NaN     The Gambia  13.4667  -16.6  2020-03-13          0   \n",
       "25756            NaN     The Gambia  13.4667  -16.6  2020-03-14          0   \n",
       "25757            NaN     The Gambia  13.4667  -16.6  2020-03-15          0   \n",
       "25758            NaN     The Gambia  13.4667  -16.6  2020-03-16          0   \n",
       "25759            NaN     The Gambia  13.4667  -16.6  2020-03-17          1   \n",
       "\n",
       "       Recovered  Deaths  \n",
       "0              0       0  \n",
       "1              0       0  \n",
       "2              0       0  \n",
       "3              0       0  \n",
       "4              2       0  \n",
       "...          ...     ...  \n",
       "25755          0       0  \n",
       "25756          0       0  \n",
       "25757          0       0  \n",
       "25758          0       0  \n",
       "25759          0       0  \n",
       "\n",
       "[25760 rows x 8 columns]"
      ]
     },
     "execution_count": 227,
     "metadata": {},
     "output_type": "execute_result"
    }
   ],
   "source": [
    "COVID_DATA=\"Data/2020-03-17-time-series-19-covid-combined.csv\"\n",
    "data = pd.read_csv(COVID_DATA)\n",
    "data"
   ]
  },
  {
   "cell_type": "code",
   "execution_count": 228,
   "metadata": {},
   "outputs": [
    {
     "data": {
      "text/plain": [
       "Province/State     object\n",
       "Country/Region     object\n",
       "Lat               float64\n",
       "Long              float64\n",
       "Date               object\n",
       "Confirmed           int64\n",
       "Recovered           int64\n",
       "Deaths              int64\n",
       "dtype: object"
      ]
     },
     "execution_count": 228,
     "metadata": {},
     "output_type": "execute_result"
    }
   ],
   "source": [
    "data.dtypes"
   ]
  },
  {
   "cell_type": "code",
   "execution_count": 229,
   "metadata": {},
   "outputs": [
    {
     "name": "stdout",
     "output_type": "stream",
     "text": [
      "<class 'float'>\n",
      "<class 'str'>\n",
      "<class 'numpy.float64'>\n",
      "<class 'numpy.float64'>\n",
      "<class 'str'>\n",
      "<class 'numpy.int64'>\n",
      "<class 'numpy.int64'>\n",
      "<class 'numpy.int64'>\n"
     ]
    }
   ],
   "source": [
    "for datum in data.iloc[1]:\n",
    "    print(type(datum))"
   ]
  },
  {
   "cell_type": "code",
   "execution_count": 230,
   "metadata": {},
   "outputs": [
    {
     "name": "stdout",
     "output_type": "stream",
     "text": [
      "<class 'str'>\n",
      "<class 'str'>\n",
      "<class 'numpy.float64'>\n",
      "<class 'numpy.float64'>\n",
      "<class 'str'>\n",
      "<class 'numpy.int64'>\n",
      "<class 'numpy.int64'>\n",
      "<class 'numpy.int64'>\n"
     ]
    }
   ],
   "source": [
    "for datum in data.iloc[25464]:\n",
    "    print(type(datum))"
   ]
  },
  {
   "cell_type": "markdown",
   "metadata": {},
   "source": [
    "> _Q: How successful has pandas been at inferring data types?_\n",
    "\n",
    "> _What types would you choose?_\n",
    "\n",
    "Lets try again. Starting with the province:"
   ]
  },
  {
   "cell_type": "code",
   "execution_count": 231,
   "metadata": {},
   "outputs": [
    {
     "data": {
      "text/html": [
       "<div>\n",
       "<style scoped>\n",
       "    .dataframe tbody tr th:only-of-type {\n",
       "        vertical-align: middle;\n",
       "    }\n",
       "\n",
       "    .dataframe tbody tr th {\n",
       "        vertical-align: top;\n",
       "    }\n",
       "\n",
       "    .dataframe thead th {\n",
       "        text-align: right;\n",
       "    }\n",
       "</style>\n",
       "<table border=\"1\" class=\"dataframe\">\n",
       "  <thead>\n",
       "    <tr style=\"text-align: right;\">\n",
       "      <th></th>\n",
       "      <th>Province/State</th>\n",
       "      <th>Country/Region</th>\n",
       "      <th>Lat</th>\n",
       "      <th>Long</th>\n",
       "      <th>Date</th>\n",
       "      <th>Confirmed</th>\n",
       "      <th>Recovered</th>\n",
       "      <th>Deaths</th>\n",
       "    </tr>\n",
       "  </thead>\n",
       "  <tbody>\n",
       "    <tr>\n",
       "      <td>0</td>\n",
       "      <td></td>\n",
       "      <td>Thailand</td>\n",
       "      <td>15.0000</td>\n",
       "      <td>101.0</td>\n",
       "      <td>2020-01-22</td>\n",
       "      <td>2</td>\n",
       "      <td>0</td>\n",
       "      <td>0</td>\n",
       "    </tr>\n",
       "    <tr>\n",
       "      <td>1</td>\n",
       "      <td></td>\n",
       "      <td>Thailand</td>\n",
       "      <td>15.0000</td>\n",
       "      <td>101.0</td>\n",
       "      <td>2020-01-23</td>\n",
       "      <td>3</td>\n",
       "      <td>0</td>\n",
       "      <td>0</td>\n",
       "    </tr>\n",
       "    <tr>\n",
       "      <td>2</td>\n",
       "      <td></td>\n",
       "      <td>Thailand</td>\n",
       "      <td>15.0000</td>\n",
       "      <td>101.0</td>\n",
       "      <td>2020-01-24</td>\n",
       "      <td>5</td>\n",
       "      <td>0</td>\n",
       "      <td>0</td>\n",
       "    </tr>\n",
       "    <tr>\n",
       "      <td>3</td>\n",
       "      <td></td>\n",
       "      <td>Thailand</td>\n",
       "      <td>15.0000</td>\n",
       "      <td>101.0</td>\n",
       "      <td>2020-01-25</td>\n",
       "      <td>7</td>\n",
       "      <td>0</td>\n",
       "      <td>0</td>\n",
       "    </tr>\n",
       "    <tr>\n",
       "      <td>4</td>\n",
       "      <td></td>\n",
       "      <td>Thailand</td>\n",
       "      <td>15.0000</td>\n",
       "      <td>101.0</td>\n",
       "      <td>2020-01-26</td>\n",
       "      <td>8</td>\n",
       "      <td>2</td>\n",
       "      <td>0</td>\n",
       "    </tr>\n",
       "    <tr>\n",
       "      <td>...</td>\n",
       "      <td>...</td>\n",
       "      <td>...</td>\n",
       "      <td>...</td>\n",
       "      <td>...</td>\n",
       "      <td>...</td>\n",
       "      <td>...</td>\n",
       "      <td>...</td>\n",
       "      <td>...</td>\n",
       "    </tr>\n",
       "    <tr>\n",
       "      <td>25755</td>\n",
       "      <td></td>\n",
       "      <td>The Gambia</td>\n",
       "      <td>13.4667</td>\n",
       "      <td>-16.6</td>\n",
       "      <td>2020-03-13</td>\n",
       "      <td>0</td>\n",
       "      <td>0</td>\n",
       "      <td>0</td>\n",
       "    </tr>\n",
       "    <tr>\n",
       "      <td>25756</td>\n",
       "      <td></td>\n",
       "      <td>The Gambia</td>\n",
       "      <td>13.4667</td>\n",
       "      <td>-16.6</td>\n",
       "      <td>2020-03-14</td>\n",
       "      <td>0</td>\n",
       "      <td>0</td>\n",
       "      <td>0</td>\n",
       "    </tr>\n",
       "    <tr>\n",
       "      <td>25757</td>\n",
       "      <td></td>\n",
       "      <td>The Gambia</td>\n",
       "      <td>13.4667</td>\n",
       "      <td>-16.6</td>\n",
       "      <td>2020-03-15</td>\n",
       "      <td>0</td>\n",
       "      <td>0</td>\n",
       "      <td>0</td>\n",
       "    </tr>\n",
       "    <tr>\n",
       "      <td>25758</td>\n",
       "      <td></td>\n",
       "      <td>The Gambia</td>\n",
       "      <td>13.4667</td>\n",
       "      <td>-16.6</td>\n",
       "      <td>2020-03-16</td>\n",
       "      <td>0</td>\n",
       "      <td>0</td>\n",
       "      <td>0</td>\n",
       "    </tr>\n",
       "    <tr>\n",
       "      <td>25759</td>\n",
       "      <td></td>\n",
       "      <td>The Gambia</td>\n",
       "      <td>13.4667</td>\n",
       "      <td>-16.6</td>\n",
       "      <td>2020-03-17</td>\n",
       "      <td>1</td>\n",
       "      <td>0</td>\n",
       "      <td>0</td>\n",
       "    </tr>\n",
       "  </tbody>\n",
       "</table>\n",
       "<p>25760 rows × 8 columns</p>\n",
       "</div>"
      ],
      "text/plain": [
       "      Province/State Country/Region      Lat   Long        Date  Confirmed  \\\n",
       "0                          Thailand  15.0000  101.0  2020-01-22          2   \n",
       "1                          Thailand  15.0000  101.0  2020-01-23          3   \n",
       "2                          Thailand  15.0000  101.0  2020-01-24          5   \n",
       "3                          Thailand  15.0000  101.0  2020-01-25          7   \n",
       "4                          Thailand  15.0000  101.0  2020-01-26          8   \n",
       "...              ...            ...      ...    ...         ...        ...   \n",
       "25755                    The Gambia  13.4667  -16.6  2020-03-13          0   \n",
       "25756                    The Gambia  13.4667  -16.6  2020-03-14          0   \n",
       "25757                    The Gambia  13.4667  -16.6  2020-03-15          0   \n",
       "25758                    The Gambia  13.4667  -16.6  2020-03-16          0   \n",
       "25759                    The Gambia  13.4667  -16.6  2020-03-17          1   \n",
       "\n",
       "       Recovered  Deaths  \n",
       "0              0       0  \n",
       "1              0       0  \n",
       "2              0       0  \n",
       "3              0       0  \n",
       "4              2       0  \n",
       "...          ...     ...  \n",
       "25755          0       0  \n",
       "25756          0       0  \n",
       "25757          0       0  \n",
       "25758          0       0  \n",
       "25759          0       0  \n",
       "\n",
       "[25760 rows x 8 columns]"
      ]
     },
     "execution_count": 231,
     "metadata": {},
     "output_type": "execute_result"
    }
   ],
   "source": [
    "data = pd.read_csv(COVID_DATA, na_filter=False)\n",
    "data"
   ]
  },
  {
   "cell_type": "code",
   "execution_count": 232,
   "metadata": {},
   "outputs": [
    {
     "name": "stdout",
     "output_type": "stream",
     "text": [
      "<class 'str'>\n",
      "<class 'str'>\n",
      "<class 'numpy.float64'>\n",
      "<class 'numpy.float64'>\n",
      "<class 'str'>\n",
      "<class 'numpy.int64'>\n",
      "<class 'numpy.int64'>\n",
      "<class 'numpy.int64'>\n"
     ]
    }
   ],
   "source": [
    "for datum in data.iloc[1]:\n",
    "    print(type(datum))"
   ]
  },
  {
   "cell_type": "markdown",
   "metadata": {},
   "source": [
    "What about the Date column?\n",
    "\n",
    "> _Q: Why is storing date and time information as strings not particularly useful?_\n",
    "\n"
   ]
  },
  {
   "cell_type": "markdown",
   "metadata": {},
   "source": [
    "### Introducing time-series data\n",
    "\n",
    "The Date is provided in [ISO 801 format](https://www.iso.org/iso-8601-date-and-time-format.html). Why is this a good format to use?\n",
    "\n",
    "We could parse the Date string to get out the year, month and day ourselves, but we don't need to.\n",
    "\n",
    "Pandas is able to parse it, recognise the format, and convert it to its own (\"native\") timestamp format:"
   ]
  },
  {
   "cell_type": "code",
   "execution_count": 235,
   "metadata": {},
   "outputs": [
    {
     "data": {
      "text/html": [
       "<div>\n",
       "<style scoped>\n",
       "    .dataframe tbody tr th:only-of-type {\n",
       "        vertical-align: middle;\n",
       "    }\n",
       "\n",
       "    .dataframe tbody tr th {\n",
       "        vertical-align: top;\n",
       "    }\n",
       "\n",
       "    .dataframe thead th {\n",
       "        text-align: right;\n",
       "    }\n",
       "</style>\n",
       "<table border=\"1\" class=\"dataframe\">\n",
       "  <thead>\n",
       "    <tr style=\"text-align: right;\">\n",
       "      <th></th>\n",
       "      <th>Province/State</th>\n",
       "      <th>Country/Region</th>\n",
       "      <th>Lat</th>\n",
       "      <th>Long</th>\n",
       "      <th>Date</th>\n",
       "      <th>Confirmed</th>\n",
       "      <th>Recovered</th>\n",
       "      <th>Deaths</th>\n",
       "    </tr>\n",
       "  </thead>\n",
       "  <tbody>\n",
       "    <tr>\n",
       "      <td>0</td>\n",
       "      <td></td>\n",
       "      <td>Thailand</td>\n",
       "      <td>15.0000</td>\n",
       "      <td>101.0</td>\n",
       "      <td>2020-01-22</td>\n",
       "      <td>2</td>\n",
       "      <td>0</td>\n",
       "      <td>0</td>\n",
       "    </tr>\n",
       "    <tr>\n",
       "      <td>1</td>\n",
       "      <td></td>\n",
       "      <td>Thailand</td>\n",
       "      <td>15.0000</td>\n",
       "      <td>101.0</td>\n",
       "      <td>2020-01-23</td>\n",
       "      <td>3</td>\n",
       "      <td>0</td>\n",
       "      <td>0</td>\n",
       "    </tr>\n",
       "    <tr>\n",
       "      <td>2</td>\n",
       "      <td></td>\n",
       "      <td>Thailand</td>\n",
       "      <td>15.0000</td>\n",
       "      <td>101.0</td>\n",
       "      <td>2020-01-24</td>\n",
       "      <td>5</td>\n",
       "      <td>0</td>\n",
       "      <td>0</td>\n",
       "    </tr>\n",
       "    <tr>\n",
       "      <td>3</td>\n",
       "      <td></td>\n",
       "      <td>Thailand</td>\n",
       "      <td>15.0000</td>\n",
       "      <td>101.0</td>\n",
       "      <td>2020-01-25</td>\n",
       "      <td>7</td>\n",
       "      <td>0</td>\n",
       "      <td>0</td>\n",
       "    </tr>\n",
       "    <tr>\n",
       "      <td>4</td>\n",
       "      <td></td>\n",
       "      <td>Thailand</td>\n",
       "      <td>15.0000</td>\n",
       "      <td>101.0</td>\n",
       "      <td>2020-01-26</td>\n",
       "      <td>8</td>\n",
       "      <td>2</td>\n",
       "      <td>0</td>\n",
       "    </tr>\n",
       "    <tr>\n",
       "      <td>...</td>\n",
       "      <td>...</td>\n",
       "      <td>...</td>\n",
       "      <td>...</td>\n",
       "      <td>...</td>\n",
       "      <td>...</td>\n",
       "      <td>...</td>\n",
       "      <td>...</td>\n",
       "      <td>...</td>\n",
       "    </tr>\n",
       "    <tr>\n",
       "      <td>25755</td>\n",
       "      <td></td>\n",
       "      <td>The Gambia</td>\n",
       "      <td>13.4667</td>\n",
       "      <td>-16.6</td>\n",
       "      <td>2020-03-13</td>\n",
       "      <td>0</td>\n",
       "      <td>0</td>\n",
       "      <td>0</td>\n",
       "    </tr>\n",
       "    <tr>\n",
       "      <td>25756</td>\n",
       "      <td></td>\n",
       "      <td>The Gambia</td>\n",
       "      <td>13.4667</td>\n",
       "      <td>-16.6</td>\n",
       "      <td>2020-03-14</td>\n",
       "      <td>0</td>\n",
       "      <td>0</td>\n",
       "      <td>0</td>\n",
       "    </tr>\n",
       "    <tr>\n",
       "      <td>25757</td>\n",
       "      <td></td>\n",
       "      <td>The Gambia</td>\n",
       "      <td>13.4667</td>\n",
       "      <td>-16.6</td>\n",
       "      <td>2020-03-15</td>\n",
       "      <td>0</td>\n",
       "      <td>0</td>\n",
       "      <td>0</td>\n",
       "    </tr>\n",
       "    <tr>\n",
       "      <td>25758</td>\n",
       "      <td></td>\n",
       "      <td>The Gambia</td>\n",
       "      <td>13.4667</td>\n",
       "      <td>-16.6</td>\n",
       "      <td>2020-03-16</td>\n",
       "      <td>0</td>\n",
       "      <td>0</td>\n",
       "      <td>0</td>\n",
       "    </tr>\n",
       "    <tr>\n",
       "      <td>25759</td>\n",
       "      <td></td>\n",
       "      <td>The Gambia</td>\n",
       "      <td>13.4667</td>\n",
       "      <td>-16.6</td>\n",
       "      <td>2020-03-17</td>\n",
       "      <td>1</td>\n",
       "      <td>0</td>\n",
       "      <td>0</td>\n",
       "    </tr>\n",
       "  </tbody>\n",
       "</table>\n",
       "<p>25760 rows × 8 columns</p>\n",
       "</div>"
      ],
      "text/plain": [
       "      Province/State Country/Region      Lat   Long       Date  Confirmed  \\\n",
       "0                          Thailand  15.0000  101.0 2020-01-22          2   \n",
       "1                          Thailand  15.0000  101.0 2020-01-23          3   \n",
       "2                          Thailand  15.0000  101.0 2020-01-24          5   \n",
       "3                          Thailand  15.0000  101.0 2020-01-25          7   \n",
       "4                          Thailand  15.0000  101.0 2020-01-26          8   \n",
       "...              ...            ...      ...    ...        ...        ...   \n",
       "25755                    The Gambia  13.4667  -16.6 2020-03-13          0   \n",
       "25756                    The Gambia  13.4667  -16.6 2020-03-14          0   \n",
       "25757                    The Gambia  13.4667  -16.6 2020-03-15          0   \n",
       "25758                    The Gambia  13.4667  -16.6 2020-03-16          0   \n",
       "25759                    The Gambia  13.4667  -16.6 2020-03-17          1   \n",
       "\n",
       "       Recovered  Deaths  \n",
       "0              0       0  \n",
       "1              0       0  \n",
       "2              0       0  \n",
       "3              0       0  \n",
       "4              2       0  \n",
       "...          ...     ...  \n",
       "25755          0       0  \n",
       "25756          0       0  \n",
       "25757          0       0  \n",
       "25758          0       0  \n",
       "25759          0       0  \n",
       "\n",
       "[25760 rows x 8 columns]"
      ]
     },
     "execution_count": 235,
     "metadata": {},
     "output_type": "execute_result"
    }
   ],
   "source": [
    "data = pd.read_csv(COVID_DATA, na_filter=False, parse_dates=[\"Date\"])\n",
    "data"
   ]
  },
  {
   "cell_type": "code",
   "execution_count": 236,
   "metadata": {},
   "outputs": [
    {
     "name": "stdout",
     "output_type": "stream",
     "text": [
      "<class 'str'>\n",
      "<class 'str'>\n",
      "<class 'numpy.float64'>\n",
      "<class 'numpy.float64'>\n",
      "<class 'pandas._libs.tslibs.timestamps.Timestamp'>\n",
      "<class 'numpy.int64'>\n",
      "<class 'numpy.int64'>\n",
      "<class 'numpy.int64'>\n"
     ]
    }
   ],
   "source": [
    "for datum in data.iloc[1]:\n",
    "    print(type(datum))"
   ]
  },
  {
   "cell_type": "code",
   "execution_count": 237,
   "metadata": {},
   "outputs": [
    {
     "data": {
      "text/plain": [
       "Timestamp('2020-01-22 00:00:00')"
      ]
     },
     "execution_count": 237,
     "metadata": {},
     "output_type": "execute_result"
    }
   ],
   "source": [
    "data.at[0,\"Date\"]"
   ]
  },
  {
   "cell_type": "markdown",
   "metadata": {},
   "source": [
    "Lets have a look at the documentation for pandas [Timestamp](https://pandas.pydata.org/pandas-docs/version/0.25.3/reference/api/pandas.Timestamp.html?highlight=timestamp) &rarr;\n",
    "\n",
    "Note that in the absence of a time, pandas has put in a default time. There are many ways we can retrieve just the date information:"
   ]
  },
  {
   "cell_type": "code",
   "execution_count": 238,
   "metadata": {},
   "outputs": [
    {
     "data": {
      "text/plain": [
       "Timestamp('2020-03-19 11:47:36.808595')"
      ]
     },
     "execution_count": 238,
     "metadata": {},
     "output_type": "execute_result"
    }
   ],
   "source": [
    "now = pd.Timestamp.now()\n",
    "now"
   ]
  },
  {
   "cell_type": "code",
   "execution_count": 239,
   "metadata": {},
   "outputs": [
    {
     "name": "stdout",
     "output_type": "stream",
     "text": [
      "19 March 2020\n"
     ]
    }
   ],
   "source": [
    "print(now.day, now.month_name(), now.year)"
   ]
  },
  {
   "cell_type": "code",
   "execution_count": 240,
   "metadata": {},
   "outputs": [
    {
     "data": {
      "text/plain": [
       "datetime.date(2020, 3, 19)"
      ]
     },
     "execution_count": 240,
     "metadata": {},
     "output_type": "execute_result"
    }
   ],
   "source": [
    "now.date()"
   ]
  },
  {
   "cell_type": "markdown",
   "metadata": {},
   "source": [
    "### Extracting the Australian data\n",
    "\n",
    "Let's start with some more practical names:"
   ]
  },
  {
   "cell_type": "code",
   "execution_count": 242,
   "metadata": {},
   "outputs": [
    {
     "data": {
      "text/html": [
       "<div>\n",
       "<style scoped>\n",
       "    .dataframe tbody tr th:only-of-type {\n",
       "        vertical-align: middle;\n",
       "    }\n",
       "\n",
       "    .dataframe tbody tr th {\n",
       "        vertical-align: top;\n",
       "    }\n",
       "\n",
       "    .dataframe thead th {\n",
       "        text-align: right;\n",
       "    }\n",
       "</style>\n",
       "<table border=\"1\" class=\"dataframe\">\n",
       "  <thead>\n",
       "    <tr style=\"text-align: right;\">\n",
       "      <th></th>\n",
       "      <th>State</th>\n",
       "      <th>Country</th>\n",
       "      <th>Lat</th>\n",
       "      <th>Long</th>\n",
       "      <th>Date</th>\n",
       "      <th>Confirmed</th>\n",
       "      <th>Recovered</th>\n",
       "      <th>Deaths</th>\n",
       "    </tr>\n",
       "  </thead>\n",
       "  <tbody>\n",
       "    <tr>\n",
       "      <td>0</td>\n",
       "      <td></td>\n",
       "      <td>Thailand</td>\n",
       "      <td>15.0</td>\n",
       "      <td>101.0</td>\n",
       "      <td>2020-01-22</td>\n",
       "      <td>2</td>\n",
       "      <td>0</td>\n",
       "      <td>0</td>\n",
       "    </tr>\n",
       "    <tr>\n",
       "      <td>1</td>\n",
       "      <td></td>\n",
       "      <td>Thailand</td>\n",
       "      <td>15.0</td>\n",
       "      <td>101.0</td>\n",
       "      <td>2020-01-23</td>\n",
       "      <td>3</td>\n",
       "      <td>0</td>\n",
       "      <td>0</td>\n",
       "    </tr>\n",
       "    <tr>\n",
       "      <td>2</td>\n",
       "      <td></td>\n",
       "      <td>Thailand</td>\n",
       "      <td>15.0</td>\n",
       "      <td>101.0</td>\n",
       "      <td>2020-01-24</td>\n",
       "      <td>5</td>\n",
       "      <td>0</td>\n",
       "      <td>0</td>\n",
       "    </tr>\n",
       "    <tr>\n",
       "      <td>3</td>\n",
       "      <td></td>\n",
       "      <td>Thailand</td>\n",
       "      <td>15.0</td>\n",
       "      <td>101.0</td>\n",
       "      <td>2020-01-25</td>\n",
       "      <td>7</td>\n",
       "      <td>0</td>\n",
       "      <td>0</td>\n",
       "    </tr>\n",
       "    <tr>\n",
       "      <td>4</td>\n",
       "      <td></td>\n",
       "      <td>Thailand</td>\n",
       "      <td>15.0</td>\n",
       "      <td>101.0</td>\n",
       "      <td>2020-01-26</td>\n",
       "      <td>8</td>\n",
       "      <td>2</td>\n",
       "      <td>0</td>\n",
       "    </tr>\n",
       "  </tbody>\n",
       "</table>\n",
       "</div>"
      ],
      "text/plain": [
       "  State   Country   Lat   Long       Date  Confirmed  Recovered  Deaths\n",
       "0        Thailand  15.0  101.0 2020-01-22          2          0       0\n",
       "1        Thailand  15.0  101.0 2020-01-23          3          0       0\n",
       "2        Thailand  15.0  101.0 2020-01-24          5          0       0\n",
       "3        Thailand  15.0  101.0 2020-01-25          7          0       0\n",
       "4        Thailand  15.0  101.0 2020-01-26          8          2       0"
      ]
     },
     "execution_count": 242,
     "metadata": {},
     "output_type": "execute_result"
    }
   ],
   "source": [
    "covid = pd.read_csv(COVID_DATA, na_filter=False, parse_dates=[\"Date\"])\n",
    "covid.rename(columns={\"Province/State\": \"State\", \"Country/Region\": \"Country\"}, \n",
    "             inplace=True)\n",
    "covid.head()"
   ]
  },
  {
   "cell_type": "code",
   "execution_count": 243,
   "metadata": {},
   "outputs": [
    {
     "data": {
      "text/html": [
       "<div>\n",
       "<style scoped>\n",
       "    .dataframe tbody tr th:only-of-type {\n",
       "        vertical-align: middle;\n",
       "    }\n",
       "\n",
       "    .dataframe tbody tr th {\n",
       "        vertical-align: top;\n",
       "    }\n",
       "\n",
       "    .dataframe thead th {\n",
       "        text-align: right;\n",
       "    }\n",
       "</style>\n",
       "<table border=\"1\" class=\"dataframe\">\n",
       "  <thead>\n",
       "    <tr style=\"text-align: right;\">\n",
       "      <th></th>\n",
       "      <th>State</th>\n",
       "      <th>Country</th>\n",
       "      <th>Lat</th>\n",
       "      <th>Long</th>\n",
       "      <th>Date</th>\n",
       "      <th>Confirmed</th>\n",
       "      <th>Recovered</th>\n",
       "      <th>Deaths</th>\n",
       "    </tr>\n",
       "  </thead>\n",
       "  <tbody>\n",
       "    <tr>\n",
       "      <td>336</td>\n",
       "      <td>New South Wales</td>\n",
       "      <td>Australia</td>\n",
       "      <td>-33.8688</td>\n",
       "      <td>151.2093</td>\n",
       "      <td>2020-01-22</td>\n",
       "      <td>0</td>\n",
       "      <td>0</td>\n",
       "      <td>0</td>\n",
       "    </tr>\n",
       "    <tr>\n",
       "      <td>337</td>\n",
       "      <td>New South Wales</td>\n",
       "      <td>Australia</td>\n",
       "      <td>-33.8688</td>\n",
       "      <td>151.2093</td>\n",
       "      <td>2020-01-23</td>\n",
       "      <td>0</td>\n",
       "      <td>0</td>\n",
       "      <td>0</td>\n",
       "    </tr>\n",
       "    <tr>\n",
       "      <td>338</td>\n",
       "      <td>New South Wales</td>\n",
       "      <td>Australia</td>\n",
       "      <td>-33.8688</td>\n",
       "      <td>151.2093</td>\n",
       "      <td>2020-01-24</td>\n",
       "      <td>0</td>\n",
       "      <td>0</td>\n",
       "      <td>0</td>\n",
       "    </tr>\n",
       "    <tr>\n",
       "      <td>339</td>\n",
       "      <td>New South Wales</td>\n",
       "      <td>Australia</td>\n",
       "      <td>-33.8688</td>\n",
       "      <td>151.2093</td>\n",
       "      <td>2020-01-25</td>\n",
       "      <td>0</td>\n",
       "      <td>0</td>\n",
       "      <td>0</td>\n",
       "    </tr>\n",
       "    <tr>\n",
       "      <td>340</td>\n",
       "      <td>New South Wales</td>\n",
       "      <td>Australia</td>\n",
       "      <td>-33.8688</td>\n",
       "      <td>151.2093</td>\n",
       "      <td>2020-01-26</td>\n",
       "      <td>3</td>\n",
       "      <td>0</td>\n",
       "      <td>0</td>\n",
       "    </tr>\n",
       "    <tr>\n",
       "      <td>...</td>\n",
       "      <td>...</td>\n",
       "      <td>...</td>\n",
       "      <td>...</td>\n",
       "      <td>...</td>\n",
       "      <td>...</td>\n",
       "      <td>...</td>\n",
       "      <td>...</td>\n",
       "      <td>...</td>\n",
       "    </tr>\n",
       "    <tr>\n",
       "      <td>22563</td>\n",
       "      <td>Australian Capital Territory</td>\n",
       "      <td>Australia</td>\n",
       "      <td>-35.4735</td>\n",
       "      <td>149.0124</td>\n",
       "      <td>2020-03-13</td>\n",
       "      <td>1</td>\n",
       "      <td>0</td>\n",
       "      <td>0</td>\n",
       "    </tr>\n",
       "    <tr>\n",
       "      <td>22564</td>\n",
       "      <td>Australian Capital Territory</td>\n",
       "      <td>Australia</td>\n",
       "      <td>-35.4735</td>\n",
       "      <td>149.0124</td>\n",
       "      <td>2020-03-14</td>\n",
       "      <td>1</td>\n",
       "      <td>0</td>\n",
       "      <td>0</td>\n",
       "    </tr>\n",
       "    <tr>\n",
       "      <td>22565</td>\n",
       "      <td>Australian Capital Territory</td>\n",
       "      <td>Australia</td>\n",
       "      <td>-35.4735</td>\n",
       "      <td>149.0124</td>\n",
       "      <td>2020-03-15</td>\n",
       "      <td>1</td>\n",
       "      <td>0</td>\n",
       "      <td>0</td>\n",
       "    </tr>\n",
       "    <tr>\n",
       "      <td>22566</td>\n",
       "      <td>Australian Capital Territory</td>\n",
       "      <td>Australia</td>\n",
       "      <td>-35.4735</td>\n",
       "      <td>149.0124</td>\n",
       "      <td>2020-03-16</td>\n",
       "      <td>2</td>\n",
       "      <td>0</td>\n",
       "      <td>0</td>\n",
       "    </tr>\n",
       "    <tr>\n",
       "      <td>22567</td>\n",
       "      <td>Australian Capital Territory</td>\n",
       "      <td>Australia</td>\n",
       "      <td>-35.4735</td>\n",
       "      <td>149.0124</td>\n",
       "      <td>2020-03-17</td>\n",
       "      <td>2</td>\n",
       "      <td>0</td>\n",
       "      <td>0</td>\n",
       "    </tr>\n",
       "  </tbody>\n",
       "</table>\n",
       "<p>504 rows × 8 columns</p>\n",
       "</div>"
      ],
      "text/plain": [
       "                              State    Country      Lat      Long       Date  \\\n",
       "336                 New South Wales  Australia -33.8688  151.2093 2020-01-22   \n",
       "337                 New South Wales  Australia -33.8688  151.2093 2020-01-23   \n",
       "338                 New South Wales  Australia -33.8688  151.2093 2020-01-24   \n",
       "339                 New South Wales  Australia -33.8688  151.2093 2020-01-25   \n",
       "340                 New South Wales  Australia -33.8688  151.2093 2020-01-26   \n",
       "...                             ...        ...      ...       ...        ...   \n",
       "22563  Australian Capital Territory  Australia -35.4735  149.0124 2020-03-13   \n",
       "22564  Australian Capital Territory  Australia -35.4735  149.0124 2020-03-14   \n",
       "22565  Australian Capital Territory  Australia -35.4735  149.0124 2020-03-15   \n",
       "22566  Australian Capital Territory  Australia -35.4735  149.0124 2020-03-16   \n",
       "22567  Australian Capital Territory  Australia -35.4735  149.0124 2020-03-17   \n",
       "\n",
       "       Confirmed  Recovered  Deaths  \n",
       "336            0          0       0  \n",
       "337            0          0       0  \n",
       "338            0          0       0  \n",
       "339            0          0       0  \n",
       "340            3          0       0  \n",
       "...          ...        ...     ...  \n",
       "22563          1          0       0  \n",
       "22564          1          0       0  \n",
       "22565          1          0       0  \n",
       "22566          2          0       0  \n",
       "22567          2          0       0  \n",
       "\n",
       "[504 rows x 8 columns]"
      ]
     },
     "execution_count": 243,
     "metadata": {},
     "output_type": "execute_result"
    }
   ],
   "source": [
    "auscovid = covid.loc[covid[\"Country\"] == \"Australia\"]\n",
    "auscovid"
   ]
  },
  {
   "cell_type": "markdown",
   "metadata": {},
   "source": [
    "## Data Exploration using Bar Plots"
   ]
  },
  {
   "cell_type": "code",
   "execution_count": 244,
   "metadata": {},
   "outputs": [
    {
     "data": {
      "text/html": [
       "<div>\n",
       "<style scoped>\n",
       "    .dataframe tbody tr th:only-of-type {\n",
       "        vertical-align: middle;\n",
       "    }\n",
       "\n",
       "    .dataframe tbody tr th {\n",
       "        vertical-align: top;\n",
       "    }\n",
       "\n",
       "    .dataframe thead th {\n",
       "        text-align: right;\n",
       "    }\n",
       "</style>\n",
       "<table border=\"1\" class=\"dataframe\">\n",
       "  <thead>\n",
       "    <tr style=\"text-align: right;\">\n",
       "      <th></th>\n",
       "      <th>State</th>\n",
       "      <th>Country</th>\n",
       "      <th>Lat</th>\n",
       "      <th>Long</th>\n",
       "      <th>Date</th>\n",
       "      <th>Confirmed</th>\n",
       "      <th>Recovered</th>\n",
       "      <th>Deaths</th>\n",
       "    </tr>\n",
       "  </thead>\n",
       "  <tbody>\n",
       "    <tr>\n",
       "      <td>391</td>\n",
       "      <td>New South Wales</td>\n",
       "      <td>Australia</td>\n",
       "      <td>-33.8688</td>\n",
       "      <td>151.2093</td>\n",
       "      <td>2020-03-17</td>\n",
       "      <td>210</td>\n",
       "      <td>4</td>\n",
       "      <td>4</td>\n",
       "    </tr>\n",
       "  </tbody>\n",
       "</table>\n",
       "</div>"
      ],
      "text/plain": [
       "               State    Country      Lat      Long       Date  Confirmed  \\\n",
       "391  New South Wales  Australia -33.8688  151.2093 2020-03-17        210   \n",
       "\n",
       "     Recovered  Deaths  \n",
       "391          4       4  "
      ]
     },
     "execution_count": 244,
     "metadata": {},
     "output_type": "execute_result"
    }
   ],
   "source": [
    "auscovid.nlargest(1,\"Confirmed\")"
   ]
  },
  {
   "cell_type": "code",
   "execution_count": 245,
   "metadata": {},
   "outputs": [
    {
     "data": {
      "text/plain": [
       "<matplotlib.axes._subplots.AxesSubplot at 0x11af3ec50>"
      ]
     },
     "execution_count": 245,
     "metadata": {},
     "output_type": "execute_result"
    },
    {
     "data": {
      "image/png": "[encoded data removed]",
      "text/plain": [
       "<Figure size 432x288 with 1 Axes>"
      ]
     },
     "metadata": {
      "needs_background": "light"
     },
     "output_type": "display_data"
    }
   ],
   "source": [
    "auscovid.loc[auscovid[\"State\"] == \"Western Australia\"].plot.bar(\"Date\",\"Confirmed\")"
   ]
  },
  {
   "cell_type": "code",
   "execution_count": 246,
   "metadata": {},
   "outputs": [
    {
     "data": {
      "text/html": [
       "<div>\n",
       "<style scoped>\n",
       "    .dataframe tbody tr th:only-of-type {\n",
       "        vertical-align: middle;\n",
       "    }\n",
       "\n",
       "    .dataframe tbody tr th {\n",
       "        vertical-align: top;\n",
       "    }\n",
       "\n",
       "    .dataframe thead th {\n",
       "        text-align: right;\n",
       "    }\n",
       "</style>\n",
       "<table border=\"1\" class=\"dataframe\">\n",
       "  <thead>\n",
       "    <tr style=\"text-align: right;\">\n",
       "      <th></th>\n",
       "      <th>State</th>\n",
       "      <th>Country</th>\n",
       "      <th>Lat</th>\n",
       "      <th>Long</th>\n",
       "      <th>Date</th>\n",
       "      <th>Confirmed</th>\n",
       "      <th>Recovered</th>\n",
       "      <th>Deaths</th>\n",
       "    </tr>\n",
       "  </thead>\n",
       "  <tbody>\n",
       "    <tr>\n",
       "      <td>2782</td>\n",
       "      <td>Western Australia</td>\n",
       "      <td>Australia</td>\n",
       "      <td>-31.9505</td>\n",
       "      <td>115.8605</td>\n",
       "      <td>2020-02-29</td>\n",
       "      <td>2</td>\n",
       "      <td>0</td>\n",
       "      <td>0</td>\n",
       "    </tr>\n",
       "    <tr>\n",
       "      <td>2783</td>\n",
       "      <td>Western Australia</td>\n",
       "      <td>Australia</td>\n",
       "      <td>-31.9505</td>\n",
       "      <td>115.8605</td>\n",
       "      <td>2020-03-01</td>\n",
       "      <td>2</td>\n",
       "      <td>0</td>\n",
       "      <td>1</td>\n",
       "    </tr>\n",
       "    <tr>\n",
       "      <td>2784</td>\n",
       "      <td>Western Australia</td>\n",
       "      <td>Australia</td>\n",
       "      <td>-31.9505</td>\n",
       "      <td>115.8605</td>\n",
       "      <td>2020-03-02</td>\n",
       "      <td>2</td>\n",
       "      <td>0</td>\n",
       "      <td>1</td>\n",
       "    </tr>\n",
       "    <tr>\n",
       "      <td>2785</td>\n",
       "      <td>Western Australia</td>\n",
       "      <td>Australia</td>\n",
       "      <td>-31.9505</td>\n",
       "      <td>115.8605</td>\n",
       "      <td>2020-03-03</td>\n",
       "      <td>2</td>\n",
       "      <td>0</td>\n",
       "      <td>1</td>\n",
       "    </tr>\n",
       "    <tr>\n",
       "      <td>2786</td>\n",
       "      <td>Western Australia</td>\n",
       "      <td>Australia</td>\n",
       "      <td>-31.9505</td>\n",
       "      <td>115.8605</td>\n",
       "      <td>2020-03-04</td>\n",
       "      <td>2</td>\n",
       "      <td>0</td>\n",
       "      <td>1</td>\n",
       "    </tr>\n",
       "  </tbody>\n",
       "</table>\n",
       "</div>"
      ],
      "text/plain": [
       "                  State    Country      Lat      Long       Date  Confirmed  \\\n",
       "2782  Western Australia  Australia -31.9505  115.8605 2020-02-29          2   \n",
       "2783  Western Australia  Australia -31.9505  115.8605 2020-03-01          2   \n",
       "2784  Western Australia  Australia -31.9505  115.8605 2020-03-02          2   \n",
       "2785  Western Australia  Australia -31.9505  115.8605 2020-03-03          2   \n",
       "2786  Western Australia  Australia -31.9505  115.8605 2020-03-04          2   \n",
       "\n",
       "      Recovered  Deaths  \n",
       "2782          0       0  \n",
       "2783          0       1  \n",
       "2784          0       1  \n",
       "2785          0       1  \n",
       "2786          0       1  "
      ]
     },
     "execution_count": 246,
     "metadata": {},
     "output_type": "execute_result"
    }
   ],
   "source": [
    "WA = auscovid.loc[(auscovid[\"State\"] == \"Western Australia\") & (auscovid[\"Confirmed\"]>0)]\n",
    "WA.head()"
   ]
  },
  {
   "cell_type": "code",
   "execution_count": 247,
   "metadata": {},
   "outputs": [
    {
     "data": {
      "image/png": "[encoded data removed]",
      "text/plain": [
       "<Figure size 432x288 with 1 Axes>"
      ]
     },
     "metadata": {
      "needs_background": "light"
     },
     "output_type": "display_data"
    }
   ],
   "source": [
    "ax = WA.plot.bar(\"Date\",\"Confirmed\")\n",
    "plt.show()"
   ]
  },
  {
   "cell_type": "markdown",
   "metadata": {},
   "source": [
    "The date labels are not very readable. Rather than create our own strings 'manually', we can used `strftime` (STRing Format TIME\"?)\n",
    "\n",
    "Some python documentation is not very useful! https://pandas.pydata.org/docs/reference/api/pandas.Timestamp.strftime.html#pandas.Timestamp.strftime\n",
    "\n",
    "Although we haven't used the `datetime` module, pandas Timestamp is designed to be compatible, and we can [find some documentation there](https://docs.python.org/3/library/datetime.html#strftime-strptime-behavior)."
   ]
  },
  {
   "cell_type": "code",
   "execution_count": 248,
   "metadata": {},
   "outputs": [
    {
     "data": {
      "text/plain": [
       "2782    February 29\n",
       "2783       March 01\n",
       "2784       March 02\n",
       "2785       March 03\n",
       "2786       March 04\n",
       "2787       March 05\n",
       "2788       March 06\n",
       "2789       March 07\n",
       "2790       March 08\n",
       "2791       March 09\n",
       "2792       March 10\n",
       "2793       March 11\n",
       "2794       March 12\n",
       "2795       March 13\n",
       "2796       March 14\n",
       "2797       March 15\n",
       "2798       March 16\n",
       "2799       March 17\n",
       "Name: Date, dtype: object"
      ]
     },
     "execution_count": 248,
     "metadata": {},
     "output_type": "execute_result"
    }
   ],
   "source": [
    "WA[\"Date\"].apply(lambda x: x.strftime(\"%B %d\"))"
   ]
  },
  {
   "cell_type": "code",
   "execution_count": 249,
   "metadata": {},
   "outputs": [
    {
     "data": {
      "image/png": "[encoded data removed]",
      "text/plain": [
       "<Figure size 432x288 with 1 Axes>"
      ]
     },
     "metadata": {
      "needs_background": "light"
     },
     "output_type": "display_data"
    }
   ],
   "source": [
    "ax = WA.plot.bar(\"Date\",\"Confirmed\")\n",
    "xlabels = WA[\"Date\"].apply(lambda x: x.strftime(\"%B %d\"))\n",
    "ax.set_xticklabels(xlabels)\n",
    "plt.ylabel(\"Number of cases\")\n",
    "plt.title(\"Western Australian Covid-19 Cases\")\n",
    "plt.show()"
   ]
  },
  {
   "cell_type": "markdown",
   "metadata": {},
   "source": [
    "We are also interested in the number of recoveries. We could plot those separately, but by plotting them together, we can get an idea of the _proportion_ of recoveries so far.\n",
    "\n",
    "Without arguments, Dataframe's plot function will try to plot all columns on the same graph:"
   ]
  },
  {
   "cell_type": "code",
   "execution_count": 274,
   "metadata": {
    "collapsed": true,
    "jupyter": {
     "outputs_hidden": true
    }
   },
   "outputs": [
    {
     "ename": "ValueError",
     "evalue": "view limit minimum -36908.598025 is less than 1 and is an invalid Matplotlib date value. This often happens if you pass a non-datetime value to an axis that has datetime units",
     "output_type": "error",
     "traceback": [
      "\u001b[0;31m---------------------------------------------------------------------------\u001b[0m",
      "\u001b[0;31mValueError\u001b[0m                                Traceback (most recent call last)",
      "\u001b[0;32m<ipython-input-274-063d8261dd93>\u001b[0m in \u001b[0;36m<module>\u001b[0;34m\u001b[0m\n\u001b[1;32m      1\u001b[0m \u001b[0max\u001b[0m \u001b[0;34m=\u001b[0m \u001b[0mWA\u001b[0m\u001b[0;34m.\u001b[0m\u001b[0mplot\u001b[0m\u001b[0;34m.\u001b[0m\u001b[0mbar\u001b[0m\u001b[0;34m(\u001b[0m\u001b[0;34m)\u001b[0m\u001b[0;34m\u001b[0m\u001b[0;34m\u001b[0m\u001b[0m\n\u001b[0;32m----> 2\u001b[0;31m \u001b[0mplt\u001b[0m\u001b[0;34m.\u001b[0m\u001b[0mshow\u001b[0m\u001b[0;34m(\u001b[0m\u001b[0;34m)\u001b[0m\u001b[0;34m\u001b[0m\u001b[0;34m\u001b[0m\u001b[0m\n\u001b[0m",
      "\u001b[0;32m/opt/anaconda3/lib/python3.7/site-packages/matplotlib/pyplot.py\u001b[0m in \u001b[0;36mshow\u001b[0;34m(*args, **kw)\u001b[0m\n\u001b[1;32m    267\u001b[0m     \"\"\"\n\u001b[1;32m    268\u001b[0m     \u001b[0;32mglobal\u001b[0m \u001b[0m_show\u001b[0m\u001b[0;34m\u001b[0m\u001b[0;34m\u001b[0m\u001b[0m\n\u001b[0;32m--> 269\u001b[0;31m     \u001b[0;32mreturn\u001b[0m \u001b[0m_show\u001b[0m\u001b[0;34m(\u001b[0m\u001b[0;34m*\u001b[0m\u001b[0margs\u001b[0m\u001b[0;34m,\u001b[0m \u001b[0;34m**\u001b[0m\u001b[0mkw\u001b[0m\u001b[0;34m)\u001b[0m\u001b[0;34m\u001b[0m\u001b[0;34m\u001b[0m\u001b[0m\n\u001b[0m\u001b[1;32m    270\u001b[0m \u001b[0;34m\u001b[0m\u001b[0m\n\u001b[1;32m    271\u001b[0m \u001b[0;34m\u001b[0m\u001b[0m\n",
      "\u001b[0;32m/opt/anaconda3/lib/python3.7/site-packages/ipykernel/pylab/backend_inline.py\u001b[0m in \u001b[0;36mshow\u001b[0;34m(close, block)\u001b[0m\n\u001b[1;32m     37\u001b[0m             display(\n\u001b[1;32m     38\u001b[0m                 \u001b[0mfigure_manager\u001b[0m\u001b[0;34m.\u001b[0m\u001b[0mcanvas\u001b[0m\u001b[0;34m.\u001b[0m\u001b[0mfigure\u001b[0m\u001b[0;34m,\u001b[0m\u001b[0;34m\u001b[0m\u001b[0;34m\u001b[0m\u001b[0m\n\u001b[0;32m---> 39\u001b[0;31m                 \u001b[0mmetadata\u001b[0m\u001b[0;34m=\u001b[0m\u001b[0m_fetch_figure_metadata\u001b[0m\u001b[0;34m(\u001b[0m\u001b[0mfigure_manager\u001b[0m\u001b[0;34m.\u001b[0m\u001b[0mcanvas\u001b[0m\u001b[0;34m.\u001b[0m\u001b[0mfigure\u001b[0m\u001b[0;34m)\u001b[0m\u001b[0;34m\u001b[0m\u001b[0;34m\u001b[0m\u001b[0m\n\u001b[0m\u001b[1;32m     40\u001b[0m             )\n\u001b[1;32m     41\u001b[0m     \u001b[0;32mfinally\u001b[0m\u001b[0;34m:\u001b[0m\u001b[0;34m\u001b[0m\u001b[0;34m\u001b[0m\u001b[0m\n",
      "\u001b[0;32m/opt/anaconda3/lib/python3.7/site-packages/ipykernel/pylab/backend_inline.py\u001b[0m in \u001b[0;36m_fetch_figure_metadata\u001b[0;34m(fig)\u001b[0m\n\u001b[1;32m    175\u001b[0m         \u001b[0;31m# the background is transparent\u001b[0m\u001b[0;34m\u001b[0m\u001b[0;34m\u001b[0m\u001b[0;34m\u001b[0m\u001b[0m\n\u001b[1;32m    176\u001b[0m         ticksLight = _is_light([label.get_color()\n\u001b[0;32m--> 177\u001b[0;31m                                 \u001b[0;32mfor\u001b[0m \u001b[0maxes\u001b[0m \u001b[0;32min\u001b[0m \u001b[0mfig\u001b[0m\u001b[0;34m.\u001b[0m\u001b[0maxes\u001b[0m\u001b[0;34m\u001b[0m\u001b[0;34m\u001b[0m\u001b[0m\n\u001b[0m\u001b[1;32m    178\u001b[0m                                 \u001b[0;32mfor\u001b[0m \u001b[0maxis\u001b[0m \u001b[0;32min\u001b[0m \u001b[0;34m(\u001b[0m\u001b[0maxes\u001b[0m\u001b[0;34m.\u001b[0m\u001b[0mxaxis\u001b[0m\u001b[0;34m,\u001b[0m \u001b[0maxes\u001b[0m\u001b[0;34m.\u001b[0m\u001b[0myaxis\u001b[0m\u001b[0;34m)\u001b[0m\u001b[0;34m\u001b[0m\u001b[0;34m\u001b[0m\u001b[0m\n\u001b[1;32m    179\u001b[0m                                 for label in axis.get_ticklabels()])\n",
      "\u001b[0;32m/opt/anaconda3/lib/python3.7/site-packages/ipykernel/pylab/backend_inline.py\u001b[0m in \u001b[0;36m<listcomp>\u001b[0;34m(.0)\u001b[0m\n\u001b[1;32m    177\u001b[0m                                 \u001b[0;32mfor\u001b[0m \u001b[0maxes\u001b[0m \u001b[0;32min\u001b[0m \u001b[0mfig\u001b[0m\u001b[0;34m.\u001b[0m\u001b[0maxes\u001b[0m\u001b[0;34m\u001b[0m\u001b[0;34m\u001b[0m\u001b[0m\n\u001b[1;32m    178\u001b[0m                                 \u001b[0;32mfor\u001b[0m \u001b[0maxis\u001b[0m \u001b[0;32min\u001b[0m \u001b[0;34m(\u001b[0m\u001b[0maxes\u001b[0m\u001b[0;34m.\u001b[0m\u001b[0mxaxis\u001b[0m\u001b[0;34m,\u001b[0m \u001b[0maxes\u001b[0m\u001b[0;34m.\u001b[0m\u001b[0myaxis\u001b[0m\u001b[0;34m)\u001b[0m\u001b[0;34m\u001b[0m\u001b[0;34m\u001b[0m\u001b[0m\n\u001b[0;32m--> 179\u001b[0;31m                                 for label in axis.get_ticklabels()])\n\u001b[0m\u001b[1;32m    180\u001b[0m         \u001b[0;32mif\u001b[0m \u001b[0mticksLight\u001b[0m\u001b[0;34m.\u001b[0m\u001b[0msize\u001b[0m \u001b[0;32mand\u001b[0m \u001b[0;34m(\u001b[0m\u001b[0mticksLight\u001b[0m \u001b[0;34m==\u001b[0m \u001b[0mticksLight\u001b[0m\u001b[0;34m[\u001b[0m\u001b[0;36m0\u001b[0m\u001b[0;34m]\u001b[0m\u001b[0;34m)\u001b[0m\u001b[0;34m.\u001b[0m\u001b[0mall\u001b[0m\u001b[0;34m(\u001b[0m\u001b[0;34m)\u001b[0m\u001b[0;34m:\u001b[0m\u001b[0;34m\u001b[0m\u001b[0;34m\u001b[0m\u001b[0m\n\u001b[1;32m    181\u001b[0m             \u001b[0;31m# there are one or more tick labels, all with the same lightness\u001b[0m\u001b[0;34m\u001b[0m\u001b[0;34m\u001b[0m\u001b[0;34m\u001b[0m\u001b[0m\n",
      "\u001b[0;32m/opt/anaconda3/lib/python3.7/site-packages/matplotlib/axis.py\u001b[0m in \u001b[0;36mget_ticklabels\u001b[0;34m(self, minor, which)\u001b[0m\n\u001b[1;32m   1294\u001b[0m         \u001b[0;32mif\u001b[0m \u001b[0mminor\u001b[0m\u001b[0;34m:\u001b[0m\u001b[0;34m\u001b[0m\u001b[0;34m\u001b[0m\u001b[0m\n\u001b[1;32m   1295\u001b[0m             \u001b[0;32mreturn\u001b[0m \u001b[0mself\u001b[0m\u001b[0;34m.\u001b[0m\u001b[0mget_minorticklabels\u001b[0m\u001b[0;34m(\u001b[0m\u001b[0;34m)\u001b[0m\u001b[0;34m\u001b[0m\u001b[0;34m\u001b[0m\u001b[0m\n\u001b[0;32m-> 1296\u001b[0;31m         \u001b[0;32mreturn\u001b[0m \u001b[0mself\u001b[0m\u001b[0;34m.\u001b[0m\u001b[0mget_majorticklabels\u001b[0m\u001b[0;34m(\u001b[0m\u001b[0;34m)\u001b[0m\u001b[0;34m\u001b[0m\u001b[0;34m\u001b[0m\u001b[0m\n\u001b[0m\u001b[1;32m   1297\u001b[0m \u001b[0;34m\u001b[0m\u001b[0m\n\u001b[1;32m   1298\u001b[0m     \u001b[0;32mdef\u001b[0m \u001b[0mget_majorticklines\u001b[0m\u001b[0;34m(\u001b[0m\u001b[0mself\u001b[0m\u001b[0;34m)\u001b[0m\u001b[0;34m:\u001b[0m\u001b[0;34m\u001b[0m\u001b[0;34m\u001b[0m\u001b[0m\n",
      "\u001b[0;32m/opt/anaconda3/lib/python3.7/site-packages/matplotlib/axis.py\u001b[0m in \u001b[0;36mget_majorticklabels\u001b[0;34m(self)\u001b[0m\n\u001b[1;32m   1250\u001b[0m     \u001b[0;32mdef\u001b[0m \u001b[0mget_majorticklabels\u001b[0m\u001b[0;34m(\u001b[0m\u001b[0mself\u001b[0m\u001b[0;34m)\u001b[0m\u001b[0;34m:\u001b[0m\u001b[0;34m\u001b[0m\u001b[0;34m\u001b[0m\u001b[0m\n\u001b[1;32m   1251\u001b[0m         \u001b[0;34m'Return a list of Text instances for the major ticklabels.'\u001b[0m\u001b[0;34m\u001b[0m\u001b[0;34m\u001b[0m\u001b[0m\n\u001b[0;32m-> 1252\u001b[0;31m         \u001b[0mticks\u001b[0m \u001b[0;34m=\u001b[0m \u001b[0mself\u001b[0m\u001b[0;34m.\u001b[0m\u001b[0mget_major_ticks\u001b[0m\u001b[0;34m(\u001b[0m\u001b[0;34m)\u001b[0m\u001b[0;34m\u001b[0m\u001b[0;34m\u001b[0m\u001b[0m\n\u001b[0m\u001b[1;32m   1253\u001b[0m         \u001b[0mlabels1\u001b[0m \u001b[0;34m=\u001b[0m \u001b[0;34m[\u001b[0m\u001b[0mtick\u001b[0m\u001b[0;34m.\u001b[0m\u001b[0mlabel1\u001b[0m \u001b[0;32mfor\u001b[0m \u001b[0mtick\u001b[0m \u001b[0;32min\u001b[0m \u001b[0mticks\u001b[0m \u001b[0;32mif\u001b[0m \u001b[0mtick\u001b[0m\u001b[0;34m.\u001b[0m\u001b[0mlabel1\u001b[0m\u001b[0;34m.\u001b[0m\u001b[0mget_visible\u001b[0m\u001b[0;34m(\u001b[0m\u001b[0;34m)\u001b[0m\u001b[0;34m]\u001b[0m\u001b[0;34m\u001b[0m\u001b[0;34m\u001b[0m\u001b[0m\n\u001b[1;32m   1254\u001b[0m         \u001b[0mlabels2\u001b[0m \u001b[0;34m=\u001b[0m \u001b[0;34m[\u001b[0m\u001b[0mtick\u001b[0m\u001b[0;34m.\u001b[0m\u001b[0mlabel2\u001b[0m \u001b[0;32mfor\u001b[0m \u001b[0mtick\u001b[0m \u001b[0;32min\u001b[0m \u001b[0mticks\u001b[0m \u001b[0;32mif\u001b[0m \u001b[0mtick\u001b[0m\u001b[0;34m.\u001b[0m\u001b[0mlabel2\u001b[0m\u001b[0;34m.\u001b[0m\u001b[0mget_visible\u001b[0m\u001b[0;34m(\u001b[0m\u001b[0;34m)\u001b[0m\u001b[0;34m]\u001b[0m\u001b[0;34m\u001b[0m\u001b[0;34m\u001b[0m\u001b[0m\n",
      "\u001b[0;32m/opt/anaconda3/lib/python3.7/site-packages/matplotlib/axis.py\u001b[0m in \u001b[0;36mget_major_ticks\u001b[0;34m(self, numticks)\u001b[0m\n\u001b[1;32m   1405\u001b[0m         \u001b[0;34m'Get the tick instances; grow as necessary.'\u001b[0m\u001b[0;34m\u001b[0m\u001b[0;34m\u001b[0m\u001b[0m\n\u001b[1;32m   1406\u001b[0m         \u001b[0;32mif\u001b[0m \u001b[0mnumticks\u001b[0m \u001b[0;32mis\u001b[0m \u001b[0;32mNone\u001b[0m\u001b[0;34m:\u001b[0m\u001b[0;34m\u001b[0m\u001b[0;34m\u001b[0m\u001b[0m\n\u001b[0;32m-> 1407\u001b[0;31m             \u001b[0mnumticks\u001b[0m \u001b[0;34m=\u001b[0m \u001b[0mlen\u001b[0m\u001b[0;34m(\u001b[0m\u001b[0mself\u001b[0m\u001b[0;34m.\u001b[0m\u001b[0mget_majorticklocs\u001b[0m\u001b[0;34m(\u001b[0m\u001b[0;34m)\u001b[0m\u001b[0;34m)\u001b[0m\u001b[0;34m\u001b[0m\u001b[0;34m\u001b[0m\u001b[0m\n\u001b[0m\u001b[1;32m   1408\u001b[0m \u001b[0;34m\u001b[0m\u001b[0m\n\u001b[1;32m   1409\u001b[0m         \u001b[0;32mwhile\u001b[0m \u001b[0mlen\u001b[0m\u001b[0;34m(\u001b[0m\u001b[0mself\u001b[0m\u001b[0;34m.\u001b[0m\u001b[0mmajorTicks\u001b[0m\u001b[0;34m)\u001b[0m \u001b[0;34m<\u001b[0m \u001b[0mnumticks\u001b[0m\u001b[0;34m:\u001b[0m\u001b[0;34m\u001b[0m\u001b[0;34m\u001b[0m\u001b[0m\n",
      "\u001b[0;32m/opt/anaconda3/lib/python3.7/site-packages/matplotlib/axis.py\u001b[0m in \u001b[0;36mget_majorticklocs\u001b[0;34m(self)\u001b[0m\n\u001b[1;32m   1322\u001b[0m     \u001b[0;32mdef\u001b[0m \u001b[0mget_majorticklocs\u001b[0m\u001b[0;34m(\u001b[0m\u001b[0mself\u001b[0m\u001b[0;34m)\u001b[0m\u001b[0;34m:\u001b[0m\u001b[0;34m\u001b[0m\u001b[0;34m\u001b[0m\u001b[0m\n\u001b[1;32m   1323\u001b[0m         \u001b[0;34m\"\"\"Get the array of major tick locations in data coordinates.\"\"\"\u001b[0m\u001b[0;34m\u001b[0m\u001b[0;34m\u001b[0m\u001b[0m\n\u001b[0;32m-> 1324\u001b[0;31m         \u001b[0;32mreturn\u001b[0m \u001b[0mself\u001b[0m\u001b[0;34m.\u001b[0m\u001b[0mmajor\u001b[0m\u001b[0;34m.\u001b[0m\u001b[0mlocator\u001b[0m\u001b[0;34m(\u001b[0m\u001b[0;34m)\u001b[0m\u001b[0;34m\u001b[0m\u001b[0;34m\u001b[0m\u001b[0m\n\u001b[0m\u001b[1;32m   1325\u001b[0m \u001b[0;34m\u001b[0m\u001b[0m\n\u001b[1;32m   1326\u001b[0m     \u001b[0;32mdef\u001b[0m \u001b[0mget_minorticklocs\u001b[0m\u001b[0;34m(\u001b[0m\u001b[0mself\u001b[0m\u001b[0;34m)\u001b[0m\u001b[0;34m:\u001b[0m\u001b[0;34m\u001b[0m\u001b[0;34m\u001b[0m\u001b[0m\n",
      "\u001b[0;32m/opt/anaconda3/lib/python3.7/site-packages/matplotlib/dates.py\u001b[0m in \u001b[0;36m__call__\u001b[0;34m(self)\u001b[0m\n\u001b[1;32m   1429\u001b[0m     \u001b[0;32mdef\u001b[0m \u001b[0m__call__\u001b[0m\u001b[0;34m(\u001b[0m\u001b[0mself\u001b[0m\u001b[0;34m)\u001b[0m\u001b[0;34m:\u001b[0m\u001b[0;34m\u001b[0m\u001b[0;34m\u001b[0m\u001b[0m\n\u001b[1;32m   1430\u001b[0m         \u001b[0;34m'Return the locations of the ticks'\u001b[0m\u001b[0;34m\u001b[0m\u001b[0;34m\u001b[0m\u001b[0m\n\u001b[0;32m-> 1431\u001b[0;31m         \u001b[0mself\u001b[0m\u001b[0;34m.\u001b[0m\u001b[0mrefresh\u001b[0m\u001b[0;34m(\u001b[0m\u001b[0;34m)\u001b[0m\u001b[0;34m\u001b[0m\u001b[0;34m\u001b[0m\u001b[0m\n\u001b[0m\u001b[1;32m   1432\u001b[0m         \u001b[0;32mreturn\u001b[0m \u001b[0mself\u001b[0m\u001b[0;34m.\u001b[0m\u001b[0m_locator\u001b[0m\u001b[0;34m(\u001b[0m\u001b[0;34m)\u001b[0m\u001b[0;34m\u001b[0m\u001b[0;34m\u001b[0m\u001b[0m\n\u001b[1;32m   1433\u001b[0m \u001b[0;34m\u001b[0m\u001b[0m\n",
      "\u001b[0;32m/opt/anaconda3/lib/python3.7/site-packages/matplotlib/dates.py\u001b[0m in \u001b[0;36mrefresh\u001b[0;34m(self)\u001b[0m\n\u001b[1;32m   1449\u001b[0m     \u001b[0;32mdef\u001b[0m \u001b[0mrefresh\u001b[0m\u001b[0;34m(\u001b[0m\u001b[0mself\u001b[0m\u001b[0;34m)\u001b[0m\u001b[0;34m:\u001b[0m\u001b[0;34m\u001b[0m\u001b[0;34m\u001b[0m\u001b[0m\n\u001b[1;32m   1450\u001b[0m         \u001b[0;34m'Refresh internal information based on current limits.'\u001b[0m\u001b[0;34m\u001b[0m\u001b[0;34m\u001b[0m\u001b[0m\n\u001b[0;32m-> 1451\u001b[0;31m         \u001b[0mdmin\u001b[0m\u001b[0;34m,\u001b[0m \u001b[0mdmax\u001b[0m \u001b[0;34m=\u001b[0m \u001b[0mself\u001b[0m\u001b[0;34m.\u001b[0m\u001b[0mviewlim_to_dt\u001b[0m\u001b[0;34m(\u001b[0m\u001b[0;34m)\u001b[0m\u001b[0;34m\u001b[0m\u001b[0;34m\u001b[0m\u001b[0m\n\u001b[0m\u001b[1;32m   1452\u001b[0m         \u001b[0mself\u001b[0m\u001b[0;34m.\u001b[0m\u001b[0m_locator\u001b[0m \u001b[0;34m=\u001b[0m \u001b[0mself\u001b[0m\u001b[0;34m.\u001b[0m\u001b[0mget_locator\u001b[0m\u001b[0;34m(\u001b[0m\u001b[0mdmin\u001b[0m\u001b[0;34m,\u001b[0m \u001b[0mdmax\u001b[0m\u001b[0;34m)\u001b[0m\u001b[0;34m\u001b[0m\u001b[0;34m\u001b[0m\u001b[0m\n\u001b[1;32m   1453\u001b[0m \u001b[0;34m\u001b[0m\u001b[0m\n",
      "\u001b[0;32m/opt/anaconda3/lib/python3.7/site-packages/matplotlib/dates.py\u001b[0m in \u001b[0;36mviewlim_to_dt\u001b[0;34m(self)\u001b[0m\n\u001b[1;32m   1200\u001b[0m                              \u001b[0;34m'often happens if you pass a non-datetime '\u001b[0m\u001b[0;34m\u001b[0m\u001b[0;34m\u001b[0m\u001b[0m\n\u001b[1;32m   1201\u001b[0m                              \u001b[0;34m'value to an axis that has datetime units'\u001b[0m\u001b[0;34m\u001b[0m\u001b[0;34m\u001b[0m\u001b[0m\n\u001b[0;32m-> 1202\u001b[0;31m                              .format(vmin))\n\u001b[0m\u001b[1;32m   1203\u001b[0m         \u001b[0;32mreturn\u001b[0m \u001b[0mnum2date\u001b[0m\u001b[0;34m(\u001b[0m\u001b[0mvmin\u001b[0m\u001b[0;34m,\u001b[0m \u001b[0mself\u001b[0m\u001b[0;34m.\u001b[0m\u001b[0mtz\u001b[0m\u001b[0;34m)\u001b[0m\u001b[0;34m,\u001b[0m \u001b[0mnum2date\u001b[0m\u001b[0;34m(\u001b[0m\u001b[0mvmax\u001b[0m\u001b[0;34m,\u001b[0m \u001b[0mself\u001b[0m\u001b[0;34m.\u001b[0m\u001b[0mtz\u001b[0m\u001b[0;34m)\u001b[0m\u001b[0;34m\u001b[0m\u001b[0;34m\u001b[0m\u001b[0m\n\u001b[1;32m   1204\u001b[0m \u001b[0;34m\u001b[0m\u001b[0m\n",
      "\u001b[0;31mValueError\u001b[0m: view limit minimum -36908.598025 is less than 1 and is an invalid Matplotlib date value. This often happens if you pass a non-datetime value to an axis that has datetime units"
     ]
    }
   ],
   "source": [
    "ax = WA.plot.bar()\n",
    "plt.show()"
   ]
  },
  {
   "cell_type": "markdown",
   "metadata": {},
   "source": [
    "To overcome this problem, we'll create a temporary dataframe by filtering out just those (numerical) columns that we want:"
   ]
  },
  {
   "cell_type": "code",
   "execution_count": 276,
   "metadata": {},
   "outputs": [
    {
     "data": {
      "image/png": "[encoded data removed]",
      "text/plain": [
       "<Figure size 432x288 with 1 Axes>"
      ]
     },
     "metadata": {
      "needs_background": "light"
     },
     "output_type": "display_data"
    }
   ],
   "source": [
    "numbers = WA.filter([\"Confirmed\", \"Recovered\", \"Deaths\"])\n",
    "ax = numbers.plot.bar()\n",
    "plt.show()"
   ]
  },
  {
   "cell_type": "markdown",
   "metadata": {},
   "source": [
    "Let's try a different start with more data."
   ]
  },
  {
   "cell_type": "code",
   "execution_count": 250,
   "metadata": {},
   "outputs": [
    {
     "data": {
      "text/html": [
       "<div>\n",
       "<style scoped>\n",
       "    .dataframe tbody tr th:only-of-type {\n",
       "        vertical-align: middle;\n",
       "    }\n",
       "\n",
       "    .dataframe tbody tr th {\n",
       "        vertical-align: top;\n",
       "    }\n",
       "\n",
       "    .dataframe thead th {\n",
       "        text-align: right;\n",
       "    }\n",
       "</style>\n",
       "<table border=\"1\" class=\"dataframe\">\n",
       "  <thead>\n",
       "    <tr style=\"text-align: right;\">\n",
       "      <th></th>\n",
       "      <th>State</th>\n",
       "      <th>Country</th>\n",
       "      <th>Lat</th>\n",
       "      <th>Long</th>\n",
       "      <th>Date</th>\n",
       "      <th>Confirmed</th>\n",
       "      <th>Recovered</th>\n",
       "      <th>Deaths</th>\n",
       "    </tr>\n",
       "  </thead>\n",
       "  <tbody>\n",
       "    <tr>\n",
       "      <td>340</td>\n",
       "      <td>New South Wales</td>\n",
       "      <td>Australia</td>\n",
       "      <td>-33.8688</td>\n",
       "      <td>151.2093</td>\n",
       "      <td>2020-01-26</td>\n",
       "      <td>3</td>\n",
       "      <td>0</td>\n",
       "      <td>0</td>\n",
       "    </tr>\n",
       "    <tr>\n",
       "      <td>341</td>\n",
       "      <td>New South Wales</td>\n",
       "      <td>Australia</td>\n",
       "      <td>-33.8688</td>\n",
       "      <td>151.2093</td>\n",
       "      <td>2020-01-27</td>\n",
       "      <td>4</td>\n",
       "      <td>0</td>\n",
       "      <td>0</td>\n",
       "    </tr>\n",
       "    <tr>\n",
       "      <td>342</td>\n",
       "      <td>New South Wales</td>\n",
       "      <td>Australia</td>\n",
       "      <td>-33.8688</td>\n",
       "      <td>151.2093</td>\n",
       "      <td>2020-01-28</td>\n",
       "      <td>4</td>\n",
       "      <td>0</td>\n",
       "      <td>0</td>\n",
       "    </tr>\n",
       "    <tr>\n",
       "      <td>343</td>\n",
       "      <td>New South Wales</td>\n",
       "      <td>Australia</td>\n",
       "      <td>-33.8688</td>\n",
       "      <td>151.2093</td>\n",
       "      <td>2020-01-29</td>\n",
       "      <td>4</td>\n",
       "      <td>0</td>\n",
       "      <td>0</td>\n",
       "    </tr>\n",
       "    <tr>\n",
       "      <td>344</td>\n",
       "      <td>New South Wales</td>\n",
       "      <td>Australia</td>\n",
       "      <td>-33.8688</td>\n",
       "      <td>151.2093</td>\n",
       "      <td>2020-01-30</td>\n",
       "      <td>4</td>\n",
       "      <td>2</td>\n",
       "      <td>0</td>\n",
       "    </tr>\n",
       "  </tbody>\n",
       "</table>\n",
       "</div>"
      ],
      "text/plain": [
       "               State    Country      Lat      Long       Date  Confirmed  \\\n",
       "340  New South Wales  Australia -33.8688  151.2093 2020-01-26          3   \n",
       "341  New South Wales  Australia -33.8688  151.2093 2020-01-27          4   \n",
       "342  New South Wales  Australia -33.8688  151.2093 2020-01-28          4   \n",
       "343  New South Wales  Australia -33.8688  151.2093 2020-01-29          4   \n",
       "344  New South Wales  Australia -33.8688  151.2093 2020-01-30          4   \n",
       "\n",
       "     Recovered  Deaths  \n",
       "340          0       0  \n",
       "341          0       0  \n",
       "342          0       0  \n",
       "343          0       0  \n",
       "344          2       0  "
      ]
     },
     "execution_count": 250,
     "metadata": {},
     "output_type": "execute_result"
    }
   ],
   "source": [
    "NSW = auscovid.loc[(auscovid[\"State\"] == \"New South Wales\") & (auscovid[\"Confirmed\"]>0)]\n",
    "NSW.head()"
   ]
  },
  {
   "cell_type": "code",
   "execution_count": 251,
   "metadata": {},
   "outputs": [
    {
     "data": {
      "image/png": "[encoded data removed]",
      "text/plain": [
       "<Figure size 432x288 with 1 Axes>"
      ]
     },
     "metadata": {
      "needs_background": "light"
     },
     "output_type": "display_data"
    }
   ],
   "source": [
    "numbers = NSW.filter([\"Confirmed\", \"Recovered\", \"Deaths\"])\n",
    "ax = numbers.plot.bar()\n",
    "xlabels = NSW[\"Date\"].apply(lambda x: x.strftime(\"%B %d\"))\n",
    "ax.set_xticklabels(xlabels)\n",
    "plt.ylabel(\"Number of cases\")\n",
    "plt.title(\"NSW Covid-19 Cases\")\n",
    "plt.show()"
   ]
  },
  {
   "cell_type": "code",
   "execution_count": 252,
   "metadata": {},
   "outputs": [
    {
     "data": {
      "image/png": "[encoded data removed]",
      "text/plain": [
       "<Figure size 720x144 with 1 Axes>"
      ]
     },
     "metadata": {
      "needs_background": "light"
     },
     "output_type": "display_data"
    }
   ],
   "source": [
    "ax = numbers.plot.bar(figsize=(10,2))\n",
    "ax.set_xticklabels(xlabels)\n",
    "plt.ylabel(\"Number of cases\")\n",
    "plt.title(\"NSW Covid-19 Cases\")\n",
    "plt.show()"
   ]
  },
  {
   "cell_type": "markdown",
   "metadata": {},
   "source": [
    "It's getting to crowded to show by day. We could try showing by week.\n",
    "\n",
    "Let's use a list comprehension to get the day names and pick out the sundays:"
   ]
  },
  {
   "cell_type": "code",
   "execution_count": 253,
   "metadata": {},
   "outputs": [
    {
     "data": {
      "text/plain": [
       "['Sunday',\n",
       " 'Monday',\n",
       " 'Tuesday',\n",
       " 'Wednesday',\n",
       " 'Thursday',\n",
       " 'Friday',\n",
       " 'Saturday',\n",
       " 'Sunday']"
      ]
     },
     "execution_count": 253,
     "metadata": {},
     "output_type": "execute_result"
    }
   ],
   "source": [
    "[x.day_name() for x in NSW[\"Date\"]][0:8]"
   ]
  },
  {
   "cell_type": "code",
   "execution_count": 254,
   "metadata": {},
   "outputs": [
    {
     "data": {
      "text/plain": [
       "[True, False, False, False, False, False, False, True, False, False]"
      ]
     },
     "execution_count": 254,
     "metadata": {},
     "output_type": "execute_result"
    }
   ],
   "source": [
    "[x.day_name() == 'Sunday' for x in NSW[\"Date\"]][0:10]"
   ]
  },
  {
   "cell_type": "code",
   "execution_count": 255,
   "metadata": {},
   "outputs": [
    {
     "data": {
      "image/png": "[encoded data removed]",
      "text/plain": [
       "<Figure size 432x288 with 1 Axes>"
      ]
     },
     "metadata": {
      "needs_background": "light"
     },
     "output_type": "display_data"
    }
   ],
   "source": [
    "NSW_sundays = NSW.loc[[x.day_name() == 'Sunday' for x in NSW[\"Date\"]]]\n",
    "numbers = NSW_sundays.filter([\"Confirmed\", \"Recovered\", \"Deaths\"])\n",
    "ax = numbers.plot.bar(figsize=(6,4))\n",
    "ax.set_xticklabels(NSW_sundays[\"Date\"].apply(lambda x: x.strftime(\"%B %d\")))\n",
    "plt.ylabel(\"Number of cases\")\n",
    "plt.title(\"NSW Covid-19 Cases by Week\")\n",
    "plt.show()"
   ]
  },
  {
   "cell_type": "markdown",
   "metadata": {},
   "source": [
    "Rather than \"manually\" coding for each state, we would like an efficient way to look at them all. \n",
    "\n",
    "Pandas provides a very useful class for just this kind of problem. It's called `GroupBy'.\n",
    "\n",
    "--- Use groupby date to get all Australian cases?\n",
    " \n",
    " note some are 'from Diamond Princess'"
   ]
  },
  {
   "cell_type": "markdown",
   "metadata": {},
   "source": [
    "## Using GroupBy"
   ]
  },
  {
   "cell_type": "code",
   "execution_count": 443,
   "metadata": {},
   "outputs": [
    {
     "data": {
      "text/plain": [
       "<pandas.core.groupby.generic.DataFrameGroupBy object at 0x11b4a2290>"
      ]
     },
     "execution_count": 443,
     "metadata": {},
     "output_type": "execute_result"
    }
   ],
   "source": [
    "states = auscovid.groupby(\"State\")\n",
    "states"
   ]
  },
  {
   "cell_type": "code",
   "execution_count": 444,
   "metadata": {},
   "outputs": [
    {
     "data": {
      "text/html": [
       "<div>\n",
       "<style scoped>\n",
       "    .dataframe tbody tr th:only-of-type {\n",
       "        vertical-align: middle;\n",
       "    }\n",
       "\n",
       "    .dataframe tbody tr th {\n",
       "        vertical-align: top;\n",
       "    }\n",
       "\n",
       "    .dataframe thead th {\n",
       "        text-align: right;\n",
       "    }\n",
       "</style>\n",
       "<table border=\"1\" class=\"dataframe\">\n",
       "  <thead>\n",
       "    <tr style=\"text-align: right;\">\n",
       "      <th></th>\n",
       "      <th>State</th>\n",
       "      <th>Country</th>\n",
       "      <th>Lat</th>\n",
       "      <th>Long</th>\n",
       "      <th>Date</th>\n",
       "      <th>Confirmed</th>\n",
       "      <th>Recovered</th>\n",
       "      <th>Deaths</th>\n",
       "    </tr>\n",
       "  </thead>\n",
       "  <tbody>\n",
       "    <tr>\n",
       "      <td>336</td>\n",
       "      <td>New South Wales</td>\n",
       "      <td>Australia</td>\n",
       "      <td>-33.8688</td>\n",
       "      <td>151.2093</td>\n",
       "      <td>2020-01-22</td>\n",
       "      <td>0</td>\n",
       "      <td>0</td>\n",
       "      <td>0</td>\n",
       "    </tr>\n",
       "    <tr>\n",
       "      <td>337</td>\n",
       "      <td>New South Wales</td>\n",
       "      <td>Australia</td>\n",
       "      <td>-33.8688</td>\n",
       "      <td>151.2093</td>\n",
       "      <td>2020-01-23</td>\n",
       "      <td>0</td>\n",
       "      <td>0</td>\n",
       "      <td>0</td>\n",
       "    </tr>\n",
       "    <tr>\n",
       "      <td>392</td>\n",
       "      <td>Victoria</td>\n",
       "      <td>Australia</td>\n",
       "      <td>-37.8136</td>\n",
       "      <td>144.9631</td>\n",
       "      <td>2020-01-22</td>\n",
       "      <td>0</td>\n",
       "      <td>0</td>\n",
       "      <td>0</td>\n",
       "    </tr>\n",
       "    <tr>\n",
       "      <td>393</td>\n",
       "      <td>Victoria</td>\n",
       "      <td>Australia</td>\n",
       "      <td>-37.8136</td>\n",
       "      <td>144.9631</td>\n",
       "      <td>2020-01-23</td>\n",
       "      <td>0</td>\n",
       "      <td>0</td>\n",
       "      <td>0</td>\n",
       "    </tr>\n",
       "    <tr>\n",
       "      <td>448</td>\n",
       "      <td>Queensland</td>\n",
       "      <td>Australia</td>\n",
       "      <td>-28.0167</td>\n",
       "      <td>153.4000</td>\n",
       "      <td>2020-01-22</td>\n",
       "      <td>0</td>\n",
       "      <td>0</td>\n",
       "      <td>0</td>\n",
       "    </tr>\n",
       "    <tr>\n",
       "      <td>449</td>\n",
       "      <td>Queensland</td>\n",
       "      <td>Australia</td>\n",
       "      <td>-28.0167</td>\n",
       "      <td>153.4000</td>\n",
       "      <td>2020-01-23</td>\n",
       "      <td>0</td>\n",
       "      <td>0</td>\n",
       "      <td>0</td>\n",
       "    </tr>\n",
       "    <tr>\n",
       "      <td>1064</td>\n",
       "      <td>South Australia</td>\n",
       "      <td>Australia</td>\n",
       "      <td>-34.9285</td>\n",
       "      <td>138.6007</td>\n",
       "      <td>2020-01-22</td>\n",
       "      <td>0</td>\n",
       "      <td>0</td>\n",
       "      <td>0</td>\n",
       "    </tr>\n",
       "    <tr>\n",
       "      <td>1065</td>\n",
       "      <td>South Australia</td>\n",
       "      <td>Australia</td>\n",
       "      <td>-34.9285</td>\n",
       "      <td>138.6007</td>\n",
       "      <td>2020-01-23</td>\n",
       "      <td>0</td>\n",
       "      <td>0</td>\n",
       "      <td>0</td>\n",
       "    </tr>\n",
       "    <tr>\n",
       "      <td>1232</td>\n",
       "      <td>From Diamond Princess</td>\n",
       "      <td>Australia</td>\n",
       "      <td>35.4437</td>\n",
       "      <td>139.6380</td>\n",
       "      <td>2020-01-22</td>\n",
       "      <td>0</td>\n",
       "      <td>0</td>\n",
       "      <td>0</td>\n",
       "    </tr>\n",
       "    <tr>\n",
       "      <td>1233</td>\n",
       "      <td>From Diamond Princess</td>\n",
       "      <td>Australia</td>\n",
       "      <td>35.4437</td>\n",
       "      <td>139.6380</td>\n",
       "      <td>2020-01-23</td>\n",
       "      <td>0</td>\n",
       "      <td>0</td>\n",
       "      <td>0</td>\n",
       "    </tr>\n",
       "    <tr>\n",
       "      <td>2744</td>\n",
       "      <td>Western Australia</td>\n",
       "      <td>Australia</td>\n",
       "      <td>-31.9505</td>\n",
       "      <td>115.8605</td>\n",
       "      <td>2020-01-22</td>\n",
       "      <td>0</td>\n",
       "      <td>0</td>\n",
       "      <td>0</td>\n",
       "    </tr>\n",
       "    <tr>\n",
       "      <td>2745</td>\n",
       "      <td>Western Australia</td>\n",
       "      <td>Australia</td>\n",
       "      <td>-31.9505</td>\n",
       "      <td>115.8605</td>\n",
       "      <td>2020-01-23</td>\n",
       "      <td>0</td>\n",
       "      <td>0</td>\n",
       "      <td>0</td>\n",
       "    </tr>\n",
       "    <tr>\n",
       "      <td>3416</td>\n",
       "      <td>Tasmania</td>\n",
       "      <td>Australia</td>\n",
       "      <td>-41.4545</td>\n",
       "      <td>145.9707</td>\n",
       "      <td>2020-01-22</td>\n",
       "      <td>0</td>\n",
       "      <td>0</td>\n",
       "      <td>0</td>\n",
       "    </tr>\n",
       "    <tr>\n",
       "      <td>3417</td>\n",
       "      <td>Tasmania</td>\n",
       "      <td>Australia</td>\n",
       "      <td>-41.4545</td>\n",
       "      <td>145.9707</td>\n",
       "      <td>2020-01-23</td>\n",
       "      <td>0</td>\n",
       "      <td>0</td>\n",
       "      <td>0</td>\n",
       "    </tr>\n",
       "    <tr>\n",
       "      <td>3976</td>\n",
       "      <td>Northern Territory</td>\n",
       "      <td>Australia</td>\n",
       "      <td>-12.4634</td>\n",
       "      <td>130.8456</td>\n",
       "      <td>2020-01-22</td>\n",
       "      <td>0</td>\n",
       "      <td>0</td>\n",
       "      <td>0</td>\n",
       "    </tr>\n",
       "    <tr>\n",
       "      <td>3977</td>\n",
       "      <td>Northern Territory</td>\n",
       "      <td>Australia</td>\n",
       "      <td>-12.4634</td>\n",
       "      <td>130.8456</td>\n",
       "      <td>2020-01-23</td>\n",
       "      <td>0</td>\n",
       "      <td>0</td>\n",
       "      <td>0</td>\n",
       "    </tr>\n",
       "    <tr>\n",
       "      <td>22512</td>\n",
       "      <td>Australian Capital Territory</td>\n",
       "      <td>Australia</td>\n",
       "      <td>-35.4735</td>\n",
       "      <td>149.0124</td>\n",
       "      <td>2020-01-22</td>\n",
       "      <td>0</td>\n",
       "      <td>0</td>\n",
       "      <td>0</td>\n",
       "    </tr>\n",
       "    <tr>\n",
       "      <td>22513</td>\n",
       "      <td>Australian Capital Territory</td>\n",
       "      <td>Australia</td>\n",
       "      <td>-35.4735</td>\n",
       "      <td>149.0124</td>\n",
       "      <td>2020-01-23</td>\n",
       "      <td>0</td>\n",
       "      <td>0</td>\n",
       "      <td>0</td>\n",
       "    </tr>\n",
       "  </tbody>\n",
       "</table>\n",
       "</div>"
      ],
      "text/plain": [
       "                              State    Country      Lat      Long       Date  \\\n",
       "336                 New South Wales  Australia -33.8688  151.2093 2020-01-22   \n",
       "337                 New South Wales  Australia -33.8688  151.2093 2020-01-23   \n",
       "392                        Victoria  Australia -37.8136  144.9631 2020-01-22   \n",
       "393                        Victoria  Australia -37.8136  144.9631 2020-01-23   \n",
       "448                      Queensland  Australia -28.0167  153.4000 2020-01-22   \n",
       "449                      Queensland  Australia -28.0167  153.4000 2020-01-23   \n",
       "1064                South Australia  Australia -34.9285  138.6007 2020-01-22   \n",
       "1065                South Australia  Australia -34.9285  138.6007 2020-01-23   \n",
       "1232          From Diamond Princess  Australia  35.4437  139.6380 2020-01-22   \n",
       "1233          From Diamond Princess  Australia  35.4437  139.6380 2020-01-23   \n",
       "2744              Western Australia  Australia -31.9505  115.8605 2020-01-22   \n",
       "2745              Western Australia  Australia -31.9505  115.8605 2020-01-23   \n",
       "3416                       Tasmania  Australia -41.4545  145.9707 2020-01-22   \n",
       "3417                       Tasmania  Australia -41.4545  145.9707 2020-01-23   \n",
       "3976             Northern Territory  Australia -12.4634  130.8456 2020-01-22   \n",
       "3977             Northern Territory  Australia -12.4634  130.8456 2020-01-23   \n",
       "22512  Australian Capital Territory  Australia -35.4735  149.0124 2020-01-22   \n",
       "22513  Australian Capital Territory  Australia -35.4735  149.0124 2020-01-23   \n",
       "\n",
       "       Confirmed  Recovered  Deaths  \n",
       "336            0          0       0  \n",
       "337            0          0       0  \n",
       "392            0          0       0  \n",
       "393            0          0       0  \n",
       "448            0          0       0  \n",
       "449            0          0       0  \n",
       "1064           0          0       0  \n",
       "1065           0          0       0  \n",
       "1232           0          0       0  \n",
       "1233           0          0       0  \n",
       "2744           0          0       0  \n",
       "2745           0          0       0  \n",
       "3416           0          0       0  \n",
       "3417           0          0       0  \n",
       "3976           0          0       0  \n",
       "3977           0          0       0  \n",
       "22512          0          0       0  \n",
       "22513          0          0       0  "
      ]
     },
     "execution_count": 444,
     "metadata": {},
     "output_type": "execute_result"
    }
   ],
   "source": [
    "states.head(2)"
   ]
  },
  {
   "cell_type": "code",
   "execution_count": 445,
   "metadata": {},
   "outputs": [
    {
     "data": {
      "text/html": [
       "<div>\n",
       "<style scoped>\n",
       "    .dataframe tbody tr th:only-of-type {\n",
       "        vertical-align: middle;\n",
       "    }\n",
       "\n",
       "    .dataframe tbody tr th {\n",
       "        vertical-align: top;\n",
       "    }\n",
       "\n",
       "    .dataframe thead th {\n",
       "        text-align: right;\n",
       "    }\n",
       "</style>\n",
       "<table border=\"1\" class=\"dataframe\">\n",
       "  <thead>\n",
       "    <tr style=\"text-align: right;\">\n",
       "      <th></th>\n",
       "      <th>Country</th>\n",
       "      <th>Lat</th>\n",
       "      <th>Long</th>\n",
       "      <th>Date</th>\n",
       "      <th>Confirmed</th>\n",
       "      <th>Recovered</th>\n",
       "      <th>Deaths</th>\n",
       "    </tr>\n",
       "    <tr>\n",
       "      <th>State</th>\n",
       "      <th></th>\n",
       "      <th></th>\n",
       "      <th></th>\n",
       "      <th></th>\n",
       "      <th></th>\n",
       "      <th></th>\n",
       "      <th></th>\n",
       "    </tr>\n",
       "  </thead>\n",
       "  <tbody>\n",
       "    <tr>\n",
       "      <td>Australian Capital Territory</td>\n",
       "      <td>Australia</td>\n",
       "      <td>-35.4735</td>\n",
       "      <td>149.0124</td>\n",
       "      <td>2020-03-17</td>\n",
       "      <td>2</td>\n",
       "      <td>0</td>\n",
       "      <td>0</td>\n",
       "    </tr>\n",
       "    <tr>\n",
       "      <td>From Diamond Princess</td>\n",
       "      <td>Australia</td>\n",
       "      <td>35.4437</td>\n",
       "      <td>139.6380</td>\n",
       "      <td>2020-03-17</td>\n",
       "      <td>8</td>\n",
       "      <td>0</td>\n",
       "      <td>0</td>\n",
       "    </tr>\n",
       "    <tr>\n",
       "      <td>New South Wales</td>\n",
       "      <td>Australia</td>\n",
       "      <td>-33.8688</td>\n",
       "      <td>151.2093</td>\n",
       "      <td>2020-03-17</td>\n",
       "      <td>210</td>\n",
       "      <td>4</td>\n",
       "      <td>4</td>\n",
       "    </tr>\n",
       "    <tr>\n",
       "      <td>Northern Territory</td>\n",
       "      <td>Australia</td>\n",
       "      <td>-12.4634</td>\n",
       "      <td>130.8456</td>\n",
       "      <td>2020-03-17</td>\n",
       "      <td>1</td>\n",
       "      <td>0</td>\n",
       "      <td>0</td>\n",
       "    </tr>\n",
       "    <tr>\n",
       "      <td>Queensland</td>\n",
       "      <td>Australia</td>\n",
       "      <td>-28.0167</td>\n",
       "      <td>153.4000</td>\n",
       "      <td>2020-03-17</td>\n",
       "      <td>78</td>\n",
       "      <td>8</td>\n",
       "      <td>0</td>\n",
       "    </tr>\n",
       "    <tr>\n",
       "      <td>South Australia</td>\n",
       "      <td>Australia</td>\n",
       "      <td>-34.9285</td>\n",
       "      <td>138.6007</td>\n",
       "      <td>2020-03-17</td>\n",
       "      <td>29</td>\n",
       "      <td>3</td>\n",
       "      <td>0</td>\n",
       "    </tr>\n",
       "    <tr>\n",
       "      <td>Tasmania</td>\n",
       "      <td>Australia</td>\n",
       "      <td>-41.4545</td>\n",
       "      <td>145.9707</td>\n",
       "      <td>2020-03-17</td>\n",
       "      <td>7</td>\n",
       "      <td>0</td>\n",
       "      <td>0</td>\n",
       "    </tr>\n",
       "    <tr>\n",
       "      <td>Victoria</td>\n",
       "      <td>Australia</td>\n",
       "      <td>-37.8136</td>\n",
       "      <td>144.9631</td>\n",
       "      <td>2020-03-17</td>\n",
       "      <td>94</td>\n",
       "      <td>8</td>\n",
       "      <td>0</td>\n",
       "    </tr>\n",
       "    <tr>\n",
       "      <td>Western Australia</td>\n",
       "      <td>Australia</td>\n",
       "      <td>-31.9505</td>\n",
       "      <td>115.8605</td>\n",
       "      <td>2020-03-17</td>\n",
       "      <td>31</td>\n",
       "      <td>0</td>\n",
       "      <td>1</td>\n",
       "    </tr>\n",
       "  </tbody>\n",
       "</table>\n",
       "</div>"
      ],
      "text/plain": [
       "                                Country      Lat      Long       Date  \\\n",
       "State                                                                   \n",
       "Australian Capital Territory  Australia -35.4735  149.0124 2020-03-17   \n",
       "From Diamond Princess         Australia  35.4437  139.6380 2020-03-17   \n",
       "New South Wales               Australia -33.8688  151.2093 2020-03-17   \n",
       "Northern Territory            Australia -12.4634  130.8456 2020-03-17   \n",
       "Queensland                    Australia -28.0167  153.4000 2020-03-17   \n",
       "South Australia               Australia -34.9285  138.6007 2020-03-17   \n",
       "Tasmania                      Australia -41.4545  145.9707 2020-03-17   \n",
       "Victoria                      Australia -37.8136  144.9631 2020-03-17   \n",
       "Western Australia             Australia -31.9505  115.8605 2020-03-17   \n",
       "\n",
       "                              Confirmed  Recovered  Deaths  \n",
       "State                                                       \n",
       "Australian Capital Territory          2          0       0  \n",
       "From Diamond Princess                 8          0       0  \n",
       "New South Wales                     210          4       4  \n",
       "Northern Territory                    1          0       0  \n",
       "Queensland                           78          8       0  \n",
       "South Australia                      29          3       0  \n",
       "Tasmania                              7          0       0  \n",
       "Victoria                             94          8       0  \n",
       "Western Australia                    31          0       1  "
      ]
     },
     "execution_count": 445,
     "metadata": {},
     "output_type": "execute_result"
    }
   ],
   "source": [
    "states.max()"
   ]
  },
  {
   "cell_type": "markdown",
   "metadata": {},
   "source": [
    "(Note that max works on dates too!)\n",
    "\n",
    "Many GroupBy methods, like `head` and `max`, themselves return dataframes.\n",
    "\n",
    "But what's inside a GroupBy object? `groups` gives us a dictionary view of the object:"
   ]
  },
  {
   "cell_type": "code",
   "execution_count": 446,
   "metadata": {},
   "outputs": [
    {
     "data": {
      "text/plain": [
       "{'Australian Capital Territory': Int64Index([22512, 22513, 22514, 22515, 22516, 22517, 22518, 22519, 22520,\n",
       "             22521, 22522, 22523, 22524, 22525, 22526, 22527, 22528, 22529,\n",
       "             22530, 22531, 22532, 22533, 22534, 22535, 22536, 22537, 22538,\n",
       "             22539, 22540, 22541, 22542, 22543, 22544, 22545, 22546, 22547,\n",
       "             22548, 22549, 22550, 22551, 22552, 22553, 22554, 22555, 22556,\n",
       "             22557, 22558, 22559, 22560, 22561, 22562, 22563, 22564, 22565,\n",
       "             22566, 22567],\n",
       "            dtype='int64'),\n",
       " 'From Diamond Princess': Int64Index([1232, 1233, 1234, 1235, 1236, 1237, 1238, 1239, 1240, 1241, 1242,\n",
       "             1243, 1244, 1245, 1246, 1247, 1248, 1249, 1250, 1251, 1252, 1253,\n",
       "             1254, 1255, 1256, 1257, 1258, 1259, 1260, 1261, 1262, 1263, 1264,\n",
       "             1265, 1266, 1267, 1268, 1269, 1270, 1271, 1272, 1273, 1274, 1275,\n",
       "             1276, 1277, 1278, 1279, 1280, 1281, 1282, 1283, 1284, 1285, 1286,\n",
       "             1287],\n",
       "            dtype='int64'),\n",
       " 'New South Wales': Int64Index([336, 337, 338, 339, 340, 341, 342, 343, 344, 345, 346, 347, 348,\n",
       "             349, 350, 351, 352, 353, 354, 355, 356, 357, 358, 359, 360, 361,\n",
       "             362, 363, 364, 365, 366, 367, 368, 369, 370, 371, 372, 373, 374,\n",
       "             375, 376, 377, 378, 379, 380, 381, 382, 383, 384, 385, 386, 387,\n",
       "             388, 389, 390, 391],\n",
       "            dtype='int64'),\n",
       " 'Northern Territory': Int64Index([3976, 3977, 3978, 3979, 3980, 3981, 3982, 3983, 3984, 3985, 3986,\n",
       "             3987, 3988, 3989, 3990, 3991, 3992, 3993, 3994, 3995, 3996, 3997,\n",
       "             3998, 3999, 4000, 4001, 4002, 4003, 4004, 4005, 4006, 4007, 4008,\n",
       "             4009, 4010, 4011, 4012, 4013, 4014, 4015, 4016, 4017, 4018, 4019,\n",
       "             4020, 4021, 4022, 4023, 4024, 4025, 4026, 4027, 4028, 4029, 4030,\n",
       "             4031],\n",
       "            dtype='int64'),\n",
       " 'Queensland': Int64Index([448, 449, 450, 451, 452, 453, 454, 455, 456, 457, 458, 459, 460,\n",
       "             461, 462, 463, 464, 465, 466, 467, 468, 469, 470, 471, 472, 473,\n",
       "             474, 475, 476, 477, 478, 479, 480, 481, 482, 483, 484, 485, 486,\n",
       "             487, 488, 489, 490, 491, 492, 493, 494, 495, 496, 497, 498, 499,\n",
       "             500, 501, 502, 503],\n",
       "            dtype='int64'),\n",
       " 'South Australia': Int64Index([1064, 1065, 1066, 1067, 1068, 1069, 1070, 1071, 1072, 1073, 1074,\n",
       "             1075, 1076, 1077, 1078, 1079, 1080, 1081, 1082, 1083, 1084, 1085,\n",
       "             1086, 1087, 1088, 1089, 1090, 1091, 1092, 1093, 1094, 1095, 1096,\n",
       "             1097, 1098, 1099, 1100, 1101, 1102, 1103, 1104, 1105, 1106, 1107,\n",
       "             1108, 1109, 1110, 1111, 1112, 1113, 1114, 1115, 1116, 1117, 1118,\n",
       "             1119],\n",
       "            dtype='int64'),\n",
       " 'Tasmania': Int64Index([3416, 3417, 3418, 3419, 3420, 3421, 3422, 3423, 3424, 3425, 3426,\n",
       "             3427, 3428, 3429, 3430, 3431, 3432, 3433, 3434, 3435, 3436, 3437,\n",
       "             3438, 3439, 3440, 3441, 3442, 3443, 3444, 3445, 3446, 3447, 3448,\n",
       "             3449, 3450, 3451, 3452, 3453, 3454, 3455, 3456, 3457, 3458, 3459,\n",
       "             3460, 3461, 3462, 3463, 3464, 3465, 3466, 3467, 3468, 3469, 3470,\n",
       "             3471],\n",
       "            dtype='int64'),\n",
       " 'Victoria': Int64Index([392, 393, 394, 395, 396, 397, 398, 399, 400, 401, 402, 403, 404,\n",
       "             405, 406, 407, 408, 409, 410, 411, 412, 413, 414, 415, 416, 417,\n",
       "             418, 419, 420, 421, 422, 423, 424, 425, 426, 427, 428, 429, 430,\n",
       "             431, 432, 433, 434, 435, 436, 437, 438, 439, 440, 441, 442, 443,\n",
       "             444, 445, 446, 447],\n",
       "            dtype='int64'),\n",
       " 'Western Australia': Int64Index([2744, 2745, 2746, 2747, 2748, 2749, 2750, 2751, 2752, 2753, 2754,\n",
       "             2755, 2756, 2757, 2758, 2759, 2760, 2761, 2762, 2763, 2764, 2765,\n",
       "             2766, 2767, 2768, 2769, 2770, 2771, 2772, 2773, 2774, 2775, 2776,\n",
       "             2777, 2778, 2779, 2780, 2781, 2782, 2783, 2784, 2785, 2786, 2787,\n",
       "             2788, 2789, 2790, 2791, 2792, 2793, 2794, 2795, 2796, 2797, 2798,\n",
       "             2799],\n",
       "            dtype='int64')}"
      ]
     },
     "execution_count": 446,
     "metadata": {},
     "output_type": "execute_result"
    }
   ],
   "source": [
    "states.groups"
   ]
  },
  {
   "cell_type": "markdown",
   "metadata": {},
   "source": [
    "It maps keys to an index (Int64Index) object."
   ]
  },
  {
   "cell_type": "code",
   "execution_count": 447,
   "metadata": {},
   "outputs": [
    {
     "data": {
      "text/plain": [
       "dict_keys(['Australian Capital Territory', 'From Diamond Princess', 'New South Wales', 'Northern Territory', 'Queensland', 'South Australia', 'Tasmania', 'Victoria', 'Western Australia'])"
      ]
     },
     "execution_count": 447,
     "metadata": {},
     "output_type": "execute_result"
    }
   ],
   "source": [
    "states.groups.keys()"
   ]
  },
  {
   "cell_type": "markdown",
   "metadata": {},
   "source": [
    "But we rarely need to dig into that level of detail. Methods are provided to access the data (often as dataframes)."
   ]
  },
  {
   "cell_type": "code",
   "execution_count": 448,
   "metadata": {},
   "outputs": [
    {
     "data": {
      "text/html": [
       "<div>\n",
       "<style scoped>\n",
       "    .dataframe tbody tr th:only-of-type {\n",
       "        vertical-align: middle;\n",
       "    }\n",
       "\n",
       "    .dataframe tbody tr th {\n",
       "        vertical-align: top;\n",
       "    }\n",
       "\n",
       "    .dataframe thead th {\n",
       "        text-align: right;\n",
       "    }\n",
       "</style>\n",
       "<table border=\"1\" class=\"dataframe\">\n",
       "  <thead>\n",
       "    <tr style=\"text-align: right;\">\n",
       "      <th></th>\n",
       "      <th>Country</th>\n",
       "      <th>Lat</th>\n",
       "      <th>Long</th>\n",
       "      <th>Date</th>\n",
       "      <th>Confirmed</th>\n",
       "      <th>Recovered</th>\n",
       "      <th>Deaths</th>\n",
       "    </tr>\n",
       "  </thead>\n",
       "  <tbody>\n",
       "    <tr>\n",
       "      <td>3469</td>\n",
       "      <td>Australia</td>\n",
       "      <td>-41.4545</td>\n",
       "      <td>145.9707</td>\n",
       "      <td>2020-03-15</td>\n",
       "      <td>6</td>\n",
       "      <td>0</td>\n",
       "      <td>0</td>\n",
       "    </tr>\n",
       "    <tr>\n",
       "      <td>3470</td>\n",
       "      <td>Australia</td>\n",
       "      <td>-41.4545</td>\n",
       "      <td>145.9707</td>\n",
       "      <td>2020-03-16</td>\n",
       "      <td>7</td>\n",
       "      <td>0</td>\n",
       "      <td>0</td>\n",
       "    </tr>\n",
       "    <tr>\n",
       "      <td>3471</td>\n",
       "      <td>Australia</td>\n",
       "      <td>-41.4545</td>\n",
       "      <td>145.9707</td>\n",
       "      <td>2020-03-17</td>\n",
       "      <td>7</td>\n",
       "      <td>0</td>\n",
       "      <td>0</td>\n",
       "    </tr>\n",
       "  </tbody>\n",
       "</table>\n",
       "</div>"
      ],
      "text/plain": [
       "        Country      Lat      Long       Date  Confirmed  Recovered  Deaths\n",
       "3469  Australia -41.4545  145.9707 2020-03-15          6          0       0\n",
       "3470  Australia -41.4545  145.9707 2020-03-16          7          0       0\n",
       "3471  Australia -41.4545  145.9707 2020-03-17          7          0       0"
      ]
     },
     "execution_count": 448,
     "metadata": {},
     "output_type": "execute_result"
    }
   ],
   "source": [
    "states.get_group(\"Tasmania\").tail(3)"
   ]
  },
  {
   "cell_type": "markdown",
   "metadata": {},
   "source": [
    "So how should we plot the data for each state (without naming them individually)?\n",
    "\n",
    "There are many possibilities. We could use an iterator to get a table for each state, and define a function to produce a plot from that table."
   ]
  },
  {
   "cell_type": "code",
   "execution_count": 451,
   "metadata": {},
   "outputs": [
    {
     "name": "stdout",
     "output_type": "stream",
     "text": [
      "Australian Capital Territory\n",
      "                              State    Country      Lat      Long       Date  \\\n",
      "22512  Australian Capital Territory  Australia -35.4735  149.0124 2020-01-22   \n",
      "22513  Australian Capital Territory  Australia -35.4735  149.0124 2020-01-23   \n",
      "22514  Australian Capital Territory  Australia -35.4735  149.0124 2020-01-24   \n",
      "\n",
      "       Confirmed  Recovered  Deaths  \n",
      "22512          0          0       0  \n",
      "22513          0          0       0  \n",
      "22514          0          0       0   \n",
      "\n",
      "From Diamond Princess\n",
      "                      State    Country      Lat     Long       Date  \\\n",
      "1232  From Diamond Princess  Australia  35.4437  139.638 2020-01-22   \n",
      "1233  From Diamond Princess  Australia  35.4437  139.638 2020-01-23   \n",
      "1234  From Diamond Princess  Australia  35.4437  139.638 2020-01-24   \n",
      "\n",
      "      Confirmed  Recovered  Deaths  \n",
      "1232          0          0       0  \n",
      "1233          0          0       0  \n",
      "1234          0          0       0   \n",
      "\n",
      "New South Wales\n",
      "               State    Country      Lat      Long       Date  Confirmed  \\\n",
      "336  New South Wales  Australia -33.8688  151.2093 2020-01-22          0   \n",
      "337  New South Wales  Australia -33.8688  151.2093 2020-01-23          0   \n",
      "338  New South Wales  Australia -33.8688  151.2093 2020-01-24          0   \n",
      "\n",
      "     Recovered  Deaths  \n",
      "336          0       0  \n",
      "337          0       0  \n",
      "338          0       0   \n",
      "\n",
      "Northern Territory\n",
      "                   State    Country      Lat      Long       Date  Confirmed  \\\n",
      "3976  Northern Territory  Australia -12.4634  130.8456 2020-01-22          0   \n",
      "3977  Northern Territory  Australia -12.4634  130.8456 2020-01-23          0   \n",
      "3978  Northern Territory  Australia -12.4634  130.8456 2020-01-24          0   \n",
      "\n",
      "      Recovered  Deaths  \n",
      "3976          0       0  \n",
      "3977          0       0  \n",
      "3978          0       0   \n",
      "\n",
      "Queensland\n",
      "          State    Country      Lat   Long       Date  Confirmed  Recovered  \\\n",
      "448  Queensland  Australia -28.0167  153.4 2020-01-22          0          0   \n",
      "449  Queensland  Australia -28.0167  153.4 2020-01-23          0          0   \n",
      "450  Queensland  Australia -28.0167  153.4 2020-01-24          0          0   \n",
      "\n",
      "     Deaths  \n",
      "448       0  \n",
      "449       0  \n",
      "450       0   \n",
      "\n",
      "South Australia\n",
      "                State    Country      Lat      Long       Date  Confirmed  \\\n",
      "1064  South Australia  Australia -34.9285  138.6007 2020-01-22          0   \n",
      "1065  South Australia  Australia -34.9285  138.6007 2020-01-23          0   \n",
      "1066  South Australia  Australia -34.9285  138.6007 2020-01-24          0   \n",
      "\n",
      "      Recovered  Deaths  \n",
      "1064          0       0  \n",
      "1065          0       0  \n",
      "1066          0       0   \n",
      "\n",
      "Tasmania\n",
      "         State    Country      Lat      Long       Date  Confirmed  Recovered  \\\n",
      "3416  Tasmania  Australia -41.4545  145.9707 2020-01-22          0          0   \n",
      "3417  Tasmania  Australia -41.4545  145.9707 2020-01-23          0          0   \n",
      "3418  Tasmania  Australia -41.4545  145.9707 2020-01-24          0          0   \n",
      "\n",
      "      Deaths  \n",
      "3416       0  \n",
      "3417       0  \n",
      "3418       0   \n",
      "\n",
      "Victoria\n",
      "        State    Country      Lat      Long       Date  Confirmed  Recovered  \\\n",
      "392  Victoria  Australia -37.8136  144.9631 2020-01-22          0          0   \n",
      "393  Victoria  Australia -37.8136  144.9631 2020-01-23          0          0   \n",
      "394  Victoria  Australia -37.8136  144.9631 2020-01-24          0          0   \n",
      "\n",
      "     Deaths  \n",
      "392       0  \n",
      "393       0  \n",
      "394       0   \n",
      "\n",
      "Western Australia\n",
      "                  State    Country      Lat      Long       Date  Confirmed  \\\n",
      "2744  Western Australia  Australia -31.9505  115.8605 2020-01-22          0   \n",
      "2745  Western Australia  Australia -31.9505  115.8605 2020-01-23          0   \n",
      "2746  Western Australia  Australia -31.9505  115.8605 2020-01-24          0   \n",
      "\n",
      "      Recovered  Deaths  \n",
      "2744          0       0  \n",
      "2745          0       0  \n",
      "2746          0       0   \n",
      "\n"
     ]
    }
   ],
   "source": [
    "for name, group in states:\n",
    "    print(name)\n",
    "    print(group.head(3),\"\\n\")   "
   ]
  },
  {
   "cell_type": "code",
   "execution_count": 452,
   "metadata": {},
   "outputs": [],
   "source": [
    "def weekly_barplot (state, statedata):\n",
    "    sundays = statedata.loc[[x.day_name() == 'Sunday' for x in statedata[\"Date\"]]]\n",
    "    numbers = sundays.filter([\"Confirmed\", \"Recovered\", \"Deaths\"])\n",
    "    ax = numbers.plot.bar(figsize=(3,2))\n",
    "    ax.set_xticklabels(sundays[\"Date\"].apply(lambda x: x.strftime(\"%B %d\")))\n",
    "    plt.ylabel(\"Number of cases\")\n",
    "    plt.title(state + \" Covid-19 Cases by Week\")\n",
    "    plt.show()"
   ]
  },
  {
   "cell_type": "code",
   "execution_count": 454,
   "metadata": {},
   "outputs": [
    {
     "data": {
      "image/png": "[encoded data removed]",
      "text/plain": [
       "<Figure size 216x144 with 1 Axes>"
      ]
     },
     "metadata": {
      "needs_background": "light"
     },
     "output_type": "display_data"
    },
    {
     "data": {
      "image/png": "[encoded data removed]",
      "text/plain": [
       "<Figure size 216x144 with 1 Axes>"
      ]
     },
     "metadata": {
      "needs_background": "light"
     },
     "output_type": "display_data"
    },
    {
     "data": {
      "image/png": "[encoded data removed]",
      "text/plain": [
       "<Figure size 216x144 with 1 Axes>"
      ]
     },
     "metadata": {
      "needs_background": "light"
     },
     "output_type": "display_data"
    },
    {
     "data": {
      "image/png": "[encoded data removed]",
      "text/plain": [
       "<Figure size 216x144 with 1 Axes>"
      ]
     },
     "metadata": {
      "needs_background": "light"
     },
     "output_type": "display_data"
    },
    {
     "data": {
      "image/png": "[encoded data removed]",
      "text/plain": [
       "<Figure size 216x144 with 1 Axes>"
      ]
     },
     "metadata": {
      "needs_background": "light"
     },
     "output_type": "display_data"
    },
    {
     "data": {
      "image/png": "[encoded data removed]",
      "text/plain": [
       "<Figure size 216x144 with 1 Axes>"
      ]
     },
     "metadata": {
      "needs_background": "light"
     },
     "output_type": "display_data"
    },
    {
     "data": {
      "image/png": "[encoded data removed]",
      "text/plain": [
       "<Figure size 216x144 with 1 Axes>"
      ]
     },
     "metadata": {
      "needs_background": "light"
     },
     "output_type": "display_data"
    },
    {
     "data": {
      "image/png": "[encoded data removed]",
      "text/plain": [
       "<Figure size 216x144 with 1 Axes>"
      ]
     },
     "metadata": {
      "needs_background": "light"
     },
     "output_type": "display_data"
    },
    {
     "data": {
      "image/png": "[encoded data removed]",
      "text/plain": [
       "<Figure size 216x144 with 1 Axes>"
      ]
     },
     "metadata": {
      "needs_background": "light"
     },
     "output_type": "display_data"
    }
   ],
   "source": [
    "for name, group in states:\n",
    "    weekly_barplot(name, group)"
   ]
  },
  {
   "cell_type": "markdown",
   "metadata": {},
   "source": [
    "Alternatively we can use `apply` to apply a function to the whole GroupBy object, one dataframe at a time.\n",
    "\n",
    "Unfortunately its a little messy:\n",
    "* We need the function to access the state name, but GroupBy by default strips this out and uses it as an index to the rest of the data.\n",
    "* Apply only applies to the remaining data.\n",
    "* You could be mistaken for thinking this is not the case, since some methods, like `head`, `max` above, print the index value as if it were the \"State\" field.\n",
    "* Note that `get_group`, however, does not!\n",
    "\n",
    "Yuck.\n",
    "\n",
    "However there is a fix. Setting `as_index` to false maintains the column (in an 'SQL-style' output). Counterintuitively it _does_ still use the column as the index ("
   ]
  },
  {
   "cell_type": "code",
   "execution_count": 433,
   "metadata": {},
   "outputs": [],
   "source": [
    "def weekly_barplot2 (statedata):\n",
    "    print(statedata.index)\n",
    "#    state = statedata[\"State\"].iat[0]\n",
    "    sundays = statedata.loc[[x.day_name() == 'Sunday' for x in statedata[\"Date\"]]]\n",
    "    numbers = sundays.filter([\"Confirmed\", \"Recovered\", \"Deaths\"])\n",
    "    ax = numbers.plot.bar(figsize=(3,2))\n",
    "    ax.set_xticklabels(sundays[\"Date\"].apply(lambda x: x.strftime(\"%B %d\")))\n",
    "    plt.ylabel(\"Number of cases\")\n",
    "    plt.title(state + \" Covid-19 Cases by Week\")\n",
    "    plt.show()"
   ]
  },
  {
   "cell_type": "code",
   "execution_count": 434,
   "metadata": {},
   "outputs": [
    {
     "name": "stdout",
     "output_type": "stream",
     "text": [
      "Int64Index([22512, 22513, 22514, 22515, 22516, 22517, 22518, 22519, 22520,\n",
      "            22521, 22522, 22523, 22524, 22525, 22526, 22527, 22528, 22529,\n",
      "            22530, 22531, 22532, 22533, 22534, 22535, 22536, 22537, 22538,\n",
      "            22539, 22540, 22541, 22542, 22543, 22544, 22545, 22546, 22547,\n",
      "            22548, 22549, 22550, 22551, 22552, 22553, 22554, 22555, 22556,\n",
      "            22557, 22558, 22559, 22560, 22561, 22562, 22563, 22564, 22565,\n",
      "            22566, 22567],\n",
      "           dtype='int64')\n"
     ]
    },
    {
     "data": {
      "image/png": "[encoded data removed]",
      "text/plain": [
       "<Figure size 216x144 with 1 Axes>"
      ]
     },
     "metadata": {
      "needs_background": "light"
     },
     "output_type": "display_data"
    },
    {
     "name": "stdout",
     "output_type": "stream",
     "text": [
      "Int64Index([1232, 1233, 1234, 1235, 1236, 1237, 1238, 1239, 1240, 1241, 1242,\n",
      "            1243, 1244, 1245, 1246, 1247, 1248, 1249, 1250, 1251, 1252, 1253,\n",
      "            1254, 1255, 1256, 1257, 1258, 1259, 1260, 1261, 1262, 1263, 1264,\n",
      "            1265, 1266, 1267, 1268, 1269, 1270, 1271, 1272, 1273, 1274, 1275,\n",
      "            1276, 1277, 1278, 1279, 1280, 1281, 1282, 1283, 1284, 1285, 1286,\n",
      "            1287],\n",
      "           dtype='int64')\n"
     ]
    },
    {
     "data": {
      "image/png": "[encoded data removed]",
      "text/plain": [
       "<Figure size 216x144 with 1 Axes>"
      ]
     },
     "metadata": {
      "needs_background": "light"
     },
     "output_type": "display_data"
    },
    {
     "name": "stdout",
     "output_type": "stream",
     "text": [
      "Int64Index([336, 337, 338, 339, 340, 341, 342, 343, 344, 345, 346, 347, 348,\n",
      "            349, 350, 351, 352, 353, 354, 355, 356, 357, 358, 359, 360, 361,\n",
      "            362, 363, 364, 365, 366, 367, 368, 369, 370, 371, 372, 373, 374,\n",
      "            375, 376, 377, 378, 379, 380, 381, 382, 383, 384, 385, 386, 387,\n",
      "            388, 389, 390, 391],\n",
      "           dtype='int64')\n"
     ]
    },
    {
     "data": {
      "image/png": "[encoded data removed]",
      "text/plain": [
       "<Figure size 216x144 with 1 Axes>"
      ]
     },
     "metadata": {
      "needs_background": "light"
     },
     "output_type": "display_data"
    },
    {
     "name": "stdout",
     "output_type": "stream",
     "text": [
      "Int64Index([3976, 3977, 3978, 3979, 3980, 3981, 3982, 3983, 3984, 3985, 3986,\n",
      "            3987, 3988, 3989, 3990, 3991, 3992, 3993, 3994, 3995, 3996, 3997,\n",
      "            3998, 3999, 4000, 4001, 4002, 4003, 4004, 4005, 4006, 4007, 4008,\n",
      "            4009, 4010, 4011, 4012, 4013, 4014, 4015, 4016, 4017, 4018, 4019,\n",
      "            4020, 4021, 4022, 4023, 4024, 4025, 4026, 4027, 4028, 4029, 4030,\n",
      "            4031],\n",
      "           dtype='int64')\n"
     ]
    },
    {
     "data": {
      "image/png": "[encoded data removed]",
      "text/plain": [
       "<Figure size 216x144 with 1 Axes>"
      ]
     },
     "metadata": {
      "needs_background": "light"
     },
     "output_type": "display_data"
    },
    {
     "name": "stdout",
     "output_type": "stream",
     "text": [
      "Int64Index([448, 449, 450, 451, 452, 453, 454, 455, 456, 457, 458, 459, 460,\n",
      "            461, 462, 463, 464, 465, 466, 467, 468, 469, 470, 471, 472, 473,\n",
      "            474, 475, 476, 477, 478, 479, 480, 481, 482, 483, 484, 485, 486,\n",
      "            487, 488, 489, 490, 491, 492, 493, 494, 495, 496, 497, 498, 499,\n",
      "            500, 501, 502, 503],\n",
      "           dtype='int64')\n"
     ]
    },
    {
     "data": {
      "image/png": "[encoded data removed]",
      "text/plain": [
       "<Figure size 216x144 with 1 Axes>"
      ]
     },
     "metadata": {
      "needs_background": "light"
     },
     "output_type": "display_data"
    },
    {
     "name": "stdout",
     "output_type": "stream",
     "text": [
      "Int64Index([1064, 1065, 1066, 1067, 1068, 1069, 1070, 1071, 1072, 1073, 1074,\n",
      "            1075, 1076, 1077, 1078, 1079, 1080, 1081, 1082, 1083, 1084, 1085,\n",
      "            1086, 1087, 1088, 1089, 1090, 1091, 1092, 1093, 1094, 1095, 1096,\n",
      "            1097, 1098, 1099, 1100, 1101, 1102, 1103, 1104, 1105, 1106, 1107,\n",
      "            1108, 1109, 1110, 1111, 1112, 1113, 1114, 1115, 1116, 1117, 1118,\n",
      "            1119],\n",
      "           dtype='int64')\n"
     ]
    },
    {
     "data": {
      "image/png": "[encoded data removed]",
      "text/plain": [
       "<Figure size 216x144 with 1 Axes>"
      ]
     },
     "metadata": {
      "needs_background": "light"
     },
     "output_type": "display_data"
    },
    {
     "name": "stdout",
     "output_type": "stream",
     "text": [
      "Int64Index([3416, 3417, 3418, 3419, 3420, 3421, 3422, 3423, 3424, 3425, 3426,\n",
      "            3427, 3428, 3429, 3430, 3431, 3432, 3433, 3434, 3435, 3436, 3437,\n",
      "            3438, 3439, 3440, 3441, 3442, 3443, 3444, 3445, 3446, 3447, 3448,\n",
      "            3449, 3450, 3451, 3452, 3453, 3454, 3455, 3456, 3457, 3458, 3459,\n",
      "            3460, 3461, 3462, 3463, 3464, 3465, 3466, 3467, 3468, 3469, 3470,\n",
      "            3471],\n",
      "           dtype='int64')\n"
     ]
    },
    {
     "data": {
      "image/png": "[encoded data removed]",
      "text/plain": [
       "<Figure size 216x144 with 1 Axes>"
      ]
     },
     "metadata": {
      "needs_background": "light"
     },
     "output_type": "display_data"
    },
    {
     "name": "stdout",
     "output_type": "stream",
     "text": [
      "Int64Index([392, 393, 394, 395, 396, 397, 398, 399, 400, 401, 402, 403, 404,\n",
      "            405, 406, 407, 408, 409, 410, 411, 412, 413, 414, 415, 416, 417,\n",
      "            418, 419, 420, 421, 422, 423, 424, 425, 426, 427, 428, 429, 430,\n",
      "            431, 432, 433, 434, 435, 436, 437, 438, 439, 440, 441, 442, 443,\n",
      "            444, 445, 446, 447],\n",
      "           dtype='int64')\n"
     ]
    },
    {
     "data": {
      "image/png": "[encoded data removed]",
      "text/plain": [
       "<Figure size 216x144 with 1 Axes>"
      ]
     },
     "metadata": {
      "needs_background": "light"
     },
     "output_type": "display_data"
    },
    {
     "name": "stdout",
     "output_type": "stream",
     "text": [
      "Int64Index([2744, 2745, 2746, 2747, 2748, 2749, 2750, 2751, 2752, 2753, 2754,\n",
      "            2755, 2756, 2757, 2758, 2759, 2760, 2761, 2762, 2763, 2764, 2765,\n",
      "            2766, 2767, 2768, 2769, 2770, 2771, 2772, 2773, 2774, 2775, 2776,\n",
      "            2777, 2778, 2779, 2780, 2781, 2782, 2783, 2784, 2785, 2786, 2787,\n",
      "            2788, 2789, 2790, 2791, 2792, 2793, 2794, 2795, 2796, 2797, 2798,\n",
      "            2799],\n",
      "           dtype='int64')\n"
     ]
    },
    {
     "data": {
      "image/png": "[encoded data removed]",
      "text/plain": [
       "<Figure size 216x144 with 1 Axes>"
      ]
     },
     "metadata": {
      "needs_background": "light"
     },
     "output_type": "display_data"
    },
    {
     "data": {
      "text/html": [
       "<div>\n",
       "<style scoped>\n",
       "    .dataframe tbody tr th:only-of-type {\n",
       "        vertical-align: middle;\n",
       "    }\n",
       "\n",
       "    .dataframe tbody tr th {\n",
       "        vertical-align: top;\n",
       "    }\n",
       "\n",
       "    .dataframe thead th {\n",
       "        text-align: right;\n",
       "    }\n",
       "</style>\n",
       "<table border=\"1\" class=\"dataframe\">\n",
       "  <thead>\n",
       "    <tr style=\"text-align: right;\">\n",
       "      <th></th>\n",
       "    </tr>\n",
       "  </thead>\n",
       "  <tbody>\n",
       "  </tbody>\n",
       "</table>\n",
       "</div>"
      ],
      "text/plain": [
       "Empty DataFrame\n",
       "Columns: []\n",
       "Index: []"
      ]
     },
     "execution_count": 434,
     "metadata": {},
     "output_type": "execute_result"
    }
   ],
   "source": [
    "states.apply(weekly_barplot2)"
   ]
  },
  {
   "cell_type": "code",
   "execution_count": 283,
   "metadata": {},
   "outputs": [
    {
     "data": {
      "text/html": [
       "<div>\n",
       "<style scoped>\n",
       "    .dataframe tbody tr th:only-of-type {\n",
       "        vertical-align: middle;\n",
       "    }\n",
       "\n",
       "    .dataframe tbody tr th {\n",
       "        vertical-align: top;\n",
       "    }\n",
       "\n",
       "    .dataframe thead th {\n",
       "        text-align: right;\n",
       "    }\n",
       "</style>\n",
       "<table border=\"1\" class=\"dataframe\">\n",
       "  <thead>\n",
       "    <tr style=\"text-align: right;\">\n",
       "      <th></th>\n",
       "      <th>State</th>\n",
       "      <th>Country</th>\n",
       "      <th>Lat</th>\n",
       "      <th>Long</th>\n",
       "      <th>Date</th>\n",
       "      <th>Confirmed</th>\n",
       "      <th>Recovered</th>\n",
       "      <th>Deaths</th>\n",
       "    </tr>\n",
       "  </thead>\n",
       "  <tbody>\n",
       "    <tr>\n",
       "      <td>336</td>\n",
       "      <td>New South Wales</td>\n",
       "      <td>Australia</td>\n",
       "      <td>-33.8688</td>\n",
       "      <td>151.2093</td>\n",
       "      <td>2020-01-22</td>\n",
       "      <td>0</td>\n",
       "      <td>0</td>\n",
       "      <td>0</td>\n",
       "    </tr>\n",
       "    <tr>\n",
       "      <td>337</td>\n",
       "      <td>New South Wales</td>\n",
       "      <td>Australia</td>\n",
       "      <td>-33.8688</td>\n",
       "      <td>151.2093</td>\n",
       "      <td>2020-01-23</td>\n",
       "      <td>0</td>\n",
       "      <td>0</td>\n",
       "      <td>0</td>\n",
       "    </tr>\n",
       "    <tr>\n",
       "      <td>392</td>\n",
       "      <td>Victoria</td>\n",
       "      <td>Australia</td>\n",
       "      <td>-37.8136</td>\n",
       "      <td>144.9631</td>\n",
       "      <td>2020-01-22</td>\n",
       "      <td>0</td>\n",
       "      <td>0</td>\n",
       "      <td>0</td>\n",
       "    </tr>\n",
       "    <tr>\n",
       "      <td>393</td>\n",
       "      <td>Victoria</td>\n",
       "      <td>Australia</td>\n",
       "      <td>-37.8136</td>\n",
       "      <td>144.9631</td>\n",
       "      <td>2020-01-23</td>\n",
       "      <td>0</td>\n",
       "      <td>0</td>\n",
       "      <td>0</td>\n",
       "    </tr>\n",
       "    <tr>\n",
       "      <td>448</td>\n",
       "      <td>Queensland</td>\n",
       "      <td>Australia</td>\n",
       "      <td>-28.0167</td>\n",
       "      <td>153.4000</td>\n",
       "      <td>2020-01-22</td>\n",
       "      <td>0</td>\n",
       "      <td>0</td>\n",
       "      <td>0</td>\n",
       "    </tr>\n",
       "    <tr>\n",
       "      <td>449</td>\n",
       "      <td>Queensland</td>\n",
       "      <td>Australia</td>\n",
       "      <td>-28.0167</td>\n",
       "      <td>153.4000</td>\n",
       "      <td>2020-01-23</td>\n",
       "      <td>0</td>\n",
       "      <td>0</td>\n",
       "      <td>0</td>\n",
       "    </tr>\n",
       "    <tr>\n",
       "      <td>1064</td>\n",
       "      <td>South Australia</td>\n",
       "      <td>Australia</td>\n",
       "      <td>-34.9285</td>\n",
       "      <td>138.6007</td>\n",
       "      <td>2020-01-22</td>\n",
       "      <td>0</td>\n",
       "      <td>0</td>\n",
       "      <td>0</td>\n",
       "    </tr>\n",
       "    <tr>\n",
       "      <td>1065</td>\n",
       "      <td>South Australia</td>\n",
       "      <td>Australia</td>\n",
       "      <td>-34.9285</td>\n",
       "      <td>138.6007</td>\n",
       "      <td>2020-01-23</td>\n",
       "      <td>0</td>\n",
       "      <td>0</td>\n",
       "      <td>0</td>\n",
       "    </tr>\n",
       "    <tr>\n",
       "      <td>1232</td>\n",
       "      <td>From Diamond Princess</td>\n",
       "      <td>Australia</td>\n",
       "      <td>35.4437</td>\n",
       "      <td>139.6380</td>\n",
       "      <td>2020-01-22</td>\n",
       "      <td>0</td>\n",
       "      <td>0</td>\n",
       "      <td>0</td>\n",
       "    </tr>\n",
       "    <tr>\n",
       "      <td>1233</td>\n",
       "      <td>From Diamond Princess</td>\n",
       "      <td>Australia</td>\n",
       "      <td>35.4437</td>\n",
       "      <td>139.6380</td>\n",
       "      <td>2020-01-23</td>\n",
       "      <td>0</td>\n",
       "      <td>0</td>\n",
       "      <td>0</td>\n",
       "    </tr>\n",
       "    <tr>\n",
       "      <td>2744</td>\n",
       "      <td>Western Australia</td>\n",
       "      <td>Australia</td>\n",
       "      <td>-31.9505</td>\n",
       "      <td>115.8605</td>\n",
       "      <td>2020-01-22</td>\n",
       "      <td>0</td>\n",
       "      <td>0</td>\n",
       "      <td>0</td>\n",
       "    </tr>\n",
       "    <tr>\n",
       "      <td>2745</td>\n",
       "      <td>Western Australia</td>\n",
       "      <td>Australia</td>\n",
       "      <td>-31.9505</td>\n",
       "      <td>115.8605</td>\n",
       "      <td>2020-01-23</td>\n",
       "      <td>0</td>\n",
       "      <td>0</td>\n",
       "      <td>0</td>\n",
       "    </tr>\n",
       "    <tr>\n",
       "      <td>3416</td>\n",
       "      <td>Tasmania</td>\n",
       "      <td>Australia</td>\n",
       "      <td>-41.4545</td>\n",
       "      <td>145.9707</td>\n",
       "      <td>2020-01-22</td>\n",
       "      <td>0</td>\n",
       "      <td>0</td>\n",
       "      <td>0</td>\n",
       "    </tr>\n",
       "    <tr>\n",
       "      <td>3417</td>\n",
       "      <td>Tasmania</td>\n",
       "      <td>Australia</td>\n",
       "      <td>-41.4545</td>\n",
       "      <td>145.9707</td>\n",
       "      <td>2020-01-23</td>\n",
       "      <td>0</td>\n",
       "      <td>0</td>\n",
       "      <td>0</td>\n",
       "    </tr>\n",
       "    <tr>\n",
       "      <td>3976</td>\n",
       "      <td>Northern Territory</td>\n",
       "      <td>Australia</td>\n",
       "      <td>-12.4634</td>\n",
       "      <td>130.8456</td>\n",
       "      <td>2020-01-22</td>\n",
       "      <td>0</td>\n",
       "      <td>0</td>\n",
       "      <td>0</td>\n",
       "    </tr>\n",
       "    <tr>\n",
       "      <td>3977</td>\n",
       "      <td>Northern Territory</td>\n",
       "      <td>Australia</td>\n",
       "      <td>-12.4634</td>\n",
       "      <td>130.8456</td>\n",
       "      <td>2020-01-23</td>\n",
       "      <td>0</td>\n",
       "      <td>0</td>\n",
       "      <td>0</td>\n",
       "    </tr>\n",
       "    <tr>\n",
       "      <td>22512</td>\n",
       "      <td>Australian Capital Territory</td>\n",
       "      <td>Australia</td>\n",
       "      <td>-35.4735</td>\n",
       "      <td>149.0124</td>\n",
       "      <td>2020-01-22</td>\n",
       "      <td>0</td>\n",
       "      <td>0</td>\n",
       "      <td>0</td>\n",
       "    </tr>\n",
       "    <tr>\n",
       "      <td>22513</td>\n",
       "      <td>Australian Capital Territory</td>\n",
       "      <td>Australia</td>\n",
       "      <td>-35.4735</td>\n",
       "      <td>149.0124</td>\n",
       "      <td>2020-01-23</td>\n",
       "      <td>0</td>\n",
       "      <td>0</td>\n",
       "      <td>0</td>\n",
       "    </tr>\n",
       "  </tbody>\n",
       "</table>\n",
       "</div>"
      ],
      "text/plain": [
       "                              State    Country      Lat      Long       Date  \\\n",
       "336                 New South Wales  Australia -33.8688  151.2093 2020-01-22   \n",
       "337                 New South Wales  Australia -33.8688  151.2093 2020-01-23   \n",
       "392                        Victoria  Australia -37.8136  144.9631 2020-01-22   \n",
       "393                        Victoria  Australia -37.8136  144.9631 2020-01-23   \n",
       "448                      Queensland  Australia -28.0167  153.4000 2020-01-22   \n",
       "449                      Queensland  Australia -28.0167  153.4000 2020-01-23   \n",
       "1064                South Australia  Australia -34.9285  138.6007 2020-01-22   \n",
       "1065                South Australia  Australia -34.9285  138.6007 2020-01-23   \n",
       "1232          From Diamond Princess  Australia  35.4437  139.6380 2020-01-22   \n",
       "1233          From Diamond Princess  Australia  35.4437  139.6380 2020-01-23   \n",
       "2744              Western Australia  Australia -31.9505  115.8605 2020-01-22   \n",
       "2745              Western Australia  Australia -31.9505  115.8605 2020-01-23   \n",
       "3416                       Tasmania  Australia -41.4545  145.9707 2020-01-22   \n",
       "3417                       Tasmania  Australia -41.4545  145.9707 2020-01-23   \n",
       "3976             Northern Territory  Australia -12.4634  130.8456 2020-01-22   \n",
       "3977             Northern Territory  Australia -12.4634  130.8456 2020-01-23   \n",
       "22512  Australian Capital Territory  Australia -35.4735  149.0124 2020-01-22   \n",
       "22513  Australian Capital Territory  Australia -35.4735  149.0124 2020-01-23   \n",
       "\n",
       "       Confirmed  Recovered  Deaths  \n",
       "336            0          0       0  \n",
       "337            0          0       0  \n",
       "392            0          0       0  \n",
       "393            0          0       0  \n",
       "448            0          0       0  \n",
       "449            0          0       0  \n",
       "1064           0          0       0  \n",
       "1065           0          0       0  \n",
       "1232           0          0       0  \n",
       "1233           0          0       0  \n",
       "2744           0          0       0  \n",
       "2745           0          0       0  \n",
       "3416           0          0       0  \n",
       "3417           0          0       0  \n",
       "3976           0          0       0  \n",
       "3977           0          0       0  \n",
       "22512          0          0       0  \n",
       "22513          0          0       0  "
      ]
     },
     "execution_count": 283,
     "metadata": {},
     "output_type": "execute_result"
    }
   ],
   "source": [
    "states.head(2)"
   ]
  },
  {
   "cell_type": "markdown",
   "metadata": {},
   "source": [
    "## Curve Fitting and Optimisation\n",
    "\n",
    "Are WA's infections really increasing exponentially? \n",
    "\n",
    "Don't believe the press! Let's find out for ourselves."
   ]
  },
  {
   "cell_type": "code",
   "execution_count": 256,
   "metadata": {},
   "outputs": [
    {
     "data": {
      "text/html": [
       "<div>\n",
       "<style scoped>\n",
       "    .dataframe tbody tr th:only-of-type {\n",
       "        vertical-align: middle;\n",
       "    }\n",
       "\n",
       "    .dataframe tbody tr th {\n",
       "        vertical-align: top;\n",
       "    }\n",
       "\n",
       "    .dataframe thead th {\n",
       "        text-align: right;\n",
       "    }\n",
       "</style>\n",
       "<table border=\"1\" class=\"dataframe\">\n",
       "  <thead>\n",
       "    <tr style=\"text-align: right;\">\n",
       "      <th></th>\n",
       "      <th>State</th>\n",
       "      <th>Country</th>\n",
       "      <th>Lat</th>\n",
       "      <th>Long</th>\n",
       "      <th>Date</th>\n",
       "      <th>Confirmed</th>\n",
       "      <th>Recovered</th>\n",
       "      <th>Deaths</th>\n",
       "    </tr>\n",
       "  </thead>\n",
       "  <tbody>\n",
       "    <tr>\n",
       "      <td>2782</td>\n",
       "      <td>Western Australia</td>\n",
       "      <td>Australia</td>\n",
       "      <td>-31.9505</td>\n",
       "      <td>115.8605</td>\n",
       "      <td>2020-02-29</td>\n",
       "      <td>2</td>\n",
       "      <td>0</td>\n",
       "      <td>0</td>\n",
       "    </tr>\n",
       "    <tr>\n",
       "      <td>2783</td>\n",
       "      <td>Western Australia</td>\n",
       "      <td>Australia</td>\n",
       "      <td>-31.9505</td>\n",
       "      <td>115.8605</td>\n",
       "      <td>2020-03-01</td>\n",
       "      <td>2</td>\n",
       "      <td>0</td>\n",
       "      <td>1</td>\n",
       "    </tr>\n",
       "    <tr>\n",
       "      <td>2784</td>\n",
       "      <td>Western Australia</td>\n",
       "      <td>Australia</td>\n",
       "      <td>-31.9505</td>\n",
       "      <td>115.8605</td>\n",
       "      <td>2020-03-02</td>\n",
       "      <td>2</td>\n",
       "      <td>0</td>\n",
       "      <td>1</td>\n",
       "    </tr>\n",
       "    <tr>\n",
       "      <td>2785</td>\n",
       "      <td>Western Australia</td>\n",
       "      <td>Australia</td>\n",
       "      <td>-31.9505</td>\n",
       "      <td>115.8605</td>\n",
       "      <td>2020-03-03</td>\n",
       "      <td>2</td>\n",
       "      <td>0</td>\n",
       "      <td>1</td>\n",
       "    </tr>\n",
       "    <tr>\n",
       "      <td>2786</td>\n",
       "      <td>Western Australia</td>\n",
       "      <td>Australia</td>\n",
       "      <td>-31.9505</td>\n",
       "      <td>115.8605</td>\n",
       "      <td>2020-03-04</td>\n",
       "      <td>2</td>\n",
       "      <td>0</td>\n",
       "      <td>1</td>\n",
       "    </tr>\n",
       "  </tbody>\n",
       "</table>\n",
       "</div>"
      ],
      "text/plain": [
       "                  State    Country      Lat      Long       Date  Confirmed  \\\n",
       "2782  Western Australia  Australia -31.9505  115.8605 2020-02-29          2   \n",
       "2783  Western Australia  Australia -31.9505  115.8605 2020-03-01          2   \n",
       "2784  Western Australia  Australia -31.9505  115.8605 2020-03-02          2   \n",
       "2785  Western Australia  Australia -31.9505  115.8605 2020-03-03          2   \n",
       "2786  Western Australia  Australia -31.9505  115.8605 2020-03-04          2   \n",
       "\n",
       "      Recovered  Deaths  \n",
       "2782          0       0  \n",
       "2783          0       1  \n",
       "2784          0       1  \n",
       "2785          0       1  \n",
       "2786          0       1  "
      ]
     },
     "execution_count": 256,
     "metadata": {},
     "output_type": "execute_result"
    }
   ],
   "source": [
    "WA.head()"
   ]
  },
  {
   "cell_type": "code",
   "execution_count": 257,
   "metadata": {},
   "outputs": [
    {
     "data": {
      "text/plain": [
       "18"
      ]
     },
     "execution_count": 257,
     "metadata": {},
     "output_type": "execute_result"
    }
   ],
   "source": [
    "len(WA)"
   ]
  },
  {
   "cell_type": "code",
   "execution_count": 258,
   "metadata": {},
   "outputs": [
    {
     "data": {
      "image/png": "[encoded data removed]",
      "text/plain": [
       "<Figure size 432x288 with 1 Axes>"
      ]
     },
     "metadata": {
      "needs_background": "light"
     },
     "output_type": "display_data"
    }
   ],
   "source": [
    "plt.plot(np.arange(len(WA)),WA[\"Confirmed\"])\n",
    "plt.show()"
   ]
  },
  {
   "cell_type": "code",
   "execution_count": 259,
   "metadata": {},
   "outputs": [
    {
     "data": {
      "image/png": "[encoded data removed]",
      "text/plain": [
       "<Figure size 432x288 with 1 Axes>"
      ]
     },
     "metadata": {
      "needs_background": "light"
     },
     "output_type": "display_data"
    }
   ],
   "source": [
    "xs = np.arange(len(WA))\n",
    "plt.plot(xs,WA[\"Confirmed\"])\n",
    "guesses = np.exp2(xs)\n",
    "plt.plot(xs, guesses)\n",
    "plt.show()"
   ]
  },
  {
   "cell_type": "code",
   "execution_count": 260,
   "metadata": {},
   "outputs": [
    {
     "data": {
      "image/png": "[encoded data removed]",
      "text/plain": [
       "<Figure size 432x288 with 1 Axes>"
      ]
     },
     "metadata": {
      "needs_background": "light"
     },
     "output_type": "display_data"
    }
   ],
   "source": [
    "plt.plot(xs,WA[\"Confirmed\"])\n",
    "guesses = np.exp2(xs)/2000\n",
    "plt.plot(xs, guesses)\n",
    "plt.show()"
   ]
  },
  {
   "cell_type": "code",
   "execution_count": 261,
   "metadata": {},
   "outputs": [
    {
     "data": {
      "image/png": "[encoded data removed]",
      "text/plain": [
       "<Figure size 432x288 with 1 Axes>"
      ]
     },
     "metadata": {
      "needs_background": "light"
     },
     "output_type": "display_data"
    }
   ],
   "source": [
    "plt.plot(xs,WA[\"Confirmed\"])\n",
    "guesses = np.exp2(xs/2)/10\n",
    "plt.plot(xs, guesses)\n",
    "plt.show()"
   ]
  },
  {
   "cell_type": "code",
   "execution_count": 262,
   "metadata": {},
   "outputs": [
    {
     "data": {
      "image/png": "[encoded data removed]",
      "text/plain": [
       "<Figure size 432x288 with 1 Axes>"
      ]
     },
     "metadata": {
      "needs_background": "light"
     },
     "output_type": "display_data"
    }
   ],
   "source": [
    "plt.plot(xs,WA[\"Confirmed\"])\n",
    "guesses = 2 + np.exp2(xs/2)/10\n",
    "plt.plot(xs, guesses)\n",
    "plt.show()"
   ]
  },
  {
   "cell_type": "markdown",
   "metadata": {},
   "source": [
    "Pretty close!!\n",
    "\n",
    "But lets get the computer to do the work of finding the best match.\n",
    "\n",
    "First, we need to decide what form the function we want try and match to the data will take, and what _parameters_ we will vary.\n",
    "\n",
    "We'll define a function of the form `a + b * 2^(cx)`.\n",
    "As demonstrated above:\n",
    "* `a` \"shifts\" the function in the y direction\n",
    "* `b` \"scales\" (stretches or shrinks) the function\n",
    "* `c` determines the \"steepness\" of the function\n"
   ]
  },
  {
   "cell_type": "code",
   "execution_count": 263,
   "metadata": {},
   "outputs": [],
   "source": [
    "def my_exp (x, a, b, c):\n",
    "    return (a + b * np.exp2(x/c))"
   ]
  },
  {
   "cell_type": "code",
   "execution_count": 264,
   "metadata": {},
   "outputs": [],
   "source": [
    "from scipy.optimize import curve_fit"
   ]
  },
  {
   "cell_type": "code",
   "execution_count": 265,
   "metadata": {},
   "outputs": [
    {
     "data": {
      "text/plain": [
       "(array([0.96443126, 0.44830302, 2.7775963 ]),\n",
       " array([[ 0.49742473, -0.10159408, -0.14297361],\n",
       "        [-0.10159408,  0.0300713 ,  0.04393354],\n",
       "        [-0.14297361,  0.04393354,  0.06475807]]))"
      ]
     },
     "execution_count": 265,
     "metadata": {},
     "output_type": "execute_result"
    }
   ],
   "source": [
    "curve_fit(my_exp, xs, WA[\"Confirmed\"])"
   ]
  },
  {
   "cell_type": "markdown",
   "metadata": {},
   "source": [
    "Lets capture the parameters. \n",
    "\n",
    "Remember our guesses were 2, 0.1, and 0.5. How did we compare?"
   ]
  },
  {
   "cell_type": "code",
   "execution_count": 266,
   "metadata": {},
   "outputs": [
    {
     "data": {
      "text/plain": [
       "(0.9644312645326995, 0.4483030219843088, 2.7775963004609503)"
      ]
     },
     "execution_count": 266,
     "metadata": {},
     "output_type": "execute_result"
    }
   ],
   "source": [
    "((a, b, c), covariance) = curve_fit(my_exp, xs, WA[\"Confirmed\"])\n",
    "(a, b, c)"
   ]
  },
  {
   "cell_type": "code",
   "execution_count": 267,
   "metadata": {},
   "outputs": [
    {
     "data": {
      "image/png": "[encoded data removed]",
      "text/plain": [
       "<Figure size 432x288 with 1 Axes>"
      ]
     },
     "metadata": {
      "needs_background": "light"
     },
     "output_type": "display_data"
    }
   ],
   "source": [
    "((a, b, c), covariance) = curve_fit(my_exp, xs, WA[\"Confirmed\"])\n",
    "\n",
    "plt.plot(xs,WA[\"Confirmed\"])\n",
    "optimised_guesses = my_exp(xs, a, b, c)\n",
    "plt.plot(xs, optimised_guesses)\n",
    "plt.show()"
   ]
  },
  {
   "cell_type": "code",
   "execution_count": 268,
   "metadata": {},
   "outputs": [
    {
     "data": {
      "image/png": "[encoded data removed]",
      "text/plain": [
       "<Figure size 432x288 with 1 Axes>"
      ]
     },
     "metadata": {
      "needs_background": "light"
     },
     "output_type": "display_data"
    }
   ],
   "source": [
    "plt.plot(xs,WA[\"Confirmed\"])\n",
    "optimised_guesses = my_exp(xs, a, b, c)\n",
    "plt.plot(xs, optimised_guesses)\n",
    "plt.xlabel(\"Days since first recorded infection\")\n",
    "plt.ylabel(\"Number of confirmed infections\")\n",
    "plt.title(\"Are WA's Infections Really Increasing Exponentially?\")\n",
    "plt.show()"
   ]
  },
  {
   "cell_type": "markdown",
   "metadata": {},
   "source": [
    "For completeness, lets include all the data (the exponential function tends to zero as x tends to minus infinity, so we don't expect the fit to change much)."
   ]
  },
  {
   "cell_type": "code",
   "execution_count": 269,
   "metadata": {},
   "outputs": [
    {
     "data": {
      "text/html": [
       "<div>\n",
       "<style scoped>\n",
       "    .dataframe tbody tr th:only-of-type {\n",
       "        vertical-align: middle;\n",
       "    }\n",
       "\n",
       "    .dataframe tbody tr th {\n",
       "        vertical-align: top;\n",
       "    }\n",
       "\n",
       "    .dataframe thead th {\n",
       "        text-align: right;\n",
       "    }\n",
       "</style>\n",
       "<table border=\"1\" class=\"dataframe\">\n",
       "  <thead>\n",
       "    <tr style=\"text-align: right;\">\n",
       "      <th></th>\n",
       "      <th>State</th>\n",
       "      <th>Country</th>\n",
       "      <th>Lat</th>\n",
       "      <th>Long</th>\n",
       "      <th>Date</th>\n",
       "      <th>Confirmed</th>\n",
       "      <th>Recovered</th>\n",
       "      <th>Deaths</th>\n",
       "    </tr>\n",
       "  </thead>\n",
       "  <tbody>\n",
       "    <tr>\n",
       "      <td>2744</td>\n",
       "      <td>Western Australia</td>\n",
       "      <td>Australia</td>\n",
       "      <td>-31.9505</td>\n",
       "      <td>115.8605</td>\n",
       "      <td>2020-01-22</td>\n",
       "      <td>0</td>\n",
       "      <td>0</td>\n",
       "      <td>0</td>\n",
       "    </tr>\n",
       "    <tr>\n",
       "      <td>2745</td>\n",
       "      <td>Western Australia</td>\n",
       "      <td>Australia</td>\n",
       "      <td>-31.9505</td>\n",
       "      <td>115.8605</td>\n",
       "      <td>2020-01-23</td>\n",
       "      <td>0</td>\n",
       "      <td>0</td>\n",
       "      <td>0</td>\n",
       "    </tr>\n",
       "    <tr>\n",
       "      <td>2746</td>\n",
       "      <td>Western Australia</td>\n",
       "      <td>Australia</td>\n",
       "      <td>-31.9505</td>\n",
       "      <td>115.8605</td>\n",
       "      <td>2020-01-24</td>\n",
       "      <td>0</td>\n",
       "      <td>0</td>\n",
       "      <td>0</td>\n",
       "    </tr>\n",
       "    <tr>\n",
       "      <td>2747</td>\n",
       "      <td>Western Australia</td>\n",
       "      <td>Australia</td>\n",
       "      <td>-31.9505</td>\n",
       "      <td>115.8605</td>\n",
       "      <td>2020-01-25</td>\n",
       "      <td>0</td>\n",
       "      <td>0</td>\n",
       "      <td>0</td>\n",
       "    </tr>\n",
       "    <tr>\n",
       "      <td>2748</td>\n",
       "      <td>Western Australia</td>\n",
       "      <td>Australia</td>\n",
       "      <td>-31.9505</td>\n",
       "      <td>115.8605</td>\n",
       "      <td>2020-01-26</td>\n",
       "      <td>0</td>\n",
       "      <td>0</td>\n",
       "      <td>0</td>\n",
       "    </tr>\n",
       "  </tbody>\n",
       "</table>\n",
       "</div>"
      ],
      "text/plain": [
       "                  State    Country      Lat      Long       Date  Confirmed  \\\n",
       "2744  Western Australia  Australia -31.9505  115.8605 2020-01-22          0   \n",
       "2745  Western Australia  Australia -31.9505  115.8605 2020-01-23          0   \n",
       "2746  Western Australia  Australia -31.9505  115.8605 2020-01-24          0   \n",
       "2747  Western Australia  Australia -31.9505  115.8605 2020-01-25          0   \n",
       "2748  Western Australia  Australia -31.9505  115.8605 2020-01-26          0   \n",
       "\n",
       "      Recovered  Deaths  \n",
       "2744          0       0  \n",
       "2745          0       0  \n",
       "2746          0       0  \n",
       "2747          0       0  \n",
       "2748          0       0  "
      ]
     },
     "execution_count": 269,
     "metadata": {},
     "output_type": "execute_result"
    }
   ],
   "source": [
    "WA_all = auscovid.loc[(auscovid[\"State\"] == \"Western Australia\")]\n",
    "WA_all.head()"
   ]
  },
  {
   "cell_type": "code",
   "execution_count": 270,
   "metadata": {},
   "outputs": [
    {
     "name": "stdout",
     "output_type": "stream",
     "text": [
      "Parameters: 0.023998772890042146 0.00011376652513021524 3.0404404012531527\n"
     ]
    },
    {
     "data": {
      "image/png": "[encoded data removed]",
      "text/plain": [
       "<Figure size 432x288 with 1 Axes>"
      ]
     },
     "metadata": {
      "needs_background": "light"
     },
     "output_type": "display_data"
    }
   ],
   "source": [
    "xs = np.arange(len(WA_all))\n",
    "((a, b, c), covariance) = curve_fit(my_exp, xs, WA_all[\"Confirmed\"])\n",
    "plt.plot(xs,WA_all[\"Confirmed\"])\n",
    "optimised_guesses = my_exp(xs, a, b, c)\n",
    "print(\"Parameters:\", a, b, c)\n",
    "plt.plot(xs, optimised_guesses)\n",
    "plt.xlabel(\"Days since records began\")\n",
    "plt.ylabel(\"Number of confirmed infections\")\n",
    "plt.title(\"Are WA's Infections Really Increasing Exponentially?\")\n",
    "plt.show()"
   ]
  },
  {
   "cell_type": "markdown",
   "metadata": {},
   "source": [
    "Notice that by starting at zero, the \"vertical shift\" of the first parameter is not really needed. \n",
    "\n",
    "Lets see if we can remove the first parameter and still get a good fit."
   ]
  },
  {
   "cell_type": "code",
   "execution_count": 271,
   "metadata": {},
   "outputs": [],
   "source": [
    "def my_zexp (x, b, c):\n",
    "    return (b * np.exp2(x/c))"
   ]
  },
  {
   "cell_type": "code",
   "execution_count": 272,
   "metadata": {},
   "outputs": [
    {
     "name": "stdout",
     "output_type": "stream",
     "text": [
      "Parameters: 0.00011785050010056821 3.0489545606240402\n"
     ]
    },
    {
     "data": {
      "image/png": "[encoded data removed]",
      "text/plain": [
       "<Figure size 432x288 with 1 Axes>"
      ]
     },
     "metadata": {
      "needs_background": "light"
     },
     "output_type": "display_data"
    }
   ],
   "source": [
    "((b, c), covariance) = curve_fit(my_zexp, xs, WA_all[\"Confirmed\"])\n",
    "plt.plot(xs,WA_all[\"Confirmed\"])\n",
    "optimised_guesses = my_zexp(xs, b, c)\n",
    "print(\"Parameters:\", b, c)\n",
    "plt.plot(xs, optimised_guesses)\n",
    "plt.xlabel(\"Days since records began\")\n",
    "plt.ylabel(\"Number of confirmed infections\")\n",
    "plt.title(\"Are WA's Infections Really Increasing Exponentially?\")\n",
    "plt.show()"
   ]
  },
  {
   "cell_type": "markdown",
   "metadata": {},
   "source": [
    "We also call these parameters _independent variables_ (we can set them independently of each other) and we call the number of independent variables the _degrees of freedom_.\n",
    "\n",
    "`my_exp` has 3 degrees of freedom, while `my_zexp` has only 2 degrees of freedom.\n",
    "\n",
    "Generally we like to use as _few degrees of freedom as we can_ to fit the data, so that we can understand the general trend of the data.\n",
    "\n",
    "Fitting a function with too many degrees of freedom often results in _over-fitting_, and describes the (random) variability in the data rather than the general trend.\n",
    "\n",
    "You will meet these concepts again in the __Statistical Learning__ unit!"
   ]
  },
  {
   "cell_type": "markdown",
   "metadata": {},
   "source": [
    "## GroupBy"
   ]
  },
  {
   "cell_type": "code",
   "execution_count": null,
   "metadata": {},
   "outputs": [],
   "source": []
  },
  {
   "cell_type": "code",
   "execution_count": null,
   "metadata": {},
   "outputs": [],
   "source": []
  },
  {
   "cell_type": "code",
   "execution_count": null,
   "metadata": {},
   "outputs": [],
   "source": []
  },
  {
   "cell_type": "code",
   "execution_count": null,
   "metadata": {},
   "outputs": [],
   "source": []
  },
  {
   "cell_type": "code",
   "execution_count": 107,
   "metadata": {},
   "outputs": [
    {
     "data": {
      "text/html": [
       "<div>\n",
       "<style scoped>\n",
       "    .dataframe tbody tr th:only-of-type {\n",
       "        vertical-align: middle;\n",
       "    }\n",
       "\n",
       "    .dataframe tbody tr th {\n",
       "        vertical-align: top;\n",
       "    }\n",
       "\n",
       "    .dataframe thead th {\n",
       "        text-align: right;\n",
       "    }\n",
       "</style>\n",
       "<table border=\"1\" class=\"dataframe\">\n",
       "  <thead>\n",
       "    <tr style=\"text-align: right;\">\n",
       "      <th></th>\n",
       "      <th>State</th>\n",
       "      <th>Country</th>\n",
       "      <th>Lat</th>\n",
       "      <th>Long</th>\n",
       "      <th>Date</th>\n",
       "      <th>Confirmed</th>\n",
       "      <th>Recovered</th>\n",
       "      <th>Deaths</th>\n",
       "    </tr>\n",
       "  </thead>\n",
       "  <tbody>\n",
       "    <tr>\n",
       "      <td>2733</td>\n",
       "      <td>Western Australia</td>\n",
       "      <td>Australia</td>\n",
       "      <td>-31.9505</td>\n",
       "      <td>115.8605</td>\n",
       "      <td>2020-02-29</td>\n",
       "      <td>2</td>\n",
       "      <td>0</td>\n",
       "      <td>0</td>\n",
       "    </tr>\n",
       "    <tr>\n",
       "      <td>2734</td>\n",
       "      <td>Western Australia</td>\n",
       "      <td>Australia</td>\n",
       "      <td>-31.9505</td>\n",
       "      <td>115.8605</td>\n",
       "      <td>2020-03-01</td>\n",
       "      <td>2</td>\n",
       "      <td>0</td>\n",
       "      <td>1</td>\n",
       "    </tr>\n",
       "    <tr>\n",
       "      <td>2735</td>\n",
       "      <td>Western Australia</td>\n",
       "      <td>Australia</td>\n",
       "      <td>-31.9505</td>\n",
       "      <td>115.8605</td>\n",
       "      <td>2020-03-02</td>\n",
       "      <td>2</td>\n",
       "      <td>0</td>\n",
       "      <td>1</td>\n",
       "    </tr>\n",
       "    <tr>\n",
       "      <td>2736</td>\n",
       "      <td>Western Australia</td>\n",
       "      <td>Australia</td>\n",
       "      <td>-31.9505</td>\n",
       "      <td>115.8605</td>\n",
       "      <td>2020-03-03</td>\n",
       "      <td>2</td>\n",
       "      <td>0</td>\n",
       "      <td>1</td>\n",
       "    </tr>\n",
       "    <tr>\n",
       "      <td>2737</td>\n",
       "      <td>Western Australia</td>\n",
       "      <td>Australia</td>\n",
       "      <td>-31.9505</td>\n",
       "      <td>115.8605</td>\n",
       "      <td>2020-03-04</td>\n",
       "      <td>2</td>\n",
       "      <td>0</td>\n",
       "      <td>1</td>\n",
       "    </tr>\n",
       "  </tbody>\n",
       "</table>\n",
       "</div>"
      ],
      "text/plain": [
       "                  State    Country      Lat      Long       Date  Confirmed  \\\n",
       "2733  Western Australia  Australia -31.9505  115.8605 2020-02-29          2   \n",
       "2734  Western Australia  Australia -31.9505  115.8605 2020-03-01          2   \n",
       "2735  Western Australia  Australia -31.9505  115.8605 2020-03-02          2   \n",
       "2736  Western Australia  Australia -31.9505  115.8605 2020-03-03          2   \n",
       "2737  Western Australia  Australia -31.9505  115.8605 2020-03-04          2   \n",
       "\n",
       "      Recovered  Deaths  \n",
       "2733          0       0  \n",
       "2734          0       1  \n",
       "2735          0       1  \n",
       "2736          0       1  \n",
       "2737          0       1  "
      ]
     },
     "execution_count": 107,
     "metadata": {},
     "output_type": "execute_result"
    }
   ],
   "source": [
    "WA.head()"
   ]
  },
  {
   "cell_type": "code",
   "execution_count": null,
   "metadata": {},
   "outputs": [],
   "source": []
  },
  {
   "cell_type": "code",
   "execution_count": null,
   "metadata": {},
   "outputs": [],
   "source": []
  },
  {
   "cell_type": "code",
   "execution_count": null,
   "metadata": {},
   "outputs": [],
   "source": []
  },
  {
   "cell_type": "code",
   "execution_count": null,
   "metadata": {},
   "outputs": [],
   "source": []
  },
  {
   "cell_type": "code",
   "execution_count": null,
   "metadata": {},
   "outputs": [],
   "source": []
  },
  {
   "cell_type": "code",
   "execution_count": null,
   "metadata": {},
   "outputs": [],
   "source": []
  },
  {
   "cell_type": "code",
   "execution_count": 49,
   "metadata": {},
   "outputs": [
    {
     "data": {
      "text/plain": [
       "{'bytes': 1290603,\n",
       " 'count_of_rows': 25465,\n",
       " 'hash': 'aab64b8efa66b335e9b20741496719c7',\n",
       " 'profile': 'data-package',\n",
       " 'resources': [{'bytes': 1290603,\n",
       "   'dialect': {'caseSensitiveHeader': False,\n",
       "    'delimiter': ',',\n",
       "    'doubleQuote': True,\n",
       "    'header': True,\n",
       "    'lineTerminator': '\\r\\n',\n",
       "    'quoteChar': '\"',\n",
       "    'skipInitialSpace': False},\n",
       "   'encoding': 'utf-8',\n",
       "   'format': 'csv',\n",
       "   'hash': '477849f81814c03aee1eea31b01741a7',\n",
       "   'name': 'time-series-19-covid-combined',\n",
       "   'path': 'time-series-19-covid-combined.csv',\n",
       "   'profile': 'tabular-data-resource',\n",
       "   'schema': {'fields': [{'format': 'default',\n",
       "      'name': 'Province/State',\n",
       "      'type': 'string'},\n",
       "     {'format': 'default', 'name': 'Country/Region', 'type': 'string'},\n",
       "     {'decimalChar': '.',\n",
       "      'format': 'default',\n",
       "      'groupChar': '',\n",
       "      'name': 'Lat',\n",
       "      'type': 'number'},\n",
       "     {'decimalChar': '.',\n",
       "      'format': 'default',\n",
       "      'groupChar': '',\n",
       "      'name': 'Long',\n",
       "      'type': 'number'},\n",
       "     {'format': '%Y-%m-%d', 'name': 'Date', 'type': 'date'},\n",
       "     {'decimalChar': '.',\n",
       "      'format': 'default',\n",
       "      'groupChar': '',\n",
       "      'name': 'Confirmed',\n",
       "      'type': 'number'},\n",
       "     {'decimalChar': '.',\n",
       "      'format': 'default',\n",
       "      'groupChar': '',\n",
       "      'name': 'Recovered',\n",
       "      'type': 'number'},\n",
       "     {'decimalChar': '.',\n",
       "      'format': 'default',\n",
       "      'groupChar': '',\n",
       "      'name': 'Deaths',\n",
       "      'type': 'number'}],\n",
       "    'missingValues': ['']}}]}"
      ]
     },
     "execution_count": 49,
     "metadata": {},
     "output_type": "execute_result"
    }
   ],
   "source": [
    "import json\n",
    "with open(\"datapackage.json\",'r') as file:\n",
    "    di = json.load(file)\n",
    "di"
   ]
  },
  {
   "cell_type": "code",
   "execution_count": 51,
   "metadata": {},
   "outputs": [
    {
     "data": {
      "text/html": [
       "<div>\n",
       "<style scoped>\n",
       "    .dataframe tbody tr th:only-of-type {\n",
       "        vertical-align: middle;\n",
       "    }\n",
       "\n",
       "    .dataframe tbody tr th {\n",
       "        vertical-align: top;\n",
       "    }\n",
       "\n",
       "    .dataframe thead th {\n",
       "        text-align: right;\n",
       "    }\n",
       "</style>\n",
       "<table border=\"1\" class=\"dataframe\">\n",
       "  <thead>\n",
       "    <tr style=\"text-align: right;\">\n",
       "      <th></th>\n",
       "      <th>Province/State</th>\n",
       "      <th>Country/Region</th>\n",
       "      <th>Lat</th>\n",
       "      <th>Long</th>\n",
       "      <th>Date</th>\n",
       "      <th>Confirmed</th>\n",
       "      <th>Recovered</th>\n",
       "      <th>Deaths</th>\n",
       "    </tr>\n",
       "  </thead>\n",
       "  <tbody>\n",
       "    <tr>\n",
       "      <td>0</td>\n",
       "      <td>NaN</td>\n",
       "      <td>Thailand</td>\n",
       "      <td>15.0000</td>\n",
       "      <td>101.0000</td>\n",
       "      <td>2020-01-22</td>\n",
       "      <td>2</td>\n",
       "      <td>0</td>\n",
       "      <td>0</td>\n",
       "    </tr>\n",
       "    <tr>\n",
       "      <td>1</td>\n",
       "      <td>NaN</td>\n",
       "      <td>Thailand</td>\n",
       "      <td>15.0000</td>\n",
       "      <td>101.0000</td>\n",
       "      <td>2020-01-23</td>\n",
       "      <td>3</td>\n",
       "      <td>0</td>\n",
       "      <td>0</td>\n",
       "    </tr>\n",
       "    <tr>\n",
       "      <td>2</td>\n",
       "      <td>NaN</td>\n",
       "      <td>Thailand</td>\n",
       "      <td>15.0000</td>\n",
       "      <td>101.0000</td>\n",
       "      <td>2020-01-24</td>\n",
       "      <td>5</td>\n",
       "      <td>0</td>\n",
       "      <td>0</td>\n",
       "    </tr>\n",
       "    <tr>\n",
       "      <td>3</td>\n",
       "      <td>NaN</td>\n",
       "      <td>Thailand</td>\n",
       "      <td>15.0000</td>\n",
       "      <td>101.0000</td>\n",
       "      <td>2020-01-25</td>\n",
       "      <td>7</td>\n",
       "      <td>0</td>\n",
       "      <td>0</td>\n",
       "    </tr>\n",
       "    <tr>\n",
       "      <td>4</td>\n",
       "      <td>NaN</td>\n",
       "      <td>Thailand</td>\n",
       "      <td>15.0000</td>\n",
       "      <td>101.0000</td>\n",
       "      <td>2020-01-26</td>\n",
       "      <td>8</td>\n",
       "      <td>2</td>\n",
       "      <td>0</td>\n",
       "    </tr>\n",
       "    <tr>\n",
       "      <td>...</td>\n",
       "      <td>...</td>\n",
       "      <td>...</td>\n",
       "      <td>...</td>\n",
       "      <td>...</td>\n",
       "      <td>...</td>\n",
       "      <td>...</td>\n",
       "      <td>...</td>\n",
       "      <td>...</td>\n",
       "    </tr>\n",
       "    <tr>\n",
       "      <td>25460</td>\n",
       "      <td>Cayman Islands</td>\n",
       "      <td>United Kingdom</td>\n",
       "      <td>19.3133</td>\n",
       "      <td>-81.2546</td>\n",
       "      <td>2020-03-12</td>\n",
       "      <td>0</td>\n",
       "      <td>0</td>\n",
       "      <td>0</td>\n",
       "    </tr>\n",
       "    <tr>\n",
       "      <td>25461</td>\n",
       "      <td>Cayman Islands</td>\n",
       "      <td>United Kingdom</td>\n",
       "      <td>19.3133</td>\n",
       "      <td>-81.2546</td>\n",
       "      <td>2020-03-13</td>\n",
       "      <td>1</td>\n",
       "      <td>0</td>\n",
       "      <td>0</td>\n",
       "    </tr>\n",
       "    <tr>\n",
       "      <td>25462</td>\n",
       "      <td>Cayman Islands</td>\n",
       "      <td>United Kingdom</td>\n",
       "      <td>19.3133</td>\n",
       "      <td>-81.2546</td>\n",
       "      <td>2020-03-14</td>\n",
       "      <td>1</td>\n",
       "      <td>0</td>\n",
       "      <td>0</td>\n",
       "    </tr>\n",
       "    <tr>\n",
       "      <td>25463</td>\n",
       "      <td>Cayman Islands</td>\n",
       "      <td>United Kingdom</td>\n",
       "      <td>19.3133</td>\n",
       "      <td>-81.2546</td>\n",
       "      <td>2020-03-15</td>\n",
       "      <td>1</td>\n",
       "      <td>0</td>\n",
       "      <td>0</td>\n",
       "    </tr>\n",
       "    <tr>\n",
       "      <td>25464</td>\n",
       "      <td>Cayman Islands</td>\n",
       "      <td>United Kingdom</td>\n",
       "      <td>19.3133</td>\n",
       "      <td>-81.2546</td>\n",
       "      <td>2020-03-16</td>\n",
       "      <td>1</td>\n",
       "      <td>0</td>\n",
       "      <td>1</td>\n",
       "    </tr>\n",
       "  </tbody>\n",
       "</table>\n",
       "<p>25465 rows × 8 columns</p>\n",
       "</div>"
      ],
      "text/plain": [
       "       Province/State  Country/Region      Lat      Long        Date  \\\n",
       "0                 NaN        Thailand  15.0000  101.0000  2020-01-22   \n",
       "1                 NaN        Thailand  15.0000  101.0000  2020-01-23   \n",
       "2                 NaN        Thailand  15.0000  101.0000  2020-01-24   \n",
       "3                 NaN        Thailand  15.0000  101.0000  2020-01-25   \n",
       "4                 NaN        Thailand  15.0000  101.0000  2020-01-26   \n",
       "...               ...             ...      ...       ...         ...   \n",
       "25460  Cayman Islands  United Kingdom  19.3133  -81.2546  2020-03-12   \n",
       "25461  Cayman Islands  United Kingdom  19.3133  -81.2546  2020-03-13   \n",
       "25462  Cayman Islands  United Kingdom  19.3133  -81.2546  2020-03-14   \n",
       "25463  Cayman Islands  United Kingdom  19.3133  -81.2546  2020-03-15   \n",
       "25464  Cayman Islands  United Kingdom  19.3133  -81.2546  2020-03-16   \n",
       "\n",
       "       Confirmed  Recovered  Deaths  \n",
       "0              2          0       0  \n",
       "1              3          0       0  \n",
       "2              5          0       0  \n",
       "3              7          0       0  \n",
       "4              8          2       0  \n",
       "...          ...        ...     ...  \n",
       "25460          0          0       0  \n",
       "25461          1          0       0  \n",
       "25462          1          0       0  \n",
       "25463          1          0       0  \n",
       "25464          1          0       1  \n",
       "\n",
       "[25465 rows x 8 columns]"
      ]
     },
     "execution_count": 51,
     "metadata": {},
     "output_type": "execute_result"
    }
   ],
   "source": [
    "data = pd.read_csv(\"time-series-19-covid-combined.csv\", converters=di)\n",
    "data\n"
   ]
  },
  {
   "cell_type": "code",
   "execution_count": 52,
   "metadata": {},
   "outputs": [
    {
     "name": "stdout",
     "output_type": "stream",
     "text": [
      "<class 'float'>\n",
      "<class 'str'>\n",
      "<class 'numpy.float64'>\n",
      "<class 'numpy.float64'>\n",
      "<class 'str'>\n",
      "<class 'numpy.int64'>\n",
      "<class 'numpy.int64'>\n",
      "<class 'numpy.int64'>\n"
     ]
    }
   ],
   "source": [
    "for datum in data.iloc[1]:\n",
    "    print(type(datum))"
   ]
  },
  {
   "cell_type": "code",
   "execution_count": 53,
   "metadata": {},
   "outputs": [
    {
     "ename": "ModuleNotFoundError",
     "evalue": "No module named 'datapackage'",
     "output_type": "error",
     "traceback": [
      "\u001b[0;31m---------------------------------------------------------------------------\u001b[0m",
      "\u001b[0;31mModuleNotFoundError\u001b[0m                       Traceback (most recent call last)",
      "\u001b[0;32m<ipython-input-53-5ee612914d42>\u001b[0m in \u001b[0;36m<module>\u001b[0;34m\u001b[0m\n\u001b[0;32m----> 1\u001b[0;31m \u001b[0;32mimport\u001b[0m \u001b[0mdatapackage\u001b[0m\u001b[0;34m\u001b[0m\u001b[0;34m\u001b[0m\u001b[0m\n\u001b[0m",
      "\u001b[0;31mModuleNotFoundError\u001b[0m: No module named 'datapackage'"
     ]
    }
   ],
   "source": [
    "import datapackage\n"
   ]
  },
  {
   "cell_type": "code",
   "execution_count": 48,
   "metadata": {},
   "outputs": [
    {
     "data": {
      "text/html": [
       "<div>\n",
       "<style scoped>\n",
       "    .dataframe tbody tr th:only-of-type {\n",
       "        vertical-align: middle;\n",
       "    }\n",
       "\n",
       "    .dataframe tbody tr th {\n",
       "        vertical-align: top;\n",
       "    }\n",
       "\n",
       "    .dataframe thead th {\n",
       "        text-align: right;\n",
       "    }\n",
       "</style>\n",
       "<table border=\"1\" class=\"dataframe\">\n",
       "  <thead>\n",
       "    <tr style=\"text-align: right;\">\n",
       "      <th></th>\n",
       "      <th>bytes</th>\n",
       "      <th>count_of_rows</th>\n",
       "      <th>hash</th>\n",
       "      <th>profile</th>\n",
       "      <th>resources</th>\n",
       "    </tr>\n",
       "  </thead>\n",
       "  <tbody>\n",
       "    <tr>\n",
       "      <td>0</td>\n",
       "      <td>1290603</td>\n",
       "      <td>25465</td>\n",
       "      <td>aab64b8efa66b335e9b20741496719c7</td>\n",
       "      <td>data-package</td>\n",
       "      <td>{'bytes': 1290603, 'dialect': {'caseSensitiveH...</td>\n",
       "    </tr>\n",
       "  </tbody>\n",
       "</table>\n",
       "</div>"
      ],
      "text/plain": [
       "     bytes  count_of_rows                              hash       profile  \\\n",
       "0  1290603          25465  aab64b8efa66b335e9b20741496719c7  data-package   \n",
       "\n",
       "                                           resources  \n",
       "0  {'bytes': 1290603, 'dialect': {'caseSensitiveH...  "
      ]
     },
     "execution_count": 48,
     "metadata": {},
     "output_type": "execute_result"
    }
   ],
   "source": [
    "j = pd.read_json(\"datapackage.json\")\n",
    "j.head()"
   ]
  },
  {
   "cell_type": "code",
   "execution_count": null,
   "metadata": {},
   "outputs": [],
   "source": []
  },
  {
   "cell_type": "code",
   "execution_count": null,
   "metadata": {},
   "outputs": [],
   "source": []
  },
  {
   "cell_type": "code",
   "execution_count": 22,
   "metadata": {},
   "outputs": [
    {
     "data": {
      "text/html": [
       "<div>\n",
       "<style scoped>\n",
       "    .dataframe tbody tr th:only-of-type {\n",
       "        vertical-align: middle;\n",
       "    }\n",
       "\n",
       "    .dataframe tbody tr th {\n",
       "        vertical-align: top;\n",
       "    }\n",
       "\n",
       "    .dataframe thead th {\n",
       "        text-align: right;\n",
       "    }\n",
       "</style>\n",
       "<table border=\"1\" class=\"dataframe\">\n",
       "  <thead>\n",
       "    <tr style=\"text-align: right;\">\n",
       "      <th></th>\n",
       "      <th>Province/State</th>\n",
       "      <th>Country/Region</th>\n",
       "      <th>Lat</th>\n",
       "      <th>Long</th>\n",
       "      <th>Date</th>\n",
       "      <th>Confirmed</th>\n",
       "      <th>Recovered</th>\n",
       "      <th>Deaths</th>\n",
       "    </tr>\n",
       "  </thead>\n",
       "  <tbody>\n",
       "    <tr>\n",
       "      <td>0</td>\n",
       "      <td></td>\n",
       "      <td>Thailand</td>\n",
       "      <td>15.0000</td>\n",
       "      <td>101.0000</td>\n",
       "      <td>2020-01-22</td>\n",
       "      <td>2</td>\n",
       "      <td>0</td>\n",
       "      <td>0</td>\n",
       "    </tr>\n",
       "    <tr>\n",
       "      <td>1</td>\n",
       "      <td></td>\n",
       "      <td>Thailand</td>\n",
       "      <td>15.0000</td>\n",
       "      <td>101.0000</td>\n",
       "      <td>2020-01-23</td>\n",
       "      <td>3</td>\n",
       "      <td>0</td>\n",
       "      <td>0</td>\n",
       "    </tr>\n",
       "    <tr>\n",
       "      <td>2</td>\n",
       "      <td></td>\n",
       "      <td>Thailand</td>\n",
       "      <td>15.0000</td>\n",
       "      <td>101.0000</td>\n",
       "      <td>2020-01-24</td>\n",
       "      <td>5</td>\n",
       "      <td>0</td>\n",
       "      <td>0</td>\n",
       "    </tr>\n",
       "    <tr>\n",
       "      <td>3</td>\n",
       "      <td></td>\n",
       "      <td>Thailand</td>\n",
       "      <td>15.0000</td>\n",
       "      <td>101.0000</td>\n",
       "      <td>2020-01-25</td>\n",
       "      <td>7</td>\n",
       "      <td>0</td>\n",
       "      <td>0</td>\n",
       "    </tr>\n",
       "    <tr>\n",
       "      <td>4</td>\n",
       "      <td></td>\n",
       "      <td>Thailand</td>\n",
       "      <td>15.0000</td>\n",
       "      <td>101.0000</td>\n",
       "      <td>2020-01-26</td>\n",
       "      <td>8</td>\n",
       "      <td>2</td>\n",
       "      <td>0</td>\n",
       "    </tr>\n",
       "    <tr>\n",
       "      <td>...</td>\n",
       "      <td>...</td>\n",
       "      <td>...</td>\n",
       "      <td>...</td>\n",
       "      <td>...</td>\n",
       "      <td>...</td>\n",
       "      <td>...</td>\n",
       "      <td>...</td>\n",
       "      <td>...</td>\n",
       "    </tr>\n",
       "    <tr>\n",
       "      <td>25460</td>\n",
       "      <td>Cayman Islands</td>\n",
       "      <td>United Kingdom</td>\n",
       "      <td>19.3133</td>\n",
       "      <td>-81.2546</td>\n",
       "      <td>2020-03-12</td>\n",
       "      <td>0</td>\n",
       "      <td>0</td>\n",
       "      <td>0</td>\n",
       "    </tr>\n",
       "    <tr>\n",
       "      <td>25461</td>\n",
       "      <td>Cayman Islands</td>\n",
       "      <td>United Kingdom</td>\n",
       "      <td>19.3133</td>\n",
       "      <td>-81.2546</td>\n",
       "      <td>2020-03-13</td>\n",
       "      <td>1</td>\n",
       "      <td>0</td>\n",
       "      <td>0</td>\n",
       "    </tr>\n",
       "    <tr>\n",
       "      <td>25462</td>\n",
       "      <td>Cayman Islands</td>\n",
       "      <td>United Kingdom</td>\n",
       "      <td>19.3133</td>\n",
       "      <td>-81.2546</td>\n",
       "      <td>2020-03-14</td>\n",
       "      <td>1</td>\n",
       "      <td>0</td>\n",
       "      <td>0</td>\n",
       "    </tr>\n",
       "    <tr>\n",
       "      <td>25463</td>\n",
       "      <td>Cayman Islands</td>\n",
       "      <td>United Kingdom</td>\n",
       "      <td>19.3133</td>\n",
       "      <td>-81.2546</td>\n",
       "      <td>2020-03-15</td>\n",
       "      <td>1</td>\n",
       "      <td>0</td>\n",
       "      <td>0</td>\n",
       "    </tr>\n",
       "    <tr>\n",
       "      <td>25464</td>\n",
       "      <td>Cayman Islands</td>\n",
       "      <td>United Kingdom</td>\n",
       "      <td>19.3133</td>\n",
       "      <td>-81.2546</td>\n",
       "      <td>2020-03-16</td>\n",
       "      <td>1</td>\n",
       "      <td>0</td>\n",
       "      <td>1</td>\n",
       "    </tr>\n",
       "  </tbody>\n",
       "</table>\n",
       "<p>25465 rows × 8 columns</p>\n",
       "</div>"
      ],
      "text/plain": [
       "       Province/State  Country/Region      Lat      Long        Date  \\\n",
       "0                            Thailand  15.0000  101.0000  2020-01-22   \n",
       "1                            Thailand  15.0000  101.0000  2020-01-23   \n",
       "2                            Thailand  15.0000  101.0000  2020-01-24   \n",
       "3                            Thailand  15.0000  101.0000  2020-01-25   \n",
       "4                            Thailand  15.0000  101.0000  2020-01-26   \n",
       "...               ...             ...      ...       ...         ...   \n",
       "25460  Cayman Islands  United Kingdom  19.3133  -81.2546  2020-03-12   \n",
       "25461  Cayman Islands  United Kingdom  19.3133  -81.2546  2020-03-13   \n",
       "25462  Cayman Islands  United Kingdom  19.3133  -81.2546  2020-03-14   \n",
       "25463  Cayman Islands  United Kingdom  19.3133  -81.2546  2020-03-15   \n",
       "25464  Cayman Islands  United Kingdom  19.3133  -81.2546  2020-03-16   \n",
       "\n",
       "       Confirmed  Recovered  Deaths  \n",
       "0              2          0       0  \n",
       "1              3          0       0  \n",
       "2              5          0       0  \n",
       "3              7          0       0  \n",
       "4              8          2       0  \n",
       "...          ...        ...     ...  \n",
       "25460          0          0       0  \n",
       "25461          1          0       0  \n",
       "25462          1          0       0  \n",
       "25463          1          0       0  \n",
       "25464          1          0       1  \n",
       "\n",
       "[25465 rows x 8 columns]"
      ]
     },
     "execution_count": 22,
     "metadata": {},
     "output_type": "execute_result"
    }
   ],
   "source": [
    "mytypes = {\"Province/State\": str, \"Country/Region\": str,\n",
    "           \"Lat\": np.float64, \"Long\": np.float64,\n",
    "           \"Date\": str, \n",
    "           \"Confirmed\": np.int64, \"Recovered\": np.int64, \"Deaths\": np.int64}\n",
    "data = pd.read_csv(\"time-series-19-covid-combined.csv\", dtype=mytypes, na_filter=False)\n",
    "data"
   ]
  },
  {
   "cell_type": "code",
   "execution_count": 23,
   "metadata": {},
   "outputs": [
    {
     "name": "stdout",
     "output_type": "stream",
     "text": [
      "<class 'str'>\n",
      "<class 'str'>\n",
      "<class 'numpy.float64'>\n",
      "<class 'numpy.float64'>\n",
      "<class 'str'>\n",
      "<class 'numpy.int64'>\n",
      "<class 'numpy.int64'>\n",
      "<class 'numpy.int64'>\n"
     ]
    }
   ],
   "source": [
    "for datum in data.iloc[1]:\n",
    "    print(type(datum))"
   ]
  },
  {
   "cell_type": "code",
   "execution_count": 18,
   "metadata": {},
   "outputs": [
    {
     "data": {
      "text/plain": [
       "pandas.core.series.Series"
      ]
     },
     "execution_count": 18,
     "metadata": {},
     "output_type": "execute_result"
    }
   ],
   "source": [
    "type(data[\"Date\"])"
   ]
  },
  {
   "cell_type": "code",
   "execution_count": null,
   "metadata": {},
   "outputs": [],
   "source": [
    "data[\"Date\"].dtypes\n"
   ]
  },
  {
   "cell_type": "code",
   "execution_count": null,
   "metadata": {},
   "outputs": [],
   "source": [
    "data.infer_objects()"
   ]
  },
  {
   "cell_type": "code",
   "execution_count": null,
   "metadata": {},
   "outputs": [],
   "source": []
  }
 ],
 "metadata": {
  "kernelspec": {
   "display_name": "Python 3",
   "language": "python",
   "name": "python3"
  },
  "language_info": {
   "codemirror_mode": {
    "name": "ipython",
    "version": 3
   },
   "file_extension": ".py",
   "mimetype": "text/x-python",
   "name": "python",
   "nbconvert_exporter": "python",
   "pygments_lexer": "ipython3",
   "version": "3.7.4"
  }
 },
 "nbformat": 4,
 "nbformat_minor": 4
}
